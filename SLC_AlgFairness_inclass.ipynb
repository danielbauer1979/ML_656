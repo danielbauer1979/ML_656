{
  "nbformat": 4,
  "nbformat_minor": 0,
  "metadata": {
    "colab": {
      "provenance": [],
      "authorship_tag": "ABX9TyN5Zc+NMzvLlKL1gw3iMdL7",
      "include_colab_link": true
    },
    "kernelspec": {
      "name": "python3",
      "display_name": "Python 3"
    },
    "language_info": {
      "name": "python"
    }
  },
  "cells": [
    {
      "cell_type": "markdown",
      "metadata": {
        "id": "view-in-github",
        "colab_type": "text"
      },
      "source": [
        "<a href=\"https://colab.research.google.com/github/danielbauer1979/ML_656/blob/main/SLC_AlgFairness_inclass.ipynb\" target=\"_parent\"><img src=\"https://colab.research.google.com/assets/colab-badge.svg\" alt=\"Open In Colab\"/></a>"
      ]
    },
    {
      "cell_type": "markdown",
      "source": [
        "# Session 9: Algorithmic Bias and Fairness\n",
        "\n",
        "Dani Bauer (w/ Jim Guszcza), 11/2023"
      ],
      "metadata": {
        "id": "Ccw0SuBI5LYt"
      }
    },
    {
      "cell_type": "markdown",
      "source": [
        "In this tutorial, we discuss approaches how to analyze a predictive algorithm with regards to \"fairness.\" We do so in the context of a well-known case study on an algorithm that assists judges in parole decisions. We go over different notions of fairness, discuss tradeoffs, and explain the intuition behind the results of the analyses. We also discuss approaches how to adjust algorithms to enforce fairness. A second case study, which we will ask you to work on, illustrates how these ideas apply in the actuarial context.\n",
        "\n",
        "### Load required packages"
      ],
      "metadata": {
        "id": "zpUgxOcS5NiJ"
      }
    },
    {
      "cell_type": "code",
      "execution_count": 1,
      "metadata": {
        "id": "kSv8hx144fah"
      },
      "outputs": [],
      "source": [
        "import numpy as np\n",
        "import matplotlib.pyplot as plt\n",
        "import pandas as pd\n",
        "import seaborn as sns\n",
        "from statsmodels.graphics.mosaicplot import mosaic\n",
        "\n",
        "from sklearn.model_selection import train_test_split\n",
        "from sklearn.linear_model import LogisticRegression\n",
        "from sklearn.metrics import confusion_matrix, classification_report, precision_score, roc_curve, auc"
      ]
    },
    {
      "cell_type": "code",
      "source": [
        "!pip install aequitas\n",
        "#Another library that seems to be popular is fariness 360:\n",
        "#!pip install aif360"
      ],
      "metadata": {
        "id": "BrPUeW1L6Xa1"
      },
      "execution_count": null,
      "outputs": []
    },
    {
      "cell_type": "code",
      "source": [
        "from aequitas.group import Group\n",
        "from aequitas.bias import Bias\n",
        "from aequitas.fairness import Fairness\n",
        "import aequitas.plot as ap"
      ],
      "metadata": {
        "id": "EsxbkyTO6by5"
      },
      "execution_count": 3,
      "outputs": []
    },
    {
      "cell_type": "markdown",
      "source": [
        "# Compas Case Study\n",
        "\n",
        "The Compas data originates from a [well-known case study on algorithmic bias](https://www.propublica.org/article/machine-bias-risk-assessments-in-criminal-sentencing). The background is [as follows](https://www.propublica.org/article/how-we-analyzed-the-compas-recidivism-algorithm): Across the nation, judges, probation and parole officers are increasingly using algorithms to assess a criminal defendant's likelihood of becoming a recidivist---a term used to describe criminals who re-offend. One of the commercial tools made by Northpointe, Inc. is called COMPAS (which stands for Correctional Offender Management Profiling for Alternative Sanctions). The case study compares outcomes and risk scores for individuals belonging to different races. In what follows, we will go through some of these analyses ourselves.\n",
        "\n",
        "## The Compas Data\n",
        "\n",
        "The data is in our github folder. Let's take a look:"
      ],
      "metadata": {
        "id": "YB2Fhuab_xpZ"
      }
    },
    {
      "cell_type": "code",
      "source": [
        "!git clone https://github.com/danielbauer1979/ML_656.git"
      ],
      "metadata": {
        "id": "XjM0xW_pATMq",
        "outputId": "e2919240-b08d-4b68-c5f8-8f9442c68124",
        "colab": {
          "base_uri": "https://localhost:8080/"
        }
      },
      "execution_count": 4,
      "outputs": [
        {
          "output_type": "stream",
          "name": "stdout",
          "text": [
            "Cloning into 'ML_656'...\n",
            "remote: Enumerating objects: 325, done.\u001b[K\n",
            "remote: Counting objects: 100% (208/208), done.\u001b[K\n",
            "remote: Compressing objects: 100% (132/132), done.\u001b[K\n",
            "remote: Total 325 (delta 118), reused 123 (delta 76), pack-reused 117\u001b[K\n",
            "Receiving objects: 100% (325/325), 26.62 MiB | 6.19 MiB/s, done.\n",
            "Resolving deltas: 100% (168/168), done.\n",
            "Updating files: 100% (49/49), done.\n"
          ]
        }
      ]
    },
    {
      "cell_type": "code",
      "source": [
        "dat = pd.read_csv('ML_656/compasdata.csv')\n",
        "dat.head()"
      ],
      "metadata": {
        "id": "2HhtisuQAi3Q",
        "outputId": "66b739f1-74ad-4a8b-fc25-71d49d586537",
        "colab": {
          "base_uri": "https://localhost:8080/",
          "height": 206
        }
      },
      "execution_count": 5,
      "outputs": [
        {
          "output_type": "execute_result",
          "data": {
            "text/plain": [
              "   Unnamed: 0 Two_yr_Recidivism  Number_of_Priors Age_Above_FourtyFive  \\\n",
              "0           4                no         -0.684358                   no   \n",
              "1           5               yes          2.266882                   no   \n",
              "2           7                no         -0.684358                   no   \n",
              "3          11                no         -0.684358                   no   \n",
              "4          14                no         -0.684358                   no   \n",
              "\n",
              "  Age_Below_TwentyFive  Female Misdemeanor         ethnicity  probability  \\\n",
              "0                   no    Male         yes             Other     0.315156   \n",
              "1                   no    Male          no         Caucasian     0.885462   \n",
              "2                   no  Female         yes         Caucasian     0.255268   \n",
              "3                   no    Male          no  African_American     0.417391   \n",
              "4                   no    Male         yes          Hispanic     0.320098   \n",
              "\n",
              "   predicted  \n",
              "0          0  \n",
              "1          1  \n",
              "2          0  \n",
              "3          0  \n",
              "4          0  "
            ],
            "text/html": [
              "\n",
              "  <div id=\"df-ea5bc4c4-88b9-4160-9321-9343c240674a\" class=\"colab-df-container\">\n",
              "    <div>\n",
              "<style scoped>\n",
              "    .dataframe tbody tr th:only-of-type {\n",
              "        vertical-align: middle;\n",
              "    }\n",
              "\n",
              "    .dataframe tbody tr th {\n",
              "        vertical-align: top;\n",
              "    }\n",
              "\n",
              "    .dataframe thead th {\n",
              "        text-align: right;\n",
              "    }\n",
              "</style>\n",
              "<table border=\"1\" class=\"dataframe\">\n",
              "  <thead>\n",
              "    <tr style=\"text-align: right;\">\n",
              "      <th></th>\n",
              "      <th>Unnamed: 0</th>\n",
              "      <th>Two_yr_Recidivism</th>\n",
              "      <th>Number_of_Priors</th>\n",
              "      <th>Age_Above_FourtyFive</th>\n",
              "      <th>Age_Below_TwentyFive</th>\n",
              "      <th>Female</th>\n",
              "      <th>Misdemeanor</th>\n",
              "      <th>ethnicity</th>\n",
              "      <th>probability</th>\n",
              "      <th>predicted</th>\n",
              "    </tr>\n",
              "  </thead>\n",
              "  <tbody>\n",
              "    <tr>\n",
              "      <th>0</th>\n",
              "      <td>4</td>\n",
              "      <td>no</td>\n",
              "      <td>-0.684358</td>\n",
              "      <td>no</td>\n",
              "      <td>no</td>\n",
              "      <td>Male</td>\n",
              "      <td>yes</td>\n",
              "      <td>Other</td>\n",
              "      <td>0.315156</td>\n",
              "      <td>0</td>\n",
              "    </tr>\n",
              "    <tr>\n",
              "      <th>1</th>\n",
              "      <td>5</td>\n",
              "      <td>yes</td>\n",
              "      <td>2.266882</td>\n",
              "      <td>no</td>\n",
              "      <td>no</td>\n",
              "      <td>Male</td>\n",
              "      <td>no</td>\n",
              "      <td>Caucasian</td>\n",
              "      <td>0.885462</td>\n",
              "      <td>1</td>\n",
              "    </tr>\n",
              "    <tr>\n",
              "      <th>2</th>\n",
              "      <td>7</td>\n",
              "      <td>no</td>\n",
              "      <td>-0.684358</td>\n",
              "      <td>no</td>\n",
              "      <td>no</td>\n",
              "      <td>Female</td>\n",
              "      <td>yes</td>\n",
              "      <td>Caucasian</td>\n",
              "      <td>0.255268</td>\n",
              "      <td>0</td>\n",
              "    </tr>\n",
              "    <tr>\n",
              "      <th>3</th>\n",
              "      <td>11</td>\n",
              "      <td>no</td>\n",
              "      <td>-0.684358</td>\n",
              "      <td>no</td>\n",
              "      <td>no</td>\n",
              "      <td>Male</td>\n",
              "      <td>no</td>\n",
              "      <td>African_American</td>\n",
              "      <td>0.417391</td>\n",
              "      <td>0</td>\n",
              "    </tr>\n",
              "    <tr>\n",
              "      <th>4</th>\n",
              "      <td>14</td>\n",
              "      <td>no</td>\n",
              "      <td>-0.684358</td>\n",
              "      <td>no</td>\n",
              "      <td>no</td>\n",
              "      <td>Male</td>\n",
              "      <td>yes</td>\n",
              "      <td>Hispanic</td>\n",
              "      <td>0.320098</td>\n",
              "      <td>0</td>\n",
              "    </tr>\n",
              "  </tbody>\n",
              "</table>\n",
              "</div>\n",
              "    <div class=\"colab-df-buttons\">\n",
              "\n",
              "  <div class=\"colab-df-container\">\n",
              "    <button class=\"colab-df-convert\" onclick=\"convertToInteractive('df-ea5bc4c4-88b9-4160-9321-9343c240674a')\"\n",
              "            title=\"Convert this dataframe to an interactive table.\"\n",
              "            style=\"display:none;\">\n",
              "\n",
              "  <svg xmlns=\"http://www.w3.org/2000/svg\" height=\"24px\" viewBox=\"0 -960 960 960\">\n",
              "    <path d=\"M120-120v-720h720v720H120Zm60-500h600v-160H180v160Zm220 220h160v-160H400v160Zm0 220h160v-160H400v160ZM180-400h160v-160H180v160Zm440 0h160v-160H620v160ZM180-180h160v-160H180v160Zm440 0h160v-160H620v160Z\"/>\n",
              "  </svg>\n",
              "    </button>\n",
              "\n",
              "  <style>\n",
              "    .colab-df-container {\n",
              "      display:flex;\n",
              "      gap: 12px;\n",
              "    }\n",
              "\n",
              "    .colab-df-convert {\n",
              "      background-color: #E8F0FE;\n",
              "      border: none;\n",
              "      border-radius: 50%;\n",
              "      cursor: pointer;\n",
              "      display: none;\n",
              "      fill: #1967D2;\n",
              "      height: 32px;\n",
              "      padding: 0 0 0 0;\n",
              "      width: 32px;\n",
              "    }\n",
              "\n",
              "    .colab-df-convert:hover {\n",
              "      background-color: #E2EBFA;\n",
              "      box-shadow: 0px 1px 2px rgba(60, 64, 67, 0.3), 0px 1px 3px 1px rgba(60, 64, 67, 0.15);\n",
              "      fill: #174EA6;\n",
              "    }\n",
              "\n",
              "    .colab-df-buttons div {\n",
              "      margin-bottom: 4px;\n",
              "    }\n",
              "\n",
              "    [theme=dark] .colab-df-convert {\n",
              "      background-color: #3B4455;\n",
              "      fill: #D2E3FC;\n",
              "    }\n",
              "\n",
              "    [theme=dark] .colab-df-convert:hover {\n",
              "      background-color: #434B5C;\n",
              "      box-shadow: 0px 1px 3px 1px rgba(0, 0, 0, 0.15);\n",
              "      filter: drop-shadow(0px 1px 2px rgba(0, 0, 0, 0.3));\n",
              "      fill: #FFFFFF;\n",
              "    }\n",
              "  </style>\n",
              "\n",
              "    <script>\n",
              "      const buttonEl =\n",
              "        document.querySelector('#df-ea5bc4c4-88b9-4160-9321-9343c240674a button.colab-df-convert');\n",
              "      buttonEl.style.display =\n",
              "        google.colab.kernel.accessAllowed ? 'block' : 'none';\n",
              "\n",
              "      async function convertToInteractive(key) {\n",
              "        const element = document.querySelector('#df-ea5bc4c4-88b9-4160-9321-9343c240674a');\n",
              "        const dataTable =\n",
              "          await google.colab.kernel.invokeFunction('convertToInteractive',\n",
              "                                                    [key], {});\n",
              "        if (!dataTable) return;\n",
              "\n",
              "        const docLinkHtml = 'Like what you see? Visit the ' +\n",
              "          '<a target=\"_blank\" href=https://colab.research.google.com/notebooks/data_table.ipynb>data table notebook</a>'\n",
              "          + ' to learn more about interactive tables.';\n",
              "        element.innerHTML = '';\n",
              "        dataTable['output_type'] = 'display_data';\n",
              "        await google.colab.output.renderOutput(dataTable, element);\n",
              "        const docLink = document.createElement('div');\n",
              "        docLink.innerHTML = docLinkHtml;\n",
              "        element.appendChild(docLink);\n",
              "      }\n",
              "    </script>\n",
              "  </div>\n",
              "\n",
              "\n",
              "<div id=\"df-391c3208-227d-45db-95dd-de00d249ed97\">\n",
              "  <button class=\"colab-df-quickchart\" onclick=\"quickchart('df-391c3208-227d-45db-95dd-de00d249ed97')\"\n",
              "            title=\"Suggest charts\"\n",
              "            style=\"display:none;\">\n",
              "\n",
              "<svg xmlns=\"http://www.w3.org/2000/svg\" height=\"24px\"viewBox=\"0 0 24 24\"\n",
              "     width=\"24px\">\n",
              "    <g>\n",
              "        <path d=\"M19 3H5c-1.1 0-2 .9-2 2v14c0 1.1.9 2 2 2h14c1.1 0 2-.9 2-2V5c0-1.1-.9-2-2-2zM9 17H7v-7h2v7zm4 0h-2V7h2v10zm4 0h-2v-4h2v4z\"/>\n",
              "    </g>\n",
              "</svg>\n",
              "  </button>\n",
              "\n",
              "<style>\n",
              "  .colab-df-quickchart {\n",
              "      --bg-color: #E8F0FE;\n",
              "      --fill-color: #1967D2;\n",
              "      --hover-bg-color: #E2EBFA;\n",
              "      --hover-fill-color: #174EA6;\n",
              "      --disabled-fill-color: #AAA;\n",
              "      --disabled-bg-color: #DDD;\n",
              "  }\n",
              "\n",
              "  [theme=dark] .colab-df-quickchart {\n",
              "      --bg-color: #3B4455;\n",
              "      --fill-color: #D2E3FC;\n",
              "      --hover-bg-color: #434B5C;\n",
              "      --hover-fill-color: #FFFFFF;\n",
              "      --disabled-bg-color: #3B4455;\n",
              "      --disabled-fill-color: #666;\n",
              "  }\n",
              "\n",
              "  .colab-df-quickchart {\n",
              "    background-color: var(--bg-color);\n",
              "    border: none;\n",
              "    border-radius: 50%;\n",
              "    cursor: pointer;\n",
              "    display: none;\n",
              "    fill: var(--fill-color);\n",
              "    height: 32px;\n",
              "    padding: 0;\n",
              "    width: 32px;\n",
              "  }\n",
              "\n",
              "  .colab-df-quickchart:hover {\n",
              "    background-color: var(--hover-bg-color);\n",
              "    box-shadow: 0 1px 2px rgba(60, 64, 67, 0.3), 0 1px 3px 1px rgba(60, 64, 67, 0.15);\n",
              "    fill: var(--button-hover-fill-color);\n",
              "  }\n",
              "\n",
              "  .colab-df-quickchart-complete:disabled,\n",
              "  .colab-df-quickchart-complete:disabled:hover {\n",
              "    background-color: var(--disabled-bg-color);\n",
              "    fill: var(--disabled-fill-color);\n",
              "    box-shadow: none;\n",
              "  }\n",
              "\n",
              "  .colab-df-spinner {\n",
              "    border: 2px solid var(--fill-color);\n",
              "    border-color: transparent;\n",
              "    border-bottom-color: var(--fill-color);\n",
              "    animation:\n",
              "      spin 1s steps(1) infinite;\n",
              "  }\n",
              "\n",
              "  @keyframes spin {\n",
              "    0% {\n",
              "      border-color: transparent;\n",
              "      border-bottom-color: var(--fill-color);\n",
              "      border-left-color: var(--fill-color);\n",
              "    }\n",
              "    20% {\n",
              "      border-color: transparent;\n",
              "      border-left-color: var(--fill-color);\n",
              "      border-top-color: var(--fill-color);\n",
              "    }\n",
              "    30% {\n",
              "      border-color: transparent;\n",
              "      border-left-color: var(--fill-color);\n",
              "      border-top-color: var(--fill-color);\n",
              "      border-right-color: var(--fill-color);\n",
              "    }\n",
              "    40% {\n",
              "      border-color: transparent;\n",
              "      border-right-color: var(--fill-color);\n",
              "      border-top-color: var(--fill-color);\n",
              "    }\n",
              "    60% {\n",
              "      border-color: transparent;\n",
              "      border-right-color: var(--fill-color);\n",
              "    }\n",
              "    80% {\n",
              "      border-color: transparent;\n",
              "      border-right-color: var(--fill-color);\n",
              "      border-bottom-color: var(--fill-color);\n",
              "    }\n",
              "    90% {\n",
              "      border-color: transparent;\n",
              "      border-bottom-color: var(--fill-color);\n",
              "    }\n",
              "  }\n",
              "</style>\n",
              "\n",
              "  <script>\n",
              "    async function quickchart(key) {\n",
              "      const quickchartButtonEl =\n",
              "        document.querySelector('#' + key + ' button');\n",
              "      quickchartButtonEl.disabled = true;  // To prevent multiple clicks.\n",
              "      quickchartButtonEl.classList.add('colab-df-spinner');\n",
              "      try {\n",
              "        const charts = await google.colab.kernel.invokeFunction(\n",
              "            'suggestCharts', [key], {});\n",
              "      } catch (error) {\n",
              "        console.error('Error during call to suggestCharts:', error);\n",
              "      }\n",
              "      quickchartButtonEl.classList.remove('colab-df-spinner');\n",
              "      quickchartButtonEl.classList.add('colab-df-quickchart-complete');\n",
              "    }\n",
              "    (() => {\n",
              "      let quickchartButtonEl =\n",
              "        document.querySelector('#df-391c3208-227d-45db-95dd-de00d249ed97 button');\n",
              "      quickchartButtonEl.style.display =\n",
              "        google.colab.kernel.accessAllowed ? 'block' : 'none';\n",
              "    })();\n",
              "  </script>\n",
              "</div>\n",
              "    </div>\n",
              "  </div>\n"
            ]
          },
          "metadata": {},
          "execution_count": 5
        }
      ]
    },
    {
      "cell_type": "code",
      "source": [
        "dat.describe()"
      ],
      "metadata": {
        "id": "sR0ZFQweBLV5",
        "outputId": "9f8d222e-3592-4b41-be33-d533675c62e0",
        "colab": {
          "base_uri": "https://localhost:8080/",
          "height": 300
        }
      },
      "execution_count": 6,
      "outputs": [
        {
          "output_type": "execute_result",
          "data": {
            "text/plain": [
              "        Unnamed: 0  Number_of_Priors  probability    predicted\n",
              "count  6172.000000      6.172000e+03  6172.000000  6172.000000\n",
              "mean   3086.500000     -2.475157e-17     0.493372     0.452690\n",
              "std    1781.847262      1.000000e+00     0.186090     0.497797\n",
              "min       1.000000     -6.843578e-01     0.123114     0.000000\n",
              "25%    1543.750000     -6.843578e-01     0.351470     0.000000\n",
              "50%    3086.500000     -4.735549e-01     0.473372     0.000000\n",
              "75%    4629.250000      1.588535e-01     0.613742     1.000000\n",
              "max    6172.000000      7.326149e+00     0.996072     1.000000"
            ],
            "text/html": [
              "\n",
              "  <div id=\"df-bd2175f1-5049-4054-bde4-8c35b075635c\" class=\"colab-df-container\">\n",
              "    <div>\n",
              "<style scoped>\n",
              "    .dataframe tbody tr th:only-of-type {\n",
              "        vertical-align: middle;\n",
              "    }\n",
              "\n",
              "    .dataframe tbody tr th {\n",
              "        vertical-align: top;\n",
              "    }\n",
              "\n",
              "    .dataframe thead th {\n",
              "        text-align: right;\n",
              "    }\n",
              "</style>\n",
              "<table border=\"1\" class=\"dataframe\">\n",
              "  <thead>\n",
              "    <tr style=\"text-align: right;\">\n",
              "      <th></th>\n",
              "      <th>Unnamed: 0</th>\n",
              "      <th>Number_of_Priors</th>\n",
              "      <th>probability</th>\n",
              "      <th>predicted</th>\n",
              "    </tr>\n",
              "  </thead>\n",
              "  <tbody>\n",
              "    <tr>\n",
              "      <th>count</th>\n",
              "      <td>6172.000000</td>\n",
              "      <td>6.172000e+03</td>\n",
              "      <td>6172.000000</td>\n",
              "      <td>6172.000000</td>\n",
              "    </tr>\n",
              "    <tr>\n",
              "      <th>mean</th>\n",
              "      <td>3086.500000</td>\n",
              "      <td>-2.475157e-17</td>\n",
              "      <td>0.493372</td>\n",
              "      <td>0.452690</td>\n",
              "    </tr>\n",
              "    <tr>\n",
              "      <th>std</th>\n",
              "      <td>1781.847262</td>\n",
              "      <td>1.000000e+00</td>\n",
              "      <td>0.186090</td>\n",
              "      <td>0.497797</td>\n",
              "    </tr>\n",
              "    <tr>\n",
              "      <th>min</th>\n",
              "      <td>1.000000</td>\n",
              "      <td>-6.843578e-01</td>\n",
              "      <td>0.123114</td>\n",
              "      <td>0.000000</td>\n",
              "    </tr>\n",
              "    <tr>\n",
              "      <th>25%</th>\n",
              "      <td>1543.750000</td>\n",
              "      <td>-6.843578e-01</td>\n",
              "      <td>0.351470</td>\n",
              "      <td>0.000000</td>\n",
              "    </tr>\n",
              "    <tr>\n",
              "      <th>50%</th>\n",
              "      <td>3086.500000</td>\n",
              "      <td>-4.735549e-01</td>\n",
              "      <td>0.473372</td>\n",
              "      <td>0.000000</td>\n",
              "    </tr>\n",
              "    <tr>\n",
              "      <th>75%</th>\n",
              "      <td>4629.250000</td>\n",
              "      <td>1.588535e-01</td>\n",
              "      <td>0.613742</td>\n",
              "      <td>1.000000</td>\n",
              "    </tr>\n",
              "    <tr>\n",
              "      <th>max</th>\n",
              "      <td>6172.000000</td>\n",
              "      <td>7.326149e+00</td>\n",
              "      <td>0.996072</td>\n",
              "      <td>1.000000</td>\n",
              "    </tr>\n",
              "  </tbody>\n",
              "</table>\n",
              "</div>\n",
              "    <div class=\"colab-df-buttons\">\n",
              "\n",
              "  <div class=\"colab-df-container\">\n",
              "    <button class=\"colab-df-convert\" onclick=\"convertToInteractive('df-bd2175f1-5049-4054-bde4-8c35b075635c')\"\n",
              "            title=\"Convert this dataframe to an interactive table.\"\n",
              "            style=\"display:none;\">\n",
              "\n",
              "  <svg xmlns=\"http://www.w3.org/2000/svg\" height=\"24px\" viewBox=\"0 -960 960 960\">\n",
              "    <path d=\"M120-120v-720h720v720H120Zm60-500h600v-160H180v160Zm220 220h160v-160H400v160Zm0 220h160v-160H400v160ZM180-400h160v-160H180v160Zm440 0h160v-160H620v160ZM180-180h160v-160H180v160Zm440 0h160v-160H620v160Z\"/>\n",
              "  </svg>\n",
              "    </button>\n",
              "\n",
              "  <style>\n",
              "    .colab-df-container {\n",
              "      display:flex;\n",
              "      gap: 12px;\n",
              "    }\n",
              "\n",
              "    .colab-df-convert {\n",
              "      background-color: #E8F0FE;\n",
              "      border: none;\n",
              "      border-radius: 50%;\n",
              "      cursor: pointer;\n",
              "      display: none;\n",
              "      fill: #1967D2;\n",
              "      height: 32px;\n",
              "      padding: 0 0 0 0;\n",
              "      width: 32px;\n",
              "    }\n",
              "\n",
              "    .colab-df-convert:hover {\n",
              "      background-color: #E2EBFA;\n",
              "      box-shadow: 0px 1px 2px rgba(60, 64, 67, 0.3), 0px 1px 3px 1px rgba(60, 64, 67, 0.15);\n",
              "      fill: #174EA6;\n",
              "    }\n",
              "\n",
              "    .colab-df-buttons div {\n",
              "      margin-bottom: 4px;\n",
              "    }\n",
              "\n",
              "    [theme=dark] .colab-df-convert {\n",
              "      background-color: #3B4455;\n",
              "      fill: #D2E3FC;\n",
              "    }\n",
              "\n",
              "    [theme=dark] .colab-df-convert:hover {\n",
              "      background-color: #434B5C;\n",
              "      box-shadow: 0px 1px 3px 1px rgba(0, 0, 0, 0.15);\n",
              "      filter: drop-shadow(0px 1px 2px rgba(0, 0, 0, 0.3));\n",
              "      fill: #FFFFFF;\n",
              "    }\n",
              "  </style>\n",
              "\n",
              "    <script>\n",
              "      const buttonEl =\n",
              "        document.querySelector('#df-bd2175f1-5049-4054-bde4-8c35b075635c button.colab-df-convert');\n",
              "      buttonEl.style.display =\n",
              "        google.colab.kernel.accessAllowed ? 'block' : 'none';\n",
              "\n",
              "      async function convertToInteractive(key) {\n",
              "        const element = document.querySelector('#df-bd2175f1-5049-4054-bde4-8c35b075635c');\n",
              "        const dataTable =\n",
              "          await google.colab.kernel.invokeFunction('convertToInteractive',\n",
              "                                                    [key], {});\n",
              "        if (!dataTable) return;\n",
              "\n",
              "        const docLinkHtml = 'Like what you see? Visit the ' +\n",
              "          '<a target=\"_blank\" href=https://colab.research.google.com/notebooks/data_table.ipynb>data table notebook</a>'\n",
              "          + ' to learn more about interactive tables.';\n",
              "        element.innerHTML = '';\n",
              "        dataTable['output_type'] = 'display_data';\n",
              "        await google.colab.output.renderOutput(dataTable, element);\n",
              "        const docLink = document.createElement('div');\n",
              "        docLink.innerHTML = docLinkHtml;\n",
              "        element.appendChild(docLink);\n",
              "      }\n",
              "    </script>\n",
              "  </div>\n",
              "\n",
              "\n",
              "<div id=\"df-0717dee1-0f2e-4a9f-97af-94cbbda20b66\">\n",
              "  <button class=\"colab-df-quickchart\" onclick=\"quickchart('df-0717dee1-0f2e-4a9f-97af-94cbbda20b66')\"\n",
              "            title=\"Suggest charts\"\n",
              "            style=\"display:none;\">\n",
              "\n",
              "<svg xmlns=\"http://www.w3.org/2000/svg\" height=\"24px\"viewBox=\"0 0 24 24\"\n",
              "     width=\"24px\">\n",
              "    <g>\n",
              "        <path d=\"M19 3H5c-1.1 0-2 .9-2 2v14c0 1.1.9 2 2 2h14c1.1 0 2-.9 2-2V5c0-1.1-.9-2-2-2zM9 17H7v-7h2v7zm4 0h-2V7h2v10zm4 0h-2v-4h2v4z\"/>\n",
              "    </g>\n",
              "</svg>\n",
              "  </button>\n",
              "\n",
              "<style>\n",
              "  .colab-df-quickchart {\n",
              "      --bg-color: #E8F0FE;\n",
              "      --fill-color: #1967D2;\n",
              "      --hover-bg-color: #E2EBFA;\n",
              "      --hover-fill-color: #174EA6;\n",
              "      --disabled-fill-color: #AAA;\n",
              "      --disabled-bg-color: #DDD;\n",
              "  }\n",
              "\n",
              "  [theme=dark] .colab-df-quickchart {\n",
              "      --bg-color: #3B4455;\n",
              "      --fill-color: #D2E3FC;\n",
              "      --hover-bg-color: #434B5C;\n",
              "      --hover-fill-color: #FFFFFF;\n",
              "      --disabled-bg-color: #3B4455;\n",
              "      --disabled-fill-color: #666;\n",
              "  }\n",
              "\n",
              "  .colab-df-quickchart {\n",
              "    background-color: var(--bg-color);\n",
              "    border: none;\n",
              "    border-radius: 50%;\n",
              "    cursor: pointer;\n",
              "    display: none;\n",
              "    fill: var(--fill-color);\n",
              "    height: 32px;\n",
              "    padding: 0;\n",
              "    width: 32px;\n",
              "  }\n",
              "\n",
              "  .colab-df-quickchart:hover {\n",
              "    background-color: var(--hover-bg-color);\n",
              "    box-shadow: 0 1px 2px rgba(60, 64, 67, 0.3), 0 1px 3px 1px rgba(60, 64, 67, 0.15);\n",
              "    fill: var(--button-hover-fill-color);\n",
              "  }\n",
              "\n",
              "  .colab-df-quickchart-complete:disabled,\n",
              "  .colab-df-quickchart-complete:disabled:hover {\n",
              "    background-color: var(--disabled-bg-color);\n",
              "    fill: var(--disabled-fill-color);\n",
              "    box-shadow: none;\n",
              "  }\n",
              "\n",
              "  .colab-df-spinner {\n",
              "    border: 2px solid var(--fill-color);\n",
              "    border-color: transparent;\n",
              "    border-bottom-color: var(--fill-color);\n",
              "    animation:\n",
              "      spin 1s steps(1) infinite;\n",
              "  }\n",
              "\n",
              "  @keyframes spin {\n",
              "    0% {\n",
              "      border-color: transparent;\n",
              "      border-bottom-color: var(--fill-color);\n",
              "      border-left-color: var(--fill-color);\n",
              "    }\n",
              "    20% {\n",
              "      border-color: transparent;\n",
              "      border-left-color: var(--fill-color);\n",
              "      border-top-color: var(--fill-color);\n",
              "    }\n",
              "    30% {\n",
              "      border-color: transparent;\n",
              "      border-left-color: var(--fill-color);\n",
              "      border-top-color: var(--fill-color);\n",
              "      border-right-color: var(--fill-color);\n",
              "    }\n",
              "    40% {\n",
              "      border-color: transparent;\n",
              "      border-right-color: var(--fill-color);\n",
              "      border-top-color: var(--fill-color);\n",
              "    }\n",
              "    60% {\n",
              "      border-color: transparent;\n",
              "      border-right-color: var(--fill-color);\n",
              "    }\n",
              "    80% {\n",
              "      border-color: transparent;\n",
              "      border-right-color: var(--fill-color);\n",
              "      border-bottom-color: var(--fill-color);\n",
              "    }\n",
              "    90% {\n",
              "      border-color: transparent;\n",
              "      border-bottom-color: var(--fill-color);\n",
              "    }\n",
              "  }\n",
              "</style>\n",
              "\n",
              "  <script>\n",
              "    async function quickchart(key) {\n",
              "      const quickchartButtonEl =\n",
              "        document.querySelector('#' + key + ' button');\n",
              "      quickchartButtonEl.disabled = true;  // To prevent multiple clicks.\n",
              "      quickchartButtonEl.classList.add('colab-df-spinner');\n",
              "      try {\n",
              "        const charts = await google.colab.kernel.invokeFunction(\n",
              "            'suggestCharts', [key], {});\n",
              "      } catch (error) {\n",
              "        console.error('Error during call to suggestCharts:', error);\n",
              "      }\n",
              "      quickchartButtonEl.classList.remove('colab-df-spinner');\n",
              "      quickchartButtonEl.classList.add('colab-df-quickchart-complete');\n",
              "    }\n",
              "    (() => {\n",
              "      let quickchartButtonEl =\n",
              "        document.querySelector('#df-0717dee1-0f2e-4a9f-97af-94cbbda20b66 button');\n",
              "      quickchartButtonEl.style.display =\n",
              "        google.colab.kernel.accessAllowed ? 'block' : 'none';\n",
              "    })();\n",
              "  </script>\n",
              "</div>\n",
              "    </div>\n",
              "  </div>\n"
            ]
          },
          "metadata": {},
          "execution_count": 6
        }
      ]
    },
    {
      "cell_type": "markdown",
      "source": [
        "The data contains information on recidivism of 6,172 individuals as well as information on the individual's age, sex, criminal history, their ethnicity---and the risk score they received from the COMPAS algorithm.\n",
        "\n",
        "To simplify the situation, we focus on two ethnicity levels only: African-Americans and Caucasians."
      ],
      "metadata": {
        "id": "4hYinYNND79l"
      }
    },
    {
      "cell_type": "code",
      "source": [
        "dat = dat.loc[(dat['ethnicity'] == 'Caucasian') | (dat['ethnicity'] == 'African_American')]\n",
        "dat.describe()"
      ],
      "metadata": {
        "id": "iE06ij2sD-vO",
        "outputId": "b6b5927b-02c8-4f40-b5bc-46619cefda4a",
        "colab": {
          "base_uri": "https://localhost:8080/",
          "height": 300
        }
      },
      "execution_count": 7,
      "outputs": [
        {
          "output_type": "execute_result",
          "data": {
            "text/plain": [
              "        Unnamed: 0  Number_of_Priors  probability    predicted\n",
              "count  5278.000000       5278.000000  5278.000000  5278.000000\n",
              "mean   3093.678856          0.045344     0.508440     0.483327\n",
              "std    1773.109554          1.027854     0.185615     0.499769\n",
              "min       2.000000         -0.684358     0.136889     0.000000\n",
              "25%    1570.250000         -0.684358     0.367219     0.000000\n",
              "50%    3097.500000         -0.262752     0.493538     0.000000\n",
              "75%    4614.750000          0.369656     0.625158     1.000000\n",
              "max    6171.000000          7.326149     0.996072     1.000000"
            ],
            "text/html": [
              "\n",
              "  <div id=\"df-7b2db768-0ed9-4cba-9302-fa404217c95c\" class=\"colab-df-container\">\n",
              "    <div>\n",
              "<style scoped>\n",
              "    .dataframe tbody tr th:only-of-type {\n",
              "        vertical-align: middle;\n",
              "    }\n",
              "\n",
              "    .dataframe tbody tr th {\n",
              "        vertical-align: top;\n",
              "    }\n",
              "\n",
              "    .dataframe thead th {\n",
              "        text-align: right;\n",
              "    }\n",
              "</style>\n",
              "<table border=\"1\" class=\"dataframe\">\n",
              "  <thead>\n",
              "    <tr style=\"text-align: right;\">\n",
              "      <th></th>\n",
              "      <th>Unnamed: 0</th>\n",
              "      <th>Number_of_Priors</th>\n",
              "      <th>probability</th>\n",
              "      <th>predicted</th>\n",
              "    </tr>\n",
              "  </thead>\n",
              "  <tbody>\n",
              "    <tr>\n",
              "      <th>count</th>\n",
              "      <td>5278.000000</td>\n",
              "      <td>5278.000000</td>\n",
              "      <td>5278.000000</td>\n",
              "      <td>5278.000000</td>\n",
              "    </tr>\n",
              "    <tr>\n",
              "      <th>mean</th>\n",
              "      <td>3093.678856</td>\n",
              "      <td>0.045344</td>\n",
              "      <td>0.508440</td>\n",
              "      <td>0.483327</td>\n",
              "    </tr>\n",
              "    <tr>\n",
              "      <th>std</th>\n",
              "      <td>1773.109554</td>\n",
              "      <td>1.027854</td>\n",
              "      <td>0.185615</td>\n",
              "      <td>0.499769</td>\n",
              "    </tr>\n",
              "    <tr>\n",
              "      <th>min</th>\n",
              "      <td>2.000000</td>\n",
              "      <td>-0.684358</td>\n",
              "      <td>0.136889</td>\n",
              "      <td>0.000000</td>\n",
              "    </tr>\n",
              "    <tr>\n",
              "      <th>25%</th>\n",
              "      <td>1570.250000</td>\n",
              "      <td>-0.684358</td>\n",
              "      <td>0.367219</td>\n",
              "      <td>0.000000</td>\n",
              "    </tr>\n",
              "    <tr>\n",
              "      <th>50%</th>\n",
              "      <td>3097.500000</td>\n",
              "      <td>-0.262752</td>\n",
              "      <td>0.493538</td>\n",
              "      <td>0.000000</td>\n",
              "    </tr>\n",
              "    <tr>\n",
              "      <th>75%</th>\n",
              "      <td>4614.750000</td>\n",
              "      <td>0.369656</td>\n",
              "      <td>0.625158</td>\n",
              "      <td>1.000000</td>\n",
              "    </tr>\n",
              "    <tr>\n",
              "      <th>max</th>\n",
              "      <td>6171.000000</td>\n",
              "      <td>7.326149</td>\n",
              "      <td>0.996072</td>\n",
              "      <td>1.000000</td>\n",
              "    </tr>\n",
              "  </tbody>\n",
              "</table>\n",
              "</div>\n",
              "    <div class=\"colab-df-buttons\">\n",
              "\n",
              "  <div class=\"colab-df-container\">\n",
              "    <button class=\"colab-df-convert\" onclick=\"convertToInteractive('df-7b2db768-0ed9-4cba-9302-fa404217c95c')\"\n",
              "            title=\"Convert this dataframe to an interactive table.\"\n",
              "            style=\"display:none;\">\n",
              "\n",
              "  <svg xmlns=\"http://www.w3.org/2000/svg\" height=\"24px\" viewBox=\"0 -960 960 960\">\n",
              "    <path d=\"M120-120v-720h720v720H120Zm60-500h600v-160H180v160Zm220 220h160v-160H400v160Zm0 220h160v-160H400v160ZM180-400h160v-160H180v160Zm440 0h160v-160H620v160ZM180-180h160v-160H180v160Zm440 0h160v-160H620v160Z\"/>\n",
              "  </svg>\n",
              "    </button>\n",
              "\n",
              "  <style>\n",
              "    .colab-df-container {\n",
              "      display:flex;\n",
              "      gap: 12px;\n",
              "    }\n",
              "\n",
              "    .colab-df-convert {\n",
              "      background-color: #E8F0FE;\n",
              "      border: none;\n",
              "      border-radius: 50%;\n",
              "      cursor: pointer;\n",
              "      display: none;\n",
              "      fill: #1967D2;\n",
              "      height: 32px;\n",
              "      padding: 0 0 0 0;\n",
              "      width: 32px;\n",
              "    }\n",
              "\n",
              "    .colab-df-convert:hover {\n",
              "      background-color: #E2EBFA;\n",
              "      box-shadow: 0px 1px 2px rgba(60, 64, 67, 0.3), 0px 1px 3px 1px rgba(60, 64, 67, 0.15);\n",
              "      fill: #174EA6;\n",
              "    }\n",
              "\n",
              "    .colab-df-buttons div {\n",
              "      margin-bottom: 4px;\n",
              "    }\n",
              "\n",
              "    [theme=dark] .colab-df-convert {\n",
              "      background-color: #3B4455;\n",
              "      fill: #D2E3FC;\n",
              "    }\n",
              "\n",
              "    [theme=dark] .colab-df-convert:hover {\n",
              "      background-color: #434B5C;\n",
              "      box-shadow: 0px 1px 3px 1px rgba(0, 0, 0, 0.15);\n",
              "      filter: drop-shadow(0px 1px 2px rgba(0, 0, 0, 0.3));\n",
              "      fill: #FFFFFF;\n",
              "    }\n",
              "  </style>\n",
              "\n",
              "    <script>\n",
              "      const buttonEl =\n",
              "        document.querySelector('#df-7b2db768-0ed9-4cba-9302-fa404217c95c button.colab-df-convert');\n",
              "      buttonEl.style.display =\n",
              "        google.colab.kernel.accessAllowed ? 'block' : 'none';\n",
              "\n",
              "      async function convertToInteractive(key) {\n",
              "        const element = document.querySelector('#df-7b2db768-0ed9-4cba-9302-fa404217c95c');\n",
              "        const dataTable =\n",
              "          await google.colab.kernel.invokeFunction('convertToInteractive',\n",
              "                                                    [key], {});\n",
              "        if (!dataTable) return;\n",
              "\n",
              "        const docLinkHtml = 'Like what you see? Visit the ' +\n",
              "          '<a target=\"_blank\" href=https://colab.research.google.com/notebooks/data_table.ipynb>data table notebook</a>'\n",
              "          + ' to learn more about interactive tables.';\n",
              "        element.innerHTML = '';\n",
              "        dataTable['output_type'] = 'display_data';\n",
              "        await google.colab.output.renderOutput(dataTable, element);\n",
              "        const docLink = document.createElement('div');\n",
              "        docLink.innerHTML = docLinkHtml;\n",
              "        element.appendChild(docLink);\n",
              "      }\n",
              "    </script>\n",
              "  </div>\n",
              "\n",
              "\n",
              "<div id=\"df-3bbb9d26-b73c-4a7f-96c3-503b5f194759\">\n",
              "  <button class=\"colab-df-quickchart\" onclick=\"quickchart('df-3bbb9d26-b73c-4a7f-96c3-503b5f194759')\"\n",
              "            title=\"Suggest charts\"\n",
              "            style=\"display:none;\">\n",
              "\n",
              "<svg xmlns=\"http://www.w3.org/2000/svg\" height=\"24px\"viewBox=\"0 0 24 24\"\n",
              "     width=\"24px\">\n",
              "    <g>\n",
              "        <path d=\"M19 3H5c-1.1 0-2 .9-2 2v14c0 1.1.9 2 2 2h14c1.1 0 2-.9 2-2V5c0-1.1-.9-2-2-2zM9 17H7v-7h2v7zm4 0h-2V7h2v10zm4 0h-2v-4h2v4z\"/>\n",
              "    </g>\n",
              "</svg>\n",
              "  </button>\n",
              "\n",
              "<style>\n",
              "  .colab-df-quickchart {\n",
              "      --bg-color: #E8F0FE;\n",
              "      --fill-color: #1967D2;\n",
              "      --hover-bg-color: #E2EBFA;\n",
              "      --hover-fill-color: #174EA6;\n",
              "      --disabled-fill-color: #AAA;\n",
              "      --disabled-bg-color: #DDD;\n",
              "  }\n",
              "\n",
              "  [theme=dark] .colab-df-quickchart {\n",
              "      --bg-color: #3B4455;\n",
              "      --fill-color: #D2E3FC;\n",
              "      --hover-bg-color: #434B5C;\n",
              "      --hover-fill-color: #FFFFFF;\n",
              "      --disabled-bg-color: #3B4455;\n",
              "      --disabled-fill-color: #666;\n",
              "  }\n",
              "\n",
              "  .colab-df-quickchart {\n",
              "    background-color: var(--bg-color);\n",
              "    border: none;\n",
              "    border-radius: 50%;\n",
              "    cursor: pointer;\n",
              "    display: none;\n",
              "    fill: var(--fill-color);\n",
              "    height: 32px;\n",
              "    padding: 0;\n",
              "    width: 32px;\n",
              "  }\n",
              "\n",
              "  .colab-df-quickchart:hover {\n",
              "    background-color: var(--hover-bg-color);\n",
              "    box-shadow: 0 1px 2px rgba(60, 64, 67, 0.3), 0 1px 3px 1px rgba(60, 64, 67, 0.15);\n",
              "    fill: var(--button-hover-fill-color);\n",
              "  }\n",
              "\n",
              "  .colab-df-quickchart-complete:disabled,\n",
              "  .colab-df-quickchart-complete:disabled:hover {\n",
              "    background-color: var(--disabled-bg-color);\n",
              "    fill: var(--disabled-fill-color);\n",
              "    box-shadow: none;\n",
              "  }\n",
              "\n",
              "  .colab-df-spinner {\n",
              "    border: 2px solid var(--fill-color);\n",
              "    border-color: transparent;\n",
              "    border-bottom-color: var(--fill-color);\n",
              "    animation:\n",
              "      spin 1s steps(1) infinite;\n",
              "  }\n",
              "\n",
              "  @keyframes spin {\n",
              "    0% {\n",
              "      border-color: transparent;\n",
              "      border-bottom-color: var(--fill-color);\n",
              "      border-left-color: var(--fill-color);\n",
              "    }\n",
              "    20% {\n",
              "      border-color: transparent;\n",
              "      border-left-color: var(--fill-color);\n",
              "      border-top-color: var(--fill-color);\n",
              "    }\n",
              "    30% {\n",
              "      border-color: transparent;\n",
              "      border-left-color: var(--fill-color);\n",
              "      border-top-color: var(--fill-color);\n",
              "      border-right-color: var(--fill-color);\n",
              "    }\n",
              "    40% {\n",
              "      border-color: transparent;\n",
              "      border-right-color: var(--fill-color);\n",
              "      border-top-color: var(--fill-color);\n",
              "    }\n",
              "    60% {\n",
              "      border-color: transparent;\n",
              "      border-right-color: var(--fill-color);\n",
              "    }\n",
              "    80% {\n",
              "      border-color: transparent;\n",
              "      border-right-color: var(--fill-color);\n",
              "      border-bottom-color: var(--fill-color);\n",
              "    }\n",
              "    90% {\n",
              "      border-color: transparent;\n",
              "      border-bottom-color: var(--fill-color);\n",
              "    }\n",
              "  }\n",
              "</style>\n",
              "\n",
              "  <script>\n",
              "    async function quickchart(key) {\n",
              "      const quickchartButtonEl =\n",
              "        document.querySelector('#' + key + ' button');\n",
              "      quickchartButtonEl.disabled = true;  // To prevent multiple clicks.\n",
              "      quickchartButtonEl.classList.add('colab-df-spinner');\n",
              "      try {\n",
              "        const charts = await google.colab.kernel.invokeFunction(\n",
              "            'suggestCharts', [key], {});\n",
              "      } catch (error) {\n",
              "        console.error('Error during call to suggestCharts:', error);\n",
              "      }\n",
              "      quickchartButtonEl.classList.remove('colab-df-spinner');\n",
              "      quickchartButtonEl.classList.add('colab-df-quickchart-complete');\n",
              "    }\n",
              "    (() => {\n",
              "      let quickchartButtonEl =\n",
              "        document.querySelector('#df-3bbb9d26-b73c-4a7f-96c3-503b5f194759 button');\n",
              "      quickchartButtonEl.style.display =\n",
              "        google.colab.kernel.accessAllowed ? 'block' : 'none';\n",
              "    })();\n",
              "  </script>\n",
              "</div>\n",
              "    </div>\n",
              "  </div>\n"
            ]
          },
          "metadata": {},
          "execution_count": 7
        }
      ]
    },
    {
      "cell_type": "markdown",
      "source": [
        "So we still have the majority of individuals included. We will consider the African-Americans as the \"protected\" class.\n",
        "\n",
        "We commence by exploring the data some and looking at fairness manually, but then we will also explore how to use the Aequitas package in this setting."
      ],
      "metadata": {
        "id": "M696IiNCEyOu"
      }
    },
    {
      "cell_type": "markdown",
      "source": [
        "### Fairness scores vs. recidivism rates\n",
        "\n",
        "Let's start by comparing the COMPAS scores between the two ethic groups (see also the density plots from the fairness package above):"
      ],
      "metadata": {
        "id": "sM_2m9OIGRM2"
      }
    },
    {
      "cell_type": "code",
      "source": [
        "plt.title(\"Score distribution by group\")\n",
        "plt.xlabel(\"Group: 1 = Caucasian, 2 = African-American\")\n",
        "plt.boxplot([dat.loc[dat['ethnicity'] == 'Caucasian']['probability'],dat.loc[dat['ethnicity'] == 'African_American']['probability']])\n",
        "plt.show()"
      ],
      "metadata": {
        "id": "WH65Ol1QE2X-",
        "outputId": "51d28a82-b67e-404a-d25f-9b5a1a17b6fb",
        "colab": {
          "base_uri": "https://localhost:8080/",
          "height": 472
        }
      },
      "execution_count": 8,
      "outputs": [
        {
          "output_type": "display_data",
          "data": {
            "text/plain": [
              "<Figure size 640x480 with 1 Axes>"
            ],
            "image/png": "[encoded data removed]"
          },
          "metadata": {}
        }
      ]
    },
    {
      "cell_type": "markdown",
      "source": [
        "The distribution of scores in the African-American group has a higher median and higher percentiles than the scores in the Caucasian group.\n",
        "\n",
        "However, consider the number of re-offenders between the group, we see the following:"
      ],
      "metadata": {
        "id": "1cW5E765ON6a"
      }
    },
    {
      "cell_type": "code",
      "source": [
        "aq_palette = sns.diverging_palette(225, 35, n=2)\n",
        "by_race = sns.countplot(x=\"ethnicity\", hue=\"Two_yr_Recidivism\", data=dat[dat.ethnicity.isin(['African_American', 'Caucasian'])], palette=aq_palette)"
      ],
      "metadata": {
        "id": "pMMz2A__PzNm",
        "outputId": "68a48b74-6a81-4494-850e-5dbd331e2e17",
        "colab": {
          "base_uri": "https://localhost:8080/",
          "height": 450
        }
      },
      "execution_count": 9,
      "outputs": [
        {
          "output_type": "display_data",
          "data": {
            "text/plain": [
              "<Figure size 640x480 with 1 Axes>"
            ],
            "image/png": "[encoded data removed]"
          },
          "metadata": {}
        }
      ]
    },
    {
      "cell_type": "markdown",
      "source": [
        "Let's consider raw averages of re-offenders in the two groups -- for caucasians:"
      ],
      "metadata": {
        "id": "-Agc5sMDP3If"
      }
    },
    {
      "cell_type": "code",
      "source": [
        "np.average(dat.loc[dat['ethnicity'] == 'Caucasian']['Two_yr_Recidivism'] == 'yes')"
      ],
      "metadata": {
        "id": "qI7OQvUNOqoU",
        "outputId": "c9d0de71-3f5d-4aaf-d26e-9d06d9663172",
        "colab": {
          "base_uri": "https://localhost:8080/"
        }
      },
      "execution_count": 10,
      "outputs": [
        {
          "output_type": "execute_result",
          "data": {
            "text/plain": [
              "0.3908701854493581"
            ]
          },
          "metadata": {},
          "execution_count": 10
        }
      ]
    },
    {
      "cell_type": "markdown",
      "source": [
        "And for the protected group:"
      ],
      "metadata": {
        "id": "NnnHTO18PRS5"
      }
    },
    {
      "cell_type": "code",
      "source": [
        "np.average(dat.loc[dat['ethnicity'] == 'African_American']['Two_yr_Recidivism'] == 'yes')"
      ],
      "metadata": {
        "id": "W7denUplOgP1",
        "outputId": "12119622-63c2-4c97-f0e6-486ebd195daa",
        "colab": {
          "base_uri": "https://localhost:8080/"
        }
      },
      "execution_count": 11,
      "outputs": [
        {
          "output_type": "execute_result",
          "data": {
            "text/plain": [
              "0.5231496062992126"
            ]
          },
          "metadata": {},
          "execution_count": 11
        }
      ]
    },
    {
      "cell_type": "markdown",
      "source": [
        "So, we can interpret the higher average COMPAS scores as resulting from statistical facts in this particular population.\n",
        "\n",
        "Let’s investigate accuracy, i.e., how accurate the algorithm is, on aggregate and by protected vs. non-protected class. In doing so, we determine the correctly classified re-offenders (true positives), the correctly cassified non-re-offenders (true negatives), the incorrectly classified re-offenders (false negatives), and the incorrectly classified non-re-offenders (false positives)—by class."
      ],
      "metadata": {
        "id": "e7LIq6T2PT3d"
      }
    },
    {
      "cell_type": "code",
      "source": [
        "TP_0 = sum((dat.loc[dat['ethnicity'] == 'Caucasian']['Two_yr_Recidivism'] == \"yes\") * dat.loc[dat['ethnicity'] == 'Caucasian']['predicted'])\n",
        "TP_1 = sum((dat.loc[dat['ethnicity'] == 'African_American']['Two_yr_Recidivism'] == \"yes\") * dat.loc[dat['ethnicity'] == 'African_American']['predicted'])\n",
        "FP_0 = sum((dat.loc[dat['ethnicity'] == 'Caucasian']['Two_yr_Recidivism'] == \"no\") * dat.loc[dat['ethnicity'] == 'Caucasian']['predicted'])\n",
        "FP_1 = sum((dat.loc[dat['ethnicity'] == 'African_American']['Two_yr_Recidivism'] == \"no\") * dat.loc[dat['ethnicity'] == 'African_American']['predicted'])\n",
        "FN_0 = sum((dat.loc[dat['ethnicity'] == 'Caucasian']['Two_yr_Recidivism'] == \"yes\") * (dat.loc[dat['ethnicity'] == 'Caucasian']['predicted'] == 0))\n",
        "FN_1 = sum((dat.loc[dat['ethnicity'] == 'African_American']['Two_yr_Recidivism'] == \"yes\") * (dat.loc[dat['ethnicity'] == 'African_American']['predicted'] == 0))\n",
        "TN_0 = sum((dat.loc[dat['ethnicity'] == 'Caucasian']['Two_yr_Recidivism'] == \"no\") * (dat.loc[dat['ethnicity'] == 'Caucasian']['predicted'] == 0))\n",
        "TN_1 = sum((dat.loc[dat['ethnicity'] == 'African_American']['Two_yr_Recidivism'] == \"no\") * (dat.loc[dat['ethnicity'] == 'African_American']['predicted'] == 0))"
      ],
      "metadata": {
        "id": "E-VVrFQk9AC9"
      },
      "execution_count": 12,
      "outputs": []
    },
    {
      "cell_type": "markdown",
      "source": [
        "\"Accuracy\" now is simply the correctly classified individuals divided by all individuals."
      ],
      "metadata": {
        "id": "qiMjSDz-_9i-"
      }
    },
    {
      "cell_type": "code",
      "source": [
        "acc = (TP_0+TP_1+TN_0+TN_1)/(TP_0 + FP_0 + TP_1 + FP_1 + TN_0 + FN_0 + TN_1 + FN_1)\n",
        "acc"
      ],
      "metadata": {
        "id": "l-YDztCj_Yb9",
        "outputId": "b830aab1-45de-42ee-90f6-33063e9b002a",
        "colab": {
          "base_uri": "https://localhost:8080/"
        }
      },
      "execution_count": 13,
      "outputs": [
        {
          "output_type": "execute_result",
          "data": {
            "text/plain": [
              "0.6669192876089428"
            ]
          },
          "metadata": {},
          "execution_count": 13
        }
      ]
    },
    {
      "cell_type": "markdown",
      "source": [
        "and by group:"
      ],
      "metadata": {
        "id": "919XS_aH_-jE"
      }
    },
    {
      "cell_type": "code",
      "source": [
        "acc_0 = (TP_0+TN_0)/(TP_0 + FP_0 + TN_0 + FN_0)\n",
        "acc_0"
      ],
      "metadata": {
        "id": "FYJy06F8ABDs",
        "outputId": "af749a55-6b5f-4b11-cbe8-7bc4669a23a0",
        "colab": {
          "base_uri": "https://localhost:8080/"
        }
      },
      "execution_count": 14,
      "outputs": [
        {
          "output_type": "execute_result",
          "data": {
            "text/plain": [
              "0.6585829766999525"
            ]
          },
          "metadata": {},
          "execution_count": 14
        }
      ]
    },
    {
      "cell_type": "markdown",
      "source": [
        "and for the protected group:"
      ],
      "metadata": {
        "id": "B7eWfGckAa74"
      }
    },
    {
      "cell_type": "code",
      "source": [
        "acc_1 = (TP_1+TN_1)/(TP_1 + FP_1 + TN_1 + FN_1)\n",
        "acc_1"
      ],
      "metadata": {
        "id": "XITH9iGiAege",
        "outputId": "8e9b676a-cd1d-4f49-b3c7-c23f1a215a51",
        "colab": {
          "base_uri": "https://localhost:8080/"
        }
      },
      "execution_count": 15,
      "outputs": [
        {
          "output_type": "execute_result",
          "data": {
            "text/plain": [
              "0.6724409448818898"
            ]
          },
          "metadata": {},
          "execution_count": 15
        }
      ]
    },
    {
      "cell_type": "code",
      "source": [
        "plt.bar(['Caucasian','African-American'], [acc_0,acc_1], color ='maroon', width = 0.4)\n",
        "plt.xlabel(\"Class\")\n",
        "plt.ylabel(\"Accuracy\")\n",
        "plt.title(\"Accuracy:    (TP+TN) / (TP+FP+TN+FN)\")\n",
        "plt.show()"
      ],
      "metadata": {
        "id": "CPxs79d8AykW",
        "outputId": "49ac519e-8de5-4d23-d796-fa89e87f1117",
        "colab": {
          "base_uri": "https://localhost:8080/",
          "height": 472
        }
      },
      "execution_count": 16,
      "outputs": [
        {
          "output_type": "display_data",
          "data": {
            "text/plain": [
              "<Figure size 640x480 with 1 Axes>"
            ],
            "image/png": "[encoded data removed]"
          },
          "metadata": {}
        }
      ]
    },
    {
      "cell_type": "markdown",
      "source": [
        "It appears that the algorithm is similarly \"accurate\" for both groups, and in fact the accuracy is even somewhat higher for the protected group.\n",
        "\n",
        "Hence, one may conclude that the algorithm performs reasonably well---and that there are no major concerns with regards to differential performance for the protected group. In fact, this may have been the mindset by the creators of the COMPAS algorithm.\n",
        "\n",
        "### Alternative Fairness Metrics\n",
        "\n",
        "While \"accuracy\"---or one minus accuracy, which is the misclassification rate---do not point to problems, we can investigate more differentiated error metrics. One obvious way of doing this is by comparing\n",
        "\n",
        "We can further assess the performance by visualizing false negative rates and the true positive rates by group. One way of looking at this is how many of the negatively classified individuals (low risk) were labeled so incorrectly, and how many of the positively classified (high risk) were labeled so correctly. The former proportion of negatively classified for which outcome indeed was one is also referred to as the *False Omission Rate*, whereas the latter proportion of positively classified that were indeed correct is also referred to as *Precision*:"
      ],
      "metadata": {
        "id": "hqa9ZKM2Advy"
      }
    },
    {
      "cell_type": "code",
      "source": [
        "aq_palette = sns.diverging_palette(225, 35, n=2)\n",
        "data_tmp = [['False Omission Rate',FN_0/(TN_0+FN_0),'Caucasian'],['False Omission Rate',FN_1/(TN_1+FN_1),'African_American'],['Precision',TP_0/(TP_0+FP_0),'Caucasian'],['Precision',TP_1/(TP_1+FP_1),'African_American']]\n",
        "df_tmp = pd.DataFrame(data_tmp, columns=['Metric','rate','ethnicity'])\n",
        "sns.barplot(df_tmp, x=\"Metric\", y=\"rate\", hue=\"ethnicity\", palette=aq_palette)"
      ],
      "metadata": {
        "id": "yBztwEiXFvu-",
        "outputId": "39f81736-aa49-43e3-f525-47c6d08235bc",
        "colab": {
          "base_uri": "https://localhost:8080/",
          "height": 466
        }
      },
      "execution_count": 17,
      "outputs": [
        {
          "output_type": "execute_result",
          "data": {
            "text/plain": [
              "<Axes: xlabel='Metric', ylabel='rate'>"
            ]
          },
          "metadata": {},
          "execution_count": 17
        },
        {
          "output_type": "display_data",
          "data": {
            "text/plain": [
              "<Figure size 640x480 with 1 Axes>"
            ],
            "image/png": "[encoded data removed]"
          },
          "metadata": {}
        }
      ]
    },
    {
      "cell_type": "markdown",
      "source": [
        "We start seeing some differences between the groups, although the differences are not startling. The algorithm seems to me more “precise” for the protected class.\n",
        "\n",
        "Differences between the groups start to emerge if we consider indviduals that are labeled as being likely to re-offend, i.e., the total fraction of positives between the two groups:"
      ],
      "metadata": {
        "id": "2OuRMyVaHrrV"
      }
    },
    {
      "cell_type": "code",
      "source": [
        "aq_palette = sns.diverging_palette(225, 35, n=2)\n",
        "data_tmp = [['Proportional Parity:  (FP+TP) / (FP+TP+TN+FN)',(FP_0+TP_0)/(TN_0+FN_0+FP_0+TP_0),'Caucasian'],['Proportional Parity:  (FP+TP) / (FP+TP+TN+FN)',(FP_1+TP_1)/(TN_1+FN_1+FP_1+TP_1),'African_American']]\n",
        "df_tmp = pd.DataFrame(data_tmp, columns=['Metric','rate','ethnicity'])\n",
        "sns.barplot(df_tmp, x=\"Metric\", y=\"rate\", hue=\"ethnicity\", palette=aq_palette).set(title='proportion of group classified positive -- a measure of disparate impact')"
      ],
      "metadata": {
        "id": "IolCgsJhAzvM",
        "outputId": "f0ed5b64-f2d7-413e-a06b-5104b86b921b",
        "colab": {
          "base_uri": "https://localhost:8080/",
          "height": 489
        }
      },
      "execution_count": 18,
      "outputs": [
        {
          "output_type": "execute_result",
          "data": {
            "text/plain": [
              "[Text(0.5, 1.0, 'proportion of group classified positive -- a measure of disparate impact')]"
            ]
          },
          "metadata": {},
          "execution_count": 18
        },
        {
          "output_type": "display_data",
          "data": {
            "text/plain": [
              "<Figure size 640x480 with 1 Axes>"
            ],
            "image/png": "[encoded data removed]"
          },
          "metadata": {}
        }
      ]
    },
    {
      "cell_type": "markdown",
      "source": [
        "Hence, it appears that the COMPAS algorithm does have disparate impact between the two classes. Based on our comparisons from above, one may argue that this is a consequence of the statistical fact that within this population, the rate of re-offenders in the protected class was higher. Indeed, the disparate impact is associated with the accuracy of the algorithm.\n",
        "\n",
        "In relation to the disparate impact, we can ask how the algorithm performs with regards to accurately labeling individuals. We start by investigating true positives, i.e., the proportion of positives that were classified correctly—which is also called the sensitivity. One minus the sensitivity corresponds to the positives that were incorrectly labeled, i.e., the false negative rate:"
      ],
      "metadata": {
        "id": "SDSjVgRtCSQA"
      }
    },
    {
      "cell_type": "code",
      "source": [
        "aq_palette = sns.diverging_palette(225, 35, n=2)\n",
        "data_tmp = [['Sensitivity (aka TPR):   TP / (TP + FN)',TP_0 / (FN_0+TP_0),'Caucasian'],['Sensitivity (aka TPR):   TP / (TP + FN)',TP_1 / (FN_1+TP_1),'African_American'],['False negative rate:  FN/(FN+TP)',FN_0 / (FN_0+TP_0),'Caucasian'],['False negative rate:  FN/(FN+TP)',FN_1 / (FN_1+TP_1),'African_American']]\n",
        "df_tmp = pd.DataFrame(data_tmp, columns=['Metric','rate','ethnicity'])\n",
        "sns.barplot(df_tmp, x=\"Metric\", y=\"rate\", hue=\"ethnicity\", palette=aq_palette)"
      ],
      "metadata": {
        "id": "c-DKesLxCS_d",
        "outputId": "9b71ed61-6600-4681-e01d-fba8c51d1edf",
        "colab": {
          "base_uri": "https://localhost:8080/",
          "height": 466
        }
      },
      "execution_count": 19,
      "outputs": [
        {
          "output_type": "execute_result",
          "data": {
            "text/plain": [
              "<Axes: xlabel='Metric', ylabel='rate'>"
            ]
          },
          "metadata": {},
          "execution_count": 19
        },
        {
          "output_type": "display_data",
          "data": {
            "text/plain": [
              "<Figure size 640x480 with 1 Axes>"
            ],
            "image/png": "[encoded data removed]"
          },
          "metadata": {}
        }
      ]
    },
    {
      "cell_type": "markdown",
      "source": [
        "The relationship between the sensitivity and the false negative rate is:"
      ],
      "metadata": {
        "id": "ZERGR5hLC_F6"
      }
    },
    {
      "cell_type": "code",
      "source": [
        "TP_0 / (FN_0+TP_0) + FN_0 / (FN_0+TP_0)"
      ],
      "metadata": {
        "id": "-JAnZDMMDE_P",
        "outputId": "3ad4ebc0-cd88-49b7-d1ef-ad0fb85e123e",
        "colab": {
          "base_uri": "https://localhost:8080/"
        }
      },
      "execution_count": 22,
      "outputs": [
        {
          "output_type": "execute_result",
          "data": {
            "text/plain": [
              "1.0"
            ]
          },
          "metadata": {},
          "execution_count": 22
        }
      ]
    },
    {
      "cell_type": "code",
      "source": [
        "TP_1 / (FN_1+TP_1) + FN_1 / (FN_1+TP_1)"
      ],
      "metadata": {
        "id": "I-IyAKQqDLBT",
        "outputId": "450856a8-6704-449b-8bbb-b479b796bee0",
        "colab": {
          "base_uri": "https://localhost:8080/"
        }
      },
      "execution_count": 21,
      "outputs": [
        {
          "output_type": "execute_result",
          "data": {
            "text/plain": [
              "1.0"
            ]
          },
          "metadata": {},
          "execution_count": 21
        }
      ]
    },
    {
      "cell_type": "markdown",
      "source": [
        "So it appears that the COMPAS algorithm is more \"sensitive\" for the protected class, and, ergo, the false negative rate is higher for the non-protected class. The latter means that the the number of high-risk individuals that were missed---and erroneously recommended for parole---is higher for the non-protected class."
      ],
      "metadata": {
        "id": "jKOl1WkEDfa9"
      }
    },
    {
      "cell_type": "markdown",
      "source": [
        "Recall that *Sensitivity* is on the y-axis of the ROC curve, so we know there is a tradeoff between sensitivity and the *False Positive Rate* (FPR), which in turn is one minus *Specificity*. The FPR simply is the percent of negatives incorrecly labeled as one:"
      ],
      "metadata": {
        "id": "ClkscRClDmwT"
      }
    },
    {
      "cell_type": "code",
      "source": [
        "aq_palette = sns.diverging_palette(225, 35, n=2)\n",
        "data_tmp = [['False positive rate:  FP/(FP+TN)',FP_0 / (FP_0+TN_0),'Caucasian'],['False positive rate:  FP/(FP+TN)',FP_1 / (FP_1+TN_1),'African_American'],['Specificity:   TN / (TN + FP)',TN_0 / (TN_0+FP_0),'Caucasian'],['Specificity:   TN / (TN + FP)',TN_1 / (TN_1+FP_1),'African_American']]\n",
        "df_tmp = pd.DataFrame(data_tmp, columns=['Metric','rate','ethnicity'])\n",
        "sns.barplot(df_tmp, x=\"Metric\", y=\"rate\", hue=\"ethnicity\", palette=aq_palette)"
      ],
      "metadata": {
        "id": "4ia8rJmmDl_a",
        "outputId": "958b81fe-ae59-42aa-f419-143071af525b",
        "colab": {
          "base_uri": "https://localhost:8080/",
          "height": 466
        }
      },
      "execution_count": 23,
      "outputs": [
        {
          "output_type": "execute_result",
          "data": {
            "text/plain": [
              "<Axes: xlabel='Metric', ylabel='rate'>"
            ]
          },
          "metadata": {},
          "execution_count": 23
        },
        {
          "output_type": "display_data",
          "data": {
            "text/plain": [
              "<Figure size 640x480 with 1 Axes>"
            ],
            "image/png": "[encoded data removed]"
          },
          "metadata": {}
        }
      ]
    },
    {
      "cell_type": "markdown",
      "source": [
        "The relationship between the specificity and the false positive rate is:"
      ],
      "metadata": {
        "id": "79Gec1lDEeR5"
      }
    },
    {
      "cell_type": "code",
      "source": [
        "FP_0 / (FP_0+TN_0) + TN_0 / (TN_0+FP_0)"
      ],
      "metadata": {
        "id": "X43F_172Eips",
        "outputId": "8bf72cb0-c09e-4aa5-fcbf-107e89b89b01",
        "colab": {
          "base_uri": "https://localhost:8080/"
        }
      },
      "execution_count": 24,
      "outputs": [
        {
          "output_type": "execute_result",
          "data": {
            "text/plain": [
              "1.0"
            ]
          },
          "metadata": {},
          "execution_count": 24
        }
      ]
    },
    {
      "cell_type": "code",
      "source": [
        "FP_1 / (FP_1+TN_1) + TN_1 / (TN_1+FP_1)"
      ],
      "metadata": {
        "id": "X3CjH28KEic6",
        "outputId": "49479887-f008-423e-e6c2-76eb08cae06b",
        "colab": {
          "base_uri": "https://localhost:8080/"
        }
      },
      "execution_count": 25,
      "outputs": [
        {
          "output_type": "execute_result",
          "data": {
            "text/plain": [
              "1.0"
            ]
          },
          "metadata": {},
          "execution_count": 25
        }
      ]
    },
    {
      "cell_type": "markdown",
      "source": [
        "We notice that the FPR is substantially higher for the protected class, i.e., the proportion of individuals that were erroneously labeled as high risk to re-offend is substantially higher in the protected class than in the non-protected class! Being more at risk of being erroneously labeled as high-risk to re-offend based on the color of risk does seem like a problem.\n",
        "\n",
        "### Intution: Generalized Confusion Matrix\n",
        "\n",
        "But how is it possible that the algorithm appears similarly accurate for the two groups, yet the chance of being erroneously classified as high risk is much higher for the protected group?\n",
        "\n",
        "To provide intuition, let's generate a generalized confusion table, where we illustrate all the correctly and erronrously classified individuals by class:\n"
      ],
      "metadata": {
        "id": "1LR1urLOEbdy"
      }
    },
    {
      "cell_type": "code",
      "source": [
        "data_tmp = [['prot=0 event=0',TN_0,FP_0],['prot=0 event=1',FN_0,TP_0],['prot=1 event=0',TN_1,FP_1],['prot=1 event=1',FN_1,TP_1]]\n",
        "df_tmp = pd.DataFrame(data_tmp, columns=[' ', 'decision=0','decision=1'])\n",
        "df_tmp"
      ],
      "metadata": {
        "id": "7A6yymn8GiiV",
        "outputId": "4166211a-a33b-4923-e48c-994c71123fb3",
        "colab": {
          "base_uri": "https://localhost:8080/",
          "height": 175
        }
      },
      "execution_count": 26,
      "outputs": [
        {
          "output_type": "execute_result",
          "data": {
            "text/plain": [
              "                   decision=0  decision=1\n",
              "0  prot=0 event=0         997         284\n",
              "1  prot=0 event=1         434         388\n",
              "2  prot=1 event=0         885         629\n",
              "3  prot=1 event=1         411        1250"
            ],
            "text/html": [
              "\n",
              "  <div id=\"df-96a12559-220e-4bf9-a5e9-95deaeac1b38\" class=\"colab-df-container\">\n",
              "    <div>\n",
              "<style scoped>\n",
              "    .dataframe tbody tr th:only-of-type {\n",
              "        vertical-align: middle;\n",
              "    }\n",
              "\n",
              "    .dataframe tbody tr th {\n",
              "        vertical-align: top;\n",
              "    }\n",
              "\n",
              "    .dataframe thead th {\n",
              "        text-align: right;\n",
              "    }\n",
              "</style>\n",
              "<table border=\"1\" class=\"dataframe\">\n",
              "  <thead>\n",
              "    <tr style=\"text-align: right;\">\n",
              "      <th></th>\n",
              "      <th></th>\n",
              "      <th>decision=0</th>\n",
              "      <th>decision=1</th>\n",
              "    </tr>\n",
              "  </thead>\n",
              "  <tbody>\n",
              "    <tr>\n",
              "      <th>0</th>\n",
              "      <td>prot=0 event=0</td>\n",
              "      <td>997</td>\n",
              "      <td>284</td>\n",
              "    </tr>\n",
              "    <tr>\n",
              "      <th>1</th>\n",
              "      <td>prot=0 event=1</td>\n",
              "      <td>434</td>\n",
              "      <td>388</td>\n",
              "    </tr>\n",
              "    <tr>\n",
              "      <th>2</th>\n",
              "      <td>prot=1 event=0</td>\n",
              "      <td>885</td>\n",
              "      <td>629</td>\n",
              "    </tr>\n",
              "    <tr>\n",
              "      <th>3</th>\n",
              "      <td>prot=1 event=1</td>\n",
              "      <td>411</td>\n",
              "      <td>1250</td>\n",
              "    </tr>\n",
              "  </tbody>\n",
              "</table>\n",
              "</div>\n",
              "    <div class=\"colab-df-buttons\">\n",
              "\n",
              "  <div class=\"colab-df-container\">\n",
              "    <button class=\"colab-df-convert\" onclick=\"convertToInteractive('df-96a12559-220e-4bf9-a5e9-95deaeac1b38')\"\n",
              "            title=\"Convert this dataframe to an interactive table.\"\n",
              "            style=\"display:none;\">\n",
              "\n",
              "  <svg xmlns=\"http://www.w3.org/2000/svg\" height=\"24px\" viewBox=\"0 -960 960 960\">\n",
              "    <path d=\"M120-120v-720h720v720H120Zm60-500h600v-160H180v160Zm220 220h160v-160H400v160Zm0 220h160v-160H400v160ZM180-400h160v-160H180v160Zm440 0h160v-160H620v160ZM180-180h160v-160H180v160Zm440 0h160v-160H620v160Z\"/>\n",
              "  </svg>\n",
              "    </button>\n",
              "\n",
              "  <style>\n",
              "    .colab-df-container {\n",
              "      display:flex;\n",
              "      gap: 12px;\n",
              "    }\n",
              "\n",
              "    .colab-df-convert {\n",
              "      background-color: #E8F0FE;\n",
              "      border: none;\n",
              "      border-radius: 50%;\n",
              "      cursor: pointer;\n",
              "      display: none;\n",
              "      fill: #1967D2;\n",
              "      height: 32px;\n",
              "      padding: 0 0 0 0;\n",
              "      width: 32px;\n",
              "    }\n",
              "\n",
              "    .colab-df-convert:hover {\n",
              "      background-color: #E2EBFA;\n",
              "      box-shadow: 0px 1px 2px rgba(60, 64, 67, 0.3), 0px 1px 3px 1px rgba(60, 64, 67, 0.15);\n",
              "      fill: #174EA6;\n",
              "    }\n",
              "\n",
              "    .colab-df-buttons div {\n",
              "      margin-bottom: 4px;\n",
              "    }\n",
              "\n",
              "    [theme=dark] .colab-df-convert {\n",
              "      background-color: #3B4455;\n",
              "      fill: #D2E3FC;\n",
              "    }\n",
              "\n",
              "    [theme=dark] .colab-df-convert:hover {\n",
              "      background-color: #434B5C;\n",
              "      box-shadow: 0px 1px 3px 1px rgba(0, 0, 0, 0.15);\n",
              "      filter: drop-shadow(0px 1px 2px rgba(0, 0, 0, 0.3));\n",
              "      fill: #FFFFFF;\n",
              "    }\n",
              "  </style>\n",
              "\n",
              "    <script>\n",
              "      const buttonEl =\n",
              "        document.querySelector('#df-96a12559-220e-4bf9-a5e9-95deaeac1b38 button.colab-df-convert');\n",
              "      buttonEl.style.display =\n",
              "        google.colab.kernel.accessAllowed ? 'block' : 'none';\n",
              "\n",
              "      async function convertToInteractive(key) {\n",
              "        const element = document.querySelector('#df-96a12559-220e-4bf9-a5e9-95deaeac1b38');\n",
              "        const dataTable =\n",
              "          await google.colab.kernel.invokeFunction('convertToInteractive',\n",
              "                                                    [key], {});\n",
              "        if (!dataTable) return;\n",
              "\n",
              "        const docLinkHtml = 'Like what you see? Visit the ' +\n",
              "          '<a target=\"_blank\" href=https://colab.research.google.com/notebooks/data_table.ipynb>data table notebook</a>'\n",
              "          + ' to learn more about interactive tables.';\n",
              "        element.innerHTML = '';\n",
              "        dataTable['output_type'] = 'display_data';\n",
              "        await google.colab.output.renderOutput(dataTable, element);\n",
              "        const docLink = document.createElement('div');\n",
              "        docLink.innerHTML = docLinkHtml;\n",
              "        element.appendChild(docLink);\n",
              "      }\n",
              "    </script>\n",
              "  </div>\n",
              "\n",
              "\n",
              "<div id=\"df-9298e1c0-3011-4382-a8b1-3cfeb19dbd44\">\n",
              "  <button class=\"colab-df-quickchart\" onclick=\"quickchart('df-9298e1c0-3011-4382-a8b1-3cfeb19dbd44')\"\n",
              "            title=\"Suggest charts\"\n",
              "            style=\"display:none;\">\n",
              "\n",
              "<svg xmlns=\"http://www.w3.org/2000/svg\" height=\"24px\"viewBox=\"0 0 24 24\"\n",
              "     width=\"24px\">\n",
              "    <g>\n",
              "        <path d=\"M19 3H5c-1.1 0-2 .9-2 2v14c0 1.1.9 2 2 2h14c1.1 0 2-.9 2-2V5c0-1.1-.9-2-2-2zM9 17H7v-7h2v7zm4 0h-2V7h2v10zm4 0h-2v-4h2v4z\"/>\n",
              "    </g>\n",
              "</svg>\n",
              "  </button>\n",
              "\n",
              "<style>\n",
              "  .colab-df-quickchart {\n",
              "      --bg-color: #E8F0FE;\n",
              "      --fill-color: #1967D2;\n",
              "      --hover-bg-color: #E2EBFA;\n",
              "      --hover-fill-color: #174EA6;\n",
              "      --disabled-fill-color: #AAA;\n",
              "      --disabled-bg-color: #DDD;\n",
              "  }\n",
              "\n",
              "  [theme=dark] .colab-df-quickchart {\n",
              "      --bg-color: #3B4455;\n",
              "      --fill-color: #D2E3FC;\n",
              "      --hover-bg-color: #434B5C;\n",
              "      --hover-fill-color: #FFFFFF;\n",
              "      --disabled-bg-color: #3B4455;\n",
              "      --disabled-fill-color: #666;\n",
              "  }\n",
              "\n",
              "  .colab-df-quickchart {\n",
              "    background-color: var(--bg-color);\n",
              "    border: none;\n",
              "    border-radius: 50%;\n",
              "    cursor: pointer;\n",
              "    display: none;\n",
              "    fill: var(--fill-color);\n",
              "    height: 32px;\n",
              "    padding: 0;\n",
              "    width: 32px;\n",
              "  }\n",
              "\n",
              "  .colab-df-quickchart:hover {\n",
              "    background-color: var(--hover-bg-color);\n",
              "    box-shadow: 0 1px 2px rgba(60, 64, 67, 0.3), 0 1px 3px 1px rgba(60, 64, 67, 0.15);\n",
              "    fill: var(--button-hover-fill-color);\n",
              "  }\n",
              "\n",
              "  .colab-df-quickchart-complete:disabled,\n",
              "  .colab-df-quickchart-complete:disabled:hover {\n",
              "    background-color: var(--disabled-bg-color);\n",
              "    fill: var(--disabled-fill-color);\n",
              "    box-shadow: none;\n",
              "  }\n",
              "\n",
              "  .colab-df-spinner {\n",
              "    border: 2px solid var(--fill-color);\n",
              "    border-color: transparent;\n",
              "    border-bottom-color: var(--fill-color);\n",
              "    animation:\n",
              "      spin 1s steps(1) infinite;\n",
              "  }\n",
              "\n",
              "  @keyframes spin {\n",
              "    0% {\n",
              "      border-color: transparent;\n",
              "      border-bottom-color: var(--fill-color);\n",
              "      border-left-color: var(--fill-color);\n",
              "    }\n",
              "    20% {\n",
              "      border-color: transparent;\n",
              "      border-left-color: var(--fill-color);\n",
              "      border-top-color: var(--fill-color);\n",
              "    }\n",
              "    30% {\n",
              "      border-color: transparent;\n",
              "      border-left-color: var(--fill-color);\n",
              "      border-top-color: var(--fill-color);\n",
              "      border-right-color: var(--fill-color);\n",
              "    }\n",
              "    40% {\n",
              "      border-color: transparent;\n",
              "      border-right-color: var(--fill-color);\n",
              "      border-top-color: var(--fill-color);\n",
              "    }\n",
              "    60% {\n",
              "      border-color: transparent;\n",
              "      border-right-color: var(--fill-color);\n",
              "    }\n",
              "    80% {\n",
              "      border-color: transparent;\n",
              "      border-right-color: var(--fill-color);\n",
              "      border-bottom-color: var(--fill-color);\n",
              "    }\n",
              "    90% {\n",
              "      border-color: transparent;\n",
              "      border-bottom-color: var(--fill-color);\n",
              "    }\n",
              "  }\n",
              "</style>\n",
              "\n",
              "  <script>\n",
              "    async function quickchart(key) {\n",
              "      const quickchartButtonEl =\n",
              "        document.querySelector('#' + key + ' button');\n",
              "      quickchartButtonEl.disabled = true;  // To prevent multiple clicks.\n",
              "      quickchartButtonEl.classList.add('colab-df-spinner');\n",
              "      try {\n",
              "        const charts = await google.colab.kernel.invokeFunction(\n",
              "            'suggestCharts', [key], {});\n",
              "      } catch (error) {\n",
              "        console.error('Error during call to suggestCharts:', error);\n",
              "      }\n",
              "      quickchartButtonEl.classList.remove('colab-df-spinner');\n",
              "      quickchartButtonEl.classList.add('colab-df-quickchart-complete');\n",
              "    }\n",
              "    (() => {\n",
              "      let quickchartButtonEl =\n",
              "        document.querySelector('#df-9298e1c0-3011-4382-a8b1-3cfeb19dbd44 button');\n",
              "      quickchartButtonEl.style.display =\n",
              "        google.colab.kernel.accessAllowed ? 'block' : 'none';\n",
              "    })();\n",
              "  </script>\n",
              "</div>\n",
              "    </div>\n",
              "  </div>\n"
            ]
          },
          "metadata": {},
          "execution_count": 26
        }
      ]
    },
    {
      "cell_type": "markdown",
      "source": [
        "And let’s visualize:"
      ],
      "metadata": {
        "id": "M96Tho04IB9N"
      }
    },
    {
      "cell_type": "code",
      "source": [
        "x = ['decision=0','decision=1']\n",
        "y1 = np.array([FN_1,TP_1])\n",
        "y2 = np.array([TN_1,FP_1])\n",
        "y3 = np.array([FN_0,TP_0])\n",
        "y4 = np.array([TN_0,FP_0])\n",
        "\n",
        "plt.bar(x, y1, color='r')\n",
        "plt.bar(x, y2, bottom=y1, color='b')\n",
        "plt.bar(x, y3, bottom=y1+y2, color='y')\n",
        "plt.bar(x, y4, bottom=y1+y2+y3, color='g')\n",
        "plt.ylabel(\"Count\")\n",
        "plt.legend([\"prot=1 event=1\", \"prot=1 event=0\", \"prot=0 event=1\", \"prot=0 event=0\"])\n",
        "plt.title(\"Scores by Teams in 4 Rounds\")\n",
        "plt.show()"
      ],
      "metadata": {
        "id": "gdmvrAsTMjdc",
        "outputId": "389b5f83-4fe3-42c4-d04f-eb3f7dbfd4b2",
        "colab": {
          "base_uri": "https://localhost:8080/",
          "height": 452
        }
      },
      "execution_count": 27,
      "outputs": [
        {
          "output_type": "display_data",
          "data": {
            "text/plain": [
              "<Figure size 640x480 with 1 Axes>"
            ],
            "image/png": "[encoded data removed]"
          },
          "metadata": {}
        }
      ]
    },
    {
      "cell_type": "markdown",
      "source": [
        "We have the labels on the horizontal, and the actual outcomes on the vertical. The large FPR is driven by the large fraction of individuals in the protected class labeled as one.\n",
        "\n",
        "### Enforcing Fairness via Different Thresholds\n",
        "\n",
        "As we illustrated, there are different notions of fairness one may apply. However, it seems intutive that the high FPR for the protected class may be perceived problematic. Being erroneously denied parole based on the color of one's skin arguably is perceived as unfair by many.\n",
        "\n",
        "This intuition is in line with prescriptions from scholars that have attempted to organize different fairness metrics. For instance, the bias audit toolkit [Aequitas](http://www.datasciencepublicpolicy.org/our-work/tools-guides/aequitas/) provides a \"fairness tree\" that organizes different metrics. Considering this situation where interventions are \"punitive\" and we are worried about individuals where \"intervention is not warranted\" (i.e., those that won't re-offend), Aequitas' fairness tree suggests that \"FPR Parity\"---i.e., equating FPR rates across the different classes---is an appropriate metric.\n",
        "\n",
        "How can we realize this? We can adjust the threshold for the protected class to above 0.5, i.e., requiring a higher score to be labeled high risk. After some experimentation, it appears 0.605 is a threshold that roughly equates false positive rates:"
      ],
      "metadata": {
        "id": "5crGyueUO7V_"
      }
    },
    {
      "cell_type": "code",
      "source": [
        "upd_afram = (dat.loc[dat['ethnicity'] == 'African_American']['probability'] > 0.605)"
      ],
      "metadata": {
        "id": "l6MI0oi-PYQJ"
      },
      "execution_count": 28,
      "outputs": []
    },
    {
      "cell_type": "code",
      "source": [
        "TP_0 = sum((dat.loc[dat['ethnicity'] == 'Caucasian']['Two_yr_Recidivism'] == \"yes\") * dat.loc[dat['ethnicity'] == 'Caucasian']['predicted'])\n",
        "TP_1 = sum((dat.loc[dat['ethnicity'] == 'African_American']['Two_yr_Recidivism'] == \"yes\") * upd_afram)\n",
        "FP_0 = sum((dat.loc[dat['ethnicity'] == 'Caucasian']['Two_yr_Recidivism'] == \"no\") * dat.loc[dat['ethnicity'] == 'Caucasian']['predicted'])\n",
        "FP_1 = sum((dat.loc[dat['ethnicity'] == 'African_American']['Two_yr_Recidivism'] == \"no\") * upd_afram)\n",
        "FN_0 = sum((dat.loc[dat['ethnicity'] == 'Caucasian']['Two_yr_Recidivism'] == \"yes\") * (dat.loc[dat['ethnicity'] == 'Caucasian']['predicted'] == 0))\n",
        "FN_1 = sum((dat.loc[dat['ethnicity'] == 'African_American']['Two_yr_Recidivism'] == \"yes\") * (upd_afram == 0))\n",
        "TN_0 = sum((dat.loc[dat['ethnicity'] == 'Caucasian']['Two_yr_Recidivism'] == \"no\") * (dat.loc[dat['ethnicity'] == 'Caucasian']['predicted'] == 0))\n",
        "TN_1 = sum((dat.loc[dat['ethnicity'] == 'African_American']['Two_yr_Recidivism'] == \"no\") * (upd_afram == 0))"
      ],
      "metadata": {
        "id": "p8INr9zCQez5"
      },
      "execution_count": 29,
      "outputs": []
    },
    {
      "cell_type": "code",
      "source": [
        "aq_palette = sns.diverging_palette(225, 35, n=2)\n",
        "data_tmp = [['False positive rate:  FP/(FP+TN)',FP_0 / (FP_0+TN_0),'Caucasian'],['False positive rate:  FP/(FP+TN)',FP_1 / (FP_1+TN_1),'African_American'],['Specificity:   TN / (TN + FP)',TN_0 / (TN_0+FP_0),'Caucasian'],['Specificity:   TN / (TN + FP)',TN_1 / (TN_1+FP_1),'African_American']]\n",
        "df_tmp = pd.DataFrame(data_tmp, columns=['Metric','rate','ethnicity'])\n",
        "sns.barplot(df_tmp, x=\"Metric\", y=\"rate\", hue=\"ethnicity\", palette=aq_palette)"
      ],
      "metadata": {
        "id": "c3ejCHwXQib7",
        "outputId": "fc468078-24e4-47cd-8496-0e04659e3c81",
        "colab": {
          "base_uri": "https://localhost:8080/",
          "height": 466
        }
      },
      "execution_count": 30,
      "outputs": [
        {
          "output_type": "execute_result",
          "data": {
            "text/plain": [
              "<Axes: xlabel='Metric', ylabel='rate'>"
            ]
          },
          "metadata": {},
          "execution_count": 30
        },
        {
          "output_type": "display_data",
          "data": {
            "text/plain": [
              "<Figure size 640x480 with 1 Axes>"
            ],
            "image/png": "[encoded data removed]"
          },
          "metadata": {}
        }
      ]
    },
    {
      "cell_type": "markdown",
      "source": [
        "Adjusting the threshold generally results in a less \"accurate\" algorithm. Let's check the accuracy level for the modified algorithm:"
      ],
      "metadata": {
        "id": "UJOPpgn-SZUQ"
      }
    },
    {
      "cell_type": "code",
      "source": [
        "acc = (TP_0+TP_1+TN_0+TN_1)/(TP_0 + FP_0 + TP_1 + FP_1 + TN_0 + FN_0 + TN_1 + FN_1)\n",
        "acc"
      ],
      "metadata": {
        "id": "Rvf53gR0SjSV",
        "outputId": "dab07532-3630-40d3-a8fb-30d0c4cf893e",
        "colab": {
          "base_uri": "https://localhost:8080/"
        }
      },
      "execution_count": 31,
      "outputs": [
        {
          "output_type": "execute_result",
          "data": {
            "text/plain": [
              "0.656498673740053"
            ]
          },
          "metadata": {},
          "execution_count": 31
        }
      ]
    },
    {
      "cell_type": "markdown",
      "source": [
        "Surprisingly, the accuracy only drops slightly from the original accuracy score of 0.667.\n",
        "\n",
        "For the non-protected group it stays the same:"
      ],
      "metadata": {
        "id": "mGwwyMT5StUR"
      }
    },
    {
      "cell_type": "code",
      "source": [
        "acc_0 = (TP_0+TN_0)/(TP_0 + FP_0 + TN_0 + FN_0)\n",
        "acc_0"
      ],
      "metadata": {
        "id": "3SqMn_JOSnzk",
        "outputId": "8ed28816-2306-4022-bc9d-6191a874ec89",
        "colab": {
          "base_uri": "https://localhost:8080/"
        }
      },
      "execution_count": 32,
      "outputs": [
        {
          "output_type": "execute_result",
          "data": {
            "text/plain": [
              "0.6585829766999525"
            ]
          },
          "metadata": {},
          "execution_count": 32
        }
      ]
    },
    {
      "cell_type": "markdown",
      "source": [
        "But there is a decrease for the protected class:"
      ],
      "metadata": {
        "id": "4X9kaOFDSw7H"
      }
    },
    {
      "cell_type": "code",
      "source": [
        "acc_1 = (TP_1+TN_1)/(TP_1 + FP_1 + TN_1 + FN_1)\n",
        "acc_1"
      ],
      "metadata": {
        "id": "4MigX4BqSriU",
        "outputId": "49fe43b9-5ea5-4108-d558-22e0b7fdee58",
        "colab": {
          "base_uri": "https://localhost:8080/"
        }
      },
      "execution_count": 33,
      "outputs": [
        {
          "output_type": "execute_result",
          "data": {
            "text/plain": [
              "0.6551181102362205"
            ]
          },
          "metadata": {},
          "execution_count": 33
        }
      ]
    },
    {
      "cell_type": "code",
      "source": [
        "plt.bar(['Caucasian','African-American'], [acc_0,acc_1], color ='maroon', width = 0.4)\n",
        "plt.xlabel(\"Class\")\n",
        "plt.ylabel(\"Accuracy\")\n",
        "plt.title(\"Accuracy:    (TP+TN) / (TP+FP+TN+FN)\")\n",
        "plt.show()"
      ],
      "metadata": {
        "id": "xEJwDyRTS5Bl",
        "outputId": "4880c9d0-8d77-4eb9-eecf-1aba2f70857d",
        "colab": {
          "base_uri": "https://localhost:8080/",
          "height": 472
        }
      },
      "execution_count": 34,
      "outputs": [
        {
          "output_type": "display_data",
          "data": {
            "text/plain": [
              "<Figure size 640x480 with 1 Axes>"
            ],
            "image/png": "[encoded data removed]"
          },
          "metadata": {}
        }
      ]
    },
    {
      "cell_type": "markdown",
      "source": [
        "So we obtain a slight drop for the protected group, but this appears a small price to pay to ensure the equivalence of false positive rates and the associated fairness in this example setting."
      ],
      "metadata": {
        "id": "B4ZGMM6uTD4Q"
      }
    },
    {
      "cell_type": "markdown",
      "source": [
        "## Using the Aequitas Library\n",
        "\n",
        "Let's now see how to use Aequitas library to analyze the predictions for fairness. More details can be found [here](https://colab.research.google.com/github/dssg/aequitas/blob/update_compas_notebook/docs/source/examples/compas_demo.ipynb).\n",
        "\n",
        "### Data Format\n",
        "\n",
        "Aequitas requires a column named `score` that has the predicted label by the algorithm (should be 0 / 1) and a column named `label_value` that has the actual class. We reformat our dataset to adhere to this format, and we also drop all the non-ethnicity columns to focus on that attribute. (One needs to drop the non-string columns in any case, otherwise there is an error message.)"
      ],
      "metadata": {
        "id": "OekxOdHmlHm9"
      }
    },
    {
      "cell_type": "code",
      "source": [
        "dat = dat.rename(columns={\"predicted\": \"score\", \"Two_yr_Recidivism\": \"label_value\"})\n",
        "dat = dat.drop(columns=['Number_of_Priors', 'probability','Unnamed: 0','Age_Above_FourtyFive','Age_Below_TwentyFive','Female','Misdemeanor'])\n",
        "dat.label_value = dat.label_value.map(dict(yes=1, no=0))\n",
        "dat.head()"
      ],
      "metadata": {
        "id": "W2uwPI-blH1I",
        "outputId": "66df72ec-a079-4108-9f84-c30d63132933",
        "colab": {
          "base_uri": "https://localhost:8080/",
          "height": 206
        }
      },
      "execution_count": 35,
      "outputs": [
        {
          "output_type": "execute_result",
          "data": {
            "text/plain": [
              "   label_value         ethnicity  score\n",
              "1            1         Caucasian      1\n",
              "2            0         Caucasian      0\n",
              "3            0  African_American      0\n",
              "6            1  African_American      1\n",
              "7            1  African_American      1"
            ],
            "text/html": [
              "\n",
              "  <div id=\"df-af28251e-7819-4605-acd6-1614795687c2\" class=\"colab-df-container\">\n",
              "    <div>\n",
              "<style scoped>\n",
              "    .dataframe tbody tr th:only-of-type {\n",
              "        vertical-align: middle;\n",
              "    }\n",
              "\n",
              "    .dataframe tbody tr th {\n",
              "        vertical-align: top;\n",
              "    }\n",
              "\n",
              "    .dataframe thead th {\n",
              "        text-align: right;\n",
              "    }\n",
              "</style>\n",
              "<table border=\"1\" class=\"dataframe\">\n",
              "  <thead>\n",
              "    <tr style=\"text-align: right;\">\n",
              "      <th></th>\n",
              "      <th>label_value</th>\n",
              "      <th>ethnicity</th>\n",
              "      <th>score</th>\n",
              "    </tr>\n",
              "  </thead>\n",
              "  <tbody>\n",
              "    <tr>\n",
              "      <th>1</th>\n",
              "      <td>1</td>\n",
              "      <td>Caucasian</td>\n",
              "      <td>1</td>\n",
              "    </tr>\n",
              "    <tr>\n",
              "      <th>2</th>\n",
              "      <td>0</td>\n",
              "      <td>Caucasian</td>\n",
              "      <td>0</td>\n",
              "    </tr>\n",
              "    <tr>\n",
              "      <th>3</th>\n",
              "      <td>0</td>\n",
              "      <td>African_American</td>\n",
              "      <td>0</td>\n",
              "    </tr>\n",
              "    <tr>\n",
              "      <th>6</th>\n",
              "      <td>1</td>\n",
              "      <td>African_American</td>\n",
              "      <td>1</td>\n",
              "    </tr>\n",
              "    <tr>\n",
              "      <th>7</th>\n",
              "      <td>1</td>\n",
              "      <td>African_American</td>\n",
              "      <td>1</td>\n",
              "    </tr>\n",
              "  </tbody>\n",
              "</table>\n",
              "</div>\n",
              "    <div class=\"colab-df-buttons\">\n",
              "\n",
              "  <div class=\"colab-df-container\">\n",
              "    <button class=\"colab-df-convert\" onclick=\"convertToInteractive('df-af28251e-7819-4605-acd6-1614795687c2')\"\n",
              "            title=\"Convert this dataframe to an interactive table.\"\n",
              "            style=\"display:none;\">\n",
              "\n",
              "  <svg xmlns=\"http://www.w3.org/2000/svg\" height=\"24px\" viewBox=\"0 -960 960 960\">\n",
              "    <path d=\"M120-120v-720h720v720H120Zm60-500h600v-160H180v160Zm220 220h160v-160H400v160Zm0 220h160v-160H400v160ZM180-400h160v-160H180v160Zm440 0h160v-160H620v160ZM180-180h160v-160H180v160Zm440 0h160v-160H620v160Z\"/>\n",
              "  </svg>\n",
              "    </button>\n",
              "\n",
              "  <style>\n",
              "    .colab-df-container {\n",
              "      display:flex;\n",
              "      gap: 12px;\n",
              "    }\n",
              "\n",
              "    .colab-df-convert {\n",
              "      background-color: #E8F0FE;\n",
              "      border: none;\n",
              "      border-radius: 50%;\n",
              "      cursor: pointer;\n",
              "      display: none;\n",
              "      fill: #1967D2;\n",
              "      height: 32px;\n",
              "      padding: 0 0 0 0;\n",
              "      width: 32px;\n",
              "    }\n",
              "\n",
              "    .colab-df-convert:hover {\n",
              "      background-color: #E2EBFA;\n",
              "      box-shadow: 0px 1px 2px rgba(60, 64, 67, 0.3), 0px 1px 3px 1px rgba(60, 64, 67, 0.15);\n",
              "      fill: #174EA6;\n",
              "    }\n",
              "\n",
              "    .colab-df-buttons div {\n",
              "      margin-bottom: 4px;\n",
              "    }\n",
              "\n",
              "    [theme=dark] .colab-df-convert {\n",
              "      background-color: #3B4455;\n",
              "      fill: #D2E3FC;\n",
              "    }\n",
              "\n",
              "    [theme=dark] .colab-df-convert:hover {\n",
              "      background-color: #434B5C;\n",
              "      box-shadow: 0px 1px 3px 1px rgba(0, 0, 0, 0.15);\n",
              "      filter: drop-shadow(0px 1px 2px rgba(0, 0, 0, 0.3));\n",
              "      fill: #FFFFFF;\n",
              "    }\n",
              "  </style>\n",
              "\n",
              "    <script>\n",
              "      const buttonEl =\n",
              "        document.querySelector('#df-af28251e-7819-4605-acd6-1614795687c2 button.colab-df-convert');\n",
              "      buttonEl.style.display =\n",
              "        google.colab.kernel.accessAllowed ? 'block' : 'none';\n",
              "\n",
              "      async function convertToInteractive(key) {\n",
              "        const element = document.querySelector('#df-af28251e-7819-4605-acd6-1614795687c2');\n",
              "        const dataTable =\n",
              "          await google.colab.kernel.invokeFunction('convertToInteractive',\n",
              "                                                    [key], {});\n",
              "        if (!dataTable) return;\n",
              "\n",
              "        const docLinkHtml = 'Like what you see? Visit the ' +\n",
              "          '<a target=\"_blank\" href=https://colab.research.google.com/notebooks/data_table.ipynb>data table notebook</a>'\n",
              "          + ' to learn more about interactive tables.';\n",
              "        element.innerHTML = '';\n",
              "        dataTable['output_type'] = 'display_data';\n",
              "        await google.colab.output.renderOutput(dataTable, element);\n",
              "        const docLink = document.createElement('div');\n",
              "        docLink.innerHTML = docLinkHtml;\n",
              "        element.appendChild(docLink);\n",
              "      }\n",
              "    </script>\n",
              "  </div>\n",
              "\n",
              "\n",
              "<div id=\"df-9eb58232-d828-4902-9b01-a8f31d4667bf\">\n",
              "  <button class=\"colab-df-quickchart\" onclick=\"quickchart('df-9eb58232-d828-4902-9b01-a8f31d4667bf')\"\n",
              "            title=\"Suggest charts\"\n",
              "            style=\"display:none;\">\n",
              "\n",
              "<svg xmlns=\"http://www.w3.org/2000/svg\" height=\"24px\"viewBox=\"0 0 24 24\"\n",
              "     width=\"24px\">\n",
              "    <g>\n",
              "        <path d=\"M19 3H5c-1.1 0-2 .9-2 2v14c0 1.1.9 2 2 2h14c1.1 0 2-.9 2-2V5c0-1.1-.9-2-2-2zM9 17H7v-7h2v7zm4 0h-2V7h2v10zm4 0h-2v-4h2v4z\"/>\n",
              "    </g>\n",
              "</svg>\n",
              "  </button>\n",
              "\n",
              "<style>\n",
              "  .colab-df-quickchart {\n",
              "      --bg-color: #E8F0FE;\n",
              "      --fill-color: #1967D2;\n",
              "      --hover-bg-color: #E2EBFA;\n",
              "      --hover-fill-color: #174EA6;\n",
              "      --disabled-fill-color: #AAA;\n",
              "      --disabled-bg-color: #DDD;\n",
              "  }\n",
              "\n",
              "  [theme=dark] .colab-df-quickchart {\n",
              "      --bg-color: #3B4455;\n",
              "      --fill-color: #D2E3FC;\n",
              "      --hover-bg-color: #434B5C;\n",
              "      --hover-fill-color: #FFFFFF;\n",
              "      --disabled-bg-color: #3B4455;\n",
              "      --disabled-fill-color: #666;\n",
              "  }\n",
              "\n",
              "  .colab-df-quickchart {\n",
              "    background-color: var(--bg-color);\n",
              "    border: none;\n",
              "    border-radius: 50%;\n",
              "    cursor: pointer;\n",
              "    display: none;\n",
              "    fill: var(--fill-color);\n",
              "    height: 32px;\n",
              "    padding: 0;\n",
              "    width: 32px;\n",
              "  }\n",
              "\n",
              "  .colab-df-quickchart:hover {\n",
              "    background-color: var(--hover-bg-color);\n",
              "    box-shadow: 0 1px 2px rgba(60, 64, 67, 0.3), 0 1px 3px 1px rgba(60, 64, 67, 0.15);\n",
              "    fill: var(--button-hover-fill-color);\n",
              "  }\n",
              "\n",
              "  .colab-df-quickchart-complete:disabled,\n",
              "  .colab-df-quickchart-complete:disabled:hover {\n",
              "    background-color: var(--disabled-bg-color);\n",
              "    fill: var(--disabled-fill-color);\n",
              "    box-shadow: none;\n",
              "  }\n",
              "\n",
              "  .colab-df-spinner {\n",
              "    border: 2px solid var(--fill-color);\n",
              "    border-color: transparent;\n",
              "    border-bottom-color: var(--fill-color);\n",
              "    animation:\n",
              "      spin 1s steps(1) infinite;\n",
              "  }\n",
              "\n",
              "  @keyframes spin {\n",
              "    0% {\n",
              "      border-color: transparent;\n",
              "      border-bottom-color: var(--fill-color);\n",
              "      border-left-color: var(--fill-color);\n",
              "    }\n",
              "    20% {\n",
              "      border-color: transparent;\n",
              "      border-left-color: var(--fill-color);\n",
              "      border-top-color: var(--fill-color);\n",
              "    }\n",
              "    30% {\n",
              "      border-color: transparent;\n",
              "      border-left-color: var(--fill-color);\n",
              "      border-top-color: var(--fill-color);\n",
              "      border-right-color: var(--fill-color);\n",
              "    }\n",
              "    40% {\n",
              "      border-color: transparent;\n",
              "      border-right-color: var(--fill-color);\n",
              "      border-top-color: var(--fill-color);\n",
              "    }\n",
              "    60% {\n",
              "      border-color: transparent;\n",
              "      border-right-color: var(--fill-color);\n",
              "    }\n",
              "    80% {\n",
              "      border-color: transparent;\n",
              "      border-right-color: var(--fill-color);\n",
              "      border-bottom-color: var(--fill-color);\n",
              "    }\n",
              "    90% {\n",
              "      border-color: transparent;\n",
              "      border-bottom-color: var(--fill-color);\n",
              "    }\n",
              "  }\n",
              "</style>\n",
              "\n",
              "  <script>\n",
              "    async function quickchart(key) {\n",
              "      const quickchartButtonEl =\n",
              "        document.querySelector('#' + key + ' button');\n",
              "      quickchartButtonEl.disabled = true;  // To prevent multiple clicks.\n",
              "      quickchartButtonEl.classList.add('colab-df-spinner');\n",
              "      try {\n",
              "        const charts = await google.colab.kernel.invokeFunction(\n",
              "            'suggestCharts', [key], {});\n",
              "      } catch (error) {\n",
              "        console.error('Error during call to suggestCharts:', error);\n",
              "      }\n",
              "      quickchartButtonEl.classList.remove('colab-df-spinner');\n",
              "      quickchartButtonEl.classList.add('colab-df-quickchart-complete');\n",
              "    }\n",
              "    (() => {\n",
              "      let quickchartButtonEl =\n",
              "        document.querySelector('#df-9eb58232-d828-4902-9b01-a8f31d4667bf button');\n",
              "      quickchartButtonEl.style.display =\n",
              "        google.colab.kernel.accessAllowed ? 'block' : 'none';\n",
              "    })();\n",
              "  </script>\n",
              "</div>\n",
              "    </div>\n",
              "  </div>\n"
            ]
          },
          "metadata": {},
          "execution_count": 35
        }
      ]
    },
    {
      "cell_type": "markdown",
      "source": [
        "### Using Aequitas to Obtain Confusion Values and Rates\n",
        "\n",
        "We can now use Aequitas to obtain the count of true positives, false positives, true negatives, and false negatives by group--as well as corresponding rates."
      ],
      "metadata": {
        "id": "WUQ_rHiVsd-q"
      }
    },
    {
      "cell_type": "code",
      "source": [
        "g = Group()\n",
        "xtab, _ = g.get_crosstabs(dat)"
      ],
      "metadata": {
        "id": "Blh3SQmemExJ"
      },
      "execution_count": 36,
      "outputs": []
    },
    {
      "cell_type": "code",
      "source": [
        "absolute_metrics = g.list_absolute_metrics(xtab)"
      ],
      "metadata": {
        "id": "8Ih9ENEHnfXU"
      },
      "execution_count": 37,
      "outputs": []
    },
    {
      "cell_type": "code",
      "source": [
        "xtab[[col for col in xtab.columns if col not in absolute_metrics]]"
      ],
      "metadata": {
        "id": "u1REfMgbnjtC",
        "outputId": "ee406af2-54c5-43fb-8693-e3158506009f",
        "colab": {
          "base_uri": "https://localhost:8080/",
          "height": 112
        }
      },
      "execution_count": 38,
      "outputs": [
        {
          "output_type": "execute_result",
          "data": {
            "text/plain": [
              "   model_id score_threshold     k attribute_name   attribute_value    pp  \\\n",
              "0         0      binary 0/1  2551      ethnicity  African_American  1879   \n",
              "1         0      binary 0/1  2551      ethnicity         Caucasian   672   \n",
              "\n",
              "     pn   fp   fn   tn    tp  group_label_pos  group_label_neg  group_size  \\\n",
              "0  1296  629  411  885  1250             1661             1514        3175   \n",
              "1  1431  284  434  997   388              822             1281        2103   \n",
              "\n",
              "   total_entities  \n",
              "0            5278  \n",
              "1            5278  "
            ],
            "text/html": [
              "\n",
              "  <div id=\"df-dcb9e671-94ac-42b2-8666-95d0457fc377\" class=\"colab-df-container\">\n",
              "    <div>\n",
              "<style scoped>\n",
              "    .dataframe tbody tr th:only-of-type {\n",
              "        vertical-align: middle;\n",
              "    }\n",
              "\n",
              "    .dataframe tbody tr th {\n",
              "        vertical-align: top;\n",
              "    }\n",
              "\n",
              "    .dataframe thead th {\n",
              "        text-align: right;\n",
              "    }\n",
              "</style>\n",
              "<table border=\"1\" class=\"dataframe\">\n",
              "  <thead>\n",
              "    <tr style=\"text-align: right;\">\n",
              "      <th></th>\n",
              "      <th>model_id</th>\n",
              "      <th>score_threshold</th>\n",
              "      <th>k</th>\n",
              "      <th>attribute_name</th>\n",
              "      <th>attribute_value</th>\n",
              "      <th>pp</th>\n",
              "      <th>pn</th>\n",
              "      <th>fp</th>\n",
              "      <th>fn</th>\n",
              "      <th>tn</th>\n",
              "      <th>tp</th>\n",
              "      <th>group_label_pos</th>\n",
              "      <th>group_label_neg</th>\n",
              "      <th>group_size</th>\n",
              "      <th>total_entities</th>\n",
              "    </tr>\n",
              "  </thead>\n",
              "  <tbody>\n",
              "    <tr>\n",
              "      <th>0</th>\n",
              "      <td>0</td>\n",
              "      <td>binary 0/1</td>\n",
              "      <td>2551</td>\n",
              "      <td>ethnicity</td>\n",
              "      <td>African_American</td>\n",
              "      <td>1879</td>\n",
              "      <td>1296</td>\n",
              "      <td>629</td>\n",
              "      <td>411</td>\n",
              "      <td>885</td>\n",
              "      <td>1250</td>\n",
              "      <td>1661</td>\n",
              "      <td>1514</td>\n",
              "      <td>3175</td>\n",
              "      <td>5278</td>\n",
              "    </tr>\n",
              "    <tr>\n",
              "      <th>1</th>\n",
              "      <td>0</td>\n",
              "      <td>binary 0/1</td>\n",
              "      <td>2551</td>\n",
              "      <td>ethnicity</td>\n",
              "      <td>Caucasian</td>\n",
              "      <td>672</td>\n",
              "      <td>1431</td>\n",
              "      <td>284</td>\n",
              "      <td>434</td>\n",
              "      <td>997</td>\n",
              "      <td>388</td>\n",
              "      <td>822</td>\n",
              "      <td>1281</td>\n",
              "      <td>2103</td>\n",
              "      <td>5278</td>\n",
              "    </tr>\n",
              "  </tbody>\n",
              "</table>\n",
              "</div>\n",
              "    <div class=\"colab-df-buttons\">\n",
              "\n",
              "  <div class=\"colab-df-container\">\n",
              "    <button class=\"colab-df-convert\" onclick=\"convertToInteractive('df-dcb9e671-94ac-42b2-8666-95d0457fc377')\"\n",
              "            title=\"Convert this dataframe to an interactive table.\"\n",
              "            style=\"display:none;\">\n",
              "\n",
              "  <svg xmlns=\"http://www.w3.org/2000/svg\" height=\"24px\" viewBox=\"0 -960 960 960\">\n",
              "    <path d=\"M120-120v-720h720v720H120Zm60-500h600v-160H180v160Zm220 220h160v-160H400v160Zm0 220h160v-160H400v160ZM180-400h160v-160H180v160Zm440 0h160v-160H620v160ZM180-180h160v-160H180v160Zm440 0h160v-160H620v160Z\"/>\n",
              "  </svg>\n",
              "    </button>\n",
              "\n",
              "  <style>\n",
              "    .colab-df-container {\n",
              "      display:flex;\n",
              "      gap: 12px;\n",
              "    }\n",
              "\n",
              "    .colab-df-convert {\n",
              "      background-color: #E8F0FE;\n",
              "      border: none;\n",
              "      border-radius: 50%;\n",
              "      cursor: pointer;\n",
              "      display: none;\n",
              "      fill: #1967D2;\n",
              "      height: 32px;\n",
              "      padding: 0 0 0 0;\n",
              "      width: 32px;\n",
              "    }\n",
              "\n",
              "    .colab-df-convert:hover {\n",
              "      background-color: #E2EBFA;\n",
              "      box-shadow: 0px 1px 2px rgba(60, 64, 67, 0.3), 0px 1px 3px 1px rgba(60, 64, 67, 0.15);\n",
              "      fill: #174EA6;\n",
              "    }\n",
              "\n",
              "    .colab-df-buttons div {\n",
              "      margin-bottom: 4px;\n",
              "    }\n",
              "\n",
              "    [theme=dark] .colab-df-convert {\n",
              "      background-color: #3B4455;\n",
              "      fill: #D2E3FC;\n",
              "    }\n",
              "\n",
              "    [theme=dark] .colab-df-convert:hover {\n",
              "      background-color: #434B5C;\n",
              "      box-shadow: 0px 1px 3px 1px rgba(0, 0, 0, 0.15);\n",
              "      filter: drop-shadow(0px 1px 2px rgba(0, 0, 0, 0.3));\n",
              "      fill: #FFFFFF;\n",
              "    }\n",
              "  </style>\n",
              "\n",
              "    <script>\n",
              "      const buttonEl =\n",
              "        document.querySelector('#df-dcb9e671-94ac-42b2-8666-95d0457fc377 button.colab-df-convert');\n",
              "      buttonEl.style.display =\n",
              "        google.colab.kernel.accessAllowed ? 'block' : 'none';\n",
              "\n",
              "      async function convertToInteractive(key) {\n",
              "        const element = document.querySelector('#df-dcb9e671-94ac-42b2-8666-95d0457fc377');\n",
              "        const dataTable =\n",
              "          await google.colab.kernel.invokeFunction('convertToInteractive',\n",
              "                                                    [key], {});\n",
              "        if (!dataTable) return;\n",
              "\n",
              "        const docLinkHtml = 'Like what you see? Visit the ' +\n",
              "          '<a target=\"_blank\" href=https://colab.research.google.com/notebooks/data_table.ipynb>data table notebook</a>'\n",
              "          + ' to learn more about interactive tables.';\n",
              "        element.innerHTML = '';\n",
              "        dataTable['output_type'] = 'display_data';\n",
              "        await google.colab.output.renderOutput(dataTable, element);\n",
              "        const docLink = document.createElement('div');\n",
              "        docLink.innerHTML = docLinkHtml;\n",
              "        element.appendChild(docLink);\n",
              "      }\n",
              "    </script>\n",
              "  </div>\n",
              "\n",
              "\n",
              "<div id=\"df-9a2f66b0-538a-477c-9960-26e538e29ea0\">\n",
              "  <button class=\"colab-df-quickchart\" onclick=\"quickchart('df-9a2f66b0-538a-477c-9960-26e538e29ea0')\"\n",
              "            title=\"Suggest charts\"\n",
              "            style=\"display:none;\">\n",
              "\n",
              "<svg xmlns=\"http://www.w3.org/2000/svg\" height=\"24px\"viewBox=\"0 0 24 24\"\n",
              "     width=\"24px\">\n",
              "    <g>\n",
              "        <path d=\"M19 3H5c-1.1 0-2 .9-2 2v14c0 1.1.9 2 2 2h14c1.1 0 2-.9 2-2V5c0-1.1-.9-2-2-2zM9 17H7v-7h2v7zm4 0h-2V7h2v10zm4 0h-2v-4h2v4z\"/>\n",
              "    </g>\n",
              "</svg>\n",
              "  </button>\n",
              "\n",
              "<style>\n",
              "  .colab-df-quickchart {\n",
              "      --bg-color: #E8F0FE;\n",
              "      --fill-color: #1967D2;\n",
              "      --hover-bg-color: #E2EBFA;\n",
              "      --hover-fill-color: #174EA6;\n",
              "      --disabled-fill-color: #AAA;\n",
              "      --disabled-bg-color: #DDD;\n",
              "  }\n",
              "\n",
              "  [theme=dark] .colab-df-quickchart {\n",
              "      --bg-color: #3B4455;\n",
              "      --fill-color: #D2E3FC;\n",
              "      --hover-bg-color: #434B5C;\n",
              "      --hover-fill-color: #FFFFFF;\n",
              "      --disabled-bg-color: #3B4455;\n",
              "      --disabled-fill-color: #666;\n",
              "  }\n",
              "\n",
              "  .colab-df-quickchart {\n",
              "    background-color: var(--bg-color);\n",
              "    border: none;\n",
              "    border-radius: 50%;\n",
              "    cursor: pointer;\n",
              "    display: none;\n",
              "    fill: var(--fill-color);\n",
              "    height: 32px;\n",
              "    padding: 0;\n",
              "    width: 32px;\n",
              "  }\n",
              "\n",
              "  .colab-df-quickchart:hover {\n",
              "    background-color: var(--hover-bg-color);\n",
              "    box-shadow: 0 1px 2px rgba(60, 64, 67, 0.3), 0 1px 3px 1px rgba(60, 64, 67, 0.15);\n",
              "    fill: var(--button-hover-fill-color);\n",
              "  }\n",
              "\n",
              "  .colab-df-quickchart-complete:disabled,\n",
              "  .colab-df-quickchart-complete:disabled:hover {\n",
              "    background-color: var(--disabled-bg-color);\n",
              "    fill: var(--disabled-fill-color);\n",
              "    box-shadow: none;\n",
              "  }\n",
              "\n",
              "  .colab-df-spinner {\n",
              "    border: 2px solid var(--fill-color);\n",
              "    border-color: transparent;\n",
              "    border-bottom-color: var(--fill-color);\n",
              "    animation:\n",
              "      spin 1s steps(1) infinite;\n",
              "  }\n",
              "\n",
              "  @keyframes spin {\n",
              "    0% {\n",
              "      border-color: transparent;\n",
              "      border-bottom-color: var(--fill-color);\n",
              "      border-left-color: var(--fill-color);\n",
              "    }\n",
              "    20% {\n",
              "      border-color: transparent;\n",
              "      border-left-color: var(--fill-color);\n",
              "      border-top-color: var(--fill-color);\n",
              "    }\n",
              "    30% {\n",
              "      border-color: transparent;\n",
              "      border-left-color: var(--fill-color);\n",
              "      border-top-color: var(--fill-color);\n",
              "      border-right-color: var(--fill-color);\n",
              "    }\n",
              "    40% {\n",
              "      border-color: transparent;\n",
              "      border-right-color: var(--fill-color);\n",
              "      border-top-color: var(--fill-color);\n",
              "    }\n",
              "    60% {\n",
              "      border-color: transparent;\n",
              "      border-right-color: var(--fill-color);\n",
              "    }\n",
              "    80% {\n",
              "      border-color: transparent;\n",
              "      border-right-color: var(--fill-color);\n",
              "      border-bottom-color: var(--fill-color);\n",
              "    }\n",
              "    90% {\n",
              "      border-color: transparent;\n",
              "      border-bottom-color: var(--fill-color);\n",
              "    }\n",
              "  }\n",
              "</style>\n",
              "\n",
              "  <script>\n",
              "    async function quickchart(key) {\n",
              "      const quickchartButtonEl =\n",
              "        document.querySelector('#' + key + ' button');\n",
              "      quickchartButtonEl.disabled = true;  // To prevent multiple clicks.\n",
              "      quickchartButtonEl.classList.add('colab-df-spinner');\n",
              "      try {\n",
              "        const charts = await google.colab.kernel.invokeFunction(\n",
              "            'suggestCharts', [key], {});\n",
              "      } catch (error) {\n",
              "        console.error('Error during call to suggestCharts:', error);\n",
              "      }\n",
              "      quickchartButtonEl.classList.remove('colab-df-spinner');\n",
              "      quickchartButtonEl.classList.add('colab-df-quickchart-complete');\n",
              "    }\n",
              "    (() => {\n",
              "      let quickchartButtonEl =\n",
              "        document.querySelector('#df-9a2f66b0-538a-477c-9960-26e538e29ea0 button');\n",
              "      quickchartButtonEl.style.display =\n",
              "        google.colab.kernel.accessAllowed ? 'block' : 'none';\n",
              "    })();\n",
              "  </script>\n",
              "</div>\n",
              "    </div>\n",
              "  </div>\n"
            ]
          },
          "metadata": {},
          "execution_count": 38
        }
      ]
    },
    {
      "cell_type": "code",
      "source": [
        "xtab[['attribute_name', 'attribute_value'] + absolute_metrics].round(2)"
      ],
      "metadata": {
        "id": "hfwnJnbzooy0",
        "outputId": "aea9b160-6dfb-42e5-f96e-d251fea8a409",
        "colab": {
          "base_uri": "https://localhost:8080/",
          "height": 112
        }
      },
      "execution_count": 39,
      "outputs": [
        {
          "output_type": "execute_result",
          "data": {
            "text/plain": [
              "  attribute_name   attribute_value   tpr   tnr   for   fdr   fpr   fnr   npv  \\\n",
              "0      ethnicity  African_American  0.75  0.58  0.32  0.33  0.42  0.25  0.68   \n",
              "1      ethnicity         Caucasian  0.47  0.78  0.30  0.42  0.22  0.53  0.70   \n",
              "\n",
              "   precision   ppr  pprev  prev  \n",
              "0       0.67  0.74   0.59  0.52  \n",
              "1       0.58  0.26   0.32  0.39  "
            ],
            "text/html": [
              "\n",
              "  <div id=\"df-24de80c6-1542-4433-aa60-814a7e4ce45d\" class=\"colab-df-container\">\n",
              "    <div>\n",
              "<style scoped>\n",
              "    .dataframe tbody tr th:only-of-type {\n",
              "        vertical-align: middle;\n",
              "    }\n",
              "\n",
              "    .dataframe tbody tr th {\n",
              "        vertical-align: top;\n",
              "    }\n",
              "\n",
              "    .dataframe thead th {\n",
              "        text-align: right;\n",
              "    }\n",
              "</style>\n",
              "<table border=\"1\" class=\"dataframe\">\n",
              "  <thead>\n",
              "    <tr style=\"text-align: right;\">\n",
              "      <th></th>\n",
              "      <th>attribute_name</th>\n",
              "      <th>attribute_value</th>\n",
              "      <th>tpr</th>\n",
              "      <th>tnr</th>\n",
              "      <th>for</th>\n",
              "      <th>fdr</th>\n",
              "      <th>fpr</th>\n",
              "      <th>fnr</th>\n",
              "      <th>npv</th>\n",
              "      <th>precision</th>\n",
              "      <th>ppr</th>\n",
              "      <th>pprev</th>\n",
              "      <th>prev</th>\n",
              "    </tr>\n",
              "  </thead>\n",
              "  <tbody>\n",
              "    <tr>\n",
              "      <th>0</th>\n",
              "      <td>ethnicity</td>\n",
              "      <td>African_American</td>\n",
              "      <td>0.75</td>\n",
              "      <td>0.58</td>\n",
              "      <td>0.32</td>\n",
              "      <td>0.33</td>\n",
              "      <td>0.42</td>\n",
              "      <td>0.25</td>\n",
              "      <td>0.68</td>\n",
              "      <td>0.67</td>\n",
              "      <td>0.74</td>\n",
              "      <td>0.59</td>\n",
              "      <td>0.52</td>\n",
              "    </tr>\n",
              "    <tr>\n",
              "      <th>1</th>\n",
              "      <td>ethnicity</td>\n",
              "      <td>Caucasian</td>\n",
              "      <td>0.47</td>\n",
              "      <td>0.78</td>\n",
              "      <td>0.30</td>\n",
              "      <td>0.42</td>\n",
              "      <td>0.22</td>\n",
              "      <td>0.53</td>\n",
              "      <td>0.70</td>\n",
              "      <td>0.58</td>\n",
              "      <td>0.26</td>\n",
              "      <td>0.32</td>\n",
              "      <td>0.39</td>\n",
              "    </tr>\n",
              "  </tbody>\n",
              "</table>\n",
              "</div>\n",
              "    <div class=\"colab-df-buttons\">\n",
              "\n",
              "  <div class=\"colab-df-container\">\n",
              "    <button class=\"colab-df-convert\" onclick=\"convertToInteractive('df-24de80c6-1542-4433-aa60-814a7e4ce45d')\"\n",
              "            title=\"Convert this dataframe to an interactive table.\"\n",
              "            style=\"display:none;\">\n",
              "\n",
              "  <svg xmlns=\"http://www.w3.org/2000/svg\" height=\"24px\" viewBox=\"0 -960 960 960\">\n",
              "    <path d=\"M120-120v-720h720v720H120Zm60-500h600v-160H180v160Zm220 220h160v-160H400v160Zm0 220h160v-160H400v160ZM180-400h160v-160H180v160Zm440 0h160v-160H620v160ZM180-180h160v-160H180v160Zm440 0h160v-160H620v160Z\"/>\n",
              "  </svg>\n",
              "    </button>\n",
              "\n",
              "  <style>\n",
              "    .colab-df-container {\n",
              "      display:flex;\n",
              "      gap: 12px;\n",
              "    }\n",
              "\n",
              "    .colab-df-convert {\n",
              "      background-color: #E8F0FE;\n",
              "      border: none;\n",
              "      border-radius: 50%;\n",
              "      cursor: pointer;\n",
              "      display: none;\n",
              "      fill: #1967D2;\n",
              "      height: 32px;\n",
              "      padding: 0 0 0 0;\n",
              "      width: 32px;\n",
              "    }\n",
              "\n",
              "    .colab-df-convert:hover {\n",
              "      background-color: #E2EBFA;\n",
              "      box-shadow: 0px 1px 2px rgba(60, 64, 67, 0.3), 0px 1px 3px 1px rgba(60, 64, 67, 0.15);\n",
              "      fill: #174EA6;\n",
              "    }\n",
              "\n",
              "    .colab-df-buttons div {\n",
              "      margin-bottom: 4px;\n",
              "    }\n",
              "\n",
              "    [theme=dark] .colab-df-convert {\n",
              "      background-color: #3B4455;\n",
              "      fill: #D2E3FC;\n",
              "    }\n",
              "\n",
              "    [theme=dark] .colab-df-convert:hover {\n",
              "      background-color: #434B5C;\n",
              "      box-shadow: 0px 1px 3px 1px rgba(0, 0, 0, 0.15);\n",
              "      filter: drop-shadow(0px 1px 2px rgba(0, 0, 0, 0.3));\n",
              "      fill: #FFFFFF;\n",
              "    }\n",
              "  </style>\n",
              "\n",
              "    <script>\n",
              "      const buttonEl =\n",
              "        document.querySelector('#df-24de80c6-1542-4433-aa60-814a7e4ce45d button.colab-df-convert');\n",
              "      buttonEl.style.display =\n",
              "        google.colab.kernel.accessAllowed ? 'block' : 'none';\n",
              "\n",
              "      async function convertToInteractive(key) {\n",
              "        const element = document.querySelector('#df-24de80c6-1542-4433-aa60-814a7e4ce45d');\n",
              "        const dataTable =\n",
              "          await google.colab.kernel.invokeFunction('convertToInteractive',\n",
              "                                                    [key], {});\n",
              "        if (!dataTable) return;\n",
              "\n",
              "        const docLinkHtml = 'Like what you see? Visit the ' +\n",
              "          '<a target=\"_blank\" href=https://colab.research.google.com/notebooks/data_table.ipynb>data table notebook</a>'\n",
              "          + ' to learn more about interactive tables.';\n",
              "        element.innerHTML = '';\n",
              "        dataTable['output_type'] = 'display_data';\n",
              "        await google.colab.output.renderOutput(dataTable, element);\n",
              "        const docLink = document.createElement('div');\n",
              "        docLink.innerHTML = docLinkHtml;\n",
              "        element.appendChild(docLink);\n",
              "      }\n",
              "    </script>\n",
              "  </div>\n",
              "\n",
              "\n",
              "<div id=\"df-720e08a9-afee-4f9e-882d-36d09e2e9a91\">\n",
              "  <button class=\"colab-df-quickchart\" onclick=\"quickchart('df-720e08a9-afee-4f9e-882d-36d09e2e9a91')\"\n",
              "            title=\"Suggest charts\"\n",
              "            style=\"display:none;\">\n",
              "\n",
              "<svg xmlns=\"http://www.w3.org/2000/svg\" height=\"24px\"viewBox=\"0 0 24 24\"\n",
              "     width=\"24px\">\n",
              "    <g>\n",
              "        <path d=\"M19 3H5c-1.1 0-2 .9-2 2v14c0 1.1.9 2 2 2h14c1.1 0 2-.9 2-2V5c0-1.1-.9-2-2-2zM9 17H7v-7h2v7zm4 0h-2V7h2v10zm4 0h-2v-4h2v4z\"/>\n",
              "    </g>\n",
              "</svg>\n",
              "  </button>\n",
              "\n",
              "<style>\n",
              "  .colab-df-quickchart {\n",
              "      --bg-color: #E8F0FE;\n",
              "      --fill-color: #1967D2;\n",
              "      --hover-bg-color: #E2EBFA;\n",
              "      --hover-fill-color: #174EA6;\n",
              "      --disabled-fill-color: #AAA;\n",
              "      --disabled-bg-color: #DDD;\n",
              "  }\n",
              "\n",
              "  [theme=dark] .colab-df-quickchart {\n",
              "      --bg-color: #3B4455;\n",
              "      --fill-color: #D2E3FC;\n",
              "      --hover-bg-color: #434B5C;\n",
              "      --hover-fill-color: #FFFFFF;\n",
              "      --disabled-bg-color: #3B4455;\n",
              "      --disabled-fill-color: #666;\n",
              "  }\n",
              "\n",
              "  .colab-df-quickchart {\n",
              "    background-color: var(--bg-color);\n",
              "    border: none;\n",
              "    border-radius: 50%;\n",
              "    cursor: pointer;\n",
              "    display: none;\n",
              "    fill: var(--fill-color);\n",
              "    height: 32px;\n",
              "    padding: 0;\n",
              "    width: 32px;\n",
              "  }\n",
              "\n",
              "  .colab-df-quickchart:hover {\n",
              "    background-color: var(--hover-bg-color);\n",
              "    box-shadow: 0 1px 2px rgba(60, 64, 67, 0.3), 0 1px 3px 1px rgba(60, 64, 67, 0.15);\n",
              "    fill: var(--button-hover-fill-color);\n",
              "  }\n",
              "\n",
              "  .colab-df-quickchart-complete:disabled,\n",
              "  .colab-df-quickchart-complete:disabled:hover {\n",
              "    background-color: var(--disabled-bg-color);\n",
              "    fill: var(--disabled-fill-color);\n",
              "    box-shadow: none;\n",
              "  }\n",
              "\n",
              "  .colab-df-spinner {\n",
              "    border: 2px solid var(--fill-color);\n",
              "    border-color: transparent;\n",
              "    border-bottom-color: var(--fill-color);\n",
              "    animation:\n",
              "      spin 1s steps(1) infinite;\n",
              "  }\n",
              "\n",
              "  @keyframes spin {\n",
              "    0% {\n",
              "      border-color: transparent;\n",
              "      border-bottom-color: var(--fill-color);\n",
              "      border-left-color: var(--fill-color);\n",
              "    }\n",
              "    20% {\n",
              "      border-color: transparent;\n",
              "      border-left-color: var(--fill-color);\n",
              "      border-top-color: var(--fill-color);\n",
              "    }\n",
              "    30% {\n",
              "      border-color: transparent;\n",
              "      border-left-color: var(--fill-color);\n",
              "      border-top-color: var(--fill-color);\n",
              "      border-right-color: var(--fill-color);\n",
              "    }\n",
              "    40% {\n",
              "      border-color: transparent;\n",
              "      border-right-color: var(--fill-color);\n",
              "      border-top-color: var(--fill-color);\n",
              "    }\n",
              "    60% {\n",
              "      border-color: transparent;\n",
              "      border-right-color: var(--fill-color);\n",
              "    }\n",
              "    80% {\n",
              "      border-color: transparent;\n",
              "      border-right-color: var(--fill-color);\n",
              "      border-bottom-color: var(--fill-color);\n",
              "    }\n",
              "    90% {\n",
              "      border-color: transparent;\n",
              "      border-bottom-color: var(--fill-color);\n",
              "    }\n",
              "  }\n",
              "</style>\n",
              "\n",
              "  <script>\n",
              "    async function quickchart(key) {\n",
              "      const quickchartButtonEl =\n",
              "        document.querySelector('#' + key + ' button');\n",
              "      quickchartButtonEl.disabled = true;  // To prevent multiple clicks.\n",
              "      quickchartButtonEl.classList.add('colab-df-spinner');\n",
              "      try {\n",
              "        const charts = await google.colab.kernel.invokeFunction(\n",
              "            'suggestCharts', [key], {});\n",
              "      } catch (error) {\n",
              "        console.error('Error during call to suggestCharts:', error);\n",
              "      }\n",
              "      quickchartButtonEl.classList.remove('colab-df-spinner');\n",
              "      quickchartButtonEl.classList.add('colab-df-quickchart-complete');\n",
              "    }\n",
              "    (() => {\n",
              "      let quickchartButtonEl =\n",
              "        document.querySelector('#df-720e08a9-afee-4f9e-882d-36d09e2e9a91 button');\n",
              "      quickchartButtonEl.style.display =\n",
              "        google.colab.kernel.accessAllowed ? 'block' : 'none';\n",
              "    })();\n",
              "  </script>\n",
              "</div>\n",
              "    </div>\n",
              "  </div>\n"
            ]
          },
          "metadata": {},
          "execution_count": 39
        }
      ]
    },
    {
      "cell_type": "markdown",
      "source": [
        "### Bias Analyses"
      ],
      "metadata": {
        "id": "euOXY-KVtM-v"
      }
    },
    {
      "cell_type": "markdown",
      "source": [
        "We can now obtain bias outcomes, where we have to define a reference group. Here we use the Caucasian subgroup."
      ],
      "metadata": {
        "id": "JSVGUxsNtQoX"
      }
    },
    {
      "cell_type": "code",
      "source": [
        "b = Bias()\n",
        "bdf = b.get_disparity_predefined_groups(xtab, original_df=dat,\n",
        "                                        ref_groups_dict={'ethnicity':'Caucasian'},\n",
        "                                        alpha=0.05, check_significance=True,\n",
        "                                        mask_significance=True)\n",
        "bdf.style"
      ],
      "metadata": {
        "id": "q6MS6HzzqbJ4",
        "outputId": "278e0ee6-869d-413e-a6cd-c3c8d6f5132e",
        "colab": {
          "base_uri": "https://localhost:8080/",
          "height": 149
        }
      },
      "execution_count": 40,
      "outputs": [
        {
          "output_type": "stream",
          "name": "stdout",
          "text": [
            "get_disparity_predefined_group()\n"
          ]
        },
        {
          "output_type": "execute_result",
          "data": {
            "text/plain": [
              "<pandas.io.formats.style.Styler at 0x7a28398fc580>"
            ],
            "text/html": [
              "<style type=\"text/css\">\n",
              "</style>\n",
              "<table id=\"T_dda85\" class=\"dataframe\">\n",
              "  <thead>\n",
              "    <tr>\n",
              "      <th class=\"blank level0\" >&nbsp;</th>\n",
              "      <th id=\"T_dda85_level0_col0\" class=\"col_heading level0 col0\" >model_id</th>\n",
              "      <th id=\"T_dda85_level0_col1\" class=\"col_heading level0 col1\" >score_threshold</th>\n",
              "      <th id=\"T_dda85_level0_col2\" class=\"col_heading level0 col2\" >k</th>\n",
              "      <th id=\"T_dda85_level0_col3\" class=\"col_heading level0 col3\" >attribute_name</th>\n",
              "      <th id=\"T_dda85_level0_col4\" class=\"col_heading level0 col4\" >attribute_value</th>\n",
              "      <th id=\"T_dda85_level0_col5\" class=\"col_heading level0 col5\" >tpr</th>\n",
              "      <th id=\"T_dda85_level0_col6\" class=\"col_heading level0 col6\" >tnr</th>\n",
              "      <th id=\"T_dda85_level0_col7\" class=\"col_heading level0 col7\" >for</th>\n",
              "      <th id=\"T_dda85_level0_col8\" class=\"col_heading level0 col8\" >fdr</th>\n",
              "      <th id=\"T_dda85_level0_col9\" class=\"col_heading level0 col9\" >fpr</th>\n",
              "      <th id=\"T_dda85_level0_col10\" class=\"col_heading level0 col10\" >fnr</th>\n",
              "      <th id=\"T_dda85_level0_col11\" class=\"col_heading level0 col11\" >npv</th>\n",
              "      <th id=\"T_dda85_level0_col12\" class=\"col_heading level0 col12\" >precision</th>\n",
              "      <th id=\"T_dda85_level0_col13\" class=\"col_heading level0 col13\" >pp</th>\n",
              "      <th id=\"T_dda85_level0_col14\" class=\"col_heading level0 col14\" >pn</th>\n",
              "      <th id=\"T_dda85_level0_col15\" class=\"col_heading level0 col15\" >ppr</th>\n",
              "      <th id=\"T_dda85_level0_col16\" class=\"col_heading level0 col16\" >pprev</th>\n",
              "      <th id=\"T_dda85_level0_col17\" class=\"col_heading level0 col17\" >fp</th>\n",
              "      <th id=\"T_dda85_level0_col18\" class=\"col_heading level0 col18\" >fn</th>\n",
              "      <th id=\"T_dda85_level0_col19\" class=\"col_heading level0 col19\" >tn</th>\n",
              "      <th id=\"T_dda85_level0_col20\" class=\"col_heading level0 col20\" >tp</th>\n",
              "      <th id=\"T_dda85_level0_col21\" class=\"col_heading level0 col21\" >group_label_pos</th>\n",
              "      <th id=\"T_dda85_level0_col22\" class=\"col_heading level0 col22\" >group_label_neg</th>\n",
              "      <th id=\"T_dda85_level0_col23\" class=\"col_heading level0 col23\" >group_size</th>\n",
              "      <th id=\"T_dda85_level0_col24\" class=\"col_heading level0 col24\" >total_entities</th>\n",
              "      <th id=\"T_dda85_level0_col25\" class=\"col_heading level0 col25\" >prev</th>\n",
              "      <th id=\"T_dda85_level0_col26\" class=\"col_heading level0 col26\" >label_value_significance</th>\n",
              "      <th id=\"T_dda85_level0_col27\" class=\"col_heading level0 col27\" >score_significance</th>\n",
              "      <th id=\"T_dda85_level0_col28\" class=\"col_heading level0 col28\" >fdr_disparity</th>\n",
              "      <th id=\"T_dda85_level0_col29\" class=\"col_heading level0 col29\" >fdr_ref_group_value</th>\n",
              "      <th id=\"T_dda85_level0_col30\" class=\"col_heading level0 col30\" >fdr_significance</th>\n",
              "      <th id=\"T_dda85_level0_col31\" class=\"col_heading level0 col31\" >fnr_disparity</th>\n",
              "      <th id=\"T_dda85_level0_col32\" class=\"col_heading level0 col32\" >fnr_ref_group_value</th>\n",
              "      <th id=\"T_dda85_level0_col33\" class=\"col_heading level0 col33\" >fnr_significance</th>\n",
              "      <th id=\"T_dda85_level0_col34\" class=\"col_heading level0 col34\" >for_disparity</th>\n",
              "      <th id=\"T_dda85_level0_col35\" class=\"col_heading level0 col35\" >for_ref_group_value</th>\n",
              "      <th id=\"T_dda85_level0_col36\" class=\"col_heading level0 col36\" >for_significance</th>\n",
              "      <th id=\"T_dda85_level0_col37\" class=\"col_heading level0 col37\" >fpr_disparity</th>\n",
              "      <th id=\"T_dda85_level0_col38\" class=\"col_heading level0 col38\" >fpr_ref_group_value</th>\n",
              "      <th id=\"T_dda85_level0_col39\" class=\"col_heading level0 col39\" >fpr_significance</th>\n",
              "      <th id=\"T_dda85_level0_col40\" class=\"col_heading level0 col40\" >npv_disparity</th>\n",
              "      <th id=\"T_dda85_level0_col41\" class=\"col_heading level0 col41\" >npv_ref_group_value</th>\n",
              "      <th id=\"T_dda85_level0_col42\" class=\"col_heading level0 col42\" >npv_significance</th>\n",
              "      <th id=\"T_dda85_level0_col43\" class=\"col_heading level0 col43\" >ppr_disparity</th>\n",
              "      <th id=\"T_dda85_level0_col44\" class=\"col_heading level0 col44\" >ppr_ref_group_value</th>\n",
              "      <th id=\"T_dda85_level0_col45\" class=\"col_heading level0 col45\" >ppr_significance</th>\n",
              "      <th id=\"T_dda85_level0_col46\" class=\"col_heading level0 col46\" >pprev_disparity</th>\n",
              "      <th id=\"T_dda85_level0_col47\" class=\"col_heading level0 col47\" >pprev_ref_group_value</th>\n",
              "      <th id=\"T_dda85_level0_col48\" class=\"col_heading level0 col48\" >pprev_significance</th>\n",
              "      <th id=\"T_dda85_level0_col49\" class=\"col_heading level0 col49\" >precision_disparity</th>\n",
              "      <th id=\"T_dda85_level0_col50\" class=\"col_heading level0 col50\" >precision_ref_group_value</th>\n",
              "      <th id=\"T_dda85_level0_col51\" class=\"col_heading level0 col51\" >precision_significance</th>\n",
              "      <th id=\"T_dda85_level0_col52\" class=\"col_heading level0 col52\" >tnr_disparity</th>\n",
              "      <th id=\"T_dda85_level0_col53\" class=\"col_heading level0 col53\" >tnr_ref_group_value</th>\n",
              "      <th id=\"T_dda85_level0_col54\" class=\"col_heading level0 col54\" >tnr_significance</th>\n",
              "      <th id=\"T_dda85_level0_col55\" class=\"col_heading level0 col55\" >tpr_disparity</th>\n",
              "      <th id=\"T_dda85_level0_col56\" class=\"col_heading level0 col56\" >tpr_ref_group_value</th>\n",
              "      <th id=\"T_dda85_level0_col57\" class=\"col_heading level0 col57\" >tpr_significance</th>\n",
              "    </tr>\n",
              "  </thead>\n",
              "  <tbody>\n",
              "    <tr>\n",
              "      <th id=\"T_dda85_level0_row0\" class=\"row_heading level0 row0\" >0</th>\n",
              "      <td id=\"T_dda85_row0_col0\" class=\"data row0 col0\" >0</td>\n",
              "      <td id=\"T_dda85_row0_col1\" class=\"data row0 col1\" >binary 0/1</td>\n",
              "      <td id=\"T_dda85_row0_col2\" class=\"data row0 col2\" >2551</td>\n",
              "      <td id=\"T_dda85_row0_col3\" class=\"data row0 col3\" >ethnicity</td>\n",
              "      <td id=\"T_dda85_row0_col4\" class=\"data row0 col4\" >African_American</td>\n",
              "      <td id=\"T_dda85_row0_col5\" class=\"data row0 col5\" >0.752559</td>\n",
              "      <td id=\"T_dda85_row0_col6\" class=\"data row0 col6\" >0.584544</td>\n",
              "      <td id=\"T_dda85_row0_col7\" class=\"data row0 col7\" >0.317130</td>\n",
              "      <td id=\"T_dda85_row0_col8\" class=\"data row0 col8\" >0.334753</td>\n",
              "      <td id=\"T_dda85_row0_col9\" class=\"data row0 col9\" >0.415456</td>\n",
              "      <td id=\"T_dda85_row0_col10\" class=\"data row0 col10\" >0.247441</td>\n",
              "      <td id=\"T_dda85_row0_col11\" class=\"data row0 col11\" >0.682870</td>\n",
              "      <td id=\"T_dda85_row0_col12\" class=\"data row0 col12\" >0.665247</td>\n",
              "      <td id=\"T_dda85_row0_col13\" class=\"data row0 col13\" >1879</td>\n",
              "      <td id=\"T_dda85_row0_col14\" class=\"data row0 col14\" >1296</td>\n",
              "      <td id=\"T_dda85_row0_col15\" class=\"data row0 col15\" >0.736574</td>\n",
              "      <td id=\"T_dda85_row0_col16\" class=\"data row0 col16\" >0.591811</td>\n",
              "      <td id=\"T_dda85_row0_col17\" class=\"data row0 col17\" >629</td>\n",
              "      <td id=\"T_dda85_row0_col18\" class=\"data row0 col18\" >411</td>\n",
              "      <td id=\"T_dda85_row0_col19\" class=\"data row0 col19\" >885</td>\n",
              "      <td id=\"T_dda85_row0_col20\" class=\"data row0 col20\" >1250</td>\n",
              "      <td id=\"T_dda85_row0_col21\" class=\"data row0 col21\" >1661</td>\n",
              "      <td id=\"T_dda85_row0_col22\" class=\"data row0 col22\" >1514</td>\n",
              "      <td id=\"T_dda85_row0_col23\" class=\"data row0 col23\" >3175</td>\n",
              "      <td id=\"T_dda85_row0_col24\" class=\"data row0 col24\" >5278</td>\n",
              "      <td id=\"T_dda85_row0_col25\" class=\"data row0 col25\" >0.523150</td>\n",
              "      <td id=\"T_dda85_row0_col26\" class=\"data row0 col26\" >True</td>\n",
              "      <td id=\"T_dda85_row0_col27\" class=\"data row0 col27\" >True</td>\n",
              "      <td id=\"T_dda85_row0_col28\" class=\"data row0 col28\" >0.792090</td>\n",
              "      <td id=\"T_dda85_row0_col29\" class=\"data row0 col29\" >Caucasian</td>\n",
              "      <td id=\"T_dda85_row0_col30\" class=\"data row0 col30\" >True</td>\n",
              "      <td id=\"T_dda85_row0_col31\" class=\"data row0 col31\" >0.468656</td>\n",
              "      <td id=\"T_dda85_row0_col32\" class=\"data row0 col32\" >Caucasian</td>\n",
              "      <td id=\"T_dda85_row0_col33\" class=\"data row0 col33\" >False</td>\n",
              "      <td id=\"T_dda85_row0_col34\" class=\"data row0 col34\" >1.045651</td>\n",
              "      <td id=\"T_dda85_row0_col35\" class=\"data row0 col35\" >Caucasian</td>\n",
              "      <td id=\"T_dda85_row0_col36\" class=\"data row0 col36\" >False</td>\n",
              "      <td id=\"T_dda85_row0_col37\" class=\"data row0 col37\" >1.873939</td>\n",
              "      <td id=\"T_dda85_row0_col38\" class=\"data row0 col38\" >Caucasian</td>\n",
              "      <td id=\"T_dda85_row0_col39\" class=\"data row0 col39\" >True</td>\n",
              "      <td id=\"T_dda85_row0_col40\" class=\"data row0 col40\" >0.980128</td>\n",
              "      <td id=\"T_dda85_row0_col41\" class=\"data row0 col41\" >Caucasian</td>\n",
              "      <td id=\"T_dda85_row0_col42\" class=\"data row0 col42\" >False</td>\n",
              "      <td id=\"T_dda85_row0_col43\" class=\"data row0 col43\" >2.796131</td>\n",
              "      <td id=\"T_dda85_row0_col44\" class=\"data row0 col44\" >Caucasian</td>\n",
              "      <td id=\"T_dda85_row0_col45\" class=\"data row0 col45\" >True</td>\n",
              "      <td id=\"T_dda85_row0_col46\" class=\"data row0 col46\" >1.852051</td>\n",
              "      <td id=\"T_dda85_row0_col47\" class=\"data row0 col47\" >Caucasian</td>\n",
              "      <td id=\"T_dda85_row0_col48\" class=\"data row0 col48\" >True</td>\n",
              "      <td id=\"T_dda85_row0_col49\" class=\"data row0 col49\" >1.152181</td>\n",
              "      <td id=\"T_dda85_row0_col50\" class=\"data row0 col50\" >Caucasian</td>\n",
              "      <td id=\"T_dda85_row0_col51\" class=\"data row0 col51\" >True</td>\n",
              "      <td id=\"T_dda85_row0_col52\" class=\"data row0 col52\" >0.751054</td>\n",
              "      <td id=\"T_dda85_row0_col53\" class=\"data row0 col53\" >Caucasian</td>\n",
              "      <td id=\"T_dda85_row0_col54\" class=\"data row0 col54\" >True</td>\n",
              "      <td id=\"T_dda85_row0_col55\" class=\"data row0 col55\" >1.594338</td>\n",
              "      <td id=\"T_dda85_row0_col56\" class=\"data row0 col56\" >Caucasian</td>\n",
              "      <td id=\"T_dda85_row0_col57\" class=\"data row0 col57\" >False</td>\n",
              "    </tr>\n",
              "    <tr>\n",
              "      <th id=\"T_dda85_level0_row1\" class=\"row_heading level0 row1\" >1</th>\n",
              "      <td id=\"T_dda85_row1_col0\" class=\"data row1 col0\" >0</td>\n",
              "      <td id=\"T_dda85_row1_col1\" class=\"data row1 col1\" >binary 0/1</td>\n",
              "      <td id=\"T_dda85_row1_col2\" class=\"data row1 col2\" >2551</td>\n",
              "      <td id=\"T_dda85_row1_col3\" class=\"data row1 col3\" >ethnicity</td>\n",
              "      <td id=\"T_dda85_row1_col4\" class=\"data row1 col4\" >Caucasian</td>\n",
              "      <td id=\"T_dda85_row1_col5\" class=\"data row1 col5\" >0.472019</td>\n",
              "      <td id=\"T_dda85_row1_col6\" class=\"data row1 col6\" >0.778298</td>\n",
              "      <td id=\"T_dda85_row1_col7\" class=\"data row1 col7\" >0.303284</td>\n",
              "      <td id=\"T_dda85_row1_col8\" class=\"data row1 col8\" >0.422619</td>\n",
              "      <td id=\"T_dda85_row1_col9\" class=\"data row1 col9\" >0.221702</td>\n",
              "      <td id=\"T_dda85_row1_col10\" class=\"data row1 col10\" >0.527981</td>\n",
              "      <td id=\"T_dda85_row1_col11\" class=\"data row1 col11\" >0.696716</td>\n",
              "      <td id=\"T_dda85_row1_col12\" class=\"data row1 col12\" >0.577381</td>\n",
              "      <td id=\"T_dda85_row1_col13\" class=\"data row1 col13\" >672</td>\n",
              "      <td id=\"T_dda85_row1_col14\" class=\"data row1 col14\" >1431</td>\n",
              "      <td id=\"T_dda85_row1_col15\" class=\"data row1 col15\" >0.263426</td>\n",
              "      <td id=\"T_dda85_row1_col16\" class=\"data row1 col16\" >0.319544</td>\n",
              "      <td id=\"T_dda85_row1_col17\" class=\"data row1 col17\" >284</td>\n",
              "      <td id=\"T_dda85_row1_col18\" class=\"data row1 col18\" >434</td>\n",
              "      <td id=\"T_dda85_row1_col19\" class=\"data row1 col19\" >997</td>\n",
              "      <td id=\"T_dda85_row1_col20\" class=\"data row1 col20\" >388</td>\n",
              "      <td id=\"T_dda85_row1_col21\" class=\"data row1 col21\" >822</td>\n",
              "      <td id=\"T_dda85_row1_col22\" class=\"data row1 col22\" >1281</td>\n",
              "      <td id=\"T_dda85_row1_col23\" class=\"data row1 col23\" >2103</td>\n",
              "      <td id=\"T_dda85_row1_col24\" class=\"data row1 col24\" >5278</td>\n",
              "      <td id=\"T_dda85_row1_col25\" class=\"data row1 col25\" >0.390870</td>\n",
              "      <td id=\"T_dda85_row1_col26\" class=\"data row1 col26\" >False</td>\n",
              "      <td id=\"T_dda85_row1_col27\" class=\"data row1 col27\" >False</td>\n",
              "      <td id=\"T_dda85_row1_col28\" class=\"data row1 col28\" >1.000000</td>\n",
              "      <td id=\"T_dda85_row1_col29\" class=\"data row1 col29\" >Caucasian</td>\n",
              "      <td id=\"T_dda85_row1_col30\" class=\"data row1 col30\" >False</td>\n",
              "      <td id=\"T_dda85_row1_col31\" class=\"data row1 col31\" >1.000000</td>\n",
              "      <td id=\"T_dda85_row1_col32\" class=\"data row1 col32\" >Caucasian</td>\n",
              "      <td id=\"T_dda85_row1_col33\" class=\"data row1 col33\" >False</td>\n",
              "      <td id=\"T_dda85_row1_col34\" class=\"data row1 col34\" >1.000000</td>\n",
              "      <td id=\"T_dda85_row1_col35\" class=\"data row1 col35\" >Caucasian</td>\n",
              "      <td id=\"T_dda85_row1_col36\" class=\"data row1 col36\" >False</td>\n",
              "      <td id=\"T_dda85_row1_col37\" class=\"data row1 col37\" >1.000000</td>\n",
              "      <td id=\"T_dda85_row1_col38\" class=\"data row1 col38\" >Caucasian</td>\n",
              "      <td id=\"T_dda85_row1_col39\" class=\"data row1 col39\" >False</td>\n",
              "      <td id=\"T_dda85_row1_col40\" class=\"data row1 col40\" >1.000000</td>\n",
              "      <td id=\"T_dda85_row1_col41\" class=\"data row1 col41\" >Caucasian</td>\n",
              "      <td id=\"T_dda85_row1_col42\" class=\"data row1 col42\" >False</td>\n",
              "      <td id=\"T_dda85_row1_col43\" class=\"data row1 col43\" >1.000000</td>\n",
              "      <td id=\"T_dda85_row1_col44\" class=\"data row1 col44\" >Caucasian</td>\n",
              "      <td id=\"T_dda85_row1_col45\" class=\"data row1 col45\" >False</td>\n",
              "      <td id=\"T_dda85_row1_col46\" class=\"data row1 col46\" >1.000000</td>\n",
              "      <td id=\"T_dda85_row1_col47\" class=\"data row1 col47\" >Caucasian</td>\n",
              "      <td id=\"T_dda85_row1_col48\" class=\"data row1 col48\" >False</td>\n",
              "      <td id=\"T_dda85_row1_col49\" class=\"data row1 col49\" >1.000000</td>\n",
              "      <td id=\"T_dda85_row1_col50\" class=\"data row1 col50\" >Caucasian</td>\n",
              "      <td id=\"T_dda85_row1_col51\" class=\"data row1 col51\" >False</td>\n",
              "      <td id=\"T_dda85_row1_col52\" class=\"data row1 col52\" >1.000000</td>\n",
              "      <td id=\"T_dda85_row1_col53\" class=\"data row1 col53\" >Caucasian</td>\n",
              "      <td id=\"T_dda85_row1_col54\" class=\"data row1 col54\" >False</td>\n",
              "      <td id=\"T_dda85_row1_col55\" class=\"data row1 col55\" >1.000000</td>\n",
              "      <td id=\"T_dda85_row1_col56\" class=\"data row1 col56\" >Caucasian</td>\n",
              "      <td id=\"T_dda85_row1_col57\" class=\"data row1 col57\" >False</td>\n",
              "    </tr>\n",
              "  </tbody>\n",
              "</table>\n"
            ]
          },
          "metadata": {},
          "execution_count": 40
        }
      ]
    },
    {
      "cell_type": "markdown",
      "source": [
        "We can use a variety of metrics. Given the discussion above, we use false positive rate (FPR):"
      ],
      "metadata": {
        "id": "EAiatc3-texH"
      }
    },
    {
      "cell_type": "code",
      "source": [
        "metrics = ['fpr']\n",
        "disparity_tolerance = 1.25"
      ],
      "metadata": {
        "id": "8gMEIRpFq2iq"
      },
      "execution_count": 41,
      "outputs": []
    },
    {
      "cell_type": "markdown",
      "source": [
        "Let's visualize:"
      ],
      "metadata": {
        "id": "QP2IBbNrtod8"
      }
    },
    {
      "cell_type": "code",
      "source": [
        "ap.summary(bdf, metrics, fairness_threshold = disparity_tolerance)"
      ],
      "metadata": {
        "id": "lhfGKSN0q4ze",
        "outputId": "e7dbdeeb-23b6-453b-f40a-cf1d989e6898",
        "colab": {
          "base_uri": "https://localhost:8080/",
          "height": 273
        }
      },
      "execution_count": 42,
      "outputs": [
        {
          "output_type": "stream",
          "name": "stderr",
          "text": [
            "/usr/local/lib/python3.10/dist-packages/altair/utils/core.py:283: FutureWarning: iteritems is deprecated and will be removed in a future version. Use .items instead.\n",
            "  for col_name, dtype in df.dtypes.iteritems():\n"
          ]
        },
        {
          "output_type": "execute_result",
          "data": {
            "text/html": [
              "\n",
              "<div id=\"altair-viz-fabef12de90349b9b4a0fe5ef8c8b63e\"></div>\n",
              "<script type=\"text/javascript\">\n",
              "  (function(spec, embedOpt){\n",
              "    let outputDiv = document.currentScript.previousElementSibling;\n",
              "    if (outputDiv.id !== \"altair-viz-fabef12de90349b9b4a0fe5ef8c8b63e\") {\n",
              "      outputDiv = document.getElementById(\"altair-viz-fabef12de90349b9b4a0fe5ef8c8b63e\");\n",
              "    }\n",
              "    const paths = {\n",
              "      \"vega\": \"https://cdn.jsdelivr.net/npm//vega@5?noext\",\n",
              "      \"vega-lib\": \"https://cdn.jsdelivr.net/npm//vega-lib?noext\",\n",
              "      \"vega-lite\": \"https://cdn.jsdelivr.net/npm//vega-lite@4.8.1?noext\",\n",
              "      \"vega-embed\": \"https://cdn.jsdelivr.net/npm//vega-embed@6?noext\",\n",
              "    };\n",
              "\n",
              "    function loadScript(lib) {\n",
              "      return new Promise(function(resolve, reject) {\n",
              "        var s = document.createElement('script');\n",
              "        s.src = paths[lib];\n",
              "        s.async = true;\n",
              "        s.onload = () => resolve(paths[lib]);\n",
              "        s.onerror = () => reject(`Error loading script: ${paths[lib]}`);\n",
              "        document.getElementsByTagName(\"head\")[0].appendChild(s);\n",
              "      });\n",
              "    }\n",
              "\n",
              "    function showError(err) {\n",
              "      outputDiv.innerHTML = `<div class=\"error\" style=\"color:red;\">${err}</div>`;\n",
              "      throw err;\n",
              "    }\n",
              "\n",
              "    function displayChart(vegaEmbed) {\n",
              "      vegaEmbed(outputDiv, spec, embedOpt)\n",
              "        .catch(err => showError(`Javascript Error: ${err.message}<br>This usually means there's a typo in your chart specification. See the javascript console for the full traceback.`));\n",
              "    }\n",
              "\n",
              "    if(typeof define === \"function\" && define.amd) {\n",
              "      requirejs.config({paths});\n",
              "      require([\"vega-embed\"], displayChart, err => showError(`Error loading script: ${err.message}`));\n",
              "    } else if (typeof vegaEmbed === \"function\") {\n",
              "      displayChart(vegaEmbed);\n",
              "    } else {\n",
              "      loadScript(\"vega\")\n",
              "        .then(() => loadScript(\"vega-lite\"))\n",
              "        .then(() => loadScript(\"vega-embed\"))\n",
              "        .catch(showError)\n",
              "        .then(() => displayChart(vegaEmbed));\n",
              "    }\n",
              "  })({\"config\": {\"view\": {\"continuousWidth\": 400, \"continuousHeight\": 300, \"strokeWidth\": 0}, \"legend\": {\"labelColor\": \"rgb(117,117,117)\", \"labelFont\": \"Arial\", \"labelFontSize\": 12, \"titleColor\": \"rgb(117,117,117)\", \"titleFont\": \"Arial\", \"titleFontSize\": 14, \"titleFontWeight\": \"normal\", \"titlePadding\": 15}}, \"vconcat\": [{\"hconcat\": [{\"vconcat\": [{\"mark\": {\"type\": \"text\", \"align\": \"center\", \"baseline\": \"middle\", \"color\": \"rgb(117,117,117)\", \"font\": \"Arial\", \"fontWeight\": \"bold\", \"size\": 14}, \"encoding\": {\"text\": {\"value\": \"\"}}, \"height\": 19.5, \"width\": 32.0}, {\"layer\": [{\"mark\": {\"type\": \"text\", \"align\": \"center\", \"baseline\": \"middle\", \"color\": \"rgb(117,117,117)\", \"font\": \"Arial\", \"fontWeight\": \"bold\", \"size\": 14}, \"encoding\": {\"text\": {\"value\": \"FPR\"}, \"y\": {\"type\": \"quantitative\", \"axis\": {\"domain\": false, \"grid\": false, \"labels\": false, \"ticks\": false, \"title\": \" \"}, \"field\": \"y_position\", \"scale\": {\"domain\": [3, 1]}}}, \"transform\": [{\"calculate\": \"1.2\", \"as\": \"y_position\"}]}, {\"mark\": {\"type\": \"text\", \"align\": \"center\", \"baseline\": \"middle\", \"color\": \"rgb(117,117,117)\", \"font\": \"Arial\", \"size\": 12}, \"encoding\": {\"text\": {\"value\": \"Groups\"}, \"y\": {\"type\": \"quantitative\", \"axis\": {\"domain\": false, \"grid\": false, \"labels\": false, \"ticks\": false, \"title\": \" \"}, \"field\": \"y_position\", \"scale\": {\"domain\": [3, 1]}}}, \"transform\": [{\"calculate\": \"2\", \"as\": \"y_position\"}]}, {\"mark\": {\"type\": \"text\", \"align\": \"center\", \"baseline\": \"middle\", \"color\": \"rgb(117,117,117)\", \"font\": \"Arial\", \"size\": 12}, \"encoding\": {\"text\": {\"value\": \"% Pop.\"}, \"y\": {\"type\": \"quantitative\", \"axis\": {\"domain\": false, \"grid\": false, \"labels\": false, \"ticks\": false, \"title\": \" \"}, \"field\": \"y_position\", \"scale\": {\"domain\": [3, 1]}}}, \"transform\": [{\"calculate\": \"2.7\", \"as\": \"y_position\"}]}], \"height\": 84.5, \"width\": 32.0}], \"bounds\": \"flush\", \"data\": {\"name\": \"data-79dd248bdaa0ea02c535240e8ad022c8\"}, \"spacing\": 26.0}, {\"hconcat\": [{\"vconcat\": [{\"data\": {\"name\": \"data-79dd248bdaa0ea02c535240e8ad022c8\"}, \"mark\": {\"type\": \"text\", \"align\": \"center\", \"baseline\": \"middle\", \"color\": \"rgb(117,117,117)\", \"font\": \"Arial\", \"fontWeight\": \"bold\", \"size\": 14}, \"encoding\": {\"text\": {\"value\": \"Ethnicity\"}}, \"height\": 19.5, \"width\": 240.0}, {\"layer\": [{\"data\": {\"name\": \"data-0648884f34076ca4404072fa7f837079\"}, \"mark\": {\"type\": \"text\", \"align\": \"center\", \"baseline\": \"middle\", \"font\": \"Arial\", \"fontWeight\": \"bold\", \"size\": 20}, \"encoding\": {\"color\": {\"type\": \"ordinal\", \"field\": \"parity_result\", \"legend\": {\"title\": \"\"}, \"scale\": {\"domain\": [\"Reference\", \"Pass\", \"Fail\"], \"range\": [\"rgb(117,117,117)\", \"rgb(20, 152, 181)\", \"rgb(217, 46, 28)\"]}}, \"text\": {\"value\": \"FAIL\"}, \"y\": {\"type\": \"quantitative\", \"axis\": {\"domain\": false, \"grid\": false, \"labels\": false, \"ticks\": false, \"title\": \" \"}, \"field\": \"y_position\", \"scale\": {\"domain\": [3, 1]}}}, \"transform\": [{\"calculate\": \"1\", \"as\": \"y_position\"}]}, {\"data\": {\"name\": \"data-1cbcff3e50558dbf881b556339d44bc2\"}, \"mark\": {\"type\": \"bar\", \"size\": 6, \"stroke\": \"white\"}, \"encoding\": {\"color\": {\"type\": \"ordinal\", \"field\": \"fpr_parity_result\", \"legend\": {\"padding\": 20, \"title\": \"Parity Test\"}, \"scale\": {\"domain\": [\"Reference\", \"Pass\", \"Fail\"], \"range\": [\"rgb(117,117,117)\", \"rgb(20, 152, 181)\", \"rgb(217, 46, 28)\"]}}, \"tooltip\": [{\"type\": \"nominal\", \"field\": \"fpr_parity_result\", \"title\": \"Parity\"}, {\"type\": \"nominal\", \"field\": \"tooltip_group_size\", \"title\": \"Size\"}, {\"type\": \"nominal\", \"field\": \"tooltip_groups_name_size\", \"title\": \"Groups\"}], \"x\": {\"type\": \"quantitative\", \"aggregate\": \"sum\", \"axis\": {\"domain\": false, \"grid\": false, \"labels\": false, \"ticks\": false, \"title\": \" \"}, \"field\": \"group_size\", \"stack\": \"normalize\"}, \"y\": {\"type\": \"quantitative\", \"axis\": {\"domain\": false, \"grid\": false, \"labels\": false, \"ticks\": false, \"title\": \" \"}, \"field\": \"y_position\", \"scale\": {\"domain\": [3, 1]}}}, \"transform\": [{\"calculate\": \"2.8\", \"as\": \"y_position\"}]}, {\"data\": {\"name\": \"data-72041064be5d5ba87e90a7c99602b2a9\"}, \"mark\": {\"type\": \"circle\", \"opacity\": 1}, \"encoding\": {\"color\": {\"type\": \"ordinal\", \"field\": \"fpr_parity_result\", \"legend\": {\"title\": \"\"}, \"scale\": {\"domain\": [\"Reference\", \"Pass\", \"Fail\"], \"range\": [\"rgb(117,117,117)\", \"rgb(20, 152, 181)\", \"rgb(217, 46, 28)\"]}}, \"size\": {\"value\": 300}, \"tooltip\": [{\"type\": \"nominal\", \"field\": \"attribute_value\", \"title\": \"Group\"}, {\"type\": \"nominal\", \"field\": \"tooltip_group_size\", \"title\": \"Group Size\"}, {\"type\": \"nominal\", \"field\": \"tooltip_parity_test_explanation_fpr\", \"title\": \"Parity Test\"}, {\"type\": \"nominal\", \"field\": \"tooltip_disparity_explanation_fpr\", \"title\": \"Disparity\"}, {\"type\": \"quantitative\", \"field\": \"fpr\", \"format\": \".2f\", \"title\": \"FPR\"}], \"x\": {\"type\": \"quantitative\", \"axis\": {\"domain\": false, \"grid\": false, \"labels\": false, \"ticks\": false, \"title\": \" \"}, \"field\": \"fpr_disparity_rank\", \"scale\": {\"domain\": [-2, 2], \"nice\": false}}, \"y\": {\"type\": \"quantitative\", \"axis\": {\"domain\": false, \"grid\": false, \"labels\": false, \"ticks\": false, \"title\": \" \"}, \"field\": \"y_position\", \"scale\": {\"domain\": [3, 1]}}}, \"transform\": [{\"calculate\": \"2\", \"as\": \"y_position\"}]}], \"height\": 84.5, \"resolve\": {\"scale\": {\"x\": \"independent\"}}, \"width\": 240.0}], \"bounds\": \"flush\", \"spacing\": 26.0}], \"bounds\": \"flush\", \"spacing\": 288.0}], \"bounds\": \"flush\", \"spacing\": 80.0}, {\"layer\": [{\"mark\": {\"type\": \"text\", \"align\": \"left\", \"baseline\": \"top\", \"fill\": \"rgb(117,117,117)\", \"font\": \"Arial\", \"fontSize\": 12, \"fontWeight\": \"normal\"}, \"encoding\": {\"text\": {\"value\": \"For a group to pass the parity test its disparity to the reference group cannot exceed the fairness threshold (1.25).\"}, \"x\": {\"value\": 24.0}, \"y\": {\"value\": 0}}}, {\"mark\": {\"type\": \"text\", \"align\": \"left\", \"baseline\": \"top\", \"fill\": \"rgb(117,117,117)\", \"font\": \"Arial\", \"fontSize\": 12, \"fontWeight\": \"normal\"}, \"encoding\": {\"text\": {\"value\": \"An attribute passes the parity test for a given metric if all its groups pass the test.\"}, \"x\": {\"value\": 24.0}, \"y\": {\"value\": 15.0}}}], \"data\": {\"name\": \"data-79dd248bdaa0ea02c535240e8ad022c8\"}}], \"padding\": {\"top\": 15, \"bottom\": 10}, \"$schema\": \"https://vega.github.io/schema/vega-lite/v4.8.1.json\", \"datasets\": {\"data-79dd248bdaa0ea02c535240e8ad022c8\": [{\"a\": 1, \"b\": 0}, {\"a\": 1, \"b\": 0}], \"data-0648884f34076ca4404072fa7f837079\": [{\"parity_result\": \"Fail\"}], \"data-1cbcff3e50558dbf881b556339d44bc2\": [{\"fpr_parity_result\": \"Fail\", \"attribute_name\": \"ethnicity\", \"total_entities\": 5278, \"group_size\": 3175, \"tooltip_groups_name_size\": \"African_American (3,175)\", \"tooltip_group_size\": \"3,175 (60.16%)\"}, {\"fpr_parity_result\": \"Reference\", \"attribute_name\": \"ethnicity\", \"total_entities\": 5278, \"group_size\": 2103, \"tooltip_groups_name_size\": \"Caucasian (2,103)\", \"tooltip_group_size\": \"2,103 (39.84%)\"}], \"data-72041064be5d5ba87e90a7c99602b2a9\": [{\"attribute_name\": \"ethnicity\", \"attribute_value\": \"African_American\", \"group_size\": 3175, \"total_entities\": 5278, \"ref_group_value\": \"Caucasian\", \"fpr\": 0.4154557463672391, \"fpr_disparity\": 1.8739394756916665, \"fpr_disparity_scaled\": 0.8739394756916665, \"fpr_parity_result\": \"Fail\", \"tooltip_parity_test_explanation_fpr\": \"Fail. Above fairness threshold of 1.25\", \"tooltip_disparity_explanation_fpr\": \"1.87 times larger FPR than the reference group\", \"tooltip_group_size\": \"3,175 (60.16%)\", \"fpr_disparity_rank\": 1.0, \"group_size_formatted\": \"3,175\", \"tooltip_groups_name_size\": \"African_American (3,175)\"}, {\"attribute_name\": \"ethnicity\", \"attribute_value\": \"Caucasian\", \"group_size\": 2103, \"total_entities\": 5278, \"ref_group_value\": \"Caucasian\", \"fpr\": 0.22170179547228727, \"fpr_disparity\": 1.0, \"fpr_disparity_scaled\": 0.0, \"fpr_parity_result\": \"Reference\", \"tooltip_parity_test_explanation_fpr\": \"Reference group\", \"tooltip_disparity_explanation_fpr\": \"Reference group\", \"tooltip_group_size\": \"2,103 (39.84%)\", \"fpr_disparity_rank\": 0.0, \"group_size_formatted\": \"2,103\", \"tooltip_groups_name_size\": \"Caucasian (2,103)\"}]}}, {\"mode\": \"vega-lite\"});\n",
              "</script>"
            ],
            "text/plain": [
              "alt.VConcatChart(...)"
            ]
          },
          "metadata": {},
          "execution_count": 42
        }
      ]
    },
    {
      "cell_type": "code",
      "source": [
        "ap.disparity(bdf, metrics, 'ethnicity', fairness_threshold = disparity_tolerance)"
      ],
      "metadata": {
        "id": "F9Gd1LwmrF-_",
        "outputId": "9d4d8f1a-d2e1-421f-c4f7-c3f722afac1d",
        "colab": {
          "base_uri": "https://localhost:8080/",
          "height": 354
        }
      },
      "execution_count": 43,
      "outputs": [
        {
          "output_type": "stream",
          "name": "stderr",
          "text": [
            "/usr/local/lib/python3.10/dist-packages/altair/utils/core.py:283: FutureWarning: iteritems is deprecated and will be removed in a future version. Use .items instead.\n",
            "  for col_name, dtype in df.dtypes.iteritems():\n"
          ]
        },
        {
          "output_type": "execute_result",
          "data": {
            "text/html": [
              "\n",
              "<div id=\"altair-viz-3be5a943f21641e595a7eb7d6b62c456\"></div>\n",
              "<script type=\"text/javascript\">\n",
              "  (function(spec, embedOpt){\n",
              "    let outputDiv = document.currentScript.previousElementSibling;\n",
              "    if (outputDiv.id !== \"altair-viz-3be5a943f21641e595a7eb7d6b62c456\") {\n",
              "      outputDiv = document.getElementById(\"altair-viz-3be5a943f21641e595a7eb7d6b62c456\");\n",
              "    }\n",
              "    const paths = {\n",
              "      \"vega\": \"https://cdn.jsdelivr.net/npm//vega@5?noext\",\n",
              "      \"vega-lib\": \"https://cdn.jsdelivr.net/npm//vega-lib?noext\",\n",
              "      \"vega-lite\": \"https://cdn.jsdelivr.net/npm//vega-lite@4.8.1?noext\",\n",
              "      \"vega-embed\": \"https://cdn.jsdelivr.net/npm//vega-embed@6?noext\",\n",
              "    };\n",
              "\n",
              "    function loadScript(lib) {\n",
              "      return new Promise(function(resolve, reject) {\n",
              "        var s = document.createElement('script');\n",
              "        s.src = paths[lib];\n",
              "        s.async = true;\n",
              "        s.onload = () => resolve(paths[lib]);\n",
              "        s.onerror = () => reject(`Error loading script: ${paths[lib]}`);\n",
              "        document.getElementsByTagName(\"head\")[0].appendChild(s);\n",
              "      });\n",
              "    }\n",
              "\n",
              "    function showError(err) {\n",
              "      outputDiv.innerHTML = `<div class=\"error\" style=\"color:red;\">${err}</div>`;\n",
              "      throw err;\n",
              "    }\n",
              "\n",
              "    function displayChart(vegaEmbed) {\n",
              "      vegaEmbed(outputDiv, spec, embedOpt)\n",
              "        .catch(err => showError(`Javascript Error: ${err.message}<br>This usually means there's a typo in your chart specification. See the javascript console for the full traceback.`));\n",
              "    }\n",
              "\n",
              "    if(typeof define === \"function\" && define.amd) {\n",
              "      requirejs.config({paths});\n",
              "      require([\"vega-embed\"], displayChart, err => showError(`Error loading script: ${err.message}`));\n",
              "    } else if (typeof vegaEmbed === \"function\") {\n",
              "      displayChart(vegaEmbed);\n",
              "    } else {\n",
              "      loadScript(\"vega\")\n",
              "        .then(() => loadScript(\"vega-lite\"))\n",
              "        .then(() => loadScript(\"vega-embed\"))\n",
              "        .catch(showError)\n",
              "        .then(() => displayChart(vegaEmbed));\n",
              "    }\n",
              "  })({\"config\": {\"view\": {\"continuousWidth\": 400, \"continuousHeight\": 300, \"strokeWidth\": 0}, \"axisLeft\": {\"labelColor\": \"rgb(117,117,117)\", \"labelFont\": \"Arial\", \"labelFontSize\": 16}, \"title\": {\"align\": \"center\", \"baseline\": \"middle\", \"color\": \"rgb(117,117,117)\", \"font\": \"Arial\", \"fontSize\": 20, \"fontWeight\": \"bold\"}}, \"layer\": [{\"data\": {\"name\": \"data-38121450c6697f570e9bf3f18efe866c\"}, \"mark\": {\"type\": \"rule\", \"stroke\": \"rgb(117,117,117)\", \"strokeWidth\": 1.25, \"tooltip\": \"\"}, \"encoding\": {\"x\": {\"type\": \"quantitative\", \"field\": \"x\", \"scale\": {\"domain\": [-2, 2], \"range\": [40.0, 760.0]}}, \"x2\": {\"field\": \"x2\"}, \"y\": {\"type\": \"nominal\", \"axis\": {\"domain\": false, \"labelAngle\": 0, \"labelPadding\": -30, \"orient\": \"left\", \"ticks\": false, \"title\": \"\"}, \"field\": \"metric\", \"scale\": {\"domain\": [\"FPR\"], \"range\": [30, 225.0]}}}}, {\"data\": {\"name\": \"data-79dd248bdaa0ea02c535240e8ad022c8\"}, \"mark\": {\"type\": \"rule\", \"stroke\": \"rgb(117,117,117)\", \"strokeDash\": [5, 5], \"strokeWidth\": 1}, \"encoding\": {\"tooltip\": {\"value\": \"Caucasian [REF]\"}, \"x\": {\"value\": 400.0}, \"y\": {\"value\": 20.833333333333336}, \"y2\": {\"value\": 229.16666666666666}}}, {\"data\": {\"name\": \"data-c233327f4cd9b4c2df31bf8015c83e4a\"}, \"mark\": {\"type\": \"text\", \"align\": \"center\", \"color\": \"rgb(117,117,117)\", \"font\": \"Arial\", \"fontSize\": 12, \"fontWeight\": \"normal\", \"tooltip\": \"\"}, \"encoding\": {\"text\": {\"type\": \"nominal\", \"field\": \"label\"}, \"x\": {\"type\": \"quantitative\", \"field\": \"value\", \"scale\": {\"domain\": [-2, 2], \"range\": [40.0, 760.0]}}, \"y\": {\"value\": 17.5}}}, {\"layer\": [{\"mark\": {\"type\": \"text\", \"align\": \"left\", \"fill\": \"rgb(117,117,117)\", \"font\": \"Arial\", \"fontSize\": 12, \"fontWeight\": \"normal\", \"tooltip\": \"\"}, \"encoding\": {\"text\": {\"value\": \"Times Smaller\"}, \"x\": {\"value\": 40.0}, \"y\": {\"value\": 7.5}}}, {\"mark\": {\"type\": \"text\", \"align\": \"right\", \"fill\": \"rgb(117,117,117)\", \"font\": \"Arial\", \"fontSize\": 12, \"fontWeight\": \"normal\", \"tooltip\": \"\"}, \"encoding\": {\"text\": {\"value\": \"Times Larger\"}, \"x\": {\"value\": 760.0}, \"y\": {\"value\": 7.5}}}, {\"mark\": {\"type\": \"text\", \"align\": \"center\", \"fill\": \"rgb(117,117,117)\", \"font\": \"Arial\", \"fontSize\": 12, \"fontWeight\": \"normal\", \"tooltip\": \"\"}, \"encoding\": {\"text\": {\"value\": \"Equal\"}, \"x\": {\"value\": 400.0}, \"y\": {\"value\": 7.5}}}], \"data\": {\"name\": \"data-79dd248bdaa0ea02c535240e8ad022c8\"}}, {\"layer\": [{\"mark\": {\"type\": \"rule\", \"opacity\": 0.8, \"stroke\": \"rgb(217, 46, 28)\", \"strokeWidth\": 1.25, \"tooltip\": \"\"}, \"encoding\": {\"x\": {\"type\": \"quantitative\", \"field\": \"min\", \"scale\": {\"domain\": [-2, 2], \"range\": [40.0, 760.0]}}, \"y\": {\"value\": 25.0}, \"y2\": {\"value\": 225.0}}}, {\"mark\": {\"type\": \"rule\", \"opacity\": 0.8, \"stroke\": \"rgb(217, 46, 28)\", \"strokeWidth\": 1.25, \"tooltip\": \"\"}, \"encoding\": {\"x\": {\"type\": \"quantitative\", \"field\": \"max\", \"scale\": {\"domain\": [-2, 2], \"range\": [40.0, 760.0]}}, \"y\": {\"value\": 25.0}, \"y2\": {\"value\": 225.0}}}, {\"layer\": [{\"mark\": {\"type\": \"rect\", \"fill\": \"rgb(217, 46, 28)\", \"opacity\": 0.1, \"tooltip\": \"\"}, \"encoding\": {\"x\": {\"type\": \"quantitative\", \"field\": \"min\", \"scale\": {\"domain\": [-2, 2], \"range\": [40.0, 760.0]}}, \"x2\": {\"field\": \"lower_end\"}, \"y\": {\"value\": 25.0}, \"y2\": {\"value\": 225.0}}}, {\"mark\": {\"type\": \"rect\", \"fill\": \"rgb(217, 46, 28)\", \"opacity\": 0.1, \"tooltip\": \"\"}, \"encoding\": {\"x\": {\"type\": \"quantitative\", \"field\": \"max\", \"scale\": {\"domain\": [-2, 2], \"range\": [40.0, 760.0]}}, \"x2\": {\"field\": \"upper_end\"}, \"y\": {\"value\": 25.0}, \"y2\": {\"value\": 225.0}}}]}, {\"data\": {\"name\": \"data-79dd248bdaa0ea02c535240e8ad022c8\"}, \"mark\": {\"type\": \"text\", \"align\": \"left\", \"baseline\": \"top\", \"fill\": \"rgb(217, 46, 28)\", \"font\": \"Arial\", \"fontSize\": 12, \"fontWeight\": \"normal\", \"tooltip\": \"\"}, \"encoding\": {\"text\": {\"value\": \"The metric value for any group should not be 1.25 (or more) times smaller or larger than that of the reference group Caucasian.\"}, \"x\": {\"value\": 0}, \"y\": {\"value\": 233.33333333333334}}}], \"data\": {\"name\": \"data-feb20f5d4dfe62687617135ffee93d46\"}}, {\"layer\": [{\"mark\": \"circle\"}, {\"data\": {\"name\": \"data-85d046df6bcef387e42711254d86e818\"}, \"mark\": {\"type\": \"circle\", \"opacity\": 0.2}, \"encoding\": {\"color\": {\"condition\": {\"type\": \"nominal\", \"field\": \"attribute_value\", \"legend\": null, \"scale\": {\"domain\": [\"Caucasian\", \"African_American\"], \"range\": [\"rgb(117,117,117)\", \"rgb(100, 143, 255)\", \"rgb(254, 97, 0)\", \"rgb(220, 38, 127)\", \"rgb(255, 176, 0)\", \"rgb(120, 94, 240)\"]}, \"selection\": \"selector001\"}, \"value\": \"rgb(224,224,224)\"}, \"size\": {\"type\": \"quantitative\", \"field\": \"group_size\", \"legend\": null, \"scale\": {\"domain\": [0, 3810.0], \"range\": [0, 7853.981633974483]}}, \"tooltip\": [{\"type\": \"nominal\", \"field\": \"attribute_value\", \"title\": \"Group\"}, {\"type\": \"nominal\", \"field\": \"tooltip_group_size\", \"title\": \"Group Size\"}, {\"type\": \"nominal\", \"field\": \"tooltip_disparity_explanation_fpr\", \"title\": \"Disparity\"}, {\"type\": \"quantitative\", \"field\": \"fpr\", \"format\": \".2f\", \"title\": \"FPR\"}], \"x\": {\"type\": \"quantitative\", \"axis\": {\"domain\": false, \"labels\": false, \"ticks\": false, \"title\": null, \"values\": [1, 2, -2, -1]}, \"field\": \"fpr_disparity_scaled\", \"scale\": {\"domain\": [-2, 2], \"range\": [40.0, 760.0]}}, \"y\": {\"type\": \"nominal\", \"axis\": {\"domain\": false, \"grid\": false, \"labels\": false, \"ticks\": false, \"title\": \" \"}, \"field\": \"metric_variable\", \"scale\": {\"domain\": [\"FPR\"], \"range\": [30, 225.0]}}}, \"selection\": {\"selector003\": {\"type\": \"multi\", \"empty\": \"all\", \"fields\": [\"attribute_value\"]}}, \"transform\": [{\"calculate\": \"'FPR'\", \"as\": \"metric_variable\"}]}, {\"layer\": [{\"mark\": \"point\"}, {\"data\": {\"name\": \"data-85d046df6bcef387e42711254d86e818\"}, \"mark\": {\"type\": \"point\", \"filled\": true, \"size\": 60}, \"encoding\": {\"color\": {\"condition\": {\"type\": \"nominal\", \"field\": \"attribute_value\", \"legend\": null, \"scale\": {\"domain\": [\"Caucasian\", \"African_American\"], \"range\": [\"rgb(117,117,117)\", \"rgb(100, 143, 255)\", \"rgb(254, 97, 0)\", \"rgb(220, 38, 127)\", \"rgb(255, 176, 0)\", \"rgb(120, 94, 240)\"]}, \"selection\": \"selector001\"}, \"value\": \"rgb(224,224,224)\"}, \"shape\": {\"type\": \"nominal\", \"field\": \"attribute_value\", \"legend\": null, \"scale\": {\"domain\": [\"Caucasian\", \"African_American\"], \"range\": [\"cross\", \"circle\"]}}, \"tooltip\": [{\"type\": \"nominal\", \"field\": \"attribute_value\", \"title\": \"Group\"}, {\"type\": \"nominal\", \"field\": \"tooltip_group_size\", \"title\": \"Group Size\"}, {\"type\": \"nominal\", \"field\": \"tooltip_disparity_explanation_fpr\", \"title\": \"Disparity\"}, {\"type\": \"quantitative\", \"field\": \"fpr\", \"format\": \".2f\", \"title\": \"FPR\"}], \"x\": {\"type\": \"quantitative\", \"axis\": {\"domain\": false, \"labels\": false, \"ticks\": false, \"title\": null, \"values\": [1, 2, -2, -1]}, \"field\": \"fpr_disparity_scaled\", \"scale\": {\"domain\": [-2, 2], \"range\": [40.0, 760.0]}}, \"y\": {\"type\": \"nominal\", \"axis\": {\"domain\": false, \"grid\": false, \"labels\": false, \"ticks\": false, \"title\": \" \"}, \"field\": \"metric_variable\", \"scale\": {\"domain\": [\"FPR\"], \"range\": [30, 225.0]}}}, \"selection\": {\"selector002\": {\"type\": \"multi\", \"empty\": \"all\", \"fields\": [\"attribute_value\"]}}, \"transform\": [{\"calculate\": \"'FPR'\", \"as\": \"metric_variable\"}]}]}]}, {\"layer\": [{\"mark\": {\"type\": \"point\", \"filled\": true, \"opacity\": 1, \"size\": 39.47841760435743}, \"encoding\": {\"color\": {\"condition\": {\"type\": \"nominal\", \"field\": \"attribute_value\", \"legend\": null, \"scale\": {\"domain\": [\"Caucasian\", \"African_American\"], \"range\": [\"rgb(117,117,117)\", \"rgb(100, 143, 255)\", \"rgb(254, 97, 0)\", \"rgb(220, 38, 127)\", \"rgb(255, 176, 0)\", \"rgb(120, 94, 240)\"]}, \"selection\": \"selector001\"}, \"value\": \"rgb(224,224,224)\"}, \"shape\": {\"type\": \"nominal\", \"field\": \"attribute_value\", \"legend\": null, \"scale\": {\"domain\": [\"Caucasian\", \"African_American\"], \"range\": [\"cross\", \"circle\"]}}, \"x\": {\"value\": 804}, \"y\": {\"type\": \"nominal\", \"axis\": {\"domain\": false, \"grid\": false, \"labels\": false, \"ticks\": false, \"title\": \" \"}, \"field\": \"attribute_value\", \"scale\": {\"domain\": [\"Caucasian\", \"African_American\"], \"range\": [71, 125]}}}, \"selection\": {\"selector001\": {\"type\": \"multi\", \"empty\": \"all\", \"fields\": [\"attribute_value\"]}}}, {\"mark\": {\"type\": \"text\", \"align\": \"left\", \"baseline\": \"middle\", \"font\": \"Arial\", \"fontSize\": 12, \"fontWeight\": \"normal\"}, \"encoding\": {\"color\": {\"condition\": {\"type\": \"nominal\", \"field\": \"attribute_value\", \"legend\": null, \"scale\": {\"domain\": [\"Caucasian\", \"African_American\"], \"range\": [\"rgb(117,117,117)\", \"rgb(100, 143, 255)\", \"rgb(254, 97, 0)\", \"rgb(220, 38, 127)\", \"rgb(255, 176, 0)\", \"rgb(120, 94, 240)\"]}, \"selection\": \"selector001\"}, \"value\": \"rgb(224,224,224)\"}, \"text\": {\"type\": \"nominal\", \"field\": \"label\"}, \"x\": {\"value\": 812}, \"y\": {\"type\": \"nominal\", \"axis\": {\"domain\": false, \"grid\": false, \"labels\": false, \"ticks\": false, \"title\": \" \"}, \"field\": \"attribute_value\", \"scale\": {\"domain\": [\"Caucasian\", \"African_American\"], \"range\": [71, 125]}}}, \"selection\": {\"selector004\": {\"type\": \"multi\", \"empty\": \"all\", \"fields\": [\"attribute_value\"]}}}, {\"data\": {\"name\": \"data-79dd248bdaa0ea02c535240e8ad022c8\"}, \"mark\": {\"type\": \"text\", \"align\": \"left\", \"baseline\": \"middle\", \"color\": \"rgb(117,117,117)\", \"font\": \"Arial\", \"fontSize\": 12, \"fontWeight\": \"normal\"}, \"encoding\": {\"text\": {\"value\": \"Click to highlight a group.\"}, \"x\": {\"value\": 800}, \"y\": {\"value\": 49}}}, {\"data\": {\"name\": \"data-79dd248bdaa0ea02c535240e8ad022c8\"}, \"mark\": {\"type\": \"text\", \"align\": \"left\", \"baseline\": \"middle\", \"color\": \"rgb(117,117,117)\", \"font\": \"Arial\", \"fontSize\": 14, \"fontWeight\": \"normal\"}, \"encoding\": {\"text\": {\"value\": \"Groups\"}, \"x\": {\"value\": 800}, \"y\": {\"value\": 30}}}], \"data\": {\"name\": \"data-0fceee328e5fac2fcb9199de1590497b\"}}], \"height\": 250, \"padding\": {\"top\": 15, \"bottom\": 10}, \"resolve\": {\"scale\": {\"size\": \"independent\", \"y\": \"independent\"}}, \"title\": \"Disparities on Ethnicity\", \"width\": 800, \"$schema\": \"https://vega.github.io/schema/vega-lite/v4.8.1.json\", \"datasets\": {\"data-38121450c6697f570e9bf3f18efe866c\": [{\"metric\": \"FPR\", \"x\": -2, \"x2\": 2}], \"data-79dd248bdaa0ea02c535240e8ad022c8\": [{\"a\": 1, \"b\": 0}, {\"a\": 1, \"b\": 0}], \"data-c233327f4cd9b4c2df31bf8015c83e4a\": [{\"value\": 1, \"label\": 2}, {\"value\": 2, \"label\": 3}, {\"value\": -2, \"label\": 3}, {\"value\": -1, \"label\": 2}, {\"value\": 0, \"label\": \"=\"}], \"data-feb20f5d4dfe62687617135ffee93d46\": [{\"min\": -0.25, \"max\": 0.25, \"lower_end\": -2, \"upper_end\": 2}], \"data-85d046df6bcef387e42711254d86e818\": [{\"attribute_name\": \"ethnicity\", \"attribute_value\": \"African_American\", \"group_size\": 3175, \"total_entities\": 5278, \"fpr\": 0.4154557463672391, \"fpr_disparity\": 1.8739394756916665, \"fpr_disparity_scaled\": 0.8739394756916665, \"tooltip_group_size\": \"3,175 (60.16%)\", \"tooltip_disparity_explanation_fpr\": \"1.87 times larger FPR than the reference group\"}, {\"attribute_name\": \"ethnicity\", \"attribute_value\": \"Caucasian\", \"group_size\": 2103, \"total_entities\": 5278, \"fpr\": 0.22170179547228727, \"fpr_disparity\": 1.0, \"fpr_disparity_scaled\": 0.0, \"tooltip_group_size\": \"2,103 (39.84%)\", \"tooltip_disparity_explanation_fpr\": \"Reference group\"}], \"data-0fceee328e5fac2fcb9199de1590497b\": [{\"attribute_value\": \"Caucasian\", \"label\": \"Caucasian [REF]\"}, {\"attribute_value\": \"African_American\", \"label\": \"African_American\"}]}}, {\"mode\": \"vega-lite\"});\n",
              "</script>"
            ],
            "text/plain": [
              "alt.LayerChart(...)"
            ]
          },
          "metadata": {},
          "execution_count": 43
        }
      ]
    },
    {
      "cell_type": "markdown",
      "source": [
        "As we have seen above, the FPR is substantially higher for the African-American poppulation--and also for native Americans."
      ],
      "metadata": {
        "id": "_XePvhIEts7v"
      }
    }
  ]
}