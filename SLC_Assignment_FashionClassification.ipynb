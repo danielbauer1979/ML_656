{
  "nbformat": 4,
  "nbformat_minor": 0,
  "metadata": {
    "colab": {
      "provenance": [],
      "authorship_tag": "ABX9TyOqQPB29W19qBGtMp5lMuRq",
      "include_colab_link": true
    },
    "kernelspec": {
      "name": "python3",
      "display_name": "Python 3"
    },
    "language_info": {
      "name": "python"
    }
  },
  "cells": [
    {
      "cell_type": "markdown",
      "metadata": {
        "id": "view-in-github",
        "colab_type": "text"
      },
      "source": [
        "<a href=\"https://colab.research.google.com/github/danielbauer1979/ML_656/blob/main/SLC_Assignment_FashionClassification.ipynb\" target=\"_parent\"><img src=\"https://colab.research.google.com/assets/colab-badge.svg\" alt=\"Open In Colab\"/></a>"
      ]
    },
    {
      "cell_type": "markdown",
      "source": [
        "## The Fashion MNIST dataset\n",
        "\n",
        "In this homework problem, we will work with the Fashion MNIST data that is also available in the Keras library:"
      ],
      "metadata": {
        "id": "2ITKe1htrCs5"
      }
    },
    {
      "cell_type": "code",
      "execution_count": 2,
      "metadata": {
        "id": "EAWip7rArBmz"
      },
      "outputs": [],
      "source": [
        "import numpy as np\n",
        "import matplotlib.pyplot as plt\n",
        "import pandas as pd\n",
        "import random\n",
        "\n",
        "from keras.models import Sequential\n",
        "from keras.layers import Dense, Flatten, Conv2D, MaxPooling2D\n",
        "from keras.datasets import fashion_mnist\n",
        "from keras.utils import to_categorical"
      ]
    },
    {
      "cell_type": "markdown",
      "source": [
        "The dataset is fairly analogous to the MNIST data -- it's also 28 by 28 pixel images, although in this case the images are of fashion items and the labels correspond to different fashion items -- here is the label\tdescription:\n",
        "- 0\tT-shirt/top\n",
        "- 1\tTrouser\n",
        "- 2\tPullover\n",
        "- 3\tDress\n",
        "- 4\tCoat\n",
        "- 5\tSandal\n",
        "- 6\tShirt\n",
        "- 7\tSneaker\n",
        "- 8\tBag\n",
        "- 9\tAnkle boot\n",
        "\n",
        "The problem, obviously, is to predict what kind of fashion item is on the image.\n",
        "\n",
        "Let's take a look at the data:"
      ],
      "metadata": {
        "id": "vrR68DM1ru0U"
      }
    },
    {
      "cell_type": "code",
      "source": [
        "(x_train, y_train), (x_test, y_test) = fashion_mnist.load_data()"
      ],
      "metadata": {
        "colab": {
          "base_uri": "https://localhost:8080/"
        },
        "id": "FK-vG-LArTWV",
        "outputId": "cee4ebc0-e180-45f1-948f-65eba7475aeb"
      },
      "execution_count": 3,
      "outputs": [
        {
          "output_type": "stream",
          "name": "stdout",
          "text": [
            "Downloading data from https://storage.googleapis.com/tensorflow/tf-keras-datasets/train-labels-idx1-ubyte.gz\n",
            "29515/29515 [==============================] - 0s 0us/step\n",
            "Downloading data from https://storage.googleapis.com/tensorflow/tf-keras-datasets/train-images-idx3-ubyte.gz\n",
            "26421880/26421880 [==============================] - 1s 0us/step\n",
            "Downloading data from https://storage.googleapis.com/tensorflow/tf-keras-datasets/t10k-labels-idx1-ubyte.gz\n",
            "5148/5148 [==============================] - 0s 0us/step\n",
            "Downloading data from https://storage.googleapis.com/tensorflow/tf-keras-datasets/t10k-images-idx3-ubyte.gz\n",
            "4422102/4422102 [==============================] - 1s 0us/step\n"
          ]
        }
      ]
    },
    {
      "cell_type": "markdown",
      "source": [
        "...and at a few of the items:"
      ],
      "metadata": {
        "id": "v0Iqkfz4ZdZA"
      }
    },
    {
      "cell_type": "code",
      "source": [
        "image_index = 5\n",
        "print(y_train[image_index])\n",
        "plt.imshow(x_train[image_index], cmap='Greys')\n",
        "plt.show()"
      ],
      "metadata": {
        "colab": {
          "base_uri": "https://localhost:8080/",
          "height": 447
        },
        "id": "guViu6DOsAkY",
        "outputId": "1da88ca8-b515-4ebf-db50-80b6c3e31047"
      },
      "execution_count": 4,
      "outputs": [
        {
          "output_type": "stream",
          "name": "stdout",
          "text": [
            "2\n"
          ]
        },
        {
          "output_type": "display_data",
          "data": {
            "text/plain": [
              "<Figure size 640x480 with 1 Axes>"
            ],
            "image/png": "[encoded data removed]"
          },
          "metadata": {}
        }
      ]
    },
    {
      "cell_type": "markdown",
      "source": [
        "...so this is a pullover."
      ],
      "metadata": {
        "id": "bBHcdS4lZh3v"
      }
    },
    {
      "cell_type": "code",
      "source": [
        "image_index = 42\n",
        "print(y_train[image_index])\n",
        "plt.imshow(x_train[image_index], cmap='Greys')\n",
        "plt.show()"
      ],
      "metadata": {
        "colab": {
          "base_uri": "https://localhost:8080/",
          "height": 447
        },
        "id": "oa6XY8TkrXhB",
        "outputId": "642da463-9c65-49cb-986a-bdb421fead05"
      },
      "execution_count": 5,
      "outputs": [
        {
          "output_type": "stream",
          "name": "stdout",
          "text": [
            "9\n"
          ]
        },
        {
          "output_type": "display_data",
          "data": {
            "text/plain": [
              "<Figure size 640x480 with 1 Axes>"
            ],
            "image/png": "[encoded data removed]"
          },
          "metadata": {}
        }
      ]
    },
    {
      "cell_type": "markdown",
      "source": [
        "So this is an ankle boot."
      ],
      "metadata": {
        "id": "XdBACgBQZmw5"
      }
    },
    {
      "cell_type": "markdown",
      "source": [
        "**Objective:** Build a neural network model that can classify the fashion items."
      ],
      "metadata": {
        "id": "08FlClt_Zpo_"
      }
    }
  ]
}