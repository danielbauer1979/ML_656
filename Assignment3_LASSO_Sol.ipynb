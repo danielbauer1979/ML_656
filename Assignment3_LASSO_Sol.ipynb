{
  "cells": [
    {
      "cell_type": "markdown",
      "metadata": {
        "id": "view-in-github",
        "colab_type": "text"
      },
      "source": [
        "<a href=\"https://colab.research.google.com/github/danielbauer1979/ML_656/blob/main/Assignment3_LASSO_Sol.ipynb\" target=\"_parent\"><img src=\"https://colab.research.google.com/assets/colab-badge.svg\" alt=\"Open In Colab\"/></a>"
      ]
    },
    {
      "cell_type": "markdown",
      "metadata": {
        "id": "vUjV7JbXHmjU"
      },
      "source": [
        "#Assignment 3"
      ]
    },
    {
      "cell_type": "markdown",
      "metadata": {
        "id": "cKPJ-NiKInO2"
      },
      "source": [
        "Let's install relevant packages. Again, we're going to rely on the statistical learning toolkit ski-cit learn, which provides LASSO regression but also has many other predictive models. As before, it is less comfortable to use than some of the other packages and, unlike R, does not support formulas. But it is versatile and fast, and therefore one of the most popular predictive modeling toolkits."
      ]
    },
    {
      "cell_type": "code",
      "execution_count": null,
      "metadata": {
        "id": "ignevWfjW8Vq"
      },
      "outputs": [],
      "source": [
        "import numpy as np\n",
        "import pandas as pd\n",
        "import matplotlib.pyplot as plt\n",
        "\n",
        "from sklearn.preprocessing import StandardScaler\n",
        "from sklearn.model_selection import train_test_split\n",
        "from sklearn.linear_model import LinearRegression, Lasso, LassoCV\n",
        "from sklearn.metrics import mean_squared_error"
      ]
    },
    {
      "cell_type": "markdown",
      "metadata": {
        "id": "E4SOe62bIt8g"
      },
      "source": [
        "## Practical Application: Predicting Claim Sizes\n",
        "\n",
        "We consider a data set of claim sizes (severities) from Allstate, that was used in a [Kaggle competition](https://www.kaggle.com/c/allstate-claims-severity) and is now available from various repositories, e.g. [here](https://github.com/Architectshwet/Allstate-Claims-Severity-Data/blob/master/Datasets).\n",
        "\n",
        "Let's load it, and take a look:"
      ]
    },
    {
      "cell_type": "code",
      "execution_count": null,
      "metadata": {
        "colab": {
          "base_uri": "https://localhost:8080/"
        },
        "id": "-CKUbcD-ZKHh",
        "outputId": "86d3d31d-0e9a-4621-e21c-d8b172d4c2c0"
      },
      "outputs": [
        {
          "output_type": "stream",
          "name": "stdout",
          "text": [
            "Cloning into 'ML_656'...\n",
            "remote: Enumerating objects: 296, done.\u001b[K\n",
            "remote: Counting objects: 100% (179/179), done.\u001b[K\n",
            "remote: Compressing objects: 100% (103/103), done.\u001b[K\n",
            "remote: Total 296 (delta 105), reused 123 (delta 76), pack-reused 117\u001b[K\n",
            "Receiving objects: 100% (296/296), 24.07 MiB | 14.72 MiB/s, done.\n",
            "Resolving deltas: 100% (155/155), done.\n"
          ]
        }
      ],
      "source": [
        "!git clone https://github.com/danielbauer1979/ML_656.git"
      ]
    },
    {
      "cell_type": "code",
      "execution_count": null,
      "metadata": {
        "id": "YNLJ23WBZVhK"
      },
      "outputs": [],
      "source": [
        "dat_1 = pd.read_csv('ML_656/Allstate_train1.csv')\n",
        "dat_2 = pd.read_csv('ML_656/Allstate_train2.csv')\n",
        "dat_3 = pd.read_csv('ML_656/Allstate_train3.csv')\n",
        "df = pd.concat([dat_1,dat_2,dat_3])"
      ]
    },
    {
      "cell_type": "code",
      "execution_count": null,
      "metadata": {
        "colab": {
          "base_uri": "https://localhost:8080/"
        },
        "id": "8198XlahW8Vs",
        "outputId": "bc0df48d-441c-46a2-896c-824dae59bf24"
      },
      "outputs": [
        {
          "output_type": "stream",
          "name": "stdout",
          "text": [
            "<class 'pandas.core.frame.DataFrame'>\n",
            "Int64Index: 188317 entries, 0 to 68316\n",
            "Columns: 132 entries, id to loss\n",
            "dtypes: float64(15), int64(1), object(116)\n",
            "memory usage: 191.1+ MB\n"
          ]
        }
      ],
      "source": [
        "df.info()"
      ]
    },
    {
      "cell_type": "code",
      "execution_count": null,
      "metadata": {
        "colab": {
          "base_uri": "https://localhost:8080/",
          "height": 235
        },
        "id": "OEOBwID9b_Gg",
        "outputId": "7b6a935c-b120-4ca5-c194-6291de22ea43"
      },
      "outputs": [
        {
          "output_type": "execute_result",
          "data": {
            "text/plain": [
              "   id cat1 cat2 cat3 cat4 cat5 cat6 cat7 cat8 cat9  ...     cont6     cont7  \\\n",
              "0   1    A    B    A    B    A    A    A    A    B  ...  0.718367  0.335060   \n",
              "1   2    A    B    A    A    A    A    A    A    B  ...  0.438917  0.436585   \n",
              "2   5    A    B    A    A    B    A    A    A    B  ...  0.289648  0.315545   \n",
              "3  10    B    B    A    B    A    A    A    A    B  ...  0.440945  0.391128   \n",
              "4  11    A    B    A    B    A    A    A    A    B  ...  0.178193  0.247408   \n",
              "\n",
              "     cont8    cont9   cont10    cont11    cont12    cont13    cont14     loss  \n",
              "0  0.30260  0.67135  0.83510  0.569745  0.594646  0.822493  0.714843  2213.18  \n",
              "1  0.60087  0.35127  0.43919  0.338312  0.366307  0.611431  0.304496  1283.60  \n",
              "2  0.27320  0.26076  0.32446  0.381398  0.373424  0.195709  0.774425  3005.09  \n",
              "3  0.31796  0.32128  0.44467  0.327915  0.321570  0.605077  0.602642   939.85  \n",
              "4  0.24564  0.22089  0.21230  0.204687  0.202213  0.246011  0.432606  2763.85  \n",
              "\n",
              "[5 rows x 132 columns]"
            ],
            "text/html": [
              "\n",
              "  <div id=\"df-22df4869-6c38-4c45-993d-042b485ffef7\" class=\"colab-df-container\">\n",
              "    <div>\n",
              "<style scoped>\n",
              "    .dataframe tbody tr th:only-of-type {\n",
              "        vertical-align: middle;\n",
              "    }\n",
              "\n",
              "    .dataframe tbody tr th {\n",
              "        vertical-align: top;\n",
              "    }\n",
              "\n",
              "    .dataframe thead th {\n",
              "        text-align: right;\n",
              "    }\n",
              "</style>\n",
              "<table border=\"1\" class=\"dataframe\">\n",
              "  <thead>\n",
              "    <tr style=\"text-align: right;\">\n",
              "      <th></th>\n",
              "      <th>id</th>\n",
              "      <th>cat1</th>\n",
              "      <th>cat2</th>\n",
              "      <th>cat3</th>\n",
              "      <th>cat4</th>\n",
              "      <th>cat5</th>\n",
              "      <th>cat6</th>\n",
              "      <th>cat7</th>\n",
              "      <th>cat8</th>\n",
              "      <th>cat9</th>\n",
              "      <th>...</th>\n",
              "      <th>cont6</th>\n",
              "      <th>cont7</th>\n",
              "      <th>cont8</th>\n",
              "      <th>cont9</th>\n",
              "      <th>cont10</th>\n",
              "      <th>cont11</th>\n",
              "      <th>cont12</th>\n",
              "      <th>cont13</th>\n",
              "      <th>cont14</th>\n",
              "      <th>loss</th>\n",
              "    </tr>\n",
              "  </thead>\n",
              "  <tbody>\n",
              "    <tr>\n",
              "      <th>0</th>\n",
              "      <td>1</td>\n",
              "      <td>A</td>\n",
              "      <td>B</td>\n",
              "      <td>A</td>\n",
              "      <td>B</td>\n",
              "      <td>A</td>\n",
              "      <td>A</td>\n",
              "      <td>A</td>\n",
              "      <td>A</td>\n",
              "      <td>B</td>\n",
              "      <td>...</td>\n",
              "      <td>0.718367</td>\n",
              "      <td>0.335060</td>\n",
              "      <td>0.30260</td>\n",
              "      <td>0.67135</td>\n",
              "      <td>0.83510</td>\n",
              "      <td>0.569745</td>\n",
              "      <td>0.594646</td>\n",
              "      <td>0.822493</td>\n",
              "      <td>0.714843</td>\n",
              "      <td>2213.18</td>\n",
              "    </tr>\n",
              "    <tr>\n",
              "      <th>1</th>\n",
              "      <td>2</td>\n",
              "      <td>A</td>\n",
              "      <td>B</td>\n",
              "      <td>A</td>\n",
              "      <td>A</td>\n",
              "      <td>A</td>\n",
              "      <td>A</td>\n",
              "      <td>A</td>\n",
              "      <td>A</td>\n",
              "      <td>B</td>\n",
              "      <td>...</td>\n",
              "      <td>0.438917</td>\n",
              "      <td>0.436585</td>\n",
              "      <td>0.60087</td>\n",
              "      <td>0.35127</td>\n",
              "      <td>0.43919</td>\n",
              "      <td>0.338312</td>\n",
              "      <td>0.366307</td>\n",
              "      <td>0.611431</td>\n",
              "      <td>0.304496</td>\n",
              "      <td>1283.60</td>\n",
              "    </tr>\n",
              "    <tr>\n",
              "      <th>2</th>\n",
              "      <td>5</td>\n",
              "      <td>A</td>\n",
              "      <td>B</td>\n",
              "      <td>A</td>\n",
              "      <td>A</td>\n",
              "      <td>B</td>\n",
              "      <td>A</td>\n",
              "      <td>A</td>\n",
              "      <td>A</td>\n",
              "      <td>B</td>\n",
              "      <td>...</td>\n",
              "      <td>0.289648</td>\n",
              "      <td>0.315545</td>\n",
              "      <td>0.27320</td>\n",
              "      <td>0.26076</td>\n",
              "      <td>0.32446</td>\n",
              "      <td>0.381398</td>\n",
              "      <td>0.373424</td>\n",
              "      <td>0.195709</td>\n",
              "      <td>0.774425</td>\n",
              "      <td>3005.09</td>\n",
              "    </tr>\n",
              "    <tr>\n",
              "      <th>3</th>\n",
              "      <td>10</td>\n",
              "      <td>B</td>\n",
              "      <td>B</td>\n",
              "      <td>A</td>\n",
              "      <td>B</td>\n",
              "      <td>A</td>\n",
              "      <td>A</td>\n",
              "      <td>A</td>\n",
              "      <td>A</td>\n",
              "      <td>B</td>\n",
              "      <td>...</td>\n",
              "      <td>0.440945</td>\n",
              "      <td>0.391128</td>\n",
              "      <td>0.31796</td>\n",
              "      <td>0.32128</td>\n",
              "      <td>0.44467</td>\n",
              "      <td>0.327915</td>\n",
              "      <td>0.321570</td>\n",
              "      <td>0.605077</td>\n",
              "      <td>0.602642</td>\n",
              "      <td>939.85</td>\n",
              "    </tr>\n",
              "    <tr>\n",
              "      <th>4</th>\n",
              "      <td>11</td>\n",
              "      <td>A</td>\n",
              "      <td>B</td>\n",
              "      <td>A</td>\n",
              "      <td>B</td>\n",
              "      <td>A</td>\n",
              "      <td>A</td>\n",
              "      <td>A</td>\n",
              "      <td>A</td>\n",
              "      <td>B</td>\n",
              "      <td>...</td>\n",
              "      <td>0.178193</td>\n",
              "      <td>0.247408</td>\n",
              "      <td>0.24564</td>\n",
              "      <td>0.22089</td>\n",
              "      <td>0.21230</td>\n",
              "      <td>0.204687</td>\n",
              "      <td>0.202213</td>\n",
              "      <td>0.246011</td>\n",
              "      <td>0.432606</td>\n",
              "      <td>2763.85</td>\n",
              "    </tr>\n",
              "  </tbody>\n",
              "</table>\n",
              "<p>5 rows × 132 columns</p>\n",
              "</div>\n",
              "    <div class=\"colab-df-buttons\">\n",
              "\n",
              "  <div class=\"colab-df-container\">\n",
              "    <button class=\"colab-df-convert\" onclick=\"convertToInteractive('df-22df4869-6c38-4c45-993d-042b485ffef7')\"\n",
              "            title=\"Convert this dataframe to an interactive table.\"\n",
              "            style=\"display:none;\">\n",
              "\n",
              "  <svg xmlns=\"http://www.w3.org/2000/svg\" height=\"24px\" viewBox=\"0 -960 960 960\">\n",
              "    <path d=\"M120-120v-720h720v720H120Zm60-500h600v-160H180v160Zm220 220h160v-160H400v160Zm0 220h160v-160H400v160ZM180-400h160v-160H180v160Zm440 0h160v-160H620v160ZM180-180h160v-160H180v160Zm440 0h160v-160H620v160Z\"/>\n",
              "  </svg>\n",
              "    </button>\n",
              "\n",
              "  <style>\n",
              "    .colab-df-container {\n",
              "      display:flex;\n",
              "      gap: 12px;\n",
              "    }\n",
              "\n",
              "    .colab-df-convert {\n",
              "      background-color: #E8F0FE;\n",
              "      border: none;\n",
              "      border-radius: 50%;\n",
              "      cursor: pointer;\n",
              "      display: none;\n",
              "      fill: #1967D2;\n",
              "      height: 32px;\n",
              "      padding: 0 0 0 0;\n",
              "      width: 32px;\n",
              "    }\n",
              "\n",
              "    .colab-df-convert:hover {\n",
              "      background-color: #E2EBFA;\n",
              "      box-shadow: 0px 1px 2px rgba(60, 64, 67, 0.3), 0px 1px 3px 1px rgba(60, 64, 67, 0.15);\n",
              "      fill: #174EA6;\n",
              "    }\n",
              "\n",
              "    .colab-df-buttons div {\n",
              "      margin-bottom: 4px;\n",
              "    }\n",
              "\n",
              "    [theme=dark] .colab-df-convert {\n",
              "      background-color: #3B4455;\n",
              "      fill: #D2E3FC;\n",
              "    }\n",
              "\n",
              "    [theme=dark] .colab-df-convert:hover {\n",
              "      background-color: #434B5C;\n",
              "      box-shadow: 0px 1px 3px 1px rgba(0, 0, 0, 0.15);\n",
              "      filter: drop-shadow(0px 1px 2px rgba(0, 0, 0, 0.3));\n",
              "      fill: #FFFFFF;\n",
              "    }\n",
              "  </style>\n",
              "\n",
              "    <script>\n",
              "      const buttonEl =\n",
              "        document.querySelector('#df-22df4869-6c38-4c45-993d-042b485ffef7 button.colab-df-convert');\n",
              "      buttonEl.style.display =\n",
              "        google.colab.kernel.accessAllowed ? 'block' : 'none';\n",
              "\n",
              "      async function convertToInteractive(key) {\n",
              "        const element = document.querySelector('#df-22df4869-6c38-4c45-993d-042b485ffef7');\n",
              "        const dataTable =\n",
              "          await google.colab.kernel.invokeFunction('convertToInteractive',\n",
              "                                                    [key], {});\n",
              "        if (!dataTable) return;\n",
              "\n",
              "        const docLinkHtml = 'Like what you see? Visit the ' +\n",
              "          '<a target=\"_blank\" href=https://colab.research.google.com/notebooks/data_table.ipynb>data table notebook</a>'\n",
              "          + ' to learn more about interactive tables.';\n",
              "        element.innerHTML = '';\n",
              "        dataTable['output_type'] = 'display_data';\n",
              "        await google.colab.output.renderOutput(dataTable, element);\n",
              "        const docLink = document.createElement('div');\n",
              "        docLink.innerHTML = docLinkHtml;\n",
              "        element.appendChild(docLink);\n",
              "      }\n",
              "    </script>\n",
              "  </div>\n",
              "\n",
              "\n",
              "<div id=\"df-60152eb7-97be-4a30-8603-24c42f8a0d28\">\n",
              "  <button class=\"colab-df-quickchart\" onclick=\"quickchart('df-60152eb7-97be-4a30-8603-24c42f8a0d28')\"\n",
              "            title=\"Suggest charts.\"\n",
              "            style=\"display:none;\">\n",
              "\n",
              "<svg xmlns=\"http://www.w3.org/2000/svg\" height=\"24px\"viewBox=\"0 0 24 24\"\n",
              "     width=\"24px\">\n",
              "    <g>\n",
              "        <path d=\"M19 3H5c-1.1 0-2 .9-2 2v14c0 1.1.9 2 2 2h14c1.1 0 2-.9 2-2V5c0-1.1-.9-2-2-2zM9 17H7v-7h2v7zm4 0h-2V7h2v10zm4 0h-2v-4h2v4z\"/>\n",
              "    </g>\n",
              "</svg>\n",
              "  </button>\n",
              "\n",
              "<style>\n",
              "  .colab-df-quickchart {\n",
              "      --bg-color: #E8F0FE;\n",
              "      --fill-color: #1967D2;\n",
              "      --hover-bg-color: #E2EBFA;\n",
              "      --hover-fill-color: #174EA6;\n",
              "      --disabled-fill-color: #AAA;\n",
              "      --disabled-bg-color: #DDD;\n",
              "  }\n",
              "\n",
              "  [theme=dark] .colab-df-quickchart {\n",
              "      --bg-color: #3B4455;\n",
              "      --fill-color: #D2E3FC;\n",
              "      --hover-bg-color: #434B5C;\n",
              "      --hover-fill-color: #FFFFFF;\n",
              "      --disabled-bg-color: #3B4455;\n",
              "      --disabled-fill-color: #666;\n",
              "  }\n",
              "\n",
              "  .colab-df-quickchart {\n",
              "    background-color: var(--bg-color);\n",
              "    border: none;\n",
              "    border-radius: 50%;\n",
              "    cursor: pointer;\n",
              "    display: none;\n",
              "    fill: var(--fill-color);\n",
              "    height: 32px;\n",
              "    padding: 0;\n",
              "    width: 32px;\n",
              "  }\n",
              "\n",
              "  .colab-df-quickchart:hover {\n",
              "    background-color: var(--hover-bg-color);\n",
              "    box-shadow: 0 1px 2px rgba(60, 64, 67, 0.3), 0 1px 3px 1px rgba(60, 64, 67, 0.15);\n",
              "    fill: var(--button-hover-fill-color);\n",
              "  }\n",
              "\n",
              "  .colab-df-quickchart-complete:disabled,\n",
              "  .colab-df-quickchart-complete:disabled:hover {\n",
              "    background-color: var(--disabled-bg-color);\n",
              "    fill: var(--disabled-fill-color);\n",
              "    box-shadow: none;\n",
              "  }\n",
              "\n",
              "  .colab-df-spinner {\n",
              "    border: 2px solid var(--fill-color);\n",
              "    border-color: transparent;\n",
              "    border-bottom-color: var(--fill-color);\n",
              "    animation:\n",
              "      spin 1s steps(1) infinite;\n",
              "  }\n",
              "\n",
              "  @keyframes spin {\n",
              "    0% {\n",
              "      border-color: transparent;\n",
              "      border-bottom-color: var(--fill-color);\n",
              "      border-left-color: var(--fill-color);\n",
              "    }\n",
              "    20% {\n",
              "      border-color: transparent;\n",
              "      border-left-color: var(--fill-color);\n",
              "      border-top-color: var(--fill-color);\n",
              "    }\n",
              "    30% {\n",
              "      border-color: transparent;\n",
              "      border-left-color: var(--fill-color);\n",
              "      border-top-color: var(--fill-color);\n",
              "      border-right-color: var(--fill-color);\n",
              "    }\n",
              "    40% {\n",
              "      border-color: transparent;\n",
              "      border-right-color: var(--fill-color);\n",
              "      border-top-color: var(--fill-color);\n",
              "    }\n",
              "    60% {\n",
              "      border-color: transparent;\n",
              "      border-right-color: var(--fill-color);\n",
              "    }\n",
              "    80% {\n",
              "      border-color: transparent;\n",
              "      border-right-color: var(--fill-color);\n",
              "      border-bottom-color: var(--fill-color);\n",
              "    }\n",
              "    90% {\n",
              "      border-color: transparent;\n",
              "      border-bottom-color: var(--fill-color);\n",
              "    }\n",
              "  }\n",
              "</style>\n",
              "\n",
              "  <script>\n",
              "    async function quickchart(key) {\n",
              "      const quickchartButtonEl =\n",
              "        document.querySelector('#' + key + ' button');\n",
              "      quickchartButtonEl.disabled = true;  // To prevent multiple clicks.\n",
              "      quickchartButtonEl.classList.add('colab-df-spinner');\n",
              "      try {\n",
              "        const charts = await google.colab.kernel.invokeFunction(\n",
              "            'suggestCharts', [key], {});\n",
              "      } catch (error) {\n",
              "        console.error('Error during call to suggestCharts:', error);\n",
              "      }\n",
              "      quickchartButtonEl.classList.remove('colab-df-spinner');\n",
              "      quickchartButtonEl.classList.add('colab-df-quickchart-complete');\n",
              "    }\n",
              "    (() => {\n",
              "      let quickchartButtonEl =\n",
              "        document.querySelector('#df-60152eb7-97be-4a30-8603-24c42f8a0d28 button');\n",
              "      quickchartButtonEl.style.display =\n",
              "        google.colab.kernel.accessAllowed ? 'block' : 'none';\n",
              "    })();\n",
              "  </script>\n",
              "</div>\n",
              "    </div>\n",
              "  </div>\n"
            ]
          },
          "metadata": {},
          "execution_count": 5
        }
      ],
      "source": [
        "df.head()"
      ]
    },
    {
      "cell_type": "code",
      "execution_count": null,
      "metadata": {
        "colab": {
          "base_uri": "https://localhost:8080/",
          "height": 320
        },
        "id": "aJwUTJVIbqdx",
        "outputId": "3a8ab1f0-1e20-4997-a656-b341a0b36772"
      },
      "outputs": [
        {
          "output_type": "execute_result",
          "data": {
            "text/plain": [
              "                  id          cont1          cont2          cont3  \\\n",
              "count  188317.000000  188317.000000  188317.000000  188317.000000   \n",
              "mean   294136.546440       0.493862       0.507190       0.498918   \n",
              "std    169336.357671       0.187640       0.207201       0.202105   \n",
              "min         1.000000       0.000016       0.001149       0.002634   \n",
              "25%    147748.000000       0.346090       0.358319       0.336963   \n",
              "50%    294542.000000       0.475784       0.555782       0.527991   \n",
              "75%    440682.000000       0.623912       0.681761       0.634224   \n",
              "max    587633.000000       0.984975       0.862654       0.944251   \n",
              "\n",
              "               cont4          cont5          cont6          cont7  \\\n",
              "count  188317.000000  188317.000000  188317.000000  188317.000000   \n",
              "mean        0.491814       0.487429       0.490946       0.484971   \n",
              "std         0.211292       0.209027       0.205272       0.178450   \n",
              "min         0.176921       0.281143       0.012683       0.069503   \n",
              "25%         0.327354       0.281143       0.336105       0.350175   \n",
              "50%         0.452887       0.422268       0.440945       0.438285   \n",
              "75%         0.652072       0.643315       0.655021       0.591045   \n",
              "max         0.954297       0.983674       0.997162       1.000000   \n",
              "\n",
              "               cont8          cont9         cont10         cont11  \\\n",
              "count  188317.000000  188317.000000  188317.000000  188317.000000   \n",
              "mean        0.486439       0.485507       0.498067       0.493512   \n",
              "std         0.199370       0.181660       0.185876       0.209736   \n",
              "min         0.236880       0.000080       0.000000       0.035321   \n",
              "25%         0.312800       0.358970       0.364580       0.310961   \n",
              "50%         0.441060       0.441450       0.461190       0.457203   \n",
              "75%         0.623580       0.566820       0.614590       0.678924   \n",
              "max         0.980200       0.995400       0.994980       0.998742   \n",
              "\n",
              "              cont12         cont13         cont14           loss  \n",
              "count  188317.000000  188317.000000  188317.000000  188317.000000  \n",
              "mean        0.493152       0.493139       0.495718    3037.346151  \n",
              "std         0.209426       0.212777       0.222488    2904.091574  \n",
              "min         0.036232       0.000228       0.179722       0.670000  \n",
              "25%         0.311661       0.315758       0.294610    1204.460000  \n",
              "50%         0.462286       0.363547       0.407403    2115.580000  \n",
              "75%         0.675759       0.689974       0.724623    3864.050000  \n",
              "max         0.998484       0.988494       0.844848  121012.250000  "
            ],
            "text/html": [
              "\n",
              "  <div id=\"df-45dd8f89-18e6-4050-be5c-301014a2b062\" class=\"colab-df-container\">\n",
              "    <div>\n",
              "<style scoped>\n",
              "    .dataframe tbody tr th:only-of-type {\n",
              "        vertical-align: middle;\n",
              "    }\n",
              "\n",
              "    .dataframe tbody tr th {\n",
              "        vertical-align: top;\n",
              "    }\n",
              "\n",
              "    .dataframe thead th {\n",
              "        text-align: right;\n",
              "    }\n",
              "</style>\n",
              "<table border=\"1\" class=\"dataframe\">\n",
              "  <thead>\n",
              "    <tr style=\"text-align: right;\">\n",
              "      <th></th>\n",
              "      <th>id</th>\n",
              "      <th>cont1</th>\n",
              "      <th>cont2</th>\n",
              "      <th>cont3</th>\n",
              "      <th>cont4</th>\n",
              "      <th>cont5</th>\n",
              "      <th>cont6</th>\n",
              "      <th>cont7</th>\n",
              "      <th>cont8</th>\n",
              "      <th>cont9</th>\n",
              "      <th>cont10</th>\n",
              "      <th>cont11</th>\n",
              "      <th>cont12</th>\n",
              "      <th>cont13</th>\n",
              "      <th>cont14</th>\n",
              "      <th>loss</th>\n",
              "    </tr>\n",
              "  </thead>\n",
              "  <tbody>\n",
              "    <tr>\n",
              "      <th>count</th>\n",
              "      <td>188317.000000</td>\n",
              "      <td>188317.000000</td>\n",
              "      <td>188317.000000</td>\n",
              "      <td>188317.000000</td>\n",
              "      <td>188317.000000</td>\n",
              "      <td>188317.000000</td>\n",
              "      <td>188317.000000</td>\n",
              "      <td>188317.000000</td>\n",
              "      <td>188317.000000</td>\n",
              "      <td>188317.000000</td>\n",
              "      <td>188317.000000</td>\n",
              "      <td>188317.000000</td>\n",
              "      <td>188317.000000</td>\n",
              "      <td>188317.000000</td>\n",
              "      <td>188317.000000</td>\n",
              "      <td>188317.000000</td>\n",
              "    </tr>\n",
              "    <tr>\n",
              "      <th>mean</th>\n",
              "      <td>294136.546440</td>\n",
              "      <td>0.493862</td>\n",
              "      <td>0.507190</td>\n",
              "      <td>0.498918</td>\n",
              "      <td>0.491814</td>\n",
              "      <td>0.487429</td>\n",
              "      <td>0.490946</td>\n",
              "      <td>0.484971</td>\n",
              "      <td>0.486439</td>\n",
              "      <td>0.485507</td>\n",
              "      <td>0.498067</td>\n",
              "      <td>0.493512</td>\n",
              "      <td>0.493152</td>\n",
              "      <td>0.493139</td>\n",
              "      <td>0.495718</td>\n",
              "      <td>3037.346151</td>\n",
              "    </tr>\n",
              "    <tr>\n",
              "      <th>std</th>\n",
              "      <td>169336.357671</td>\n",
              "      <td>0.187640</td>\n",
              "      <td>0.207201</td>\n",
              "      <td>0.202105</td>\n",
              "      <td>0.211292</td>\n",
              "      <td>0.209027</td>\n",
              "      <td>0.205272</td>\n",
              "      <td>0.178450</td>\n",
              "      <td>0.199370</td>\n",
              "      <td>0.181660</td>\n",
              "      <td>0.185876</td>\n",
              "      <td>0.209736</td>\n",
              "      <td>0.209426</td>\n",
              "      <td>0.212777</td>\n",
              "      <td>0.222488</td>\n",
              "      <td>2904.091574</td>\n",
              "    </tr>\n",
              "    <tr>\n",
              "      <th>min</th>\n",
              "      <td>1.000000</td>\n",
              "      <td>0.000016</td>\n",
              "      <td>0.001149</td>\n",
              "      <td>0.002634</td>\n",
              "      <td>0.176921</td>\n",
              "      <td>0.281143</td>\n",
              "      <td>0.012683</td>\n",
              "      <td>0.069503</td>\n",
              "      <td>0.236880</td>\n",
              "      <td>0.000080</td>\n",
              "      <td>0.000000</td>\n",
              "      <td>0.035321</td>\n",
              "      <td>0.036232</td>\n",
              "      <td>0.000228</td>\n",
              "      <td>0.179722</td>\n",
              "      <td>0.670000</td>\n",
              "    </tr>\n",
              "    <tr>\n",
              "      <th>25%</th>\n",
              "      <td>147748.000000</td>\n",
              "      <td>0.346090</td>\n",
              "      <td>0.358319</td>\n",
              "      <td>0.336963</td>\n",
              "      <td>0.327354</td>\n",
              "      <td>0.281143</td>\n",
              "      <td>0.336105</td>\n",
              "      <td>0.350175</td>\n",
              "      <td>0.312800</td>\n",
              "      <td>0.358970</td>\n",
              "      <td>0.364580</td>\n",
              "      <td>0.310961</td>\n",
              "      <td>0.311661</td>\n",
              "      <td>0.315758</td>\n",
              "      <td>0.294610</td>\n",
              "      <td>1204.460000</td>\n",
              "    </tr>\n",
              "    <tr>\n",
              "      <th>50%</th>\n",
              "      <td>294542.000000</td>\n",
              "      <td>0.475784</td>\n",
              "      <td>0.555782</td>\n",
              "      <td>0.527991</td>\n",
              "      <td>0.452887</td>\n",
              "      <td>0.422268</td>\n",
              "      <td>0.440945</td>\n",
              "      <td>0.438285</td>\n",
              "      <td>0.441060</td>\n",
              "      <td>0.441450</td>\n",
              "      <td>0.461190</td>\n",
              "      <td>0.457203</td>\n",
              "      <td>0.462286</td>\n",
              "      <td>0.363547</td>\n",
              "      <td>0.407403</td>\n",
              "      <td>2115.580000</td>\n",
              "    </tr>\n",
              "    <tr>\n",
              "      <th>75%</th>\n",
              "      <td>440682.000000</td>\n",
              "      <td>0.623912</td>\n",
              "      <td>0.681761</td>\n",
              "      <td>0.634224</td>\n",
              "      <td>0.652072</td>\n",
              "      <td>0.643315</td>\n",
              "      <td>0.655021</td>\n",
              "      <td>0.591045</td>\n",
              "      <td>0.623580</td>\n",
              "      <td>0.566820</td>\n",
              "      <td>0.614590</td>\n",
              "      <td>0.678924</td>\n",
              "      <td>0.675759</td>\n",
              "      <td>0.689974</td>\n",
              "      <td>0.724623</td>\n",
              "      <td>3864.050000</td>\n",
              "    </tr>\n",
              "    <tr>\n",
              "      <th>max</th>\n",
              "      <td>587633.000000</td>\n",
              "      <td>0.984975</td>\n",
              "      <td>0.862654</td>\n",
              "      <td>0.944251</td>\n",
              "      <td>0.954297</td>\n",
              "      <td>0.983674</td>\n",
              "      <td>0.997162</td>\n",
              "      <td>1.000000</td>\n",
              "      <td>0.980200</td>\n",
              "      <td>0.995400</td>\n",
              "      <td>0.994980</td>\n",
              "      <td>0.998742</td>\n",
              "      <td>0.998484</td>\n",
              "      <td>0.988494</td>\n",
              "      <td>0.844848</td>\n",
              "      <td>121012.250000</td>\n",
              "    </tr>\n",
              "  </tbody>\n",
              "</table>\n",
              "</div>\n",
              "    <div class=\"colab-df-buttons\">\n",
              "\n",
              "  <div class=\"colab-df-container\">\n",
              "    <button class=\"colab-df-convert\" onclick=\"convertToInteractive('df-45dd8f89-18e6-4050-be5c-301014a2b062')\"\n",
              "            title=\"Convert this dataframe to an interactive table.\"\n",
              "            style=\"display:none;\">\n",
              "\n",
              "  <svg xmlns=\"http://www.w3.org/2000/svg\" height=\"24px\" viewBox=\"0 -960 960 960\">\n",
              "    <path d=\"M120-120v-720h720v720H120Zm60-500h600v-160H180v160Zm220 220h160v-160H400v160Zm0 220h160v-160H400v160ZM180-400h160v-160H180v160Zm440 0h160v-160H620v160ZM180-180h160v-160H180v160Zm440 0h160v-160H620v160Z\"/>\n",
              "  </svg>\n",
              "    </button>\n",
              "\n",
              "  <style>\n",
              "    .colab-df-container {\n",
              "      display:flex;\n",
              "      gap: 12px;\n",
              "    }\n",
              "\n",
              "    .colab-df-convert {\n",
              "      background-color: #E8F0FE;\n",
              "      border: none;\n",
              "      border-radius: 50%;\n",
              "      cursor: pointer;\n",
              "      display: none;\n",
              "      fill: #1967D2;\n",
              "      height: 32px;\n",
              "      padding: 0 0 0 0;\n",
              "      width: 32px;\n",
              "    }\n",
              "\n",
              "    .colab-df-convert:hover {\n",
              "      background-color: #E2EBFA;\n",
              "      box-shadow: 0px 1px 2px rgba(60, 64, 67, 0.3), 0px 1px 3px 1px rgba(60, 64, 67, 0.15);\n",
              "      fill: #174EA6;\n",
              "    }\n",
              "\n",
              "    .colab-df-buttons div {\n",
              "      margin-bottom: 4px;\n",
              "    }\n",
              "\n",
              "    [theme=dark] .colab-df-convert {\n",
              "      background-color: #3B4455;\n",
              "      fill: #D2E3FC;\n",
              "    }\n",
              "\n",
              "    [theme=dark] .colab-df-convert:hover {\n",
              "      background-color: #434B5C;\n",
              "      box-shadow: 0px 1px 3px 1px rgba(0, 0, 0, 0.15);\n",
              "      filter: drop-shadow(0px 1px 2px rgba(0, 0, 0, 0.3));\n",
              "      fill: #FFFFFF;\n",
              "    }\n",
              "  </style>\n",
              "\n",
              "    <script>\n",
              "      const buttonEl =\n",
              "        document.querySelector('#df-45dd8f89-18e6-4050-be5c-301014a2b062 button.colab-df-convert');\n",
              "      buttonEl.style.display =\n",
              "        google.colab.kernel.accessAllowed ? 'block' : 'none';\n",
              "\n",
              "      async function convertToInteractive(key) {\n",
              "        const element = document.querySelector('#df-45dd8f89-18e6-4050-be5c-301014a2b062');\n",
              "        const dataTable =\n",
              "          await google.colab.kernel.invokeFunction('convertToInteractive',\n",
              "                                                    [key], {});\n",
              "        if (!dataTable) return;\n",
              "\n",
              "        const docLinkHtml = 'Like what you see? Visit the ' +\n",
              "          '<a target=\"_blank\" href=https://colab.research.google.com/notebooks/data_table.ipynb>data table notebook</a>'\n",
              "          + ' to learn more about interactive tables.';\n",
              "        element.innerHTML = '';\n",
              "        dataTable['output_type'] = 'display_data';\n",
              "        await google.colab.output.renderOutput(dataTable, element);\n",
              "        const docLink = document.createElement('div');\n",
              "        docLink.innerHTML = docLinkHtml;\n",
              "        element.appendChild(docLink);\n",
              "      }\n",
              "    </script>\n",
              "  </div>\n",
              "\n",
              "\n",
              "<div id=\"df-87e59cfd-8bdd-4f09-8721-2af89e268e86\">\n",
              "  <button class=\"colab-df-quickchart\" onclick=\"quickchart('df-87e59cfd-8bdd-4f09-8721-2af89e268e86')\"\n",
              "            title=\"Suggest charts.\"\n",
              "            style=\"display:none;\">\n",
              "\n",
              "<svg xmlns=\"http://www.w3.org/2000/svg\" height=\"24px\"viewBox=\"0 0 24 24\"\n",
              "     width=\"24px\">\n",
              "    <g>\n",
              "        <path d=\"M19 3H5c-1.1 0-2 .9-2 2v14c0 1.1.9 2 2 2h14c1.1 0 2-.9 2-2V5c0-1.1-.9-2-2-2zM9 17H7v-7h2v7zm4 0h-2V7h2v10zm4 0h-2v-4h2v4z\"/>\n",
              "    </g>\n",
              "</svg>\n",
              "  </button>\n",
              "\n",
              "<style>\n",
              "  .colab-df-quickchart {\n",
              "      --bg-color: #E8F0FE;\n",
              "      --fill-color: #1967D2;\n",
              "      --hover-bg-color: #E2EBFA;\n",
              "      --hover-fill-color: #174EA6;\n",
              "      --disabled-fill-color: #AAA;\n",
              "      --disabled-bg-color: #DDD;\n",
              "  }\n",
              "\n",
              "  [theme=dark] .colab-df-quickchart {\n",
              "      --bg-color: #3B4455;\n",
              "      --fill-color: #D2E3FC;\n",
              "      --hover-bg-color: #434B5C;\n",
              "      --hover-fill-color: #FFFFFF;\n",
              "      --disabled-bg-color: #3B4455;\n",
              "      --disabled-fill-color: #666;\n",
              "  }\n",
              "\n",
              "  .colab-df-quickchart {\n",
              "    background-color: var(--bg-color);\n",
              "    border: none;\n",
              "    border-radius: 50%;\n",
              "    cursor: pointer;\n",
              "    display: none;\n",
              "    fill: var(--fill-color);\n",
              "    height: 32px;\n",
              "    padding: 0;\n",
              "    width: 32px;\n",
              "  }\n",
              "\n",
              "  .colab-df-quickchart:hover {\n",
              "    background-color: var(--hover-bg-color);\n",
              "    box-shadow: 0 1px 2px rgba(60, 64, 67, 0.3), 0 1px 3px 1px rgba(60, 64, 67, 0.15);\n",
              "    fill: var(--button-hover-fill-color);\n",
              "  }\n",
              "\n",
              "  .colab-df-quickchart-complete:disabled,\n",
              "  .colab-df-quickchart-complete:disabled:hover {\n",
              "    background-color: var(--disabled-bg-color);\n",
              "    fill: var(--disabled-fill-color);\n",
              "    box-shadow: none;\n",
              "  }\n",
              "\n",
              "  .colab-df-spinner {\n",
              "    border: 2px solid var(--fill-color);\n",
              "    border-color: transparent;\n",
              "    border-bottom-color: var(--fill-color);\n",
              "    animation:\n",
              "      spin 1s steps(1) infinite;\n",
              "  }\n",
              "\n",
              "  @keyframes spin {\n",
              "    0% {\n",
              "      border-color: transparent;\n",
              "      border-bottom-color: var(--fill-color);\n",
              "      border-left-color: var(--fill-color);\n",
              "    }\n",
              "    20% {\n",
              "      border-color: transparent;\n",
              "      border-left-color: var(--fill-color);\n",
              "      border-top-color: var(--fill-color);\n",
              "    }\n",
              "    30% {\n",
              "      border-color: transparent;\n",
              "      border-left-color: var(--fill-color);\n",
              "      border-top-color: var(--fill-color);\n",
              "      border-right-color: var(--fill-color);\n",
              "    }\n",
              "    40% {\n",
              "      border-color: transparent;\n",
              "      border-right-color: var(--fill-color);\n",
              "      border-top-color: var(--fill-color);\n",
              "    }\n",
              "    60% {\n",
              "      border-color: transparent;\n",
              "      border-right-color: var(--fill-color);\n",
              "    }\n",
              "    80% {\n",
              "      border-color: transparent;\n",
              "      border-right-color: var(--fill-color);\n",
              "      border-bottom-color: var(--fill-color);\n",
              "    }\n",
              "    90% {\n",
              "      border-color: transparent;\n",
              "      border-bottom-color: var(--fill-color);\n",
              "    }\n",
              "  }\n",
              "</style>\n",
              "\n",
              "  <script>\n",
              "    async function quickchart(key) {\n",
              "      const quickchartButtonEl =\n",
              "        document.querySelector('#' + key + ' button');\n",
              "      quickchartButtonEl.disabled = true;  // To prevent multiple clicks.\n",
              "      quickchartButtonEl.classList.add('colab-df-spinner');\n",
              "      try {\n",
              "        const charts = await google.colab.kernel.invokeFunction(\n",
              "            'suggestCharts', [key], {});\n",
              "      } catch (error) {\n",
              "        console.error('Error during call to suggestCharts:', error);\n",
              "      }\n",
              "      quickchartButtonEl.classList.remove('colab-df-spinner');\n",
              "      quickchartButtonEl.classList.add('colab-df-quickchart-complete');\n",
              "    }\n",
              "    (() => {\n",
              "      let quickchartButtonEl =\n",
              "        document.querySelector('#df-87e59cfd-8bdd-4f09-8721-2af89e268e86 button');\n",
              "      quickchartButtonEl.style.display =\n",
              "        google.colab.kernel.accessAllowed ? 'block' : 'none';\n",
              "    })();\n",
              "  </script>\n",
              "</div>\n",
              "    </div>\n",
              "  </div>\n"
            ]
          },
          "metadata": {},
          "execution_count": 6
        }
      ],
      "source": [
        "df.describe()"
      ]
    },
    {
      "cell_type": "markdown",
      "metadata": {
        "id": "IXlm-EAtJfYT"
      },
      "source": [
        "So it is a large data set, and it is particularly large in the $p$ direction -- that is, there are many co-variates. So possibly shrinkage and selection will come in handy here.  One quick comment about the dataset and many Kaggle competitions more generally:  We don't really know what the variables `catx' and 'contx' stand for, so it is difficult to use experience/intuition in building a model -- which is an important aspect in real-world applications.  So performing well in a kaggle competition does not necessarily qualify a data scientist to work in the insurance industry."
      ]
    },
    {
      "cell_type": "markdown",
      "metadata": {
        "id": "evPFU8RwJpLA"
      },
      "source": [
        "## Preparing the data\n",
        "\n",
        "There are a few very small losses that are outliers.  We thus disregard losses that are very small and  keep only records with loss greater or equal to $\\$100$, also because we are interested in these in actual settings."
      ]
    },
    {
      "cell_type": "code",
      "execution_count": null,
      "metadata": {
        "id": "ohBtee79W8Vt"
      },
      "outputs": [],
      "source": [
        "df = df[df['loss']>100]"
      ]
    },
    {
      "cell_type": "code",
      "execution_count": null,
      "metadata": {
        "id": "vmJtnWKBnCCU"
      },
      "outputs": [],
      "source": [
        "del df['id']"
      ]
    },
    {
      "cell_type": "markdown",
      "source": [
        "I will work with the whole dataset--although running this will take a bit. It's easier to work with a reduced dataset, as I had mentioned."
      ],
      "metadata": {
        "id": "aaPXZZGrULbb"
      }
    },
    {
      "cell_type": "code",
      "execution_count": null,
      "metadata": {
        "id": "GNhyl2QznAl4"
      },
      "outputs": [],
      "source": [
        "#df = df.sample(n=50000, random_state=45)"
      ]
    },
    {
      "cell_type": "markdown",
      "metadata": {
        "id": "qdXL1JySKASA"
      },
      "source": [
        "We convert categoricals into dummies:"
      ]
    },
    {
      "cell_type": "code",
      "execution_count": null,
      "metadata": {
        "id": "2M_UC8hdW8Vu"
      },
      "outputs": [],
      "source": [
        "objects = []\n",
        "for c in df.columns:\n",
        "    if str(df[c].dtype) == 'object':\n",
        "        objects.append(c)\n",
        "X_ = df.drop(objects, axis = 1).astype('float64')\n",
        "X_ = X_.drop(['loss'], axis = 1)\n",
        "dummies = pd.get_dummies(df[objects], drop_first=True)\n",
        "X = pd.concat([X_, dummies], axis = 1)\n",
        "y = df.loss"
      ]
    },
    {
      "cell_type": "markdown",
      "metadata": {
        "id": "gZjiAnGRKMw4"
      },
      "source": [
        "Let's look at out features:"
      ]
    },
    {
      "cell_type": "code",
      "execution_count": null,
      "metadata": {
        "colab": {
          "base_uri": "https://localhost:8080/",
          "height": 443
        },
        "id": "p-Qt-7U7W8Vv",
        "outputId": "203b2eaa-d007-4f7a-a242-b1504f9b8c6d"
      },
      "outputs": [
        {
          "output_type": "execute_result",
          "data": {
            "text/plain": [
              "          cont1     cont2     cont3     cont4     cont5     cont6     cont7  \\\n",
              "0      0.726300  0.245921  0.187583  0.789639  0.310061  0.718367  0.335060   \n",
              "1      0.330514  0.737068  0.592681  0.614134  0.885834  0.438917  0.436585   \n",
              "2      0.261841  0.358319  0.484196  0.236924  0.397069  0.289648  0.315545   \n",
              "3      0.321594  0.555782  0.527991  0.373816  0.422268  0.440945  0.391128   \n",
              "4      0.273204  0.159990  0.527991  0.473202  0.704268  0.178193  0.247408   \n",
              "...         ...       ...       ...       ...       ...       ...       ...   \n",
              "68312  0.347403  0.785784  0.613660  0.473202  0.939556  0.242437  0.289949   \n",
              "68313  0.507661  0.555782  0.549770  0.802892  0.704268  0.334270  0.382000   \n",
              "68314  0.484469  0.785784  0.792378  0.189137  0.482436  0.345883  0.370534   \n",
              "68315  0.438385  0.422197  0.298977  0.383428  0.340543  0.704364  0.562866   \n",
              "68316  0.907272  0.620805  0.440642  0.821574  0.281143  0.844563  0.533048   \n",
              "\n",
              "         cont8    cont9   cont10  ...  cat116_P  cat116_Q  cat116_R  cat116_S  \\\n",
              "0      0.30260  0.67135  0.83510  ...         0         0         0         0   \n",
              "1      0.60087  0.35127  0.43919  ...         0         0         0         0   \n",
              "2      0.27320  0.26076  0.32446  ...         0         0         0         0   \n",
              "3      0.31796  0.32128  0.44467  ...         0         0         0         0   \n",
              "4      0.24564  0.22089  0.21230  ...         0         0         0         0   \n",
              "...        ...      ...      ...  ...       ...       ...       ...       ...   \n",
              "68312  0.24564  0.30859  0.32935  ...         0         0         0         0   \n",
              "68313  0.63475  0.40455  0.47779  ...         0         0         0         0   \n",
              "68314  0.24564  0.45808  0.47779  ...         0         0         0         0   \n",
              "68315  0.34987  0.44767  0.53881  ...         0         0         0         0   \n",
              "68316  0.97123  0.93383  0.83814  ...         0         0         0         0   \n",
              "\n",
              "       cat116_T  cat116_U  cat116_V  cat116_W  cat116_X  cat116_Y  \n",
              "0             0         0         0         0         0         0  \n",
              "1             0         0         0         0         0         0  \n",
              "2             0         0         0         0         0         0  \n",
              "3             0         0         0         0         0         0  \n",
              "4             0         0         0         0         0         0  \n",
              "...         ...       ...       ...       ...       ...       ...  \n",
              "68312         0         0         0         0         0         0  \n",
              "68313         0         0         0         0         0         0  \n",
              "68314         0         0         0         0         0         0  \n",
              "68315         0         0         0         0         0         0  \n",
              "68316         0         0         0         0         0         0  \n",
              "\n",
              "[188257 rows x 1037 columns]"
            ],
            "text/html": [
              "\n",
              "  <div id=\"df-cc7733e6-933f-49ce-af55-9f8f08d30770\" class=\"colab-df-container\">\n",
              "    <div>\n",
              "<style scoped>\n",
              "    .dataframe tbody tr th:only-of-type {\n",
              "        vertical-align: middle;\n",
              "    }\n",
              "\n",
              "    .dataframe tbody tr th {\n",
              "        vertical-align: top;\n",
              "    }\n",
              "\n",
              "    .dataframe thead th {\n",
              "        text-align: right;\n",
              "    }\n",
              "</style>\n",
              "<table border=\"1\" class=\"dataframe\">\n",
              "  <thead>\n",
              "    <tr style=\"text-align: right;\">\n",
              "      <th></th>\n",
              "      <th>cont1</th>\n",
              "      <th>cont2</th>\n",
              "      <th>cont3</th>\n",
              "      <th>cont4</th>\n",
              "      <th>cont5</th>\n",
              "      <th>cont6</th>\n",
              "      <th>cont7</th>\n",
              "      <th>cont8</th>\n",
              "      <th>cont9</th>\n",
              "      <th>cont10</th>\n",
              "      <th>...</th>\n",
              "      <th>cat116_P</th>\n",
              "      <th>cat116_Q</th>\n",
              "      <th>cat116_R</th>\n",
              "      <th>cat116_S</th>\n",
              "      <th>cat116_T</th>\n",
              "      <th>cat116_U</th>\n",
              "      <th>cat116_V</th>\n",
              "      <th>cat116_W</th>\n",
              "      <th>cat116_X</th>\n",
              "      <th>cat116_Y</th>\n",
              "    </tr>\n",
              "  </thead>\n",
              "  <tbody>\n",
              "    <tr>\n",
              "      <th>0</th>\n",
              "      <td>0.726300</td>\n",
              "      <td>0.245921</td>\n",
              "      <td>0.187583</td>\n",
              "      <td>0.789639</td>\n",
              "      <td>0.310061</td>\n",
              "      <td>0.718367</td>\n",
              "      <td>0.335060</td>\n",
              "      <td>0.30260</td>\n",
              "      <td>0.67135</td>\n",
              "      <td>0.83510</td>\n",
              "      <td>...</td>\n",
              "      <td>0</td>\n",
              "      <td>0</td>\n",
              "      <td>0</td>\n",
              "      <td>0</td>\n",
              "      <td>0</td>\n",
              "      <td>0</td>\n",
              "      <td>0</td>\n",
              "      <td>0</td>\n",
              "      <td>0</td>\n",
              "      <td>0</td>\n",
              "    </tr>\n",
              "    <tr>\n",
              "      <th>1</th>\n",
              "      <td>0.330514</td>\n",
              "      <td>0.737068</td>\n",
              "      <td>0.592681</td>\n",
              "      <td>0.614134</td>\n",
              "      <td>0.885834</td>\n",
              "      <td>0.438917</td>\n",
              "      <td>0.436585</td>\n",
              "      <td>0.60087</td>\n",
              "      <td>0.35127</td>\n",
              "      <td>0.43919</td>\n",
              "      <td>...</td>\n",
              "      <td>0</td>\n",
              "      <td>0</td>\n",
              "      <td>0</td>\n",
              "      <td>0</td>\n",
              "      <td>0</td>\n",
              "      <td>0</td>\n",
              "      <td>0</td>\n",
              "      <td>0</td>\n",
              "      <td>0</td>\n",
              "      <td>0</td>\n",
              "    </tr>\n",
              "    <tr>\n",
              "      <th>2</th>\n",
              "      <td>0.261841</td>\n",
              "      <td>0.358319</td>\n",
              "      <td>0.484196</td>\n",
              "      <td>0.236924</td>\n",
              "      <td>0.397069</td>\n",
              "      <td>0.289648</td>\n",
              "      <td>0.315545</td>\n",
              "      <td>0.27320</td>\n",
              "      <td>0.26076</td>\n",
              "      <td>0.32446</td>\n",
              "      <td>...</td>\n",
              "      <td>0</td>\n",
              "      <td>0</td>\n",
              "      <td>0</td>\n",
              "      <td>0</td>\n",
              "      <td>0</td>\n",
              "      <td>0</td>\n",
              "      <td>0</td>\n",
              "      <td>0</td>\n",
              "      <td>0</td>\n",
              "      <td>0</td>\n",
              "    </tr>\n",
              "    <tr>\n",
              "      <th>3</th>\n",
              "      <td>0.321594</td>\n",
              "      <td>0.555782</td>\n",
              "      <td>0.527991</td>\n",
              "      <td>0.373816</td>\n",
              "      <td>0.422268</td>\n",
              "      <td>0.440945</td>\n",
              "      <td>0.391128</td>\n",
              "      <td>0.31796</td>\n",
              "      <td>0.32128</td>\n",
              "      <td>0.44467</td>\n",
              "      <td>...</td>\n",
              "      <td>0</td>\n",
              "      <td>0</td>\n",
              "      <td>0</td>\n",
              "      <td>0</td>\n",
              "      <td>0</td>\n",
              "      <td>0</td>\n",
              "      <td>0</td>\n",
              "      <td>0</td>\n",
              "      <td>0</td>\n",
              "      <td>0</td>\n",
              "    </tr>\n",
              "    <tr>\n",
              "      <th>4</th>\n",
              "      <td>0.273204</td>\n",
              "      <td>0.159990</td>\n",
              "      <td>0.527991</td>\n",
              "      <td>0.473202</td>\n",
              "      <td>0.704268</td>\n",
              "      <td>0.178193</td>\n",
              "      <td>0.247408</td>\n",
              "      <td>0.24564</td>\n",
              "      <td>0.22089</td>\n",
              "      <td>0.21230</td>\n",
              "      <td>...</td>\n",
              "      <td>0</td>\n",
              "      <td>0</td>\n",
              "      <td>0</td>\n",
              "      <td>0</td>\n",
              "      <td>0</td>\n",
              "      <td>0</td>\n",
              "      <td>0</td>\n",
              "      <td>0</td>\n",
              "      <td>0</td>\n",
              "      <td>0</td>\n",
              "    </tr>\n",
              "    <tr>\n",
              "      <th>...</th>\n",
              "      <td>...</td>\n",
              "      <td>...</td>\n",
              "      <td>...</td>\n",
              "      <td>...</td>\n",
              "      <td>...</td>\n",
              "      <td>...</td>\n",
              "      <td>...</td>\n",
              "      <td>...</td>\n",
              "      <td>...</td>\n",
              "      <td>...</td>\n",
              "      <td>...</td>\n",
              "      <td>...</td>\n",
              "      <td>...</td>\n",
              "      <td>...</td>\n",
              "      <td>...</td>\n",
              "      <td>...</td>\n",
              "      <td>...</td>\n",
              "      <td>...</td>\n",
              "      <td>...</td>\n",
              "      <td>...</td>\n",
              "      <td>...</td>\n",
              "    </tr>\n",
              "    <tr>\n",
              "      <th>68312</th>\n",
              "      <td>0.347403</td>\n",
              "      <td>0.785784</td>\n",
              "      <td>0.613660</td>\n",
              "      <td>0.473202</td>\n",
              "      <td>0.939556</td>\n",
              "      <td>0.242437</td>\n",
              "      <td>0.289949</td>\n",
              "      <td>0.24564</td>\n",
              "      <td>0.30859</td>\n",
              "      <td>0.32935</td>\n",
              "      <td>...</td>\n",
              "      <td>0</td>\n",
              "      <td>0</td>\n",
              "      <td>0</td>\n",
              "      <td>0</td>\n",
              "      <td>0</td>\n",
              "      <td>0</td>\n",
              "      <td>0</td>\n",
              "      <td>0</td>\n",
              "      <td>0</td>\n",
              "      <td>0</td>\n",
              "    </tr>\n",
              "    <tr>\n",
              "      <th>68313</th>\n",
              "      <td>0.507661</td>\n",
              "      <td>0.555782</td>\n",
              "      <td>0.549770</td>\n",
              "      <td>0.802892</td>\n",
              "      <td>0.704268</td>\n",
              "      <td>0.334270</td>\n",
              "      <td>0.382000</td>\n",
              "      <td>0.63475</td>\n",
              "      <td>0.40455</td>\n",
              "      <td>0.47779</td>\n",
              "      <td>...</td>\n",
              "      <td>0</td>\n",
              "      <td>0</td>\n",
              "      <td>0</td>\n",
              "      <td>0</td>\n",
              "      <td>0</td>\n",
              "      <td>0</td>\n",
              "      <td>0</td>\n",
              "      <td>0</td>\n",
              "      <td>0</td>\n",
              "      <td>0</td>\n",
              "    </tr>\n",
              "    <tr>\n",
              "      <th>68314</th>\n",
              "      <td>0.484469</td>\n",
              "      <td>0.785784</td>\n",
              "      <td>0.792378</td>\n",
              "      <td>0.189137</td>\n",
              "      <td>0.482436</td>\n",
              "      <td>0.345883</td>\n",
              "      <td>0.370534</td>\n",
              "      <td>0.24564</td>\n",
              "      <td>0.45808</td>\n",
              "      <td>0.47779</td>\n",
              "      <td>...</td>\n",
              "      <td>0</td>\n",
              "      <td>0</td>\n",
              "      <td>0</td>\n",
              "      <td>0</td>\n",
              "      <td>0</td>\n",
              "      <td>0</td>\n",
              "      <td>0</td>\n",
              "      <td>0</td>\n",
              "      <td>0</td>\n",
              "      <td>0</td>\n",
              "    </tr>\n",
              "    <tr>\n",
              "      <th>68315</th>\n",
              "      <td>0.438385</td>\n",
              "      <td>0.422197</td>\n",
              "      <td>0.298977</td>\n",
              "      <td>0.383428</td>\n",
              "      <td>0.340543</td>\n",
              "      <td>0.704364</td>\n",
              "      <td>0.562866</td>\n",
              "      <td>0.34987</td>\n",
              "      <td>0.44767</td>\n",
              "      <td>0.53881</td>\n",
              "      <td>...</td>\n",
              "      <td>0</td>\n",
              "      <td>0</td>\n",
              "      <td>0</td>\n",
              "      <td>0</td>\n",
              "      <td>0</td>\n",
              "      <td>0</td>\n",
              "      <td>0</td>\n",
              "      <td>0</td>\n",
              "      <td>0</td>\n",
              "      <td>0</td>\n",
              "    </tr>\n",
              "    <tr>\n",
              "      <th>68316</th>\n",
              "      <td>0.907272</td>\n",
              "      <td>0.620805</td>\n",
              "      <td>0.440642</td>\n",
              "      <td>0.821574</td>\n",
              "      <td>0.281143</td>\n",
              "      <td>0.844563</td>\n",
              "      <td>0.533048</td>\n",
              "      <td>0.97123</td>\n",
              "      <td>0.93383</td>\n",
              "      <td>0.83814</td>\n",
              "      <td>...</td>\n",
              "      <td>0</td>\n",
              "      <td>0</td>\n",
              "      <td>0</td>\n",
              "      <td>0</td>\n",
              "      <td>0</td>\n",
              "      <td>0</td>\n",
              "      <td>0</td>\n",
              "      <td>0</td>\n",
              "      <td>0</td>\n",
              "      <td>0</td>\n",
              "    </tr>\n",
              "  </tbody>\n",
              "</table>\n",
              "<p>188257 rows × 1037 columns</p>\n",
              "</div>\n",
              "    <div class=\"colab-df-buttons\">\n",
              "\n",
              "  <div class=\"colab-df-container\">\n",
              "    <button class=\"colab-df-convert\" onclick=\"convertToInteractive('df-cc7733e6-933f-49ce-af55-9f8f08d30770')\"\n",
              "            title=\"Convert this dataframe to an interactive table.\"\n",
              "            style=\"display:none;\">\n",
              "\n",
              "  <svg xmlns=\"http://www.w3.org/2000/svg\" height=\"24px\" viewBox=\"0 -960 960 960\">\n",
              "    <path d=\"M120-120v-720h720v720H120Zm60-500h600v-160H180v160Zm220 220h160v-160H400v160Zm0 220h160v-160H400v160ZM180-400h160v-160H180v160Zm440 0h160v-160H620v160ZM180-180h160v-160H180v160Zm440 0h160v-160H620v160Z\"/>\n",
              "  </svg>\n",
              "    </button>\n",
              "\n",
              "  <style>\n",
              "    .colab-df-container {\n",
              "      display:flex;\n",
              "      gap: 12px;\n",
              "    }\n",
              "\n",
              "    .colab-df-convert {\n",
              "      background-color: #E8F0FE;\n",
              "      border: none;\n",
              "      border-radius: 50%;\n",
              "      cursor: pointer;\n",
              "      display: none;\n",
              "      fill: #1967D2;\n",
              "      height: 32px;\n",
              "      padding: 0 0 0 0;\n",
              "      width: 32px;\n",
              "    }\n",
              "\n",
              "    .colab-df-convert:hover {\n",
              "      background-color: #E2EBFA;\n",
              "      box-shadow: 0px 1px 2px rgba(60, 64, 67, 0.3), 0px 1px 3px 1px rgba(60, 64, 67, 0.15);\n",
              "      fill: #174EA6;\n",
              "    }\n",
              "\n",
              "    .colab-df-buttons div {\n",
              "      margin-bottom: 4px;\n",
              "    }\n",
              "\n",
              "    [theme=dark] .colab-df-convert {\n",
              "      background-color: #3B4455;\n",
              "      fill: #D2E3FC;\n",
              "    }\n",
              "\n",
              "    [theme=dark] .colab-df-convert:hover {\n",
              "      background-color: #434B5C;\n",
              "      box-shadow: 0px 1px 3px 1px rgba(0, 0, 0, 0.15);\n",
              "      filter: drop-shadow(0px 1px 2px rgba(0, 0, 0, 0.3));\n",
              "      fill: #FFFFFF;\n",
              "    }\n",
              "  </style>\n",
              "\n",
              "    <script>\n",
              "      const buttonEl =\n",
              "        document.querySelector('#df-cc7733e6-933f-49ce-af55-9f8f08d30770 button.colab-df-convert');\n",
              "      buttonEl.style.display =\n",
              "        google.colab.kernel.accessAllowed ? 'block' : 'none';\n",
              "\n",
              "      async function convertToInteractive(key) {\n",
              "        const element = document.querySelector('#df-cc7733e6-933f-49ce-af55-9f8f08d30770');\n",
              "        const dataTable =\n",
              "          await google.colab.kernel.invokeFunction('convertToInteractive',\n",
              "                                                    [key], {});\n",
              "        if (!dataTable) return;\n",
              "\n",
              "        const docLinkHtml = 'Like what you see? Visit the ' +\n",
              "          '<a target=\"_blank\" href=https://colab.research.google.com/notebooks/data_table.ipynb>data table notebook</a>'\n",
              "          + ' to learn more about interactive tables.';\n",
              "        element.innerHTML = '';\n",
              "        dataTable['output_type'] = 'display_data';\n",
              "        await google.colab.output.renderOutput(dataTable, element);\n",
              "        const docLink = document.createElement('div');\n",
              "        docLink.innerHTML = docLinkHtml;\n",
              "        element.appendChild(docLink);\n",
              "      }\n",
              "    </script>\n",
              "  </div>\n",
              "\n",
              "\n",
              "<div id=\"df-46c9f187-4238-421a-af80-826a6ebe832c\">\n",
              "  <button class=\"colab-df-quickchart\" onclick=\"quickchart('df-46c9f187-4238-421a-af80-826a6ebe832c')\"\n",
              "            title=\"Suggest charts.\"\n",
              "            style=\"display:none;\">\n",
              "\n",
              "<svg xmlns=\"http://www.w3.org/2000/svg\" height=\"24px\"viewBox=\"0 0 24 24\"\n",
              "     width=\"24px\">\n",
              "    <g>\n",
              "        <path d=\"M19 3H5c-1.1 0-2 .9-2 2v14c0 1.1.9 2 2 2h14c1.1 0 2-.9 2-2V5c0-1.1-.9-2-2-2zM9 17H7v-7h2v7zm4 0h-2V7h2v10zm4 0h-2v-4h2v4z\"/>\n",
              "    </g>\n",
              "</svg>\n",
              "  </button>\n",
              "\n",
              "<style>\n",
              "  .colab-df-quickchart {\n",
              "      --bg-color: #E8F0FE;\n",
              "      --fill-color: #1967D2;\n",
              "      --hover-bg-color: #E2EBFA;\n",
              "      --hover-fill-color: #174EA6;\n",
              "      --disabled-fill-color: #AAA;\n",
              "      --disabled-bg-color: #DDD;\n",
              "  }\n",
              "\n",
              "  [theme=dark] .colab-df-quickchart {\n",
              "      --bg-color: #3B4455;\n",
              "      --fill-color: #D2E3FC;\n",
              "      --hover-bg-color: #434B5C;\n",
              "      --hover-fill-color: #FFFFFF;\n",
              "      --disabled-bg-color: #3B4455;\n",
              "      --disabled-fill-color: #666;\n",
              "  }\n",
              "\n",
              "  .colab-df-quickchart {\n",
              "    background-color: var(--bg-color);\n",
              "    border: none;\n",
              "    border-radius: 50%;\n",
              "    cursor: pointer;\n",
              "    display: none;\n",
              "    fill: var(--fill-color);\n",
              "    height: 32px;\n",
              "    padding: 0;\n",
              "    width: 32px;\n",
              "  }\n",
              "\n",
              "  .colab-df-quickchart:hover {\n",
              "    background-color: var(--hover-bg-color);\n",
              "    box-shadow: 0 1px 2px rgba(60, 64, 67, 0.3), 0 1px 3px 1px rgba(60, 64, 67, 0.15);\n",
              "    fill: var(--button-hover-fill-color);\n",
              "  }\n",
              "\n",
              "  .colab-df-quickchart-complete:disabled,\n",
              "  .colab-df-quickchart-complete:disabled:hover {\n",
              "    background-color: var(--disabled-bg-color);\n",
              "    fill: var(--disabled-fill-color);\n",
              "    box-shadow: none;\n",
              "  }\n",
              "\n",
              "  .colab-df-spinner {\n",
              "    border: 2px solid var(--fill-color);\n",
              "    border-color: transparent;\n",
              "    border-bottom-color: var(--fill-color);\n",
              "    animation:\n",
              "      spin 1s steps(1) infinite;\n",
              "  }\n",
              "\n",
              "  @keyframes spin {\n",
              "    0% {\n",
              "      border-color: transparent;\n",
              "      border-bottom-color: var(--fill-color);\n",
              "      border-left-color: var(--fill-color);\n",
              "    }\n",
              "    20% {\n",
              "      border-color: transparent;\n",
              "      border-left-color: var(--fill-color);\n",
              "      border-top-color: var(--fill-color);\n",
              "    }\n",
              "    30% {\n",
              "      border-color: transparent;\n",
              "      border-left-color: var(--fill-color);\n",
              "      border-top-color: var(--fill-color);\n",
              "      border-right-color: var(--fill-color);\n",
              "    }\n",
              "    40% {\n",
              "      border-color: transparent;\n",
              "      border-right-color: var(--fill-color);\n",
              "      border-top-color: var(--fill-color);\n",
              "    }\n",
              "    60% {\n",
              "      border-color: transparent;\n",
              "      border-right-color: var(--fill-color);\n",
              "    }\n",
              "    80% {\n",
              "      border-color: transparent;\n",
              "      border-right-color: var(--fill-color);\n",
              "      border-bottom-color: var(--fill-color);\n",
              "    }\n",
              "    90% {\n",
              "      border-color: transparent;\n",
              "      border-bottom-color: var(--fill-color);\n",
              "    }\n",
              "  }\n",
              "</style>\n",
              "\n",
              "  <script>\n",
              "    async function quickchart(key) {\n",
              "      const quickchartButtonEl =\n",
              "        document.querySelector('#' + key + ' button');\n",
              "      quickchartButtonEl.disabled = true;  // To prevent multiple clicks.\n",
              "      quickchartButtonEl.classList.add('colab-df-spinner');\n",
              "      try {\n",
              "        const charts = await google.colab.kernel.invokeFunction(\n",
              "            'suggestCharts', [key], {});\n",
              "      } catch (error) {\n",
              "        console.error('Error during call to suggestCharts:', error);\n",
              "      }\n",
              "      quickchartButtonEl.classList.remove('colab-df-spinner');\n",
              "      quickchartButtonEl.classList.add('colab-df-quickchart-complete');\n",
              "    }\n",
              "    (() => {\n",
              "      let quickchartButtonEl =\n",
              "        document.querySelector('#df-46c9f187-4238-421a-af80-826a6ebe832c button');\n",
              "      quickchartButtonEl.style.display =\n",
              "        google.colab.kernel.accessAllowed ? 'block' : 'none';\n",
              "    })();\n",
              "  </script>\n",
              "</div>\n",
              "    </div>\n",
              "  </div>\n"
            ]
          },
          "metadata": {},
          "execution_count": 10
        }
      ],
      "source": [
        "X"
      ]
    },
    {
      "cell_type": "code",
      "execution_count": null,
      "metadata": {
        "colab": {
          "base_uri": "https://localhost:8080/",
          "height": 448
        },
        "id": "k0mADQphFjwY",
        "outputId": "379842f1-566d-49c3-b99c-95b0d0e85cf4"
      },
      "outputs": [
        {
          "output_type": "execute_result",
          "data": {
            "text/plain": [
              "<BarContainer object of 1037 artists>"
            ]
          },
          "metadata": {},
          "execution_count": 11
        },
        {
          "output_type": "display_data",
          "data": {
            "text/plain": [
              "<Figure size 640x480 with 1 Axes>"
            ],
            "image/png": "[encoded data removed]"
          },
          "metadata": {}
        }
      ],
      "source": [
        "plt.bar(X.columns,X.std(axis=0))"
      ]
    },
    {
      "cell_type": "markdown",
      "metadata": {
        "id": "vfpmvK59GgPa"
      },
      "source": [
        "So it seems like all the variables are already at similar scales, so it doesn't seem necessary to normalize the data.\n",
        "\n",
        "We still carry out this step just to make sure."
      ]
    },
    {
      "cell_type": "code",
      "execution_count": null,
      "metadata": {
        "colab": {
          "base_uri": "https://localhost:8080/",
          "height": 448
        },
        "id": "b4hXOlpZHCbZ",
        "outputId": "6cfca06d-2edd-4aaf-d623-01ea8df8bc2d"
      },
      "outputs": [
        {
          "output_type": "execute_result",
          "data": {
            "text/plain": [
              "<BarContainer object of 1037 artists>"
            ]
          },
          "metadata": {},
          "execution_count": 12
        },
        {
          "output_type": "display_data",
          "data": {
            "text/plain": [
              "<Figure size 640x480 with 1 Axes>"
            ],
            "image/png": "[encoded data removed]"
          },
          "metadata": {}
        }
      ],
      "source": [
        "X_org = X\n",
        "scaler = StandardScaler()\n",
        "X = scaler.fit_transform(X)\n",
        "plt.bar(X_org.columns,X.std(axis=0))"
      ]
    },
    {
      "cell_type": "markdown",
      "metadata": {
        "id": "QZsQqWzTHpJG"
      },
      "source": [
        "We see that now the standard deviations of all features are the same at 1."
      ]
    },
    {
      "cell_type": "markdown",
      "metadata": {
        "id": "YgiRVq6NKQRV"
      },
      "source": [
        "We split data into training and test sets:"
      ]
    },
    {
      "cell_type": "code",
      "execution_count": null,
      "metadata": {
        "id": "4_XIc50uW8Vw"
      },
      "outputs": [],
      "source": [
        "X_train, X_test , y_train, y_test = train_test_split(X, y, test_size=0.5, random_state=1)\n",
        "X_val, X_test, y_val, y_test = train_test_split(X_test,y_test,test_size = 0.5, random_state=2)"
      ]
    },
    {
      "cell_type": "markdown",
      "metadata": {
        "id": "_aRwof99KfX4"
      },
      "source": [
        "We go to lods. The log-transformation makes the data much more amenable to regression."
      ]
    },
    {
      "cell_type": "code",
      "execution_count": null,
      "metadata": {
        "id": "OTOtlbO2KbC0"
      },
      "outputs": [],
      "source": [
        "y_train = np.log(y_train)\n",
        "y_val = np.log(y_val)\n",
        "y_test = np.log(y_test)"
      ]
    },
    {
      "cell_type": "markdown",
      "metadata": {
        "id": "rNRSECSmKnIM"
      },
      "source": [
        "##Run Models\n",
        "\n",
        "We start with OLS:"
      ]
    },
    {
      "cell_type": "code",
      "execution_count": null,
      "metadata": {
        "colab": {
          "base_uri": "https://localhost:8080/"
        },
        "id": "k5QU1v2GcdLA",
        "outputId": "f0605aec-8c7a-4409-b0bb-7a1dd22a534c"
      },
      "outputs": [
        {
          "output_type": "stream",
          "name": "stdout",
          "text": [
            "11957948256.784447\n",
            "[-3.56000113e-02  4.71393027e-02  4.55851242e-02 ... -3.42345416e+11\n",
            " -9.63668077e+10  1.77268134e+10]\n"
          ]
        }
      ],
      "source": [
        "model_ols = LinearRegression(fit_intercept=True)\n",
        "model_ols.fit(X_train, y_train)\n",
        "print(model_ols.intercept_)\n",
        "print(model_ols.coef_)"
      ]
    },
    {
      "cell_type": "markdown",
      "metadata": {
        "id": "yZs-E1yjKvdB"
      },
      "source": [
        "The RMSE is"
      ]
    },
    {
      "cell_type": "code",
      "execution_count": null,
      "metadata": {
        "colab": {
          "base_uri": "https://localhost:8080/"
        },
        "id": "O38_xW8WdKYS",
        "outputId": "54b034d1-74ec-40a9-b52a-2694726bd0aa"
      },
      "outputs": [
        {
          "output_type": "stream",
          "name": "stdout",
          "text": [
            "5469250024707.583\n"
          ]
        }
      ],
      "source": [
        "TestRMSE_ols = np.sqrt(mean_squared_error(y_test,model_ols.predict(X_test)))\n",
        "print(TestRMSE_ols)"
      ]
    },
    {
      "cell_type": "markdown",
      "source": [
        "So this is huge, which is likely due to some weird samples. Let's check how far we off at the median, 90% percentile, and 99th percentile:"
      ],
      "metadata": {
        "id": "MGIuxcBW1brF"
      }
    },
    {
      "cell_type": "code",
      "execution_count": null,
      "metadata": {
        "colab": {
          "base_uri": "https://localhost:8080/"
        },
        "id": "NHDXR7DyfzMC",
        "outputId": "9625cdcc-3b54-43f2-b69d-219092f5a2b9"
      },
      "outputs": [
        {
          "output_type": "stream",
          "name": "stdout",
          "text": [
            "0.3665012713343412\n",
            "0.9136090524441819\n",
            "1.5413015655905833\n"
          ]
        }
      ],
      "source": [
        "tmp = np.abs(model_ols.predict(X_test)-y_test)\n",
        "print(np.median(tmp))\n",
        "print(np.quantile(tmp,0.9))\n",
        "print(np.quantile(tmp,0.99))"
      ]
    },
    {
      "cell_type": "markdown",
      "source": [
        "So that looks more resonable --- on median, we are off .367"
      ],
      "metadata": {
        "id": "DfM-l0_t1ny2"
      }
    },
    {
      "cell_type": "markdown",
      "metadata": {
        "id": "Sd7-ZLMmLMVd"
      },
      "source": [
        "##LASSO Regression\n",
        "\n",
        "And let's run a LASSO regression, with some predefined values of lambda (which `sklearn` calls alpha):"
      ]
    },
    {
      "cell_type": "code",
      "execution_count": null,
      "metadata": {
        "id": "0hm8qn66W8Vy"
      },
      "outputs": [],
      "source": [
        "#alphas = np.array([0.002, 0.0025, 0.003, 0.0035, 0.004]) #use this if you use the 50K dataset\n",
        "alphas = np.array([0.00075, 0.0008, 0.00085, 0.0009, 0.00095])\n",
        "model_lasso = Lasso(max_iter = 10000)\n",
        "coefs = []\n",
        "MSE = []\n",
        "for a in alphas:\n",
        "    model_lasso.set_params(alpha=a)\n",
        "    model_lasso.fit(X_train, y_train)\n",
        "    coefs.append(model_lasso.coef_)\n",
        "    MSE.append(mean_squared_error(y_val, model_lasso.predict(X_val)))"
      ]
    },
    {
      "cell_type": "markdown",
      "source": [
        "A quick note: Figuring out the right range of the penalty parameter requires some experimenation. And the range changes when considering the reduced dataset.\n",
        "\n",
        "Let's check the RMSEs:"
      ],
      "metadata": {
        "id": "y4bN9PR1UfFS"
      }
    },
    {
      "cell_type": "code",
      "execution_count": null,
      "metadata": {
        "colab": {
          "base_uri": "https://localhost:8080/"
        },
        "id": "3HmYsAH0W8Vz",
        "outputId": "315eb700-7691-4869-c4ec-e53d01bb0ff4"
      },
      "outputs": [
        {
          "output_type": "execute_result",
          "data": {
            "text/plain": [
              "array([0.56369418, 0.56369033, 0.56368836, 0.5636903 , 0.56370044])"
            ]
          },
          "metadata": {},
          "execution_count": 19
        }
      ],
      "source": [
        "RMSE = np.sqrt(MSE)\n",
        "RMSE"
      ]
    },
    {
      "cell_type": "markdown",
      "source": [
        "We flip the order for plotting, since the highest alpha corresponds to the simplest model:"
      ],
      "metadata": {
        "id": "4lM6CE10IOIo"
      }
    },
    {
      "cell_type": "code",
      "execution_count": null,
      "metadata": {
        "colab": {
          "base_uri": "https://localhost:8080/",
          "height": 463
        },
        "id": "ojM-VhvFW8V0",
        "outputId": "45d8cdfa-e71d-49be-8917-634bf2fc49df"
      },
      "outputs": [
        {
          "output_type": "execute_result",
          "data": {
            "text/plain": [
              "[<matplotlib.lines.Line2D at 0x7b981371ce20>]"
            ]
          },
          "metadata": {},
          "execution_count": 22
        },
        {
          "output_type": "display_data",
          "data": {
            "text/plain": [
              "<Figure size 640x480 with 1 Axes>"
            ],
            "image/png": "[encoded data removed]"
          },
          "metadata": {}
        }
      ],
      "source": [
        "plt.plot(np.flip(alphas), np.flip(RMSE))"
      ]
    },
    {
      "cell_type": "markdown",
      "source": [
        "A nice U shape!\n",
        "\n",
        "Let's check the best model, and let's compare to the OLS model on the test sample that we have not yet used."
      ],
      "metadata": {
        "id": "36bem8mcUxuS"
      }
    },
    {
      "cell_type": "code",
      "execution_count": null,
      "metadata": {
        "colab": {
          "base_uri": "https://localhost:8080/"
        },
        "id": "kTxSvTU5Abmz",
        "outputId": "8bd5d435-e1c1-48e0-f2c2-07305f6f3da0"
      },
      "outputs": [
        {
          "output_type": "stream",
          "name": "stdout",
          "text": [
            "0.5617473174056234\n"
          ]
        }
      ],
      "source": [
        "model_lasso.set_params(alpha=0.00085)\n",
        "yhat_test = model_lasso.predict(X_test)\n",
        "TestRMSE_lasso = np.sqrt(mean_squared_error(y_test,yhat_test))\n",
        "print(TestRMSE_lasso)"
      ]
    },
    {
      "cell_type": "code",
      "execution_count": null,
      "metadata": {
        "colab": {
          "base_uri": "https://localhost:8080/"
        },
        "id": "9tJbhmu7A63H",
        "outputId": "7233769c-4129-4fed-a4d9-2a9ff3ca3198"
      },
      "outputs": [
        {
          "output_type": "stream",
          "name": "stdout",
          "text": [
            "0.36499756431979513\n",
            "0.9119969342845885\n",
            "1.5156605722626484\n"
          ]
        }
      ],
      "source": [
        "tmp = np.abs(model_lasso.predict(X_test)-y_test)\n",
        "print(np.median(tmp))\n",
        "print(np.quantile(tmp,0.9))\n",
        "print(np.quantile(tmp,0.99))"
      ]
    },
    {
      "cell_type": "markdown",
      "source": [
        "So a bit better than the OLS model!"
      ],
      "metadata": {
        "id": "KAioGDRoUaHu"
      }
    },
    {
      "cell_type": "markdown",
      "source": [
        "## Via Cross Validation"
      ],
      "metadata": {
        "id": "GDPx5otitQHa"
      }
    },
    {
      "cell_type": "markdown",
      "source": [
        "As a small addition, let's repeat the model selection via cross validation rather than using the different splits.\n",
        "\n",
        "That has the advantage that we can use a larger training set. So instead of using the same train-validation-test split above, I am using an alternative split where the training set is 75% of the data and a test set of 25% of the data (since these are different sets, the results won't be directly comparable to the results from before):"
      ],
      "metadata": {
        "id": "Y4LMsm7Wxm5A"
      }
    },
    {
      "cell_type": "code",
      "source": [
        "X_train, X_test , y_train, y_test = train_test_split(X, y, test_size=0.25, random_state=1)\n",
        "y_train = np.log(y_train)\n",
        "y_test = np.log(y_test)"
      ],
      "metadata": {
        "id": "L_hB747WtPB2"
      },
      "execution_count": null,
      "outputs": []
    },
    {
      "cell_type": "markdown",
      "source": [
        "Let's use the cross validation funcionality in sklearn -- the details are [here](https://scikit-learn.org/stable/modules/generated/sklearn.linear_model.LassoCV.html). We use 5-fold cross validation (which is the default---so in case no argument is given, that is used). And I am asking to get 10 different alphas, thus already takes long enough"
      ],
      "metadata": {
        "id": "wopZCUAbxTzH"
      }
    },
    {
      "cell_type": "code",
      "source": [
        "model_lasso_cv = LassoCV(cv=5, random_state=0, n_alphas=10).fit(X_train, y_train)"
      ],
      "metadata": {
        "id": "fBQFAe6zumAa"
      },
      "execution_count": null,
      "outputs": []
    },
    {
      "cell_type": "markdown",
      "source": [
        "This one runs a bit faster!\n",
        "\n",
        "Let's look at the differnet alphas:"
      ],
      "metadata": {
        "id": "TGJe6jjt3fQa"
      }
    },
    {
      "cell_type": "code",
      "source": [
        "model_lasso_cv.alphas_"
      ],
      "metadata": {
        "colab": {
          "base_uri": "https://localhost:8080/"
        },
        "id": "X60PatNmyrrv",
        "outputId": "fa40dcc4-1e50-4301-aa17-5231870ecd14"
      },
      "execution_count": null,
      "outputs": [
        {
          "output_type": "execute_result",
          "data": {
            "text/plain": [
              "array([0.38756557, 0.179892  , 0.08349847, 0.03875656, 0.0179892 ,\n",
              "       0.00834985, 0.00387566, 0.00179892, 0.00083498, 0.00038757])"
            ]
          },
          "metadata": {},
          "execution_count": 27
        }
      ]
    },
    {
      "cell_type": "markdown",
      "source": [
        "And let's check which one was selected as the best one:"
      ],
      "metadata": {
        "id": "VqTMRCSU3jl4"
      }
    },
    {
      "cell_type": "code",
      "source": [
        "model_lasso_cv.alpha_"
      ],
      "metadata": {
        "colab": {
          "base_uri": "https://localhost:8080/"
        },
        "id": "NVws2Ax2zWcC",
        "outputId": "41d274ab-cf2d-4d6b-b7ea-ee3000eb4dcc"
      },
      "execution_count": null,
      "outputs": [
        {
          "output_type": "execute_result",
          "data": {
            "text/plain": [
              "0.0008349847171107374"
            ]
          },
          "metadata": {},
          "execution_count": 28
        }
      ]
    },
    {
      "cell_type": "markdown",
      "source": [
        "So very close to our alpha from above, but the advantage is that we did not have to specify and also that we can use a large training sample!\n",
        "\n",
        "Let's get the predictions and evaluate on the test set:"
      ],
      "metadata": {
        "id": "lDjcIjQK3xyO"
      }
    },
    {
      "cell_type": "code",
      "source": [
        "yhat_test = model_lasso_cv.predict(X_test)"
      ],
      "metadata": {
        "id": "fz7AaQsw0KwN"
      },
      "execution_count": null,
      "outputs": []
    },
    {
      "cell_type": "markdown",
      "source": [
        "And let's evaluate:"
      ],
      "metadata": {
        "id": "xMfxeTAQ4KyC"
      }
    },
    {
      "cell_type": "code",
      "source": [
        "TestRMSE_lasso = np.sqrt(mean_squared_error(y_test,yhat_test))\n",
        "print(TestRMSE_lasso)"
      ],
      "metadata": {
        "colab": {
          "base_uri": "https://localhost:8080/"
        },
        "id": "KPRSySLH0jt3",
        "outputId": "112712eb-75d3-4830-8150-5e57d1b38022"
      },
      "execution_count": null,
      "outputs": [
        {
          "output_type": "stream",
          "name": "stdout",
          "text": [
            "0.5606835698744835\n"
          ]
        }
      ]
    },
    {
      "cell_type": "code",
      "source": [
        "tmp = np.abs(y_test-yhat_test)\n",
        "print(np.median(tmp))\n",
        "print(np.quantile(tmp,0.9))\n",
        "print(np.quantile(tmp,0.99))"
      ],
      "metadata": {
        "colab": {
          "base_uri": "https://localhost:8080/"
        },
        "id": "iEQHQc2R0zhA",
        "outputId": "17e580b5-b11a-4b62-b11c-17aac18e7a83"
      },
      "execution_count": null,
      "outputs": [
        {
          "output_type": "stream",
          "name": "stdout",
          "text": [
            "0.3639031314250776\n",
            "0.9095188633348222\n",
            "1.5138312788747073\n"
          ]
        }
      ]
    },
    {
      "cell_type": "markdown",
      "source": [
        "So the performance is similar!"
      ],
      "metadata": {
        "id": "JVfIQRkG4Na0"
      }
    }
  ],
  "metadata": {
    "colab": {
      "provenance": [],
      "include_colab_link": true
    },
    "kernelspec": {
      "display_name": "Python 3",
      "language": "python",
      "name": "python3"
    },
    "language_info": {
      "codemirror_mode": {
        "name": "ipython",
        "version": 3
      },
      "file_extension": ".py",
      "mimetype": "text/x-python",
      "name": "python",
      "nbconvert_exporter": "python",
      "pygments_lexer": "ipython3",
      "version": "3.8.3"
    }
  },
  "nbformat": 4,
  "nbformat_minor": 0
}