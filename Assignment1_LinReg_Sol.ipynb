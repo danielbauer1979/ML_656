{
  "nbformat": 4,
  "nbformat_minor": 0,
  "metadata": {
    "colab": {
      "provenance": [],
      "authorship_tag": "ABX9TyP0wb/qfODuqkV3305NvQrf",
      "include_colab_link": true
    },
    "kernelspec": {
      "name": "python3",
      "display_name": "Python 3"
    },
    "language_info": {
      "name": "python"
    }
  },
  "cells": [
    {
      "cell_type": "markdown",
      "metadata": {
        "id": "view-in-github",
        "colab_type": "text"
      },
      "source": [
        "<a href=\"https://colab.research.google.com/github/danielbauer1979/ML_656/blob/main/Assignment1_LinReg_Sol.ipynb\" target=\"_parent\"><img src=\"https://colab.research.google.com/assets/colab-badge.svg\" alt=\"Open In Colab\"/></a>"
      ]
    },
    {
      "cell_type": "markdown",
      "source": [
        "#Assignment 1 -- Solution"
      ],
      "metadata": {
        "id": "kTwZI0SwiAE5"
      }
    },
    {
      "cell_type": "markdown",
      "source": [
        "Load packages:"
      ],
      "metadata": {
        "id": "9mnMDnuKiD7I"
      }
    },
    {
      "cell_type": "code",
      "execution_count": 1,
      "metadata": {
        "id": "3IOkuUgBh9v7"
      },
      "outputs": [],
      "source": [
        "import numpy as np\n",
        "import pandas as pd\n",
        "import matplotlib.pyplot as plt\n",
        "import statsmodels.api as sm"
      ]
    },
    {
      "cell_type": "markdown",
      "source": [
        "We rely on `statsmodels.api` here rather than scikit-learn, which is our general go-to tool. The reason is to illustrate a more \"comfortable\" way to linear regressions that has more of the feel and look of `R`.\n",
        "\n",
        "Let's load our data:"
      ],
      "metadata": {
        "id": "-emH9vLPiGHn"
      }
    },
    {
      "cell_type": "code",
      "source": [
        "!git clone https://github.com/danielbauer1979/ML_656.git"
      ],
      "metadata": {
        "id": "uXLnk1rqiypy"
      },
      "execution_count": null,
      "outputs": []
    },
    {
      "cell_type": "code",
      "source": [
        "data = pd.read_csv('ML_656/tel.csv')\n",
        "data.head()"
      ],
      "metadata": {
        "id": "u336jSiXi4CK"
      },
      "execution_count": null,
      "outputs": []
    },
    {
      "cell_type": "markdown",
      "source": [
        "Let's look at aggregate statistics:"
      ],
      "metadata": {
        "id": "V0xwkMUIjJfv"
      }
    },
    {
      "cell_type": "code",
      "source": [
        "data.describe()"
      ],
      "metadata": {
        "id": "WSys6_sIjJtk"
      },
      "execution_count": null,
      "outputs": []
    },
    {
      "cell_type": "markdown",
      "source": [
        "Having Day as a number doesn't make sense, so let's put in dummies. We will use Monday as our base and use dummies for Tuesday till Friday. (It's not clear whether it makes sense to use RWT and other varibles as numeric, but let's run with it for now.)"
      ],
      "metadata": {
        "id": "MAzzg9vgHrMn"
      }
    },
    {
      "cell_type": "code",
      "source": [
        "data['Tuesday'] = data.apply(lambda row: int(row.Day==2), axis=1)\n",
        "data['Wednesday'] = data.apply(lambda row: int(row.Day==3), axis=1)\n",
        "data['Thursday'] = data.apply(lambda row: int(row.Day==4), axis=1)\n",
        "data['Friday'] = data.apply(lambda row: int(row.Day==5), axis=1)\n",
        "data.head()"
      ],
      "metadata": {
        "id": "rJwPsfKrH0eU"
      },
      "execution_count": null,
      "outputs": []
    },
    {
      "cell_type": "markdown",
      "source": [
        "Let's start running regressions, and let's start with the \"full\" model."
      ],
      "metadata": {
        "id": "xQ8ub-dCjRQ5"
      }
    },
    {
      "cell_type": "code",
      "source": [
        "# Assign dependent and independent / explanatory variables\n",
        "y = data['Hours']\n",
        "X = data.drop(columns=['Hours','Day'])\n",
        "X = sm.add_constant(X) # Add a constant term as the default model doesn't include one\n",
        "model = sm.OLS(y, X).fit()\n",
        "# Check regression results\n",
        "model.summary()"
      ],
      "metadata": {
        "id": "WYYYv4EtjTOo"
      },
      "execution_count": null,
      "outputs": []
    },
    {
      "cell_type": "markdown",
      "source": [
        "So it looks like only Friday really matters, so let's drop the other days."
      ],
      "metadata": {
        "id": "SBdAA60eJROK"
      }
    },
    {
      "cell_type": "code",
      "source": [
        "X = data.drop(columns=['Hours','Day','Tuesday','Wednesday','Thursday'])\n",
        "X = sm.add_constant(X)\n",
        "model2 = sm.OLS(y, X).fit()\n",
        "model2.summary()"
      ],
      "metadata": {
        "id": "52iSkzRGjkiD"
      },
      "execution_count": null,
      "outputs": []
    },
    {
      "cell_type": "markdown",
      "source": [
        "Let's also look at a reduced model with just three variables that seems significantly different than zero (their confidence interval does not include zero)."
      ],
      "metadata": {
        "id": "SXqmpF22JiuV"
      }
    },
    {
      "cell_type": "code",
      "source": [
        "X = data[['SOA','Hot','Friday']]\n",
        "X = sm.add_constant(X)\n",
        "model3 = sm.OLS(y, X).fit()\n",
        "model3.summary()"
      ],
      "metadata": {
        "id": "xmT9acCYjqG-"
      },
      "execution_count": null,
      "outputs": []
    },
    {
      "cell_type": "code",
      "source": [
        "# ANOVA\n",
        "from statsmodels.stats.api import anova_lm\n",
        "anova_lm(model2, model3)"
      ],
      "metadata": {
        "id": "xjLq-NO5jrmK"
      },
      "execution_count": null,
      "outputs": []
    },
    {
      "cell_type": "code",
      "source": [
        "# Check the residual\n",
        "ypred = model3.predict(X)\n",
        "plt.scatter(range(len(data)), y-ypred)\n",
        "plt.show()"
      ],
      "metadata": {
        "id": "zX6I-C4Tjwq6"
      },
      "execution_count": null,
      "outputs": []
    },
    {
      "cell_type": "code",
      "source": [
        "plt.hist(y-ypred)\n",
        "plt.show()"
      ],
      "metadata": {
        "id": "SgYKh7orj27L"
      },
      "execution_count": null,
      "outputs": []
    }
  ]
}