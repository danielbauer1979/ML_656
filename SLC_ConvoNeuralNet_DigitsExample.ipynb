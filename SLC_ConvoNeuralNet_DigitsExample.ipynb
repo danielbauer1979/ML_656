{
  "nbformat": 4,
  "nbformat_minor": 0,
  "metadata": {
    "colab": {
      "provenance": [],
      "authorship_tag": "ABX9TyMcj1UD4G6HsK4wFw7BHB4u",
      "include_colab_link": true
    },
    "kernelspec": {
      "name": "python3",
      "display_name": "Python 3"
    },
    "language_info": {
      "name": "python"
    }
  },
  "cells": [
    {
      "cell_type": "markdown",
      "metadata": {
        "id": "view-in-github",
        "colab_type": "text"
      },
      "source": [
        "<a href=\"https://colab.research.google.com/github/danielbauer1979/ML_656/blob/main/SLC_ConvoNeuralNet_DigitsExample.ipynb\" target=\"_parent\"><img src=\"https://colab.research.google.com/assets/colab-badge.svg\" alt=\"Open In Colab\"/></a>"
      ]
    },
    {
      "cell_type": "markdown",
      "source": [
        "## Example: Convolutional Neural Nets and MNIST Data\n",
        "\n",
        "Dani Bauer, 2023, borrowing from tutorials by [S. Daityari](https://www.sitepoint.com/keras-digit-recognition-tutorial/) and [S. Valdarrama](https://deepnote.com/@svpino/MNIST-with-Convolutional-Neural-Networks-a4b3c412-b802-4185-9806-02640fbba02e)\n",
        "\n"
      ],
      "metadata": {
        "id": "8QfCf6Azb0hY"
      }
    },
    {
      "cell_type": "markdown",
      "source": [
        "In this tutorial, we will build some deep learning models for a very basic image classification problem: Predicting digits based on some hand-written images of written digits. This is a fairly classic problem, and the dataset -- which is available in Keras -- is pretty famous. The images consist of 28-by-28 pixels in grey-scale, and the classification problem (obviously) is predicting 0 through 9."
      ],
      "metadata": {
        "id": "5p7EB8xGR8Yk"
      }
    },
    {
      "cell_type": "markdown",
      "source": [
        "### Load Libraries"
      ],
      "metadata": {
        "id": "Ehh2qIsichWG"
      }
    },
    {
      "cell_type": "code",
      "execution_count": 143,
      "metadata": {
        "id": "UyirHSQWbtNU"
      },
      "outputs": [],
      "source": [
        "import numpy as np\n",
        "import matplotlib.pyplot as plt\n",
        "import pandas as pd\n",
        "import random\n",
        "\n",
        "from keras.models import Sequential\n",
        "from keras.layers import Dense, Flatten, Conv2D, MaxPooling2D\n",
        "from keras.datasets import mnist\n",
        "from keras.utils import to_categorical"
      ]
    },
    {
      "cell_type": "markdown",
      "source": [
        "And let's set a random seed:"
      ],
      "metadata": {
        "id": "zBj-wi8vmUtJ"
      }
    },
    {
      "cell_type": "code",
      "source": [
        "np.random.seed(42)"
      ],
      "metadata": {
        "id": "Q8JjgEjDmXTa"
      },
      "execution_count": 117,
      "outputs": []
    },
    {
      "cell_type": "markdown",
      "source": [
        "### Loading the MNIST Dataset\n",
        "\n",
        "The (famous!) [MNIST](https://en.wikipedia.org/wiki/MNIST_database) dataset consists of 60,000 labeled examples of handwritten digits. It is available in the keras library, so we can just load it."
      ],
      "metadata": {
        "id": "pA7c2iiPckG5"
      }
    },
    {
      "cell_type": "code",
      "source": [
        "(x_train, y_train), (x_test, y_test) = mnist.load_data()"
      ],
      "metadata": {
        "id": "OVHrFFpxdDZ5"
      },
      "execution_count": 128,
      "outputs": []
    },
    {
      "cell_type": "markdown",
      "source": [
        "Let's take a look at the first image:"
      ],
      "metadata": {
        "id": "4RaHeGSZdol0"
      }
    },
    {
      "cell_type": "code",
      "source": [
        "image_index = 0\n",
        "y_train[0]"
      ],
      "metadata": {
        "colab": {
          "base_uri": "https://localhost:8080/"
        },
        "id": "uo6Mg3OSdTNu",
        "outputId": "ba4f4662-142f-436d-d457-816d84f6c7a8"
      },
      "execution_count": 119,
      "outputs": [
        {
          "output_type": "execute_result",
          "data": {
            "text/plain": [
              "5"
            ]
          },
          "metadata": {},
          "execution_count": 119
        }
      ]
    },
    {
      "cell_type": "markdown",
      "source": [
        "So the first image displays a 5.\n",
        "\n",
        "Here is the corresponding image:"
      ],
      "metadata": {
        "id": "iCSgOByGd5Ob"
      }
    },
    {
      "cell_type": "code",
      "source": [
        "x_train[0]"
      ],
      "metadata": {
        "id": "i9jeOsUId1Ls"
      },
      "execution_count": null,
      "outputs": []
    },
    {
      "cell_type": "markdown",
      "source": [
        "So each $x$ variable is a 28 $\\times$ 28 matrix of pixel values that denote grey scales, where 0 corresponds to very light and 255, the max value, corresponds to very dark (or the other way around). Let's visualize:"
      ],
      "metadata": {
        "id": "TKs9VQ7meMqB"
      }
    },
    {
      "cell_type": "code",
      "source": [
        "plt.imshow(x_train[image_index], cmap='Greys')\n",
        "plt.show()"
      ],
      "metadata": {
        "colab": {
          "base_uri": "https://localhost:8080/",
          "height": 430
        },
        "id": "SinAGPTTdVby",
        "outputId": "12a94428-5f76-460d-cfc7-b17e8f6f765d"
      },
      "execution_count": 121,
      "outputs": [
        {
          "output_type": "display_data",
          "data": {
            "text/plain": [
              "<Figure size 640x480 with 1 Axes>"
            ],
            "image/png": "[encoded data removed]"
          },
          "metadata": {}
        }
      ]
    },
    {
      "cell_type": "markdown",
      "source": [
        "So this is about the simplest image dataset one can imagine.\n",
        "\n",
        "Let's look at a few more:"
      ],
      "metadata": {
        "id": "cFtDy4T-e-lM"
      }
    },
    {
      "cell_type": "code",
      "source": [
        "image_index = 1\n",
        "print(y_train[image_index])\n",
        "plt.imshow(x_train[image_index], cmap='Greys')\n",
        "plt.show()"
      ],
      "metadata": {
        "colab": {
          "base_uri": "https://localhost:8080/",
          "height": 447
        },
        "id": "6Q3NJygFdZb6",
        "outputId": "b8ffdbcd-28c2-43c6-8d23-f192acbdbcec"
      },
      "execution_count": 122,
      "outputs": [
        {
          "output_type": "stream",
          "name": "stdout",
          "text": [
            "0\n"
          ]
        },
        {
          "output_type": "display_data",
          "data": {
            "text/plain": [
              "<Figure size 640x480 with 1 Axes>"
            ],
            "image/png": "[encoded data removed]"
          },
          "metadata": {}
        }
      ]
    },
    {
      "cell_type": "code",
      "source": [
        "image_index = 10\n",
        "print(y_train[image_index])\n",
        "plt.imshow(x_train[image_index], cmap='Greys')\n",
        "plt.show()"
      ],
      "metadata": {
        "colab": {
          "base_uri": "https://localhost:8080/",
          "height": 447
        },
        "id": "AVKCKpXggS0l",
        "outputId": "b1d4b525-6255-41de-c150-54c84f0ba300"
      },
      "execution_count": 123,
      "outputs": [
        {
          "output_type": "stream",
          "name": "stdout",
          "text": [
            "3\n"
          ]
        },
        {
          "output_type": "display_data",
          "data": {
            "text/plain": [
              "<Figure size 640x480 with 1 Axes>"
            ],
            "image/png": "[encoded data removed]"
          },
          "metadata": {}
        }
      ]
    },
    {
      "cell_type": "markdown",
      "source": [
        "Our task is fairly obvious: We want to build a neural network that take the images as the inputs (our $x$-s) and predict the correspondoing digits (our $y$-s)."
      ],
      "metadata": {
        "id": "k7uhQZHsgUbl"
      }
    },
    {
      "cell_type": "markdown",
      "source": [
        "In doing so, we convert the outcomes to categorical variables:"
      ],
      "metadata": {
        "id": "9RSJK8eXh8KT"
      }
    },
    {
      "cell_type": "code",
      "source": [
        "num_classes = 10\n",
        "\n",
        "y_train = to_categorical(y_train, num_classes)\n",
        "y_test = to_categorical(y_test, num_classes)"
      ],
      "metadata": {
        "id": "5tdvheKYiEwc"
      },
      "execution_count": 142,
      "outputs": []
    },
    {
      "cell_type": "markdown",
      "source": [
        "## Building and Training a DL Model"
      ],
      "metadata": {
        "id": "gx0iujx74Vsu"
      }
    },
    {
      "cell_type": "markdown",
      "source": [
        "We start by building a feed-forward neural network. For that, we convert the images to vectors with $28 \\times 28 = 784$ resulting features:"
      ],
      "metadata": {
        "id": "ddxbXucxTqF5"
      }
    },
    {
      "cell_type": "code",
      "source": [
        "x_train = x_train.reshape(x_train.shape[0], 784)\n",
        "x_test = x_test.reshape(x_test.shape[0], 784)"
      ],
      "metadata": {
        "id": "l4lg2v4Y4ksx"
      },
      "execution_count": 130,
      "outputs": []
    },
    {
      "cell_type": "markdown",
      "source": [
        "And we scale by dividing by the maximal pixel darkness:"
      ],
      "metadata": {
        "id": "jBJNhKD0UGF6"
      }
    },
    {
      "cell_type": "code",
      "source": [
        "x_train = x_train / 255\n",
        "x_test = x_test/ 255"
      ],
      "metadata": {
        "id": "tWfcsLjxUKgO"
      },
      "execution_count": 131,
      "outputs": []
    },
    {
      "cell_type": "markdown",
      "source": [
        "And let's build a feed-forward model, as we did before. An important difference, though, is that we use the soft-max function as the output layer for this multi-class problem, and we use 'categorical_crossentropy' as the (multi-class) loss function:"
      ],
      "metadata": {
        "id": "l4EAyNBjT7wp"
      }
    },
    {
      "cell_type": "code",
      "source": [
        "model = Sequential()\n",
        "model.add(Dense(50, input_shape=(784, ), activation='relu', name='dense_1'))\n",
        "model.add(Dense(25, activation='relu', name='dense_2'))\n",
        "model.add(Dense(10, activation='softmax', name='dense_output'))\n",
        "model.compile(loss='categorical_crossentropy',optimizer='adam',metrics=['accuracy'])\n",
        "model.summary()"
      ],
      "metadata": {
        "colab": {
          "base_uri": "https://localhost:8080/"
        },
        "id": "wb89cmyT6GjJ",
        "outputId": "ac8a8440-4ca6-4877-ae8b-74f527b36d47"
      },
      "execution_count": 110,
      "outputs": [
        {
          "output_type": "stream",
          "name": "stdout",
          "text": [
            "Model: \"sequential_7\"\n",
            "_________________________________________________________________\n",
            " Layer (type)                Output Shape              Param #   \n",
            "=================================================================\n",
            " dense_1 (Dense)             (None, 50)                39250     \n",
            "                                                                 \n",
            " dense_2 (Dense)             (None, 25)                1275      \n",
            "                                                                 \n",
            " dense_output (Dense)        (None, 10)                260       \n",
            "                                                                 \n",
            "=================================================================\n",
            "Total params: 40785 (159.32 KB)\n",
            "Trainable params: 40785 (159.32 KB)\n",
            "Non-trainable params: 0 (0.00 Byte)\n",
            "_________________________________________________________________\n"
          ]
        }
      ]
    },
    {
      "cell_type": "markdown",
      "source": [
        "Let's train it using 20 epochs:"
      ],
      "metadata": {
        "id": "jwWh0jw5Uq--"
      }
    },
    {
      "cell_type": "code",
      "source": [
        "history = model.fit(x_train, y_train, epochs=20, validation_data=(x_test, y_test))"
      ],
      "metadata": {
        "colab": {
          "base_uri": "https://localhost:8080/"
        },
        "id": "Km0SjCke6lQg",
        "outputId": "5006e6b3-1424-4efb-9518-c17e3b70a529"
      },
      "execution_count": 111,
      "outputs": [
        {
          "output_type": "stream",
          "name": "stdout",
          "text": [
            "Epoch 1/20\n",
            "1875/1875 [==============================] - 5s 2ms/step - loss: 0.3141 - accuracy: 0.9111 - val_loss: 0.1573 - val_accuracy: 0.9529\n",
            "Epoch 2/20\n",
            "1875/1875 [==============================] - 4s 2ms/step - loss: 0.1422 - accuracy: 0.9575 - val_loss: 0.1263 - val_accuracy: 0.9627\n",
            "Epoch 3/20\n",
            "1875/1875 [==============================] - 3s 2ms/step - loss: 0.1078 - accuracy: 0.9674 - val_loss: 0.1038 - val_accuracy: 0.9694\n",
            "Epoch 4/20\n",
            "1875/1875 [==============================] - 3s 2ms/step - loss: 0.0874 - accuracy: 0.9731 - val_loss: 0.1065 - val_accuracy: 0.9677\n",
            "Epoch 5/20\n",
            "1875/1875 [==============================] - 4s 2ms/step - loss: 0.0730 - accuracy: 0.9772 - val_loss: 0.0930 - val_accuracy: 0.9736\n",
            "Epoch 6/20\n",
            "1875/1875 [==============================] - 3s 2ms/step - loss: 0.0643 - accuracy: 0.9799 - val_loss: 0.1009 - val_accuracy: 0.9711\n",
            "Epoch 7/20\n",
            "1875/1875 [==============================] - 3s 2ms/step - loss: 0.0566 - accuracy: 0.9823 - val_loss: 0.0900 - val_accuracy: 0.9725\n",
            "Epoch 8/20\n",
            "1875/1875 [==============================] - 3s 2ms/step - loss: 0.0488 - accuracy: 0.9845 - val_loss: 0.0983 - val_accuracy: 0.9726\n",
            "Epoch 9/20\n",
            "1875/1875 [==============================] - 4s 2ms/step - loss: 0.0444 - accuracy: 0.9857 - val_loss: 0.1007 - val_accuracy: 0.9720\n",
            "Epoch 10/20\n",
            "1875/1875 [==============================] - 3s 2ms/step - loss: 0.0378 - accuracy: 0.9875 - val_loss: 0.1064 - val_accuracy: 0.9703\n",
            "Epoch 11/20\n",
            "1875/1875 [==============================] - 3s 2ms/step - loss: 0.0357 - accuracy: 0.9884 - val_loss: 0.0986 - val_accuracy: 0.9739\n",
            "Epoch 12/20\n",
            "1875/1875 [==============================] - 4s 2ms/step - loss: 0.0320 - accuracy: 0.9893 - val_loss: 0.1171 - val_accuracy: 0.9707\n",
            "Epoch 13/20\n",
            "1875/1875 [==============================] - 3s 2ms/step - loss: 0.0275 - accuracy: 0.9910 - val_loss: 0.1020 - val_accuracy: 0.9740\n",
            "Epoch 14/20\n",
            "1875/1875 [==============================] - 3s 2ms/step - loss: 0.0262 - accuracy: 0.9911 - val_loss: 0.1049 - val_accuracy: 0.9748\n",
            "Epoch 15/20\n",
            "1875/1875 [==============================] - 3s 2ms/step - loss: 0.0214 - accuracy: 0.9932 - val_loss: 0.1078 - val_accuracy: 0.9735\n",
            "Epoch 16/20\n",
            "1875/1875 [==============================] - 4s 2ms/step - loss: 0.0229 - accuracy: 0.9924 - val_loss: 0.1288 - val_accuracy: 0.9712\n",
            "Epoch 17/20\n",
            "1875/1875 [==============================] - 3s 2ms/step - loss: 0.0200 - accuracy: 0.9934 - val_loss: 0.1283 - val_accuracy: 0.9721\n",
            "Epoch 18/20\n",
            "1875/1875 [==============================] - 3s 2ms/step - loss: 0.0201 - accuracy: 0.9930 - val_loss: 0.1217 - val_accuracy: 0.9738\n",
            "Epoch 19/20\n",
            "1875/1875 [==============================] - 3s 2ms/step - loss: 0.0161 - accuracy: 0.9947 - val_loss: 0.1393 - val_accuracy: 0.9742\n",
            "Epoch 20/20\n",
            "1875/1875 [==============================] - 3s 2ms/step - loss: 0.0167 - accuracy: 0.9944 - val_loss: 0.1398 - val_accuracy: 0.9721\n"
          ]
        }
      ]
    },
    {
      "cell_type": "markdown",
      "source": [
        "So the validation loss is not really getting better, arguably we are already overfitting.\n",
        "\n",
        "Let's evaluate the performance based on some randomly sampled test images:"
      ],
      "metadata": {
        "id": "vOdrsh51UzNJ"
      }
    },
    {
      "cell_type": "code",
      "source": [
        "def plot_digit(image, digit, plt, i):\n",
        "    plt.subplot(4, 5, i + 1)\n",
        "    plt.imshow(image, cmap=plt.get_cmap('gray'))\n",
        "    plt.title(f\"Digit: {digit}\")\n",
        "    plt.xticks([])\n",
        "    plt.yticks([])\n",
        "\n",
        "random.seed(5)\n",
        "\n",
        "plt.figure(figsize=(16, 10))\n",
        "for i in range(20):\n",
        "    image = random.choice(x_test).squeeze()\n",
        "    digit = np.argmax(model.predict(image.reshape((1, 784)))[0], axis=-1)\n",
        "    plot_digit(image.reshape(28,28), digit, plt, i)\n",
        "\n",
        "plt.show()"
      ],
      "metadata": {
        "colab": {
          "base_uri": "https://localhost:8080/",
          "height": 1000
        },
        "id": "ZJv7f3sO7MO6",
        "outputId": "c0e3d571-2050-487f-d598-8bd8edb08a9b"
      },
      "execution_count": 132,
      "outputs": [
        {
          "output_type": "stream",
          "name": "stdout",
          "text": [
            "1/1 [==============================] - 0s 72ms/step\n",
            "1/1 [==============================] - 0s 32ms/step\n",
            "1/1 [==============================] - 0s 48ms/step\n",
            "1/1 [==============================] - 0s 34ms/step\n",
            "1/1 [==============================] - 0s 31ms/step\n",
            "1/1 [==============================] - 0s 23ms/step\n",
            "1/1 [==============================] - 0s 23ms/step\n",
            "1/1 [==============================] - 0s 23ms/step\n",
            "1/1 [==============================] - 0s 21ms/step\n",
            "1/1 [==============================] - 0s 23ms/step\n",
            "1/1 [==============================] - 0s 18ms/step\n",
            "1/1 [==============================] - 0s 22ms/step\n",
            "1/1 [==============================] - 0s 18ms/step\n",
            "1/1 [==============================] - 0s 17ms/step\n",
            "1/1 [==============================] - 0s 19ms/step\n",
            "1/1 [==============================] - 0s 21ms/step\n",
            "1/1 [==============================] - 0s 19ms/step\n",
            "1/1 [==============================] - 0s 17ms/step\n",
            "1/1 [==============================] - 0s 19ms/step\n",
            "1/1 [==============================] - 0s 18ms/step\n"
          ]
        },
        {
          "output_type": "display_data",
          "data": {
            "text/plain": [
              "<Figure size 1600x1000 with 20 Axes>"
            ],
            "image/png": "[encoded data removed]"
          },
          "metadata": {}
        }
      ]
    },
    {
      "cell_type": "markdown",
      "source": [
        "So it seems like the model performs pretty well, yet it is not perfectly accurate."
      ],
      "metadata": {
        "id": "9mJrfKaIVKTt"
      }
    },
    {
      "cell_type": "markdown",
      "source": [
        "## Building and Training a CNN Model"
      ],
      "metadata": {
        "id": "Kq3iShZBiTIy"
      }
    },
    {
      "cell_type": "markdown",
      "source": [
        "Next let's see if adding convolutional layers can improve the performance.\n",
        "\n",
        "Let's reload the data and reset the seed:"
      ],
      "metadata": {
        "id": "U4ooNEoT5k2Z"
      }
    },
    {
      "cell_type": "code",
      "source": [
        "np.random.seed(42)\n",
        "(x_train, y_train), (x_test, y_test) = mnist.load_data()\n",
        "\n",
        "num_classes = 10\n",
        "\n",
        "y_train = to_categorical(y_train, num_classes)\n",
        "y_test = to_categorical(y_test, num_classes)"
      ],
      "metadata": {
        "id": "QOeG1EN65j6n"
      },
      "execution_count": 144,
      "outputs": []
    },
    {
      "cell_type": "markdown",
      "source": [
        "To use the keras interface for convolutional layers, we need to reformat the data---which requires three dimensions. So we `reshape` the data, and we also scale the data by dividing it by the max pixel value (255)."
      ],
      "metadata": {
        "id": "q-HC21cHhE2Y"
      }
    },
    {
      "cell_type": "code",
      "source": [
        "img_rows, img_cols = 28, 28\n",
        "\n",
        "x_train = x_train.reshape(x_train.shape[0], img_rows, img_cols, 1)\n",
        "x_test = x_test.reshape(x_test.shape[0], img_rows, img_cols, 1)\n",
        "\n",
        "x_train = x_train / 255\n",
        "x_test = x_test/ 255"
      ],
      "metadata": {
        "id": "s0O0jv8BhvnW"
      },
      "execution_count": 145,
      "outputs": []
    },
    {
      "cell_type": "markdown",
      "source": [
        "And then let's build a convolutional neural net:"
      ],
      "metadata": {
        "id": "WdxOjq_eVhRZ"
      }
    },
    {
      "cell_type": "code",
      "source": [
        "model = Sequential()\n",
        "model.add(Conv2D(32, kernel_size=(3, 3), activation='relu', input_shape=(img_rows, img_cols, 1)))\n",
        "model.add(MaxPooling2D(pool_size=(2, 2)))\n",
        "model.add(Flatten())\n",
        "model.add(Dense(8, activation='relu'))\n",
        "model.add(Dense(num_classes, activation='softmax'))"
      ],
      "metadata": {
        "id": "mPedJYcSiSZF"
      },
      "execution_count": 146,
      "outputs": []
    },
    {
      "cell_type": "markdown",
      "source": [
        "We use similar model parameters as we did above:"
      ],
      "metadata": {
        "id": "xfA5qoTkVpxO"
      }
    },
    {
      "cell_type": "code",
      "source": [
        "model.compile(loss='categorical_crossentropy',optimizer='adam', metrics=['accuracy'])"
      ],
      "metadata": {
        "id": "fU6Dam98jXD_"
      },
      "execution_count": 148,
      "outputs": []
    },
    {
      "cell_type": "code",
      "source": [
        "model.summary()"
      ],
      "metadata": {
        "colab": {
          "base_uri": "https://localhost:8080/"
        },
        "id": "mvwrSANmjkNG",
        "outputId": "f57d547d-ef8a-4805-d8c2-b009c42cf5df"
      },
      "execution_count": 149,
      "outputs": [
        {
          "output_type": "stream",
          "name": "stdout",
          "text": [
            "Model: \"sequential_9\"\n",
            "_________________________________________________________________\n",
            " Layer (type)                Output Shape              Param #   \n",
            "=================================================================\n",
            " conv2d_10 (Conv2D)          (None, 26, 26, 32)        320       \n",
            "                                                                 \n",
            " max_pooling2d_7 (MaxPoolin  (None, 13, 13, 32)        0         \n",
            " g2D)                                                            \n",
            "                                                                 \n",
            " flatten_7 (Flatten)         (None, 5408)              0         \n",
            "                                                                 \n",
            " dense_14 (Dense)            (None, 8)                 43272     \n",
            "                                                                 \n",
            " dense_15 (Dense)            (None, 10)                90        \n",
            "                                                                 \n",
            "=================================================================\n",
            "Total params: 43682 (170.63 KB)\n",
            "Trainable params: 43682 (170.63 KB)\n",
            "Non-trainable params: 0 (0.00 Byte)\n",
            "_________________________________________________________________\n"
          ]
        }
      ]
    },
    {
      "cell_type": "markdown",
      "source": [
        "And let's train it:"
      ],
      "metadata": {
        "id": "YxU4UzMtVy-B"
      }
    },
    {
      "cell_type": "code",
      "source": [
        "history = model.fit(x_train, y_train, epochs=20, batch_size = 128, validation_data=(x_test, y_test))"
      ],
      "metadata": {
        "colab": {
          "base_uri": "https://localhost:8080/"
        },
        "id": "rgEeHf92j4j1",
        "outputId": "e3f6c052-5c72-4255-93f7-7bc4ddcce741"
      },
      "execution_count": 150,
      "outputs": [
        {
          "output_type": "stream",
          "name": "stdout",
          "text": [
            "Epoch 1/20\n",
            "469/469 [==============================] - 13s 26ms/step - loss: 0.5655 - accuracy: 0.8396 - val_loss: 0.2991 - val_accuracy: 0.9206\n",
            "Epoch 2/20\n",
            "469/469 [==============================] - 12s 26ms/step - loss: 0.2406 - accuracy: 0.9357 - val_loss: 0.1976 - val_accuracy: 0.9451\n",
            "Epoch 3/20\n",
            "469/469 [==============================] - 13s 28ms/step - loss: 0.1647 - accuracy: 0.9546 - val_loss: 0.1527 - val_accuracy: 0.9577\n",
            "Epoch 4/20\n",
            "469/469 [==============================] - 13s 29ms/step - loss: 0.1326 - accuracy: 0.9630 - val_loss: 0.1277 - val_accuracy: 0.9636\n",
            "Epoch 5/20\n",
            "469/469 [==============================] - 13s 27ms/step - loss: 0.1152 - accuracy: 0.9673 - val_loss: 0.1106 - val_accuracy: 0.9688\n",
            "Epoch 6/20\n",
            "469/469 [==============================] - 13s 27ms/step - loss: 0.1014 - accuracy: 0.9708 - val_loss: 0.1139 - val_accuracy: 0.9666\n",
            "Epoch 7/20\n",
            "469/469 [==============================] - 12s 26ms/step - loss: 0.0945 - accuracy: 0.9729 - val_loss: 0.1070 - val_accuracy: 0.9687\n",
            "Epoch 8/20\n",
            "469/469 [==============================] - 12s 26ms/step - loss: 0.0860 - accuracy: 0.9747 - val_loss: 0.0990 - val_accuracy: 0.9711\n",
            "Epoch 9/20\n",
            "469/469 [==============================] - 12s 26ms/step - loss: 0.0807 - accuracy: 0.9766 - val_loss: 0.0992 - val_accuracy: 0.9710\n",
            "Epoch 10/20\n",
            "469/469 [==============================] - 12s 26ms/step - loss: 0.0702 - accuracy: 0.9790 - val_loss: 0.0785 - val_accuracy: 0.9758\n",
            "Epoch 11/20\n",
            "469/469 [==============================] - 12s 26ms/step - loss: 0.0588 - accuracy: 0.9822 - val_loss: 0.0744 - val_accuracy: 0.9768\n",
            "Epoch 12/20\n",
            "469/469 [==============================] - 12s 26ms/step - loss: 0.0516 - accuracy: 0.9842 - val_loss: 0.0714 - val_accuracy: 0.9779\n",
            "Epoch 13/20\n",
            "469/469 [==============================] - 12s 26ms/step - loss: 0.0464 - accuracy: 0.9858 - val_loss: 0.0722 - val_accuracy: 0.9769\n",
            "Epoch 14/20\n",
            "469/469 [==============================] - 12s 26ms/step - loss: 0.0430 - accuracy: 0.9871 - val_loss: 0.0659 - val_accuracy: 0.9806\n",
            "Epoch 15/20\n",
            "469/469 [==============================] - 12s 26ms/step - loss: 0.0387 - accuracy: 0.9882 - val_loss: 0.0670 - val_accuracy: 0.9806\n",
            "Epoch 16/20\n",
            "469/469 [==============================] - 12s 26ms/step - loss: 0.0363 - accuracy: 0.9891 - val_loss: 0.0660 - val_accuracy: 0.9804\n",
            "Epoch 17/20\n",
            "469/469 [==============================] - 14s 30ms/step - loss: 0.0337 - accuracy: 0.9897 - val_loss: 0.0734 - val_accuracy: 0.9782\n",
            "Epoch 18/20\n",
            "469/469 [==============================] - 14s 31ms/step - loss: 0.0315 - accuracy: 0.9904 - val_loss: 0.0645 - val_accuracy: 0.9810\n",
            "Epoch 19/20\n",
            "469/469 [==============================] - 13s 28ms/step - loss: 0.0284 - accuracy: 0.9916 - val_loss: 0.0711 - val_accuracy: 0.9780\n",
            "Epoch 20/20\n",
            "469/469 [==============================] - 15s 32ms/step - loss: 0.0271 - accuracy: 0.9915 - val_loss: 0.0679 - val_accuracy: 0.9804\n"
          ]
        }
      ]
    },
    {
      "cell_type": "markdown",
      "source": [
        "So again not much of an improvement in the later epochs, though the performance based on validation loss and accuracy scores are superior to the feed-forward net from above.\n",
        "\n",
        "Let's evaluate based on the same digits:"
      ],
      "metadata": {
        "id": "4XL1S3tjW9Nm"
      }
    },
    {
      "cell_type": "code",
      "source": [
        "def plot_digit(image, digit, plt, i):\n",
        "    plt.subplot(4, 5, i + 1)\n",
        "    plt.imshow(image, cmap=plt.get_cmap('gray'))\n",
        "    plt.title(f\"Digit: {digit}\")\n",
        "    plt.xticks([])\n",
        "    plt.yticks([])\n",
        "\n",
        "random.seed(5)\n",
        "\n",
        "plt.figure(figsize=(16, 10))\n",
        "for i in range(20):\n",
        "    image = random.choice(x_test).squeeze()\n",
        "    digit = np.argmax(model.predict(image.reshape((1, 28, 28, 1)))[0], axis=-1)\n",
        "    plot_digit(image, digit, plt, i)\n",
        "\n",
        "plt.show()"
      ],
      "metadata": {
        "colab": {
          "base_uri": "https://localhost:8080/",
          "height": 1000
        },
        "id": "XxP_7ePolWaN",
        "outputId": "a28b0f5b-745b-4945-f899-fcc9eb5cbcb7"
      },
      "execution_count": 151,
      "outputs": [
        {
          "output_type": "stream",
          "name": "stdout",
          "text": [
            "1/1 [==============================] - 0s 46ms/step\n",
            "1/1 [==============================] - 0s 15ms/step\n",
            "1/1 [==============================] - 0s 15ms/step\n",
            "1/1 [==============================] - 0s 15ms/step\n",
            "1/1 [==============================] - 0s 17ms/step\n",
            "1/1 [==============================] - 0s 22ms/step\n",
            "1/1 [==============================] - 0s 16ms/step\n",
            "1/1 [==============================] - 0s 14ms/step\n",
            "1/1 [==============================] - 0s 16ms/step\n",
            "1/1 [==============================] - 0s 15ms/step\n",
            "1/1 [==============================] - 0s 17ms/step\n",
            "1/1 [==============================] - 0s 20ms/step\n",
            "1/1 [==============================] - 0s 21ms/step\n",
            "1/1 [==============================] - 0s 16ms/step\n",
            "1/1 [==============================] - 0s 17ms/step\n",
            "1/1 [==============================] - 0s 17ms/step\n",
            "1/1 [==============================] - 0s 14ms/step\n",
            "1/1 [==============================] - 0s 13ms/step\n",
            "1/1 [==============================] - 0s 14ms/step\n",
            "1/1 [==============================] - 0s 14ms/step\n"
          ]
        },
        {
          "output_type": "display_data",
          "data": {
            "text/plain": [
              "<Figure size 1600x1000 with 20 Axes>"
            ],
            "image/png": "[encoded data removed]"
          },
          "metadata": {}
        }
      ]
    },
    {
      "cell_type": "markdown",
      "source": [
        "So in this example this neural net seems a little worse, though I chose it to get some images it doesn't classify accurately. Experiment with the seed a bit to get an impression."
      ],
      "metadata": {
        "id": "CydYkF6dXsHi"
      }
    }
  ]
}