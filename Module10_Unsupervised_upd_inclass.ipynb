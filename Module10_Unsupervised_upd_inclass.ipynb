{
  "nbformat": 4,
  "nbformat_minor": 0,
  "metadata": {
    "kernelspec": {
      "display_name": "Python 3",
      "language": "python",
      "name": "python3"
    },
    "language_info": {
      "codemirror_mode": {
        "name": "ipython",
        "version": 3
      },
      "file_extension": ".py",
      "mimetype": "text/x-python",
      "name": "python",
      "nbconvert_exporter": "python",
      "pygments_lexer": "ipython3",
      "version": "3.8.3"
    },
    "colab": {
      "provenance": [],
      "include_colab_link": true
    }
  },
  "cells": [
    {
      "cell_type": "markdown",
      "metadata": {
        "id": "view-in-github",
        "colab_type": "text"
      },
      "source": [
        "<a href=\"https://colab.research.google.com/github/danielbauer1979/ML_656/blob/main/Module10_Unsupervised_upd_inclass.ipynb\" target=\"_parent\"><img src=\"https://colab.research.google.com/assets/colab-badge.svg\" alt=\"Open In Colab\"/></a>"
      ]
    },
    {
      "cell_type": "markdown",
      "source": [
        "# Unsupervised Learning: Clustering and PCA Analysis\n",
        "Dani Bauer, 2023\n",
        "\n",
        "As mentioned in the beginning of lecture, there are (at least) two basic learning setups.  In **supervised** machine learning one observes a response $Y$ with observing $p$ different features $X=(X_1,X_2,\\ldots,X_p)$, where we typically postulate the relationship $Y = f(X)+\\varepsilon$ and $\\varepsilon$ independent of $X$ with mean zero. Here quality is usually assessed by the (test/out-of-sample) error that compares predictions and realizations for a separate dataset.  In **unsupervised** learning, we only observe $p$ features $X_1,X_2,\\ldots,X_p$, and we would like to learn about their relationship -- without focussing on a supervising outcome.  Of course, the difficulty is how to assess quality in this case -- so different unsupervised learning techniques are very different, and which one to pick will depend on the nature of the problem.\n",
        "\n",
        "In this tutorial, we will take a closer look at two algorithms: **Principal Component Analysis (PCA)** and **Clustering**.  There are variety of other techniques, including anomaly detection, self-organizing maps, association analysis, etc. We start with quick introductions but then look into the applications of these techniques in more detail in the context of a case study.\n",
        "\n",
        "As usual, we start by implementing the relevant packages:"
      ],
      "metadata": {
        "id": "aIiejbOjljzy"
      }
    },
    {
      "cell_type": "code",
      "metadata": {
        "id": "7vCC-SQb7VRR"
      },
      "source": [
        "import numpy as np\n",
        "import matplotlib.pyplot as plt\n",
        "import matplotlib.lines as mlines\n",
        "import plotly.figure_factory as ff\n",
        "import pandas as pd\n",
        "import seaborn as sns\n",
        "from random import sample\n",
        "\n",
        "from sklearn.preprocessing import MinMaxScaler, StandardScaler # For rescaling metrics to fit 0 to 1 range\n",
        "from sklearn.metrics import multilabel_confusion_matrix, confusion_matrix\n",
        "from sklearn.cluster import KMeans, AgglomerativeClustering\n",
        "from scipy.cluster.hierarchy import dendrogram, linkage\n",
        "from sklearn.decomposition import PCA\n",
        "from scipy.spatial.distance import euclidean"
      ],
      "execution_count": 1,
      "outputs": []
    },
    {
      "cell_type": "markdown",
      "source": [
        "# Principal Component Analysis\n",
        "\n",
        "## Background\n",
        "\n",
        "The key idea behind *Principal Component Analysis* (PCA) is to use \"meaningful\" linear combinations of the data:\n",
        "$$\n",
        "Z_m = \\sum_{j=1}^p \\phi_{jm} X_j \\text{ such that }\\sum_{j=1}^p \\phi^2_{jm} = 1,\n",
        "$$\n",
        "where the idea is to choose:\n",
        "\n",
        "- $\\phi_{j1},\\,j=1,\\ldots,p$  such that the the variance of $Z_1$ is maximal (i.e., so that it captures most of the variation in the $X$s)\n",
        "\n",
        "- $\\phi_{j2},\\,j=1,\\ldots,p$ such that the variance of $Z_2$ is maximial out of all the variables that are uncorrelated with $Z_1$.\n",
        "\n",
        "- $\\phi_{j3},\\,j=1,\\ldots,p$ such that the variance of $Z_3$ is maximial out of all the variables that are uncorrelated with $Z_1$ and $Z_2$. $\\ldots$\n",
        "\n",
        "Hence, one way to intepret the principal components are the linear combination that best reflect the variation in the data.\n",
        "\n",
        "Importantly, the scale of variables matters, so it is a good idea to center and scale your variables.  Also, the components are only determined up to their sign (plus/minus).  To discern how important different variables are, one typically considers the *Percent of Variance Explained* (PVE):\n",
        "$$\n",
        "\\text{PVE}_m = \\frac{\\sum_{i=1}^n \\left(\\sum_{j=1}^p \\phi_{jm}x_{ij}\\right)^2}{\\sum_{i=1}^n \\sum_{j=1}^p x_{ij}^2},\n",
        "$$\n",
        "and the resulting plot that depicts PVE by principal components is referred to as a *scee plot*.\n",
        "\n",
        "## Simulated Example\n",
        "\n",
        "Let's consider a basic example, where we simulate heights and weights of a fictional population according to some arbitrary parameters.  More precisely, we assume that weight and height follow Normal distributions with a mean weight (in kg) of 70 and a mean height (in cm) of 170m, and variances of 25 and 150, respectively.  We assume the correlation parameter is 50%.\n"
      ],
      "metadata": {
        "id": "M0g7gj9NmeKj"
      }
    },
    {
      "cell_type": "code",
      "source": [
        "mu = (70,170)\n",
        "cov = np.array([[25, np.sqrt(25)*np.sqrt(150)*0.5], [np.sqrt(25)*np.sqrt(150)*0.5, 150]])\n",
        "X_raw = np.random.multivariate_normal(mu, cov, size=5000)"
      ],
      "metadata": {
        "id": "WUPuLhokm73m"
      },
      "execution_count": 2,
      "outputs": []
    },
    {
      "cell_type": "markdown",
      "source": [
        "Let's check quick:"
      ],
      "metadata": {
        "id": "nwTiQwq_p0Fy"
      }
    },
    {
      "cell_type": "code",
      "source": [
        "X_raw.mean(axis=0)"
      ],
      "metadata": {
        "id": "bl3Q6vB_prhP",
        "outputId": "8e536d34-28e0-4698-db9e-14e1698f5a14",
        "colab": {
          "base_uri": "https://localhost:8080/"
        }
      },
      "execution_count": 3,
      "outputs": [
        {
          "output_type": "execute_result",
          "data": {
            "text/plain": [
              "array([ 69.9576963 , 169.97595379])"
            ]
          },
          "metadata": {},
          "execution_count": 3
        }
      ]
    },
    {
      "cell_type": "code",
      "source": [
        "np.cov(np.transpose(X_raw))"
      ],
      "metadata": {
        "id": "NmFiKEcHqCjt",
        "outputId": "82449a37-9989-4e47-817d-efd38619fd37",
        "colab": {
          "base_uri": "https://localhost:8080/"
        }
      },
      "execution_count": 4,
      "outputs": [
        {
          "output_type": "execute_result",
          "data": {
            "text/plain": [
              "array([[ 25.45655342,  32.59606868],\n",
              "       [ 32.59606868, 156.70648829]])"
            ]
          },
          "metadata": {},
          "execution_count": 4
        }
      ]
    },
    {
      "cell_type": "code",
      "source": [
        "np.corrcoef(np.transpose(X_raw))"
      ],
      "metadata": {
        "id": "7CP5fiTOyaJ4",
        "outputId": "c27d6ff8-0fe0-4ae6-9454-b10b606ad6e5",
        "colab": {
          "base_uri": "https://localhost:8080/"
        }
      },
      "execution_count": 5,
      "outputs": [
        {
          "output_type": "execute_result",
          "data": {
            "text/plain": [
              "array([[1.        , 0.51608583],\n",
              "       [0.51608583, 1.        ]])"
            ]
          },
          "metadata": {},
          "execution_count": 5
        }
      ]
    },
    {
      "cell_type": "markdown",
      "source": [
        "So the *empirical* moments look similar to our theoretical moments. Let's take a peak:\n"
      ],
      "metadata": {
        "id": "8qFiIVu4p161"
      }
    },
    {
      "cell_type": "code",
      "source": [
        "plt.figure(figsize = (6,4))\n",
        "plt.scatter(X_raw[:,0], X_raw[:,1], s = 1, color = 'black')\n",
        "plt.xlabel('weight')\n",
        "plt.ylabel('height')\n",
        "plt.legend()\n",
        "plt.show()"
      ],
      "metadata": {
        "id": "tY1m2LNRpBg0",
        "outputId": "fbd55a38-992e-4b6e-89fa-912a05dd02a5",
        "colab": {
          "base_uri": "https://localhost:8080/",
          "height": 406
        }
      },
      "execution_count": 6,
      "outputs": [
        {
          "output_type": "stream",
          "name": "stderr",
          "text": [
            "WARNING:matplotlib.legend:No artists with labels found to put in legend.  Note that artists whose label start with an underscore are ignored when legend() is called with no argument.\n"
          ]
        },
        {
          "output_type": "display_data",
          "data": {
            "text/plain": [
              "<Figure size 600x400 with 1 Axes>"
            ],
            "image/png": "[encoded data removed]"
          },
          "metadata": {}
        }
      ]
    },
    {
      "cell_type": "markdown",
      "source": [
        "Prinicipal components are closely related to the eigen-analysis (eigenvalues and eigenvectors) of the correlation (or covariance) matrix.  Let's illustrate (if you never had a linear algebra class, feel free to skip this part).  First, let's scale the data and calculate the (empirical) correlation matrix -- remember, in practical settings we usually don't know the underlying parameters:\n"
      ],
      "metadata": {
        "id": "_IXLO-52q0zt"
      }
    },
    {
      "cell_type": "code",
      "source": [
        "R = np.corrcoef(np.transpose(X_raw))\n",
        "R"
      ],
      "metadata": {
        "id": "5VahnsYuq1xp",
        "outputId": "2b3beb81-def6-4984-991d-208a1a4399dd",
        "colab": {
          "base_uri": "https://localhost:8080/"
        }
      },
      "execution_count": 7,
      "outputs": [
        {
          "output_type": "execute_result",
          "data": {
            "text/plain": [
              "array([[1.        , 0.51608583],\n",
              "       [0.51608583, 1.        ]])"
            ]
          },
          "metadata": {},
          "execution_count": 7
        }
      ]
    },
    {
      "cell_type": "markdown",
      "source": [
        "Let's calculate the eigenvalues and the eigenvectors of `R`.  As a reminder, the eigenvectors decompose a matrix (a.k.a. a linear mapping in finite dimensions) in orthogonal directions, whereas the eignvalues provide the \"length\" (importance) of the directions.  In particular, we can represent a symmetric matrix in diagnolized form by relying on eigenvectors and eigenvalues."
      ],
      "metadata": {
        "id": "mdNuryMYrJt6"
      }
    },
    {
      "cell_type": "code",
      "source": [
        "Dec = np.linalg.eig(R)\n",
        "Dec"
      ],
      "metadata": {
        "id": "rpMC6B0drS6-",
        "outputId": "cb043893-22be-4b1c-c77e-e9f0348ca9a3",
        "colab": {
          "base_uri": "https://localhost:8080/"
        }
      },
      "execution_count": 8,
      "outputs": [
        {
          "output_type": "execute_result",
          "data": {
            "text/plain": [
              "(array([1.51608583, 0.48391417]),\n",
              " array([[ 0.70710678, -0.70710678],\n",
              "        [ 0.70710678,  0.70710678]]))"
            ]
          },
          "metadata": {},
          "execution_count": 8
        }
      ]
    },
    {
      "cell_type": "code",
      "source": [
        "V = Dec[1] # Matrix of Eigenvectores\n",
        "D = np.diag(Dec[0]) # Diagonal Matrix of Eigenvalues\n",
        "np.dot(np.dot(V,D),np.transpose(V)) # Calculates V * D * V'"
      ],
      "metadata": {
        "id": "oGS9R-CxsVgM",
        "outputId": "ba4bd907-7b80-4624-88c2-c81598c05355",
        "colab": {
          "base_uri": "https://localhost:8080/"
        }
      },
      "execution_count": 9,
      "outputs": [
        {
          "output_type": "execute_result",
          "data": {
            "text/plain": [
              "array([[1.        , 0.51608583],\n",
              "       [0.51608583, 1.        ]])"
            ]
          },
          "metadata": {},
          "execution_count": 9
        }
      ]
    },
    {
      "cell_type": "markdown",
      "source": [
        "To get intuition, let's plot the Eigenvectors:"
      ],
      "metadata": {
        "id": "yUlyHgUy3IyG"
      }
    },
    {
      "cell_type": "code",
      "source": [
        "scaler = StandardScaler()\n",
        "scaler.fit(X_raw)\n",
        "plt.figure(figsize = (6,4))\n",
        "fig, ax = plt.subplots()\n",
        "ax.scatter(scaler.transform(X_raw)[:,0], scaler.transform(X_raw)[:,1], s = 1, color = 'black')\n",
        "line1 = mlines.Line2D([0, 0.7071], [0, -.7071], color='red')\n",
        "line2 = mlines.Line2D([0, .7071], [0, .7071], color='yellow')\n",
        "transform = ax.transAxes\n",
        "ax.add_line(line1)\n",
        "ax.add_line(line2)\n",
        "plt.xlabel('scaled weight')\n",
        "plt.ylabel('scaled height')\n",
        "plt.show()"
      ],
      "metadata": {
        "id": "_qNILkH44nBQ",
        "outputId": "55d70fec-067f-4b6e-fb46-4819bb8cb40e",
        "colab": {
          "base_uri": "https://localhost:8080/",
          "height": 467
        }
      },
      "execution_count": 10,
      "outputs": [
        {
          "output_type": "display_data",
          "data": {
            "text/plain": [
              "<Figure size 600x400 with 0 Axes>"
            ]
          },
          "metadata": {}
        },
        {
          "output_type": "display_data",
          "data": {
            "text/plain": [
              "<Figure size 640x480 with 1 Axes>"
            ],
            "image/png": "[encoded data removed]"
          },
          "metadata": {}
        }
      ]
    },
    {
      "cell_type": "markdown",
      "source": [
        "Let's determine the PCAs to compare:"
      ],
      "metadata": {
        "id": "NmDr6gNvDmW0"
      }
    },
    {
      "cell_type": "code",
      "source": [
        "pca = PCA()\n",
        "pca_fit = pca.fit(scaler.transform(X_raw))"
      ],
      "metadata": {
        "id": "mvQZVoseDD_n"
      },
      "execution_count": 11,
      "outputs": []
    },
    {
      "cell_type": "code",
      "source": [
        "pca_fit.components_"
      ],
      "metadata": {
        "id": "9l6m5_ylDcLR",
        "outputId": "3f26754f-fe61-4659-8678-2e883764fd68",
        "colab": {
          "base_uri": "https://localhost:8080/"
        }
      },
      "execution_count": 12,
      "outputs": [
        {
          "output_type": "execute_result",
          "data": {
            "text/plain": [
              "array([[ 0.70710678,  0.70710678],\n",
              "       [ 0.70710678, -0.70710678]])"
            ]
          },
          "metadata": {},
          "execution_count": 12
        }
      ]
    },
    {
      "cell_type": "markdown",
      "source": [
        "It is exactly this notion of \"importance\" that motivates principal components.  Indeed, the loadings of the principal components just amount to the *ordered* eigenvalues..."
      ],
      "metadata": {
        "id": "D100cSoIsTRT"
      }
    },
    {
      "cell_type": "markdown",
      "source": [
        "# Clustering\n",
        "\n",
        "## Background\n",
        "\n",
        "*Clustering* refers to techniques for finding subgroups in a given dataset. The typical approach to determine clusters $C_1,\\ldots,C_K$ is to minimize:\n",
        "$$\n",
        "\\sum_{k=1}^K W(C_k),\n",
        "$$\n",
        "where $W$ is a measure of *variation* within a cluster.  For instance, **k-means clustering** uses the Euclidean distance to measure variation:\n",
        "$$\n",
        "W(C_k) = \\frac{1}{|C_k|} \\sum_{i,i' \\in C_k} \\sum_{j=1}^p (x_{ij} - x_{i'j})^2.\n",
        "$$\n",
        "The algorithms are implemented via a greedy algorithm by considering the centers of clusters (referred to as *centroids*).  The number of clusters $K$ must be chosen beforehand.  One approach is *hierarchical clustering*, where one starts with a larger number of clusters and then *fuses* custers that are similar (e.g., with regards to the distance between their centroids).\n",
        "\n",
        "## Simulated Example\n",
        "\n",
        "Let's consider a very basic simulated example -- let's simulate normal random variables with different means:"
      ],
      "metadata": {
        "id": "OEru_Pl4ACGa"
      }
    },
    {
      "cell_type": "code",
      "source": [
        "X_raw2 = np.random.multivariate_normal((0,0), np.array([[1, 0], [0, 1]]), size=100)\n",
        "X_raw2[0:49,0]=X_raw2[1:50,0]+3\n",
        "X_raw2[0:49,1]=X_raw2[1:50,1]-4"
      ],
      "metadata": {
        "id": "tCFUcnLqbdpU"
      },
      "execution_count": 13,
      "outputs": []
    },
    {
      "cell_type": "markdown",
      "source": [
        "Let's plot:"
      ],
      "metadata": {
        "id": "Ozl7WSIvbdMs"
      }
    },
    {
      "cell_type": "code",
      "source": [
        "plt.figure(figsize = (6,4))\n",
        "plt.scatter(X_raw2[0:49,0], X_raw2[0:49,1], color='red')\n",
        "plt.scatter(X_raw2[50:99,0], X_raw2[50:99,1], color='black')\n",
        "plt.xlabel('X0')\n",
        "plt.ylabel('X1')\n",
        "plt.legend()\n",
        "plt.show()"
      ],
      "metadata": {
        "id": "AG2cFW5VctpN",
        "outputId": "67a75082-bb34-439e-dffc-5f5e7ac52d05",
        "colab": {
          "base_uri": "https://localhost:8080/",
          "height": 406
        }
      },
      "execution_count": 14,
      "outputs": [
        {
          "output_type": "stream",
          "name": "stderr",
          "text": [
            "WARNING:matplotlib.legend:No artists with labels found to put in legend.  Note that artists whose label start with an underscore are ignored when legend() is called with no argument.\n"
          ]
        },
        {
          "output_type": "display_data",
          "data": {
            "text/plain": [
              "<Figure size 600x400 with 1 Axes>"
            ],
            "image/png": "[encoded data removed]"
          },
          "metadata": {}
        }
      ]
    },
    {
      "cell_type": "markdown",
      "source": [
        "And let's run k means clustering:\n"
      ],
      "metadata": {
        "id": "5WdTAU69d6rp"
      }
    },
    {
      "cell_type": "code",
      "source": [
        "kmeans = KMeans(n_clusters = 2, init = 'k-means++', max_iter = 1000, random_state = 123)\n",
        "kmeans.fit(X_raw2)\n",
        "centroids = kmeans.cluster_centers_\n",
        "centroids"
      ],
      "metadata": {
        "id": "oq_YzcFwd6dY",
        "colab": {
          "base_uri": "https://localhost:8080/"
        },
        "outputId": "d2a9789c-7d07-416a-becf-842b50ff7d0b"
      },
      "execution_count": 15,
      "outputs": [
        {
          "output_type": "stream",
          "name": "stderr",
          "text": [
            "/usr/local/lib/python3.10/dist-packages/sklearn/cluster/_kmeans.py:870: FutureWarning: The default value of `n_init` will change from 10 to 'auto' in 1.4. Set the value of `n_init` explicitly to suppress the warning\n",
            "  warnings.warn(\n"
          ]
        },
        {
          "output_type": "execute_result",
          "data": {
            "text/plain": [
              "array([[ 0.10306823, -0.15673995],\n",
              "       [ 2.90818365, -3.9713409 ]])"
            ]
          },
          "metadata": {},
          "execution_count": 15
        }
      ]
    },
    {
      "cell_type": "code",
      "source": [
        "label = kmeans.fit_predict(X_raw2)\n",
        "label"
      ],
      "metadata": {
        "id": "PhY9123eecf-",
        "outputId": "a3cd5c00-c1ea-41bc-8035-8eb15531bacb",
        "colab": {
          "base_uri": "https://localhost:8080/"
        }
      },
      "execution_count": 16,
      "outputs": [
        {
          "output_type": "stream",
          "name": "stderr",
          "text": [
            "/usr/local/lib/python3.10/dist-packages/sklearn/cluster/_kmeans.py:870: FutureWarning: The default value of `n_init` will change from 10 to 'auto' in 1.4. Set the value of `n_init` explicitly to suppress the warning\n",
            "  warnings.warn(\n"
          ]
        },
        {
          "output_type": "execute_result",
          "data": {
            "text/plain": [
              "array([1, 1, 1, 1, 1, 1, 1, 1, 1, 1, 1, 1, 1, 1, 1, 1, 1, 1, 1, 1, 1, 1,\n",
              "       1, 1, 1, 1, 1, 1, 1, 1, 1, 1, 1, 1, 1, 1, 1, 1, 1, 1, 1, 1, 1, 1,\n",
              "       1, 1, 1, 1, 1, 0, 0, 0, 0, 0, 0, 0, 0, 0, 0, 0, 0, 0, 0, 0, 0, 0,\n",
              "       0, 0, 0, 0, 0, 0, 0, 0, 0, 0, 0, 0, 0, 0, 0, 0, 0, 0, 0, 0, 0, 0,\n",
              "       0, 0, 0, 0, 0, 0, 0, 0, 0, 0, 0, 0], dtype=int32)"
            ]
          },
          "metadata": {},
          "execution_count": 16
        }
      ]
    },
    {
      "cell_type": "markdown",
      "source": [
        "So the algorithm was able to identify how we set up the data!"
      ],
      "metadata": {
        "id": "TPcmD4aOeq3P"
      }
    },
    {
      "cell_type": "markdown",
      "source": [
        "# Case Study: County Health Rankings 2013\n",
        "\n",
        "We analyze [County Health Rankings](www.countyhealthrankings.org) in the US in 2013, based on a data set from the University of Wisconsin Population Health Institute.  I took this exammple from Jim Guszcza, and he put this together in R (it's much better than what I had before :-).\n",
        "\n",
        "## Data Preparation\n",
        "\n",
        "Let's load the data:"
      ],
      "metadata": {
        "id": "3RW20yqheke7"
      }
    },
    {
      "cell_type": "code",
      "metadata": {
        "id": "Ge_n_HRNgRm0",
        "outputId": "4e8906de-c5dc-450e-c994-893fec1995e8",
        "colab": {
          "base_uri": "https://localhost:8080/"
        }
      },
      "source": [
        "!git clone https://github.com/danielbauer1979/ML_656.git"
      ],
      "execution_count": 17,
      "outputs": [
        {
          "output_type": "stream",
          "name": "stdout",
          "text": [
            "Cloning into 'ML_656'...\n",
            "remote: Enumerating objects: 355, done.\u001b[K\n",
            "remote: Counting objects: 100% (138/138), done.\u001b[K\n",
            "remote: Compressing objects: 100% (14/14), done.\u001b[K\n",
            "remote: Total 355 (delta 130), reused 124 (delta 124), pack-reused 217\u001b[K\n",
            "Receiving objects: 100% (355/355), 27.08 MiB | 19.00 MiB/s, done.\n",
            "Resolving deltas: 100% (196/196), done.\n"
          ]
        }
      ]
    },
    {
      "cell_type": "code",
      "metadata": {
        "id": "2whMtWdEgtAh"
      },
      "source": [
        "health = pd.read_csv('ML_656/countyHealthRR.csv')"
      ],
      "execution_count": 18,
      "outputs": []
    },
    {
      "cell_type": "code",
      "source": [
        "health.info()"
      ],
      "metadata": {
        "id": "V3w077i9fShr",
        "outputId": "deb1950b-bb90-40cd-df5b-6c7bbcf52bc4",
        "colab": {
          "base_uri": "https://localhost:8080/"
        }
      },
      "execution_count": 19,
      "outputs": [
        {
          "output_type": "stream",
          "name": "stdout",
          "text": [
            "<class 'pandas.core.frame.DataFrame'>\n",
            "RangeIndex: 3141 entries, 0 to 3140\n",
            "Data columns (total 33 columns):\n",
            " #   Column                     Non-Null Count  Dtype  \n",
            "---  ------                     --------------  -----  \n",
            " 0   FIPS                       3141 non-null   int64  \n",
            " 1   State                      3141 non-null   object \n",
            " 2   County                     3141 non-null   object \n",
            " 3   YPLL.Rate                  2987 non-null   float64\n",
            " 4   Perc.Fair.Poor.Health      2743 non-null   float64\n",
            " 5   Physically.Unhealthy.Days  2897 non-null   float64\n",
            " 6   Mentally.Unhealthy.Days    2862 non-null   float64\n",
            " 7   Perc.Low.Birth.Weight      2922 non-null   float64\n",
            " 8   Perc.Smokers               2536 non-null   float64\n",
            " 9   Perc.Obese                 3141 non-null   int64  \n",
            " 10  Perc.Physically.Inactive   3141 non-null   int64  \n",
            " 11  Perc.Excessive.Drinking    2623 non-null   float64\n",
            " 12  MV.Mortality.Rate          2773 non-null   float64\n",
            " 13  Chlamydia.Rate             3135 non-null   float64\n",
            " 14  Teen.Birth.Rate            2960 non-null   float64\n",
            " 15  Perc.Uninsured             3140 non-null   float64\n",
            " 16  Pr.Care.Physician.Ratio    2751 non-null   float64\n",
            " 17  Dentist.Ratio              2984 non-null   float64\n",
            " 18  Prev.Hosp.Stay.Rate        3011 non-null   float64\n",
            " 19  Perc.Diabetic.Screening    3094 non-null   float64\n",
            " 20  Perc.Mammography           3055 non-null   float64\n",
            " 21  Perc.High.School.Grad      3107 non-null   float64\n",
            " 22  Perc.Some.College          3141 non-null   float64\n",
            " 23  Perc.Unemployed            3140 non-null   float64\n",
            " 24  Perc.Children.in.Poverty   3140 non-null   float64\n",
            " 25  Perc.No.Soc.Emo.Support    2471 non-null   float64\n",
            " 26  Perc.Single.Parent.HH      3137 non-null   float64\n",
            " 27  Violent.Crime.Rate         2966 non-null   float64\n",
            " 28  Avg.Daily.Particulates     3107 non-null   float64\n",
            " 29  Perc.pop.in.viol           3084 non-null   float64\n",
            " 30  Rec.Facility.Rate          3141 non-null   float64\n",
            " 31  Perc.Limited.Access        3141 non-null   int64  \n",
            " 32  Perc.Fast.Foods            2989 non-null   float64\n",
            "dtypes: float64(27), int64(4), object(2)\n",
            "memory usage: 809.9+ KB\n"
          ]
        }
      ]
    },
    {
      "cell_type": "markdown",
      "source": [
        "So it's a large dataset, and the first three numbers are indices.  However, the remaning columns provide rather detailed information for each county.  Let's visualize:"
      ],
      "metadata": {
        "id": "W6DWnaeb0RHs"
      }
    },
    {
      "cell_type": "code",
      "source": [
        "sns.heatmap(health.corr());"
      ],
      "metadata": {
        "id": "z8Ia-qwL0k1k",
        "outputId": "97d9c6cc-20d4-4b2f-ea2a-62e41f7b67f5",
        "colab": {
          "base_uri": "https://localhost:8080/",
          "height": 647
        }
      },
      "execution_count": 20,
      "outputs": [
        {
          "output_type": "stream",
          "name": "stderr",
          "text": [
            "<ipython-input-20-21e96926a2d7>:1: FutureWarning: The default value of numeric_only in DataFrame.corr is deprecated. In a future version, it will default to False. Select only valid columns or specify the value of numeric_only to silence this warning.\n",
            "  sns.heatmap(health.corr());\n"
          ]
        },
        {
          "output_type": "display_data",
          "data": {
            "text/plain": [
              "<Figure size 640x480 with 2 Axes>"
            ],
            "image/png": "[encoded data removed]"
          },
          "metadata": {}
        }
      ]
    },
    {
      "cell_type": "markdown",
      "source": [
        "So quite a bit of correlation, but nothing seems to be \"replicated.\"  \n",
        "\n",
        "Unfortunately, we have a bunch of missing data. Let's drop the columns where we have lots of missing values and then drop na-s:"
      ],
      "metadata": {
        "id": "4bfsz1CRe7y9"
      }
    },
    {
      "cell_type": "code",
      "metadata": {
        "id": "012bX41Lg9dF"
      },
      "source": [
        "health = health.drop(columns=['FIPS','State','County','Perc.Fair.Poor.Health','Perc.Smokers','Perc.Excessive.Drinking','MV.Mortality.Rate','Pr.Care.Physician.Ratio','Perc.No.Soc.Emo.Support'])"
      ],
      "execution_count": 21,
      "outputs": []
    },
    {
      "cell_type": "code",
      "metadata": {
        "id": "nm0Hb3CxhytE"
      },
      "source": [
        "health = health.dropna()"
      ],
      "execution_count": 22,
      "outputs": []
    },
    {
      "cell_type": "markdown",
      "source": [
        "Let's look at the resulting data:"
      ],
      "metadata": {
        "id": "AOvjhvUr1Me8"
      }
    },
    {
      "cell_type": "code",
      "source": [
        "health.info()"
      ],
      "metadata": {
        "id": "YHiF5HDW1PnQ",
        "outputId": "848ba065-9818-4eed-803b-b1bf538b217a",
        "colab": {
          "base_uri": "https://localhost:8080/"
        }
      },
      "execution_count": 23,
      "outputs": [
        {
          "output_type": "stream",
          "name": "stdout",
          "text": [
            "<class 'pandas.core.frame.DataFrame'>\n",
            "Int64Index: 2387 entries, 0 to 3140\n",
            "Data columns (total 24 columns):\n",
            " #   Column                     Non-Null Count  Dtype  \n",
            "---  ------                     --------------  -----  \n",
            " 0   YPLL.Rate                  2387 non-null   float64\n",
            " 1   Physically.Unhealthy.Days  2387 non-null   float64\n",
            " 2   Mentally.Unhealthy.Days    2387 non-null   float64\n",
            " 3   Perc.Low.Birth.Weight      2387 non-null   float64\n",
            " 4   Perc.Obese                 2387 non-null   int64  \n",
            " 5   Perc.Physically.Inactive   2387 non-null   int64  \n",
            " 6   Chlamydia.Rate             2387 non-null   float64\n",
            " 7   Teen.Birth.Rate            2387 non-null   float64\n",
            " 8   Perc.Uninsured             2387 non-null   float64\n",
            " 9   Dentist.Ratio              2387 non-null   float64\n",
            " 10  Prev.Hosp.Stay.Rate        2387 non-null   float64\n",
            " 11  Perc.Diabetic.Screening    2387 non-null   float64\n",
            " 12  Perc.Mammography           2387 non-null   float64\n",
            " 13  Perc.High.School.Grad      2387 non-null   float64\n",
            " 14  Perc.Some.College          2387 non-null   float64\n",
            " 15  Perc.Unemployed            2387 non-null   float64\n",
            " 16  Perc.Children.in.Poverty   2387 non-null   float64\n",
            " 17  Perc.Single.Parent.HH      2387 non-null   float64\n",
            " 18  Violent.Crime.Rate         2387 non-null   float64\n",
            " 19  Avg.Daily.Particulates     2387 non-null   float64\n",
            " 20  Perc.pop.in.viol           2387 non-null   float64\n",
            " 21  Rec.Facility.Rate          2387 non-null   float64\n",
            " 22  Perc.Limited.Access        2387 non-null   int64  \n",
            " 23  Perc.Fast.Foods            2387 non-null   float64\n",
            "dtypes: float64(21), int64(3)\n",
            "memory usage: 466.2 KB\n"
          ]
        }
      ]
    },
    {
      "cell_type": "code",
      "source": [
        "health.describe()"
      ],
      "metadata": {
        "id": "oeIESh-O1SwN",
        "outputId": "34d46700-5646-4f34-ce2f-b18f83d8c6ae",
        "colab": {
          "base_uri": "https://localhost:8080/",
          "height": 350
        }
      },
      "execution_count": 24,
      "outputs": [
        {
          "output_type": "execute_result",
          "data": {
            "text/plain": [
              "          YPLL.Rate  Physically.Unhealthy.Days  Mentally.Unhealthy.Days  \\\n",
              "count   2387.000000                2387.000000              2387.000000   \n",
              "mean    7884.297444                   3.807331                 3.501718   \n",
              "std     2215.304596                   1.014505                 0.935641   \n",
              "min     2950.000000                   1.300000                 0.800000   \n",
              "25%     6278.000000                   3.100000                 2.900000   \n",
              "50%     7620.000000                   3.700000                 3.400000   \n",
              "75%     9254.000000                   4.400000                 4.100000   \n",
              "max    19937.000000                   8.500000                 7.300000   \n",
              "\n",
              "       Perc.Low.Birth.Weight   Perc.Obese  Perc.Physically.Inactive  \\\n",
              "count            2387.000000  2387.000000               2387.000000   \n",
              "mean                8.166862    30.431085                 27.571429   \n",
              "std                 1.930727     4.203510                  5.290337   \n",
              "min                 3.400000    14.000000                 10.000000   \n",
              "25%                 6.800000    28.000000                 24.000000   \n",
              "50%                 7.900000    31.000000                 28.000000   \n",
              "75%                 9.200000    33.000000                 31.000000   \n",
              "max                17.500000    48.000000                 44.000000   \n",
              "\n",
              "       Chlamydia.Rate  Teen.Birth.Rate  Perc.Uninsured  Dentist.Ratio  ...  \\\n",
              "count     2387.000000      2387.000000     2387.000000    2387.000000  ...   \n",
              "mean       312.504399        44.272727       17.804776    3190.894847  ...   \n",
              "std        236.950701        18.964137        5.172264    1763.230961  ...   \n",
              "min          0.000000         4.000000        5.000000    1002.000000  ...   \n",
              "25%        157.000000        30.000000       14.000000    1899.500000  ...   \n",
              "50%        245.000000        43.000000       18.000000    2703.000000  ...   \n",
              "75%        394.000000        57.000000       21.000000    3922.000000  ...   \n",
              "max       2245.000000       120.000000       38.000000    9975.000000  ...   \n",
              "\n",
              "       Perc.Some.College  Perc.Unemployed  Perc.Children.in.Poverty  \\\n",
              "count        2387.000000      2387.000000               2387.000000   \n",
              "mean           54.485337         8.779263                 24.369083   \n",
              "std            11.451334         2.770127                  8.664314   \n",
              "min            23.200000         1.100000                  4.000000   \n",
              "25%            46.200000         7.000000                 18.000000   \n",
              "50%            54.500000         8.500000                 24.000000   \n",
              "75%            62.600000        10.400000                 30.000000   \n",
              "max            90.400000        29.700000                 62.000000   \n",
              "\n",
              "       Perc.Single.Parent.HH  Violent.Crime.Rate  Avg.Daily.Particulates  \\\n",
              "count            2387.000000         2387.000000             2387.000000   \n",
              "mean               31.188521          281.880603               11.202053   \n",
              "std                 9.083047          220.443342                1.780946   \n",
              "min                 4.000000            0.000000                6.400000   \n",
              "25%                25.000000          127.500000                9.800000   \n",
              "50%                30.000000          224.000000               11.300000   \n",
              "75%                36.000000          372.000000               12.700000   \n",
              "max                75.000000         1987.000000               14.800000   \n",
              "\n",
              "       Perc.pop.in.viol  Rec.Facility.Rate  Perc.Limited.Access  \\\n",
              "count       2387.000000        2387.000000          2387.000000   \n",
              "mean           8.605362           8.161500             6.922916   \n",
              "std           18.144205           6.379079             5.195984   \n",
              "min            0.000000           0.000000             0.000000   \n",
              "25%            0.000000           4.000000             3.000000   \n",
              "50%            0.000000           7.800000             6.000000   \n",
              "75%            7.500000          11.400000             9.000000   \n",
              "max          100.000000          62.400000            44.000000   \n",
              "\n",
              "       Perc.Fast.Foods  \n",
              "count      2387.000000  \n",
              "mean         45.810222  \n",
              "std          12.244557  \n",
              "min           7.000000  \n",
              "25%          38.000000  \n",
              "50%          47.000000  \n",
              "75%          54.000000  \n",
              "max         100.000000  \n",
              "\n",
              "[8 rows x 24 columns]"
            ],
            "text/html": [
              "\n",
              "  <div id=\"df-89cb91cf-106b-4018-b865-08c717a37b30\" class=\"colab-df-container\">\n",
              "    <div>\n",
              "<style scoped>\n",
              "    .dataframe tbody tr th:only-of-type {\n",
              "        vertical-align: middle;\n",
              "    }\n",
              "\n",
              "    .dataframe tbody tr th {\n",
              "        vertical-align: top;\n",
              "    }\n",
              "\n",
              "    .dataframe thead th {\n",
              "        text-align: right;\n",
              "    }\n",
              "</style>\n",
              "<table border=\"1\" class=\"dataframe\">\n",
              "  <thead>\n",
              "    <tr style=\"text-align: right;\">\n",
              "      <th></th>\n",
              "      <th>YPLL.Rate</th>\n",
              "      <th>Physically.Unhealthy.Days</th>\n",
              "      <th>Mentally.Unhealthy.Days</th>\n",
              "      <th>Perc.Low.Birth.Weight</th>\n",
              "      <th>Perc.Obese</th>\n",
              "      <th>Perc.Physically.Inactive</th>\n",
              "      <th>Chlamydia.Rate</th>\n",
              "      <th>Teen.Birth.Rate</th>\n",
              "      <th>Perc.Uninsured</th>\n",
              "      <th>Dentist.Ratio</th>\n",
              "      <th>...</th>\n",
              "      <th>Perc.Some.College</th>\n",
              "      <th>Perc.Unemployed</th>\n",
              "      <th>Perc.Children.in.Poverty</th>\n",
              "      <th>Perc.Single.Parent.HH</th>\n",
              "      <th>Violent.Crime.Rate</th>\n",
              "      <th>Avg.Daily.Particulates</th>\n",
              "      <th>Perc.pop.in.viol</th>\n",
              "      <th>Rec.Facility.Rate</th>\n",
              "      <th>Perc.Limited.Access</th>\n",
              "      <th>Perc.Fast.Foods</th>\n",
              "    </tr>\n",
              "  </thead>\n",
              "  <tbody>\n",
              "    <tr>\n",
              "      <th>count</th>\n",
              "      <td>2387.000000</td>\n",
              "      <td>2387.000000</td>\n",
              "      <td>2387.000000</td>\n",
              "      <td>2387.000000</td>\n",
              "      <td>2387.000000</td>\n",
              "      <td>2387.000000</td>\n",
              "      <td>2387.000000</td>\n",
              "      <td>2387.000000</td>\n",
              "      <td>2387.000000</td>\n",
              "      <td>2387.000000</td>\n",
              "      <td>...</td>\n",
              "      <td>2387.000000</td>\n",
              "      <td>2387.000000</td>\n",
              "      <td>2387.000000</td>\n",
              "      <td>2387.000000</td>\n",
              "      <td>2387.000000</td>\n",
              "      <td>2387.000000</td>\n",
              "      <td>2387.000000</td>\n",
              "      <td>2387.000000</td>\n",
              "      <td>2387.000000</td>\n",
              "      <td>2387.000000</td>\n",
              "    </tr>\n",
              "    <tr>\n",
              "      <th>mean</th>\n",
              "      <td>7884.297444</td>\n",
              "      <td>3.807331</td>\n",
              "      <td>3.501718</td>\n",
              "      <td>8.166862</td>\n",
              "      <td>30.431085</td>\n",
              "      <td>27.571429</td>\n",
              "      <td>312.504399</td>\n",
              "      <td>44.272727</td>\n",
              "      <td>17.804776</td>\n",
              "      <td>3190.894847</td>\n",
              "      <td>...</td>\n",
              "      <td>54.485337</td>\n",
              "      <td>8.779263</td>\n",
              "      <td>24.369083</td>\n",
              "      <td>31.188521</td>\n",
              "      <td>281.880603</td>\n",
              "      <td>11.202053</td>\n",
              "      <td>8.605362</td>\n",
              "      <td>8.161500</td>\n",
              "      <td>6.922916</td>\n",
              "      <td>45.810222</td>\n",
              "    </tr>\n",
              "    <tr>\n",
              "      <th>std</th>\n",
              "      <td>2215.304596</td>\n",
              "      <td>1.014505</td>\n",
              "      <td>0.935641</td>\n",
              "      <td>1.930727</td>\n",
              "      <td>4.203510</td>\n",
              "      <td>5.290337</td>\n",
              "      <td>236.950701</td>\n",
              "      <td>18.964137</td>\n",
              "      <td>5.172264</td>\n",
              "      <td>1763.230961</td>\n",
              "      <td>...</td>\n",
              "      <td>11.451334</td>\n",
              "      <td>2.770127</td>\n",
              "      <td>8.664314</td>\n",
              "      <td>9.083047</td>\n",
              "      <td>220.443342</td>\n",
              "      <td>1.780946</td>\n",
              "      <td>18.144205</td>\n",
              "      <td>6.379079</td>\n",
              "      <td>5.195984</td>\n",
              "      <td>12.244557</td>\n",
              "    </tr>\n",
              "    <tr>\n",
              "      <th>min</th>\n",
              "      <td>2950.000000</td>\n",
              "      <td>1.300000</td>\n",
              "      <td>0.800000</td>\n",
              "      <td>3.400000</td>\n",
              "      <td>14.000000</td>\n",
              "      <td>10.000000</td>\n",
              "      <td>0.000000</td>\n",
              "      <td>4.000000</td>\n",
              "      <td>5.000000</td>\n",
              "      <td>1002.000000</td>\n",
              "      <td>...</td>\n",
              "      <td>23.200000</td>\n",
              "      <td>1.100000</td>\n",
              "      <td>4.000000</td>\n",
              "      <td>4.000000</td>\n",
              "      <td>0.000000</td>\n",
              "      <td>6.400000</td>\n",
              "      <td>0.000000</td>\n",
              "      <td>0.000000</td>\n",
              "      <td>0.000000</td>\n",
              "      <td>7.000000</td>\n",
              "    </tr>\n",
              "    <tr>\n",
              "      <th>25%</th>\n",
              "      <td>6278.000000</td>\n",
              "      <td>3.100000</td>\n",
              "      <td>2.900000</td>\n",
              "      <td>6.800000</td>\n",
              "      <td>28.000000</td>\n",
              "      <td>24.000000</td>\n",
              "      <td>157.000000</td>\n",
              "      <td>30.000000</td>\n",
              "      <td>14.000000</td>\n",
              "      <td>1899.500000</td>\n",
              "      <td>...</td>\n",
              "      <td>46.200000</td>\n",
              "      <td>7.000000</td>\n",
              "      <td>18.000000</td>\n",
              "      <td>25.000000</td>\n",
              "      <td>127.500000</td>\n",
              "      <td>9.800000</td>\n",
              "      <td>0.000000</td>\n",
              "      <td>4.000000</td>\n",
              "      <td>3.000000</td>\n",
              "      <td>38.000000</td>\n",
              "    </tr>\n",
              "    <tr>\n",
              "      <th>50%</th>\n",
              "      <td>7620.000000</td>\n",
              "      <td>3.700000</td>\n",
              "      <td>3.400000</td>\n",
              "      <td>7.900000</td>\n",
              "      <td>31.000000</td>\n",
              "      <td>28.000000</td>\n",
              "      <td>245.000000</td>\n",
              "      <td>43.000000</td>\n",
              "      <td>18.000000</td>\n",
              "      <td>2703.000000</td>\n",
              "      <td>...</td>\n",
              "      <td>54.500000</td>\n",
              "      <td>8.500000</td>\n",
              "      <td>24.000000</td>\n",
              "      <td>30.000000</td>\n",
              "      <td>224.000000</td>\n",
              "      <td>11.300000</td>\n",
              "      <td>0.000000</td>\n",
              "      <td>7.800000</td>\n",
              "      <td>6.000000</td>\n",
              "      <td>47.000000</td>\n",
              "    </tr>\n",
              "    <tr>\n",
              "      <th>75%</th>\n",
              "      <td>9254.000000</td>\n",
              "      <td>4.400000</td>\n",
              "      <td>4.100000</td>\n",
              "      <td>9.200000</td>\n",
              "      <td>33.000000</td>\n",
              "      <td>31.000000</td>\n",
              "      <td>394.000000</td>\n",
              "      <td>57.000000</td>\n",
              "      <td>21.000000</td>\n",
              "      <td>3922.000000</td>\n",
              "      <td>...</td>\n",
              "      <td>62.600000</td>\n",
              "      <td>10.400000</td>\n",
              "      <td>30.000000</td>\n",
              "      <td>36.000000</td>\n",
              "      <td>372.000000</td>\n",
              "      <td>12.700000</td>\n",
              "      <td>7.500000</td>\n",
              "      <td>11.400000</td>\n",
              "      <td>9.000000</td>\n",
              "      <td>54.000000</td>\n",
              "    </tr>\n",
              "    <tr>\n",
              "      <th>max</th>\n",
              "      <td>19937.000000</td>\n",
              "      <td>8.500000</td>\n",
              "      <td>7.300000</td>\n",
              "      <td>17.500000</td>\n",
              "      <td>48.000000</td>\n",
              "      <td>44.000000</td>\n",
              "      <td>2245.000000</td>\n",
              "      <td>120.000000</td>\n",
              "      <td>38.000000</td>\n",
              "      <td>9975.000000</td>\n",
              "      <td>...</td>\n",
              "      <td>90.400000</td>\n",
              "      <td>29.700000</td>\n",
              "      <td>62.000000</td>\n",
              "      <td>75.000000</td>\n",
              "      <td>1987.000000</td>\n",
              "      <td>14.800000</td>\n",
              "      <td>100.000000</td>\n",
              "      <td>62.400000</td>\n",
              "      <td>44.000000</td>\n",
              "      <td>100.000000</td>\n",
              "    </tr>\n",
              "  </tbody>\n",
              "</table>\n",
              "<p>8 rows × 24 columns</p>\n",
              "</div>\n",
              "    <div class=\"colab-df-buttons\">\n",
              "\n",
              "  <div class=\"colab-df-container\">\n",
              "    <button class=\"colab-df-convert\" onclick=\"convertToInteractive('df-89cb91cf-106b-4018-b865-08c717a37b30')\"\n",
              "            title=\"Convert this dataframe to an interactive table.\"\n",
              "            style=\"display:none;\">\n",
              "\n",
              "  <svg xmlns=\"http://www.w3.org/2000/svg\" height=\"24px\" viewBox=\"0 -960 960 960\">\n",
              "    <path d=\"M120-120v-720h720v720H120Zm60-500h600v-160H180v160Zm220 220h160v-160H400v160Zm0 220h160v-160H400v160ZM180-400h160v-160H180v160Zm440 0h160v-160H620v160ZM180-180h160v-160H180v160Zm440 0h160v-160H620v160Z\"/>\n",
              "  </svg>\n",
              "    </button>\n",
              "\n",
              "  <style>\n",
              "    .colab-df-container {\n",
              "      display:flex;\n",
              "      gap: 12px;\n",
              "    }\n",
              "\n",
              "    .colab-df-convert {\n",
              "      background-color: #E8F0FE;\n",
              "      border: none;\n",
              "      border-radius: 50%;\n",
              "      cursor: pointer;\n",
              "      display: none;\n",
              "      fill: #1967D2;\n",
              "      height: 32px;\n",
              "      padding: 0 0 0 0;\n",
              "      width: 32px;\n",
              "    }\n",
              "\n",
              "    .colab-df-convert:hover {\n",
              "      background-color: #E2EBFA;\n",
              "      box-shadow: 0px 1px 2px rgba(60, 64, 67, 0.3), 0px 1px 3px 1px rgba(60, 64, 67, 0.15);\n",
              "      fill: #174EA6;\n",
              "    }\n",
              "\n",
              "    .colab-df-buttons div {\n",
              "      margin-bottom: 4px;\n",
              "    }\n",
              "\n",
              "    [theme=dark] .colab-df-convert {\n",
              "      background-color: #3B4455;\n",
              "      fill: #D2E3FC;\n",
              "    }\n",
              "\n",
              "    [theme=dark] .colab-df-convert:hover {\n",
              "      background-color: #434B5C;\n",
              "      box-shadow: 0px 1px 3px 1px rgba(0, 0, 0, 0.15);\n",
              "      filter: drop-shadow(0px 1px 2px rgba(0, 0, 0, 0.3));\n",
              "      fill: #FFFFFF;\n",
              "    }\n",
              "  </style>\n",
              "\n",
              "    <script>\n",
              "      const buttonEl =\n",
              "        document.querySelector('#df-89cb91cf-106b-4018-b865-08c717a37b30 button.colab-df-convert');\n",
              "      buttonEl.style.display =\n",
              "        google.colab.kernel.accessAllowed ? 'block' : 'none';\n",
              "\n",
              "      async function convertToInteractive(key) {\n",
              "        const element = document.querySelector('#df-89cb91cf-106b-4018-b865-08c717a37b30');\n",
              "        const dataTable =\n",
              "          await google.colab.kernel.invokeFunction('convertToInteractive',\n",
              "                                                    [key], {});\n",
              "        if (!dataTable) return;\n",
              "\n",
              "        const docLinkHtml = 'Like what you see? Visit the ' +\n",
              "          '<a target=\"_blank\" href=https://colab.research.google.com/notebooks/data_table.ipynb>data table notebook</a>'\n",
              "          + ' to learn more about interactive tables.';\n",
              "        element.innerHTML = '';\n",
              "        dataTable['output_type'] = 'display_data';\n",
              "        await google.colab.output.renderOutput(dataTable, element);\n",
              "        const docLink = document.createElement('div');\n",
              "        docLink.innerHTML = docLinkHtml;\n",
              "        element.appendChild(docLink);\n",
              "      }\n",
              "    </script>\n",
              "  </div>\n",
              "\n",
              "\n",
              "<div id=\"df-30d94267-3026-421f-891e-439a528d13df\">\n",
              "  <button class=\"colab-df-quickchart\" onclick=\"quickchart('df-30d94267-3026-421f-891e-439a528d13df')\"\n",
              "            title=\"Suggest charts\"\n",
              "            style=\"display:none;\">\n",
              "\n",
              "<svg xmlns=\"http://www.w3.org/2000/svg\" height=\"24px\"viewBox=\"0 0 24 24\"\n",
              "     width=\"24px\">\n",
              "    <g>\n",
              "        <path d=\"M19 3H5c-1.1 0-2 .9-2 2v14c0 1.1.9 2 2 2h14c1.1 0 2-.9 2-2V5c0-1.1-.9-2-2-2zM9 17H7v-7h2v7zm4 0h-2V7h2v10zm4 0h-2v-4h2v4z\"/>\n",
              "    </g>\n",
              "</svg>\n",
              "  </button>\n",
              "\n",
              "<style>\n",
              "  .colab-df-quickchart {\n",
              "      --bg-color: #E8F0FE;\n",
              "      --fill-color: #1967D2;\n",
              "      --hover-bg-color: #E2EBFA;\n",
              "      --hover-fill-color: #174EA6;\n",
              "      --disabled-fill-color: #AAA;\n",
              "      --disabled-bg-color: #DDD;\n",
              "  }\n",
              "\n",
              "  [theme=dark] .colab-df-quickchart {\n",
              "      --bg-color: #3B4455;\n",
              "      --fill-color: #D2E3FC;\n",
              "      --hover-bg-color: #434B5C;\n",
              "      --hover-fill-color: #FFFFFF;\n",
              "      --disabled-bg-color: #3B4455;\n",
              "      --disabled-fill-color: #666;\n",
              "  }\n",
              "\n",
              "  .colab-df-quickchart {\n",
              "    background-color: var(--bg-color);\n",
              "    border: none;\n",
              "    border-radius: 50%;\n",
              "    cursor: pointer;\n",
              "    display: none;\n",
              "    fill: var(--fill-color);\n",
              "    height: 32px;\n",
              "    padding: 0;\n",
              "    width: 32px;\n",
              "  }\n",
              "\n",
              "  .colab-df-quickchart:hover {\n",
              "    background-color: var(--hover-bg-color);\n",
              "    box-shadow: 0 1px 2px rgba(60, 64, 67, 0.3), 0 1px 3px 1px rgba(60, 64, 67, 0.15);\n",
              "    fill: var(--button-hover-fill-color);\n",
              "  }\n",
              "\n",
              "  .colab-df-quickchart-complete:disabled,\n",
              "  .colab-df-quickchart-complete:disabled:hover {\n",
              "    background-color: var(--disabled-bg-color);\n",
              "    fill: var(--disabled-fill-color);\n",
              "    box-shadow: none;\n",
              "  }\n",
              "\n",
              "  .colab-df-spinner {\n",
              "    border: 2px solid var(--fill-color);\n",
              "    border-color: transparent;\n",
              "    border-bottom-color: var(--fill-color);\n",
              "    animation:\n",
              "      spin 1s steps(1) infinite;\n",
              "  }\n",
              "\n",
              "  @keyframes spin {\n",
              "    0% {\n",
              "      border-color: transparent;\n",
              "      border-bottom-color: var(--fill-color);\n",
              "      border-left-color: var(--fill-color);\n",
              "    }\n",
              "    20% {\n",
              "      border-color: transparent;\n",
              "      border-left-color: var(--fill-color);\n",
              "      border-top-color: var(--fill-color);\n",
              "    }\n",
              "    30% {\n",
              "      border-color: transparent;\n",
              "      border-left-color: var(--fill-color);\n",
              "      border-top-color: var(--fill-color);\n",
              "      border-right-color: var(--fill-color);\n",
              "    }\n",
              "    40% {\n",
              "      border-color: transparent;\n",
              "      border-right-color: var(--fill-color);\n",
              "      border-top-color: var(--fill-color);\n",
              "    }\n",
              "    60% {\n",
              "      border-color: transparent;\n",
              "      border-right-color: var(--fill-color);\n",
              "    }\n",
              "    80% {\n",
              "      border-color: transparent;\n",
              "      border-right-color: var(--fill-color);\n",
              "      border-bottom-color: var(--fill-color);\n",
              "    }\n",
              "    90% {\n",
              "      border-color: transparent;\n",
              "      border-bottom-color: var(--fill-color);\n",
              "    }\n",
              "  }\n",
              "</style>\n",
              "\n",
              "  <script>\n",
              "    async function quickchart(key) {\n",
              "      const quickchartButtonEl =\n",
              "        document.querySelector('#' + key + ' button');\n",
              "      quickchartButtonEl.disabled = true;  // To prevent multiple clicks.\n",
              "      quickchartButtonEl.classList.add('colab-df-spinner');\n",
              "      try {\n",
              "        const charts = await google.colab.kernel.invokeFunction(\n",
              "            'suggestCharts', [key], {});\n",
              "      } catch (error) {\n",
              "        console.error('Error during call to suggestCharts:', error);\n",
              "      }\n",
              "      quickchartButtonEl.classList.remove('colab-df-spinner');\n",
              "      quickchartButtonEl.classList.add('colab-df-quickchart-complete');\n",
              "    }\n",
              "    (() => {\n",
              "      let quickchartButtonEl =\n",
              "        document.querySelector('#df-30d94267-3026-421f-891e-439a528d13df button');\n",
              "      quickchartButtonEl.style.display =\n",
              "        google.colab.kernel.accessAllowed ? 'block' : 'none';\n",
              "    })();\n",
              "  </script>\n",
              "</div>\n",
              "    </div>\n",
              "  </div>\n"
            ]
          },
          "metadata": {},
          "execution_count": 24
        }
      ]
    },
    {
      "cell_type": "markdown",
      "source": [
        "And let's scale the data so as to make sure we are comparing apples to apples:"
      ],
      "metadata": {
        "id": "T2-2bu_51cH1"
      }
    },
    {
      "cell_type": "code",
      "metadata": {
        "id": "aVSWGGQ-kVhg",
        "outputId": "18722a09-b6fd-4bb0-8c72-94494b57245c",
        "colab": {
          "base_uri": "https://localhost:8080/"
        }
      },
      "source": [
        "scaler = MinMaxScaler()\n",
        "scaler.fit(health)\n",
        "health_sc = scaler.transform(health)\n",
        "health_sc"
      ],
      "execution_count": 25,
      "outputs": [
        {
          "output_type": "execute_result",
          "data": {
            "text/plain": [
              "array([[0.31942073, 0.52777778, 0.53846154, ..., 0.11698718, 0.22727273,\n",
              "        0.48387097],\n",
              "       [0.28374639, 0.27777778, 0.46153846, ..., 0.13942308, 0.11363636,\n",
              "        0.30107527],\n",
              "       [0.3831165 , 0.51388889, 0.50769231, ..., 0.05929487, 0.25      ,\n",
              "        0.52688172],\n",
              "       ...,\n",
              "       [0.30735268, 0.375     , 0.4       , ..., 0.15224359, 0.15909091,\n",
              "        0.38709677],\n",
              "       [0.21369282, 0.22222222, 0.23076923, ..., 0.375     , 0.06818182,\n",
              "        0.31182796],\n",
              "       [0.15794431, 0.26388889, 0.33846154, ..., 0.22275641, 0.09090909,\n",
              "        0.13978495]])"
            ]
          },
          "metadata": {},
          "execution_count": 25
        }
      ]
    },
    {
      "cell_type": "markdown",
      "source": [
        "## Clustering\n",
        "\n",
        "### K-Means clustering\n",
        "\n",
        "Let's commence with k-means clustering, which is avalable in the library `sklearn.cluster` (along with other clustering algorithms, see below). To decide on the number of clusters, we evaluate how the within-sum-of-squares varies between the number of clusters using a so-called *elbow plot*:\n"
      ],
      "metadata": {
        "id": "VGmhd4rb1dlV"
      }
    },
    {
      "cell_type": "code",
      "metadata": {
        "id": "NF4Tvu-imXH7",
        "outputId": "081edf8a-5659-4a5b-cd48-bcbc3a82386d",
        "colab": {
          "base_uri": "https://localhost:8080/",
          "height": 472
        }
      },
      "source": [
        "wcss = []\n",
        "for i in range(2, 12):\n",
        "    kmeans = KMeans(n_clusters=i, init='k-means++', max_iter=1000, n_init=10, random_state=0)\n",
        "    kmeans.fit(health_sc)\n",
        "    wcss.append(kmeans.inertia_)\n",
        "plt.bar(range(2, 12), wcss)\n",
        "plt.title('Elbow Method')\n",
        "plt.xlabel('Number of clusters')\n",
        "plt.ylabel('WCSS')\n",
        "plt.show()"
      ],
      "execution_count": 26,
      "outputs": [
        {
          "output_type": "display_data",
          "data": {
            "text/plain": [
              "<Figure size 640x480 with 1 Axes>"
            ],
            "image/png": "[encoded data removed]"
          },
          "metadata": {}
        }
      ]
    },
    {
      "cell_type": "markdown",
      "source": [
        "It appears that six clusters seem to present a reasonable choice, there is a bit of an \"elbow\" there. So let's go with six:"
      ],
      "metadata": {
        "id": "LlIwaq1N3J4j"
      }
    },
    {
      "cell_type": "code",
      "metadata": {
        "id": "0J1JGhuVnqGv",
        "outputId": "8f9b722e-9127-4464-ec5b-8ee518bff973",
        "colab": {
          "base_uri": "https://localhost:8080/",
          "height": 75
        }
      },
      "source": [
        "kmeans = KMeans(n_clusters=6, init='k-means++', max_iter=1000, n_init=10, random_state=0)\n",
        "kmeans.fit(health_sc)"
      ],
      "execution_count": 27,
      "outputs": [
        {
          "output_type": "execute_result",
          "data": {
            "text/plain": [
              "KMeans(max_iter=1000, n_clusters=6, n_init=10, random_state=0)"
            ],
            "text/html": [
              "<style>#sk-container-id-1 {color: black;background-color: white;}#sk-container-id-1 pre{padding: 0;}#sk-container-id-1 div.sk-toggleable {background-color: white;}#sk-container-id-1 label.sk-toggleable__label {cursor: pointer;display: block;width: 100%;margin-bottom: 0;padding: 0.3em;box-sizing: border-box;text-align: center;}#sk-container-id-1 label.sk-toggleable__label-arrow:before {content: \"▸\";float: left;margin-right: 0.25em;color: #696969;}#sk-container-id-1 label.sk-toggleable__label-arrow:hover:before {color: black;}#sk-container-id-1 div.sk-estimator:hover label.sk-toggleable__label-arrow:before {color: black;}#sk-container-id-1 div.sk-toggleable__content {max-height: 0;max-width: 0;overflow: hidden;text-align: left;background-color: #f0f8ff;}#sk-container-id-1 div.sk-toggleable__content pre {margin: 0.2em;color: black;border-radius: 0.25em;background-color: #f0f8ff;}#sk-container-id-1 input.sk-toggleable__control:checked~div.sk-toggleable__content {max-height: 200px;max-width: 100%;overflow: auto;}#sk-container-id-1 input.sk-toggleable__control:checked~label.sk-toggleable__label-arrow:before {content: \"▾\";}#sk-container-id-1 div.sk-estimator input.sk-toggleable__control:checked~label.sk-toggleable__label {background-color: #d4ebff;}#sk-container-id-1 div.sk-label input.sk-toggleable__control:checked~label.sk-toggleable__label {background-color: #d4ebff;}#sk-container-id-1 input.sk-hidden--visually {border: 0;clip: rect(1px 1px 1px 1px);clip: rect(1px, 1px, 1px, 1px);height: 1px;margin: -1px;overflow: hidden;padding: 0;position: absolute;width: 1px;}#sk-container-id-1 div.sk-estimator {font-family: monospace;background-color: #f0f8ff;border: 1px dotted black;border-radius: 0.25em;box-sizing: border-box;margin-bottom: 0.5em;}#sk-container-id-1 div.sk-estimator:hover {background-color: #d4ebff;}#sk-container-id-1 div.sk-parallel-item::after {content: \"\";width: 100%;border-bottom: 1px solid gray;flex-grow: 1;}#sk-container-id-1 div.sk-label:hover label.sk-toggleable__label {background-color: #d4ebff;}#sk-container-id-1 div.sk-serial::before {content: \"\";position: absolute;border-left: 1px solid gray;box-sizing: border-box;top: 0;bottom: 0;left: 50%;z-index: 0;}#sk-container-id-1 div.sk-serial {display: flex;flex-direction: column;align-items: center;background-color: white;padding-right: 0.2em;padding-left: 0.2em;position: relative;}#sk-container-id-1 div.sk-item {position: relative;z-index: 1;}#sk-container-id-1 div.sk-parallel {display: flex;align-items: stretch;justify-content: center;background-color: white;position: relative;}#sk-container-id-1 div.sk-item::before, #sk-container-id-1 div.sk-parallel-item::before {content: \"\";position: absolute;border-left: 1px solid gray;box-sizing: border-box;top: 0;bottom: 0;left: 50%;z-index: -1;}#sk-container-id-1 div.sk-parallel-item {display: flex;flex-direction: column;z-index: 1;position: relative;background-color: white;}#sk-container-id-1 div.sk-parallel-item:first-child::after {align-self: flex-end;width: 50%;}#sk-container-id-1 div.sk-parallel-item:last-child::after {align-self: flex-start;width: 50%;}#sk-container-id-1 div.sk-parallel-item:only-child::after {width: 0;}#sk-container-id-1 div.sk-dashed-wrapped {border: 1px dashed gray;margin: 0 0.4em 0.5em 0.4em;box-sizing: border-box;padding-bottom: 0.4em;background-color: white;}#sk-container-id-1 div.sk-label label {font-family: monospace;font-weight: bold;display: inline-block;line-height: 1.2em;}#sk-container-id-1 div.sk-label-container {text-align: center;}#sk-container-id-1 div.sk-container {/* jupyter's `normalize.less` sets `[hidden] { display: none; }` but bootstrap.min.css set `[hidden] { display: none !important; }` so we also need the `!important` here to be able to override the default hidden behavior on the sphinx rendered scikit-learn.org. See: https://github.com/scikit-learn/scikit-learn/issues/21755 */display: inline-block !important;position: relative;}#sk-container-id-1 div.sk-text-repr-fallback {display: none;}</style><div id=\"sk-container-id-1\" class=\"sk-top-container\"><div class=\"sk-text-repr-fallback\"><pre>KMeans(max_iter=1000, n_clusters=6, n_init=10, random_state=0)</pre><b>In a Jupyter environment, please rerun this cell to show the HTML representation or trust the notebook. <br />On GitHub, the HTML representation is unable to render, please try loading this page with nbviewer.org.</b></div><div class=\"sk-container\" hidden><div class=\"sk-item\"><div class=\"sk-estimator sk-toggleable\"><input class=\"sk-toggleable__control sk-hidden--visually\" id=\"sk-estimator-id-1\" type=\"checkbox\" checked><label for=\"sk-estimator-id-1\" class=\"sk-toggleable__label sk-toggleable__label-arrow\">KMeans</label><div class=\"sk-toggleable__content\"><pre>KMeans(max_iter=1000, n_clusters=6, n_init=10, random_state=0)</pre></div></div></div></div></div>"
            ]
          },
          "metadata": {},
          "execution_count": 27
        }
      ]
    },
    {
      "cell_type": "markdown",
      "source": [
        "We can get the labels via:"
      ],
      "metadata": {
        "id": "cOXho1k23ok6"
      }
    },
    {
      "cell_type": "code",
      "source": [
        "kmeans.labels_"
      ],
      "metadata": {
        "id": "jtsoEKP_3tLZ",
        "outputId": "576525d3-4b8c-4e39-e59d-53491b6c331f",
        "colab": {
          "base_uri": "https://localhost:8080/"
        }
      },
      "execution_count": 28,
      "outputs": [
        {
          "output_type": "execute_result",
          "data": {
            "text/plain": [
              "array([1, 1, 2, ..., 3, 3, 3], dtype=int32)"
            ]
          },
          "metadata": {},
          "execution_count": 28
        }
      ]
    },
    {
      "cell_type": "markdown",
      "source": [
        "Let's add to our dataset:"
      ],
      "metadata": {
        "id": "fgE-k3VH9nLl"
      }
    },
    {
      "cell_type": "code",
      "source": [
        "health['k_means_cl'] = kmeans.labels_"
      ],
      "metadata": {
        "id": "GJ_sfTvh9pE2"
      },
      "execution_count": 29,
      "outputs": []
    },
    {
      "cell_type": "markdown",
      "source": [
        "Let's compare the different clusters by evaluating the YPLL.Rate (Years of Potential Life Lost)."
      ],
      "metadata": {
        "id": "hHZYmnlK_Jrf"
      }
    },
    {
      "cell_type": "code",
      "source": [
        "health[health['k_means_cl'] == 0]['YPLL.Rate'].mean()"
      ],
      "metadata": {
        "id": "bG0zgwt5-XMo",
        "outputId": "bf81c62a-b1dc-453c-e75e-df00a06d5310",
        "colab": {
          "base_uri": "https://localhost:8080/"
        }
      },
      "execution_count": 30,
      "outputs": [
        {
          "output_type": "execute_result",
          "data": {
            "text/plain": [
              "5618.843910806175"
            ]
          },
          "metadata": {},
          "execution_count": 30
        }
      ]
    },
    {
      "cell_type": "code",
      "source": [
        "health[health['k_means_cl'] == 1]['YPLL.Rate'].mean()"
      ],
      "metadata": {
        "id": "HTplXWaf_eLt",
        "outputId": "fae96c2e-591b-409d-9d31-1cf2e3567130",
        "colab": {
          "base_uri": "https://localhost:8080/"
        }
      },
      "execution_count": 31,
      "outputs": [
        {
          "output_type": "execute_result",
          "data": {
            "text/plain": [
              "7436.093062605753"
            ]
          },
          "metadata": {},
          "execution_count": 31
        }
      ]
    },
    {
      "cell_type": "code",
      "source": [
        "health[health['k_means_cl'] == 2]['YPLL.Rate'].mean()"
      ],
      "metadata": {
        "id": "ddf2dbEl_eON",
        "outputId": "a5243968-7174-4ea6-94af-76e05f69c502",
        "colab": {
          "base_uri": "https://localhost:8080/"
        }
      },
      "execution_count": 32,
      "outputs": [
        {
          "output_type": "execute_result",
          "data": {
            "text/plain": [
              "10552.69921875"
            ]
          },
          "metadata": {},
          "execution_count": 32
        }
      ]
    },
    {
      "cell_type": "code",
      "source": [
        "health[health['k_means_cl'] == 3]['YPLL.Rate'].mean()"
      ],
      "metadata": {
        "id": "QZPQh5Xc_eRL",
        "outputId": "02019466-92ca-4b02-cc7c-d0d220263915",
        "colab": {
          "base_uri": "https://localhost:8080/"
        }
      },
      "execution_count": 33,
      "outputs": [
        {
          "output_type": "execute_result",
          "data": {
            "text/plain": [
              "7698.467849223946"
            ]
          },
          "metadata": {},
          "execution_count": 33
        }
      ]
    },
    {
      "cell_type": "code",
      "source": [
        "health[health['k_means_cl'] == 4]['YPLL.Rate'].mean()"
      ],
      "metadata": {
        "id": "kq_DhtSp_eTK",
        "outputId": "f2abad0a-857c-43db-b165-ba3fab93c5b3",
        "colab": {
          "base_uri": "https://localhost:8080/"
        }
      },
      "execution_count": 34,
      "outputs": [
        {
          "output_type": "execute_result",
          "data": {
            "text/plain": [
              "9982.53638814016"
            ]
          },
          "metadata": {},
          "execution_count": 34
        }
      ]
    },
    {
      "cell_type": "code",
      "source": [
        "health[health['k_means_cl'] == 5]['YPLL.Rate'].mean()"
      ],
      "metadata": {
        "id": "pNqE83nb_n-3",
        "outputId": "72640f9a-48cd-4f45-aa96-6e237c5a3041",
        "colab": {
          "base_uri": "https://localhost:8080/"
        }
      },
      "execution_count": 35,
      "outputs": [
        {
          "output_type": "execute_result",
          "data": {
            "text/plain": [
              "9424.296296296296"
            ]
          },
          "metadata": {},
          "execution_count": 35
        }
      ]
    },
    {
      "cell_type": "markdown",
      "source": [
        "Let's relabel so it's increasing:"
      ],
      "metadata": {
        "id": "euotX4dR_tFA"
      }
    },
    {
      "cell_type": "code",
      "source": [
        "def relab(label):\n",
        "  if label == 0:\n",
        "    return 0\n",
        "  elif label == 1:\n",
        "    return 1\n",
        "  elif label == 2:\n",
        "    return 5\n",
        "  elif label == 3:\n",
        "    return 2\n",
        "  elif label == 4:\n",
        "    return 4\n",
        "  else:\n",
        "    return 3"
      ],
      "metadata": {
        "id": "Umgy4pQ-F7m7"
      },
      "execution_count": 36,
      "outputs": []
    },
    {
      "cell_type": "code",
      "source": [
        "kmlab = list(map(relab, kmeans.labels_))"
      ],
      "metadata": {
        "id": "reVaZbJTHH08"
      },
      "execution_count": 37,
      "outputs": []
    },
    {
      "cell_type": "code",
      "source": [
        "health['k_means_cl'] = kmlab"
      ],
      "metadata": {
        "id": "LeY28w_K5hGM"
      },
      "execution_count": 38,
      "outputs": []
    },
    {
      "cell_type": "markdown",
      "source": [
        "### Hierarchical Clustering\n",
        "\n",
        "Let's use the hierarchical clustering algorithm in scikit (`AgglomerativeClustering`). Plotting a *dendrogram* is easier with the `scipy.cluster.hierarchy`, yet given the size of the dataset we don't see a ton here.\n",
        "\n",
        "To compare with the k-means approach, let's run a hierarchical clustering also with six clusters."
      ],
      "metadata": {
        "id": "yWrU6Bnl3u0d"
      }
    },
    {
      "cell_type": "code",
      "source": [
        "hierarch = AgglomerativeClustering(n_clusters=6)\n",
        "hierarch.fit(health_sc)"
      ],
      "metadata": {
        "id": "1oBxQTqs7p4B",
        "outputId": "a2e22c8b-a73d-4746-ded9-1e01aff1ac92",
        "colab": {
          "base_uri": "https://localhost:8080/",
          "height": 75
        }
      },
      "execution_count": 39,
      "outputs": [
        {
          "output_type": "execute_result",
          "data": {
            "text/plain": [
              "AgglomerativeClustering(n_clusters=6)"
            ],
            "text/html": [
              "<style>#sk-container-id-2 {color: black;background-color: white;}#sk-container-id-2 pre{padding: 0;}#sk-container-id-2 div.sk-toggleable {background-color: white;}#sk-container-id-2 label.sk-toggleable__label {cursor: pointer;display: block;width: 100%;margin-bottom: 0;padding: 0.3em;box-sizing: border-box;text-align: center;}#sk-container-id-2 label.sk-toggleable__label-arrow:before {content: \"▸\";float: left;margin-right: 0.25em;color: #696969;}#sk-container-id-2 label.sk-toggleable__label-arrow:hover:before {color: black;}#sk-container-id-2 div.sk-estimator:hover label.sk-toggleable__label-arrow:before {color: black;}#sk-container-id-2 div.sk-toggleable__content {max-height: 0;max-width: 0;overflow: hidden;text-align: left;background-color: #f0f8ff;}#sk-container-id-2 div.sk-toggleable__content pre {margin: 0.2em;color: black;border-radius: 0.25em;background-color: #f0f8ff;}#sk-container-id-2 input.sk-toggleable__control:checked~div.sk-toggleable__content {max-height: 200px;max-width: 100%;overflow: auto;}#sk-container-id-2 input.sk-toggleable__control:checked~label.sk-toggleable__label-arrow:before {content: \"▾\";}#sk-container-id-2 div.sk-estimator input.sk-toggleable__control:checked~label.sk-toggleable__label {background-color: #d4ebff;}#sk-container-id-2 div.sk-label input.sk-toggleable__control:checked~label.sk-toggleable__label {background-color: #d4ebff;}#sk-container-id-2 input.sk-hidden--visually {border: 0;clip: rect(1px 1px 1px 1px);clip: rect(1px, 1px, 1px, 1px);height: 1px;margin: -1px;overflow: hidden;padding: 0;position: absolute;width: 1px;}#sk-container-id-2 div.sk-estimator {font-family: monospace;background-color: #f0f8ff;border: 1px dotted black;border-radius: 0.25em;box-sizing: border-box;margin-bottom: 0.5em;}#sk-container-id-2 div.sk-estimator:hover {background-color: #d4ebff;}#sk-container-id-2 div.sk-parallel-item::after {content: \"\";width: 100%;border-bottom: 1px solid gray;flex-grow: 1;}#sk-container-id-2 div.sk-label:hover label.sk-toggleable__label {background-color: #d4ebff;}#sk-container-id-2 div.sk-serial::before {content: \"\";position: absolute;border-left: 1px solid gray;box-sizing: border-box;top: 0;bottom: 0;left: 50%;z-index: 0;}#sk-container-id-2 div.sk-serial {display: flex;flex-direction: column;align-items: center;background-color: white;padding-right: 0.2em;padding-left: 0.2em;position: relative;}#sk-container-id-2 div.sk-item {position: relative;z-index: 1;}#sk-container-id-2 div.sk-parallel {display: flex;align-items: stretch;justify-content: center;background-color: white;position: relative;}#sk-container-id-2 div.sk-item::before, #sk-container-id-2 div.sk-parallel-item::before {content: \"\";position: absolute;border-left: 1px solid gray;box-sizing: border-box;top: 0;bottom: 0;left: 50%;z-index: -1;}#sk-container-id-2 div.sk-parallel-item {display: flex;flex-direction: column;z-index: 1;position: relative;background-color: white;}#sk-container-id-2 div.sk-parallel-item:first-child::after {align-self: flex-end;width: 50%;}#sk-container-id-2 div.sk-parallel-item:last-child::after {align-self: flex-start;width: 50%;}#sk-container-id-2 div.sk-parallel-item:only-child::after {width: 0;}#sk-container-id-2 div.sk-dashed-wrapped {border: 1px dashed gray;margin: 0 0.4em 0.5em 0.4em;box-sizing: border-box;padding-bottom: 0.4em;background-color: white;}#sk-container-id-2 div.sk-label label {font-family: monospace;font-weight: bold;display: inline-block;line-height: 1.2em;}#sk-container-id-2 div.sk-label-container {text-align: center;}#sk-container-id-2 div.sk-container {/* jupyter's `normalize.less` sets `[hidden] { display: none; }` but bootstrap.min.css set `[hidden] { display: none !important; }` so we also need the `!important` here to be able to override the default hidden behavior on the sphinx rendered scikit-learn.org. See: https://github.com/scikit-learn/scikit-learn/issues/21755 */display: inline-block !important;position: relative;}#sk-container-id-2 div.sk-text-repr-fallback {display: none;}</style><div id=\"sk-container-id-2\" class=\"sk-top-container\"><div class=\"sk-text-repr-fallback\"><pre>AgglomerativeClustering(n_clusters=6)</pre><b>In a Jupyter environment, please rerun this cell to show the HTML representation or trust the notebook. <br />On GitHub, the HTML representation is unable to render, please try loading this page with nbviewer.org.</b></div><div class=\"sk-container\" hidden><div class=\"sk-item\"><div class=\"sk-estimator sk-toggleable\"><input class=\"sk-toggleable__control sk-hidden--visually\" id=\"sk-estimator-id-2\" type=\"checkbox\" checked><label for=\"sk-estimator-id-2\" class=\"sk-toggleable__label sk-toggleable__label-arrow\">AgglomerativeClustering</label><div class=\"sk-toggleable__content\"><pre>AgglomerativeClustering(n_clusters=6)</pre></div></div></div></div></div>"
            ]
          },
          "metadata": {},
          "execution_count": 39
        }
      ]
    },
    {
      "cell_type": "markdown",
      "source": [
        "Again, we can get the labels via:"
      ],
      "metadata": {
        "id": "gYDv_mNx8tTj"
      }
    },
    {
      "cell_type": "code",
      "source": [
        "hierarch.labels_"
      ],
      "metadata": {
        "id": "Ogxz292p8J9Z",
        "outputId": "2db38844-115d-4221-de43-43da4667bad3",
        "colab": {
          "base_uri": "https://localhost:8080/"
        }
      },
      "execution_count": 40,
      "outputs": [
        {
          "output_type": "execute_result",
          "data": {
            "text/plain": [
              "array([3, 3, 0, ..., 1, 1, 1])"
            ]
          },
          "metadata": {},
          "execution_count": 40
        }
      ]
    },
    {
      "cell_type": "markdown",
      "source": [
        "Let's also add to the dataset and carry out a similar approach as before:"
      ],
      "metadata": {
        "id": "Q3_hVGRN55AV"
      }
    },
    {
      "cell_type": "code",
      "source": [
        "health['k_hier_cl'] = hierarch.labels_"
      ],
      "metadata": {
        "id": "3mgy8-NK5-Ld"
      },
      "execution_count": 41,
      "outputs": []
    },
    {
      "cell_type": "code",
      "source": [
        "health[health['k_hier_cl'] == 0]['YPLL.Rate'].mean()"
      ],
      "metadata": {
        "id": "ib6Xuvyo8p4I"
      },
      "execution_count": null,
      "outputs": []
    },
    {
      "cell_type": "code",
      "source": [
        "health[health['k_hier_cl'] == 1]['YPLL.Rate'].mean()"
      ],
      "metadata": {
        "id": "X9t8epBf8p1p",
        "outputId": "de411523-00b0-476a-8c0f-8a89025e2a52",
        "colab": {
          "base_uri": "https://localhost:8080/"
        }
      },
      "execution_count": 43,
      "outputs": [
        {
          "output_type": "execute_result",
          "data": {
            "text/plain": [
              "8133.551526717557"
            ]
          },
          "metadata": {},
          "execution_count": 43
        }
      ]
    },
    {
      "cell_type": "code",
      "source": [
        "health[health['k_hier_cl'] == 2]['YPLL.Rate'].mean()"
      ],
      "metadata": {
        "id": "lpS1mFd18pyR",
        "outputId": "b0224b96-fb76-435a-b56c-baa2e630127d",
        "colab": {
          "base_uri": "https://localhost:8080/"
        }
      },
      "execution_count": 44,
      "outputs": [
        {
          "output_type": "execute_result",
          "data": {
            "text/plain": [
              "5637.884782608696"
            ]
          },
          "metadata": {},
          "execution_count": 44
        }
      ]
    },
    {
      "cell_type": "code",
      "source": [
        "health[health['k_hier_cl'] == 3]['YPLL.Rate'].mean()"
      ],
      "metadata": {
        "id": "bMakZhkB8pq2",
        "outputId": "65118d7d-ca66-448d-b5d4-0390f0431c3e",
        "colab": {
          "base_uri": "https://localhost:8080/"
        }
      },
      "execution_count": 45,
      "outputs": [
        {
          "output_type": "execute_result",
          "data": {
            "text/plain": [
              "8358.641025641025"
            ]
          },
          "metadata": {},
          "execution_count": 45
        }
      ]
    },
    {
      "cell_type": "code",
      "source": [
        "health[health['k_hier_cl'] == 4]['YPLL.Rate'].mean()"
      ],
      "metadata": {
        "id": "d0sBEYLn8pgm",
        "outputId": "47d09729-f20a-48d0-d4d0-dfc152da985f",
        "colab": {
          "base_uri": "https://localhost:8080/"
        }
      },
      "execution_count": 46,
      "outputs": [
        {
          "output_type": "execute_result",
          "data": {
            "text/plain": [
              "8356.783783783783"
            ]
          },
          "metadata": {},
          "execution_count": 46
        }
      ]
    },
    {
      "cell_type": "code",
      "source": [
        "health[health['k_hier_cl'] == 5]['YPLL.Rate'].mean()"
      ],
      "metadata": {
        "id": "Inm4wef88zpi",
        "outputId": "7c5ce634-1623-48c0-a4f6-a4830b23bce5",
        "colab": {
          "base_uri": "https://localhost:8080/"
        }
      },
      "execution_count": 47,
      "outputs": [
        {
          "output_type": "execute_result",
          "data": {
            "text/plain": [
              "6744.8328767123285"
            ]
          },
          "metadata": {},
          "execution_count": 47
        }
      ]
    },
    {
      "cell_type": "code",
      "source": [
        "def relab2(label):\n",
        "  if label == 0:\n",
        "    return 5\n",
        "  elif label == 1:\n",
        "    return 2\n",
        "  elif label == 2:\n",
        "    return 0\n",
        "  elif label == 3:\n",
        "    return 4\n",
        "  elif label == 4:\n",
        "    return 3\n",
        "  else:\n",
        "    return 1"
      ],
      "metadata": {
        "id": "5cHreh5l9BK6"
      },
      "execution_count": 48,
      "outputs": []
    },
    {
      "cell_type": "code",
      "source": [
        "hierlab = list(map(relab2, hierarch.labels_))"
      ],
      "metadata": {
        "id": "6rUa25gq9X_1"
      },
      "execution_count": 49,
      "outputs": []
    },
    {
      "cell_type": "code",
      "source": [
        "health['k_hier_cl'] = hierlab"
      ],
      "metadata": {
        "id": "kgom-7Rl9hCS"
      },
      "execution_count": 50,
      "outputs": []
    },
    {
      "cell_type": "markdown",
      "source": [
        "Let's compare the two:"
      ],
      "metadata": {
        "id": "VzFnwZJW5yj1"
      }
    },
    {
      "cell_type": "code",
      "source": [
        "labels = [0,1,2,3,4,5]\n",
        "confusion_matrix(health['k_means_cl'],health['k_hier_cl'],labels=labels)"
      ],
      "metadata": {
        "id": "u84XOdUS9qs1",
        "outputId": "69a7b05e-9a40-4945-cd9c-1f52410644be",
        "colab": {
          "base_uri": "https://localhost:8080/"
        }
      },
      "execution_count": 51,
      "outputs": [
        {
          "output_type": "execute_result",
          "data": {
            "text/plain": [
              "array([[423,  99,  22,  35,   4,   0],\n",
              "       [  3, 229,  32,  11, 313,   3],\n",
              "       [ 34,  28, 364,  12,  13,   0],\n",
              "       [  0,   0,  11, 115,   1,   8],\n",
              "       [  0,   0,  65,  10, 160, 136],\n",
              "       [  0,   9,  30,   2,  16, 199]])"
            ]
          },
          "metadata": {},
          "execution_count": 51
        }
      ]
    },
    {
      "cell_type": "markdown",
      "source": [
        "So it looks like there is quite a bit of overlap, particularly with regards to clusters 0, 1, and 2. It appears clusters 4 and 5 are overlapping. However, it also is clear that assigning points to clusters isn't highly obvious."
      ],
      "metadata": {
        "id": "ps_F7hxy8JrU"
      }
    },
    {
      "cell_type": "markdown",
      "source": [
        "### Visualizing Clusters\n",
        "\n",
        "Let's visualize clusters by comparing the distributions of some of the features across clusters. As we had discussed, comparing distributions can be conveniently accomplished via box-whisker plots.\n",
        "\n",
        "Let's start with children in poverty."
      ],
      "metadata": {
        "id": "X7GF4qiTA0Ll"
      }
    },
    {
      "cell_type": "code",
      "source": [
        "sns.boxplot(x = \"k_means_cl\", y = \"Perc.Children.in.Poverty\", data = health)\n",
        "plt.show()"
      ],
      "metadata": {
        "id": "HYKSMgk6_wJE",
        "outputId": "91e94602-ba30-4aaa-e0d6-63217e53ed96",
        "colab": {
          "base_uri": "https://localhost:8080/",
          "height": 450
        }
      },
      "execution_count": 52,
      "outputs": [
        {
          "output_type": "display_data",
          "data": {
            "text/plain": [
              "<Figure size 640x480 with 1 Axes>"
            ],
            "image/png": "[encoded data removed]"
          },
          "metadata": {}
        }
      ]
    },
    {
      "cell_type": "markdown",
      "source": [
        "Recall that we sorted the clusters according to YPLL.Rate (Years of Potential Life Lost), so more years of life lost is a sign of worse health. It appears that this weakly aligns with children poverty.\n",
        "\n",
        "Let's look at violent crimes."
      ],
      "metadata": {
        "id": "0CDlt4LMBRi4"
      }
    },
    {
      "cell_type": "code",
      "source": [
        "sns.boxplot(x = \"k_means_cl\", y = \"Violent.Crime.Rate\", data = health)\n",
        "plt.show()"
      ],
      "metadata": {
        "id": "BD-oXwLXBwtV",
        "outputId": "99d82a4f-42ab-4914-b9cc-8defaffc7be5",
        "colab": {
          "base_uri": "https://localhost:8080/",
          "height": 450
        }
      },
      "execution_count": 53,
      "outputs": [
        {
          "output_type": "display_data",
          "data": {
            "text/plain": [
              "<Figure size 640x480 with 1 Axes>"
            ],
            "image/png": "[encoded data removed]"
          },
          "metadata": {}
        }
      ]
    },
    {
      "cell_type": "markdown",
      "source": [
        "So here we have a weak alignment, although cluster 4 seems a bit lower. Let's look at fast food concentration."
      ],
      "metadata": {
        "id": "gypA3GKUB9JR"
      }
    },
    {
      "cell_type": "code",
      "source": [
        "sns.boxplot(x = \"k_means_cl\", y = \"Perc.Fast.Foods\", data = health)\n",
        "plt.show()"
      ],
      "metadata": {
        "id": "yRJkARhMCQDt",
        "outputId": "09918cf5-ab89-4f96-daa4-bdc98dc4985c",
        "colab": {
          "base_uri": "https://localhost:8080/",
          "height": 450
        }
      },
      "execution_count": 54,
      "outputs": [
        {
          "output_type": "display_data",
          "data": {
            "text/plain": [
              "<Figure size 640x480 with 1 Axes>"
            ],
            "image/png": "[encoded data removed]"
          },
          "metadata": {}
        }
      ]
    },
    {
      "cell_type": "markdown",
      "source": [
        "### PCA\n",
        "\n",
        "Recall that the dataset contains 24 features. As we explained above, PCA tries to determine the most relevant \"directions\" to span this space. Here, a \"direction\" corresponds to some weighted average of the data. The largest principal component is the most important direction, the second largest principal component is the second most important direction, etc.\n",
        "\n",
        "We want to choose the number of principal components that accounts for a lot of variation in terms of \"explained variance\"."
      ],
      "metadata": {
        "id": "h2Gc5ZLnlUfq"
      }
    },
    {
      "cell_type": "code",
      "source": [
        "plt.figure(figsize=(6,4))\n",
        "pca = PCA(n_components=10)\n",
        "pca_fit = pca.fit(health_sc)\n",
        "pc_values = np.arange(pca_fit.n_components_) + 1\n",
        "plt.bar(pc_values, pca.explained_variance_ratio_)\n",
        "plt.title('Principal Component Analysis Scree Plot')\n",
        "plt.xlabel('Principal Component')\n",
        "plt.ylabel('Variance Explained')\n",
        "plt.show()"
      ],
      "metadata": {
        "id": "LN-0NLihlfgx",
        "outputId": "70e16303-8323-431b-e690-b09f035eef3d",
        "colab": {
          "base_uri": "https://localhost:8080/",
          "height": 410
        }
      },
      "execution_count": 55,
      "outputs": [
        {
          "output_type": "display_data",
          "data": {
            "text/plain": [
              "<Figure size 600x400 with 1 Axes>"
            ],
            "image/png": "[encoded data removed]"
          },
          "metadata": {}
        }
      ]
    },
    {
      "cell_type": "markdown",
      "source": [
        "Hence, the first three components explain:"
      ],
      "metadata": {
        "id": "zN78TRPcmqKn"
      }
    },
    {
      "cell_type": "code",
      "source": [
        "pca.explained_variance_ratio_[0]+pca.explained_variance_ratio_[1]+pca.explained_variance_ratio_[2]"
      ],
      "metadata": {
        "colab": {
          "base_uri": "https://localhost:8080/"
        },
        "id": "Y52hA9iumglH",
        "outputId": "12f50d12-7341-4654-b8d9-5186cb1b751f"
      },
      "execution_count": 56,
      "outputs": [
        {
          "output_type": "execute_result",
          "data": {
            "text/plain": [
              "0.5512169495958507"
            ]
          },
          "metadata": {},
          "execution_count": 56
        }
      ]
    },
    {
      "cell_type": "markdown",
      "source": [
        "of the variance in the data. So while there is still a lot of other variation, the first three principal components explain a lot already.\n",
        "\n",
        "So let's work with those:"
      ],
      "metadata": {
        "id": "YISnNj9VmuAk"
      }
    },
    {
      "cell_type": "code",
      "source": [
        "pca = PCA(n_components = 4)\n",
        "principalComponents = pca.fit(health_sc)\n",
        "principalComponents.components_\n",
        "PCweights = pd.DataFrame(data = principalComponents.components_, columns = [\"YPLL.Rate\",\"Physically.Unhealthy.Days\",\"Mentally.Unhealthy.Days\",\"Perc.Low.Birth.Weight\",\"Perc.Obese\",\"Perc.Physically.Inactive\",\"Chlamydia.Rate\",\"Teen.Birth.Rate\",\"Perc.Uninsured\",\"Dentist.Ratio\",\"Prev.Hosp.Stay.Rate\",\"Perc.Diabetic.Screening\",\"Perc.Mammography\",\"Perc.High.School.Grad\",\"Perc.Some.College\",\"Perc.Unemployed\",\"Perc.Children.in.Poverty\",\"Perc.Single.Parent.HH\",\"Violent.Crime.Rate\",\"Avg.Daily.Particulates\",\"Perc.pop.in.viol\",\"Rec.Facility.Rate\",\"Perc.Limited.Access\",\"Perc.Fast.Foods\"])\n",
        "PCweights"
      ],
      "metadata": {
        "id": "DwkJuQUlnHuN",
        "outputId": "9b3f1fdf-489e-4292-8e9f-7975bb2bf89c",
        "colab": {
          "base_uri": "https://localhost:8080/",
          "height": 224
        }
      },
      "execution_count": 57,
      "outputs": [
        {
          "output_type": "execute_result",
          "data": {
            "text/plain": [
              "   YPLL.Rate  Physically.Unhealthy.Days  Mentally.Unhealthy.Days  \\\n",
              "0   0.272887                   0.239672                 0.194310   \n",
              "1   0.041058                  -0.075195                -0.104526   \n",
              "2  -0.030974                   0.045171                -0.028324   \n",
              "3   0.047151                   0.117366                 0.141130   \n",
              "\n",
              "   Perc.Low.Birth.Weight  Perc.Obese  Perc.Physically.Inactive  \\\n",
              "0               0.229409    0.193554                  0.284086   \n",
              "1              -0.045295   -0.104383                 -0.115366   \n",
              "2              -0.202414    0.042725                  0.152094   \n",
              "3              -0.002715    0.013377                  0.089158   \n",
              "\n",
              "   Chlamydia.Rate  Teen.Birth.Rate  Perc.Uninsured  Dentist.Ratio  ...  \\\n",
              "0        0.112855         0.330573        0.228113       0.212989  ...   \n",
              "1        0.049113         0.193870        0.332897      -0.037624  ...   \n",
              "2       -0.280318        -0.096744       -0.010904       0.626642  ...   \n",
              "3       -0.028936        -0.042225       -0.154864      -0.380486  ...   \n",
              "\n",
              "   Perc.Some.College  Perc.Unemployed  Perc.Children.in.Poverty  \\\n",
              "0          -0.335261         0.125929                  0.312621   \n",
              "1          -0.029012        -0.049733                  0.108267   \n",
              "2          -0.184778        -0.102707                 -0.131018   \n",
              "3           0.098636        -0.051176                 -0.043299   \n",
              "\n",
              "   Perc.Single.Parent.HH  Violent.Crime.Rate  Avg.Daily.Particulates  \\\n",
              "0               0.202739            0.095868                0.198470   \n",
              "1               0.048685            0.071931               -0.768065   \n",
              "2              -0.294976           -0.289816               -0.078039   \n",
              "3              -0.023280           -0.016651                0.138863   \n",
              "\n",
              "   Perc.pop.in.viol  Rec.Facility.Rate  Perc.Limited.Access  Perc.Fast.Foods  \n",
              "0          0.056444          -0.115551             0.048396         0.111833  \n",
              "1          0.256162           0.005006             0.224230        -0.128049  \n",
              "2          0.252893          -0.093280            -0.063055        -0.179649  \n",
              "3          0.846745           0.079266            -0.039854         0.118867  \n",
              "\n",
              "[4 rows x 24 columns]"
            ],
            "text/html": [
              "\n",
              "  <div id=\"df-51c62d53-7720-4282-9319-4a1d1521f0d8\" class=\"colab-df-container\">\n",
              "    <div>\n",
              "<style scoped>\n",
              "    .dataframe tbody tr th:only-of-type {\n",
              "        vertical-align: middle;\n",
              "    }\n",
              "\n",
              "    .dataframe tbody tr th {\n",
              "        vertical-align: top;\n",
              "    }\n",
              "\n",
              "    .dataframe thead th {\n",
              "        text-align: right;\n",
              "    }\n",
              "</style>\n",
              "<table border=\"1\" class=\"dataframe\">\n",
              "  <thead>\n",
              "    <tr style=\"text-align: right;\">\n",
              "      <th></th>\n",
              "      <th>YPLL.Rate</th>\n",
              "      <th>Physically.Unhealthy.Days</th>\n",
              "      <th>Mentally.Unhealthy.Days</th>\n",
              "      <th>Perc.Low.Birth.Weight</th>\n",
              "      <th>Perc.Obese</th>\n",
              "      <th>Perc.Physically.Inactive</th>\n",
              "      <th>Chlamydia.Rate</th>\n",
              "      <th>Teen.Birth.Rate</th>\n",
              "      <th>Perc.Uninsured</th>\n",
              "      <th>Dentist.Ratio</th>\n",
              "      <th>...</th>\n",
              "      <th>Perc.Some.College</th>\n",
              "      <th>Perc.Unemployed</th>\n",
              "      <th>Perc.Children.in.Poverty</th>\n",
              "      <th>Perc.Single.Parent.HH</th>\n",
              "      <th>Violent.Crime.Rate</th>\n",
              "      <th>Avg.Daily.Particulates</th>\n",
              "      <th>Perc.pop.in.viol</th>\n",
              "      <th>Rec.Facility.Rate</th>\n",
              "      <th>Perc.Limited.Access</th>\n",
              "      <th>Perc.Fast.Foods</th>\n",
              "    </tr>\n",
              "  </thead>\n",
              "  <tbody>\n",
              "    <tr>\n",
              "      <th>0</th>\n",
              "      <td>0.272887</td>\n",
              "      <td>0.239672</td>\n",
              "      <td>0.194310</td>\n",
              "      <td>0.229409</td>\n",
              "      <td>0.193554</td>\n",
              "      <td>0.284086</td>\n",
              "      <td>0.112855</td>\n",
              "      <td>0.330573</td>\n",
              "      <td>0.228113</td>\n",
              "      <td>0.212989</td>\n",
              "      <td>...</td>\n",
              "      <td>-0.335261</td>\n",
              "      <td>0.125929</td>\n",
              "      <td>0.312621</td>\n",
              "      <td>0.202739</td>\n",
              "      <td>0.095868</td>\n",
              "      <td>0.198470</td>\n",
              "      <td>0.056444</td>\n",
              "      <td>-0.115551</td>\n",
              "      <td>0.048396</td>\n",
              "      <td>0.111833</td>\n",
              "    </tr>\n",
              "    <tr>\n",
              "      <th>1</th>\n",
              "      <td>0.041058</td>\n",
              "      <td>-0.075195</td>\n",
              "      <td>-0.104526</td>\n",
              "      <td>-0.045295</td>\n",
              "      <td>-0.104383</td>\n",
              "      <td>-0.115366</td>\n",
              "      <td>0.049113</td>\n",
              "      <td>0.193870</td>\n",
              "      <td>0.332897</td>\n",
              "      <td>-0.037624</td>\n",
              "      <td>...</td>\n",
              "      <td>-0.029012</td>\n",
              "      <td>-0.049733</td>\n",
              "      <td>0.108267</td>\n",
              "      <td>0.048685</td>\n",
              "      <td>0.071931</td>\n",
              "      <td>-0.768065</td>\n",
              "      <td>0.256162</td>\n",
              "      <td>0.005006</td>\n",
              "      <td>0.224230</td>\n",
              "      <td>-0.128049</td>\n",
              "    </tr>\n",
              "    <tr>\n",
              "      <th>2</th>\n",
              "      <td>-0.030974</td>\n",
              "      <td>0.045171</td>\n",
              "      <td>-0.028324</td>\n",
              "      <td>-0.202414</td>\n",
              "      <td>0.042725</td>\n",
              "      <td>0.152094</td>\n",
              "      <td>-0.280318</td>\n",
              "      <td>-0.096744</td>\n",
              "      <td>-0.010904</td>\n",
              "      <td>0.626642</td>\n",
              "      <td>...</td>\n",
              "      <td>-0.184778</td>\n",
              "      <td>-0.102707</td>\n",
              "      <td>-0.131018</td>\n",
              "      <td>-0.294976</td>\n",
              "      <td>-0.289816</td>\n",
              "      <td>-0.078039</td>\n",
              "      <td>0.252893</td>\n",
              "      <td>-0.093280</td>\n",
              "      <td>-0.063055</td>\n",
              "      <td>-0.179649</td>\n",
              "    </tr>\n",
              "    <tr>\n",
              "      <th>3</th>\n",
              "      <td>0.047151</td>\n",
              "      <td>0.117366</td>\n",
              "      <td>0.141130</td>\n",
              "      <td>-0.002715</td>\n",
              "      <td>0.013377</td>\n",
              "      <td>0.089158</td>\n",
              "      <td>-0.028936</td>\n",
              "      <td>-0.042225</td>\n",
              "      <td>-0.154864</td>\n",
              "      <td>-0.380486</td>\n",
              "      <td>...</td>\n",
              "      <td>0.098636</td>\n",
              "      <td>-0.051176</td>\n",
              "      <td>-0.043299</td>\n",
              "      <td>-0.023280</td>\n",
              "      <td>-0.016651</td>\n",
              "      <td>0.138863</td>\n",
              "      <td>0.846745</td>\n",
              "      <td>0.079266</td>\n",
              "      <td>-0.039854</td>\n",
              "      <td>0.118867</td>\n",
              "    </tr>\n",
              "  </tbody>\n",
              "</table>\n",
              "<p>4 rows × 24 columns</p>\n",
              "</div>\n",
              "    <div class=\"colab-df-buttons\">\n",
              "\n",
              "  <div class=\"colab-df-container\">\n",
              "    <button class=\"colab-df-convert\" onclick=\"convertToInteractive('df-51c62d53-7720-4282-9319-4a1d1521f0d8')\"\n",
              "            title=\"Convert this dataframe to an interactive table.\"\n",
              "            style=\"display:none;\">\n",
              "\n",
              "  <svg xmlns=\"http://www.w3.org/2000/svg\" height=\"24px\" viewBox=\"0 -960 960 960\">\n",
              "    <path d=\"M120-120v-720h720v720H120Zm60-500h600v-160H180v160Zm220 220h160v-160H400v160Zm0 220h160v-160H400v160ZM180-400h160v-160H180v160Zm440 0h160v-160H620v160ZM180-180h160v-160H180v160Zm440 0h160v-160H620v160Z\"/>\n",
              "  </svg>\n",
              "    </button>\n",
              "\n",
              "  <style>\n",
              "    .colab-df-container {\n",
              "      display:flex;\n",
              "      gap: 12px;\n",
              "    }\n",
              "\n",
              "    .colab-df-convert {\n",
              "      background-color: #E8F0FE;\n",
              "      border: none;\n",
              "      border-radius: 50%;\n",
              "      cursor: pointer;\n",
              "      display: none;\n",
              "      fill: #1967D2;\n",
              "      height: 32px;\n",
              "      padding: 0 0 0 0;\n",
              "      width: 32px;\n",
              "    }\n",
              "\n",
              "    .colab-df-convert:hover {\n",
              "      background-color: #E2EBFA;\n",
              "      box-shadow: 0px 1px 2px rgba(60, 64, 67, 0.3), 0px 1px 3px 1px rgba(60, 64, 67, 0.15);\n",
              "      fill: #174EA6;\n",
              "    }\n",
              "\n",
              "    .colab-df-buttons div {\n",
              "      margin-bottom: 4px;\n",
              "    }\n",
              "\n",
              "    [theme=dark] .colab-df-convert {\n",
              "      background-color: #3B4455;\n",
              "      fill: #D2E3FC;\n",
              "    }\n",
              "\n",
              "    [theme=dark] .colab-df-convert:hover {\n",
              "      background-color: #434B5C;\n",
              "      box-shadow: 0px 1px 3px 1px rgba(0, 0, 0, 0.15);\n",
              "      filter: drop-shadow(0px 1px 2px rgba(0, 0, 0, 0.3));\n",
              "      fill: #FFFFFF;\n",
              "    }\n",
              "  </style>\n",
              "\n",
              "    <script>\n",
              "      const buttonEl =\n",
              "        document.querySelector('#df-51c62d53-7720-4282-9319-4a1d1521f0d8 button.colab-df-convert');\n",
              "      buttonEl.style.display =\n",
              "        google.colab.kernel.accessAllowed ? 'block' : 'none';\n",
              "\n",
              "      async function convertToInteractive(key) {\n",
              "        const element = document.querySelector('#df-51c62d53-7720-4282-9319-4a1d1521f0d8');\n",
              "        const dataTable =\n",
              "          await google.colab.kernel.invokeFunction('convertToInteractive',\n",
              "                                                    [key], {});\n",
              "        if (!dataTable) return;\n",
              "\n",
              "        const docLinkHtml = 'Like what you see? Visit the ' +\n",
              "          '<a target=\"_blank\" href=https://colab.research.google.com/notebooks/data_table.ipynb>data table notebook</a>'\n",
              "          + ' to learn more about interactive tables.';\n",
              "        element.innerHTML = '';\n",
              "        dataTable['output_type'] = 'display_data';\n",
              "        await google.colab.output.renderOutput(dataTable, element);\n",
              "        const docLink = document.createElement('div');\n",
              "        docLink.innerHTML = docLinkHtml;\n",
              "        element.appendChild(docLink);\n",
              "      }\n",
              "    </script>\n",
              "  </div>\n",
              "\n",
              "\n",
              "<div id=\"df-90e995b2-c297-427b-8877-3a0b5662dd05\">\n",
              "  <button class=\"colab-df-quickchart\" onclick=\"quickchart('df-90e995b2-c297-427b-8877-3a0b5662dd05')\"\n",
              "            title=\"Suggest charts\"\n",
              "            style=\"display:none;\">\n",
              "\n",
              "<svg xmlns=\"http://www.w3.org/2000/svg\" height=\"24px\"viewBox=\"0 0 24 24\"\n",
              "     width=\"24px\">\n",
              "    <g>\n",
              "        <path d=\"M19 3H5c-1.1 0-2 .9-2 2v14c0 1.1.9 2 2 2h14c1.1 0 2-.9 2-2V5c0-1.1-.9-2-2-2zM9 17H7v-7h2v7zm4 0h-2V7h2v10zm4 0h-2v-4h2v4z\"/>\n",
              "    </g>\n",
              "</svg>\n",
              "  </button>\n",
              "\n",
              "<style>\n",
              "  .colab-df-quickchart {\n",
              "      --bg-color: #E8F0FE;\n",
              "      --fill-color: #1967D2;\n",
              "      --hover-bg-color: #E2EBFA;\n",
              "      --hover-fill-color: #174EA6;\n",
              "      --disabled-fill-color: #AAA;\n",
              "      --disabled-bg-color: #DDD;\n",
              "  }\n",
              "\n",
              "  [theme=dark] .colab-df-quickchart {\n",
              "      --bg-color: #3B4455;\n",
              "      --fill-color: #D2E3FC;\n",
              "      --hover-bg-color: #434B5C;\n",
              "      --hover-fill-color: #FFFFFF;\n",
              "      --disabled-bg-color: #3B4455;\n",
              "      --disabled-fill-color: #666;\n",
              "  }\n",
              "\n",
              "  .colab-df-quickchart {\n",
              "    background-color: var(--bg-color);\n",
              "    border: none;\n",
              "    border-radius: 50%;\n",
              "    cursor: pointer;\n",
              "    display: none;\n",
              "    fill: var(--fill-color);\n",
              "    height: 32px;\n",
              "    padding: 0;\n",
              "    width: 32px;\n",
              "  }\n",
              "\n",
              "  .colab-df-quickchart:hover {\n",
              "    background-color: var(--hover-bg-color);\n",
              "    box-shadow: 0 1px 2px rgba(60, 64, 67, 0.3), 0 1px 3px 1px rgba(60, 64, 67, 0.15);\n",
              "    fill: var(--button-hover-fill-color);\n",
              "  }\n",
              "\n",
              "  .colab-df-quickchart-complete:disabled,\n",
              "  .colab-df-quickchart-complete:disabled:hover {\n",
              "    background-color: var(--disabled-bg-color);\n",
              "    fill: var(--disabled-fill-color);\n",
              "    box-shadow: none;\n",
              "  }\n",
              "\n",
              "  .colab-df-spinner {\n",
              "    border: 2px solid var(--fill-color);\n",
              "    border-color: transparent;\n",
              "    border-bottom-color: var(--fill-color);\n",
              "    animation:\n",
              "      spin 1s steps(1) infinite;\n",
              "  }\n",
              "\n",
              "  @keyframes spin {\n",
              "    0% {\n",
              "      border-color: transparent;\n",
              "      border-bottom-color: var(--fill-color);\n",
              "      border-left-color: var(--fill-color);\n",
              "    }\n",
              "    20% {\n",
              "      border-color: transparent;\n",
              "      border-left-color: var(--fill-color);\n",
              "      border-top-color: var(--fill-color);\n",
              "    }\n",
              "    30% {\n",
              "      border-color: transparent;\n",
              "      border-left-color: var(--fill-color);\n",
              "      border-top-color: var(--fill-color);\n",
              "      border-right-color: var(--fill-color);\n",
              "    }\n",
              "    40% {\n",
              "      border-color: transparent;\n",
              "      border-right-color: var(--fill-color);\n",
              "      border-top-color: var(--fill-color);\n",
              "    }\n",
              "    60% {\n",
              "      border-color: transparent;\n",
              "      border-right-color: var(--fill-color);\n",
              "    }\n",
              "    80% {\n",
              "      border-color: transparent;\n",
              "      border-right-color: var(--fill-color);\n",
              "      border-bottom-color: var(--fill-color);\n",
              "    }\n",
              "    90% {\n",
              "      border-color: transparent;\n",
              "      border-bottom-color: var(--fill-color);\n",
              "    }\n",
              "  }\n",
              "</style>\n",
              "\n",
              "  <script>\n",
              "    async function quickchart(key) {\n",
              "      const quickchartButtonEl =\n",
              "        document.querySelector('#' + key + ' button');\n",
              "      quickchartButtonEl.disabled = true;  // To prevent multiple clicks.\n",
              "      quickchartButtonEl.classList.add('colab-df-spinner');\n",
              "      try {\n",
              "        const charts = await google.colab.kernel.invokeFunction(\n",
              "            'suggestCharts', [key], {});\n",
              "      } catch (error) {\n",
              "        console.error('Error during call to suggestCharts:', error);\n",
              "      }\n",
              "      quickchartButtonEl.classList.remove('colab-df-spinner');\n",
              "      quickchartButtonEl.classList.add('colab-df-quickchart-complete');\n",
              "    }\n",
              "    (() => {\n",
              "      let quickchartButtonEl =\n",
              "        document.querySelector('#df-90e995b2-c297-427b-8877-3a0b5662dd05 button');\n",
              "      quickchartButtonEl.style.display =\n",
              "        google.colab.kernel.accessAllowed ? 'block' : 'none';\n",
              "    })();\n",
              "  </script>\n",
              "</div>\n",
              "    </div>\n",
              "  </div>\n"
            ]
          },
          "metadata": {},
          "execution_count": 57
        }
      ]
    },
    {
      "cell_type": "markdown",
      "source": [
        "Here we see that each component corresponds to the weight it puts on each of the 24 features. We can see that the first component puts about equal weight to the first six features, which were all signs of \"bad health\" (Physically.Unhealthy.Days, say). In contrast, the values of features 12 through 15 are negative, and these are all associated with \"good health habits\" (Perc.Diabetic.Screening, say). So scoring \"high\" on the first principal component (if the weighted average of features is \"high\") means that county is pretty unhealthy, ponentially due to funding or other aspects.\n",
        "\n",
        "Let's look at the scores by county:"
      ],
      "metadata": {
        "id": "-3C7KVbynoHZ"
      }
    },
    {
      "cell_type": "code",
      "source": [
        "principalComponentScores = pca.fit_transform(health_sc)\n",
        "pc_scores = pd.DataFrame(data = principalComponentScores, columns = ['PC1', 'PC2','PC3','PC4'])\n",
        "pc_scores"
      ],
      "metadata": {
        "id": "VT9NKRernnn6",
        "outputId": "77eb07b4-7a5a-481d-dc89-afafdd886ffa",
        "colab": {
          "base_uri": "https://localhost:8080/",
          "height": 424
        }
      },
      "execution_count": 58,
      "outputs": [
        {
          "output_type": "execute_result",
          "data": {
            "text/plain": [
              "           PC1       PC2       PC3       PC4\n",
              "0     0.146055 -0.321976  0.009080  0.002016\n",
              "1    -0.140952 -0.013994 -0.117843  0.011013\n",
              "2     0.681083 -0.019440 -0.253325 -0.009105\n",
              "3     0.584829 -0.314787  0.062043 -0.043941\n",
              "4     0.280372 -0.276786  0.277612 -0.011700\n",
              "...        ...       ...       ...       ...\n",
              "2382 -0.153003  0.358122 -0.029642 -0.086934\n",
              "2383 -0.870278  0.532507 -0.114031 -0.128545\n",
              "2384 -0.261904  0.282331  0.031103 -0.029091\n",
              "2385 -0.416306  0.540767  0.066494 -0.064497\n",
              "2386 -0.238218  0.377964  0.195494 -0.148099\n",
              "\n",
              "[2387 rows x 4 columns]"
            ],
            "text/html": [
              "\n",
              "  <div id=\"df-bc156145-b438-46dd-a32e-c1fba680bff5\" class=\"colab-df-container\">\n",
              "    <div>\n",
              "<style scoped>\n",
              "    .dataframe tbody tr th:only-of-type {\n",
              "        vertical-align: middle;\n",
              "    }\n",
              "\n",
              "    .dataframe tbody tr th {\n",
              "        vertical-align: top;\n",
              "    }\n",
              "\n",
              "    .dataframe thead th {\n",
              "        text-align: right;\n",
              "    }\n",
              "</style>\n",
              "<table border=\"1\" class=\"dataframe\">\n",
              "  <thead>\n",
              "    <tr style=\"text-align: right;\">\n",
              "      <th></th>\n",
              "      <th>PC1</th>\n",
              "      <th>PC2</th>\n",
              "      <th>PC3</th>\n",
              "      <th>PC4</th>\n",
              "    </tr>\n",
              "  </thead>\n",
              "  <tbody>\n",
              "    <tr>\n",
              "      <th>0</th>\n",
              "      <td>0.146055</td>\n",
              "      <td>-0.321976</td>\n",
              "      <td>0.009080</td>\n",
              "      <td>0.002016</td>\n",
              "    </tr>\n",
              "    <tr>\n",
              "      <th>1</th>\n",
              "      <td>-0.140952</td>\n",
              "      <td>-0.013994</td>\n",
              "      <td>-0.117843</td>\n",
              "      <td>0.011013</td>\n",
              "    </tr>\n",
              "    <tr>\n",
              "      <th>2</th>\n",
              "      <td>0.681083</td>\n",
              "      <td>-0.019440</td>\n",
              "      <td>-0.253325</td>\n",
              "      <td>-0.009105</td>\n",
              "    </tr>\n",
              "    <tr>\n",
              "      <th>3</th>\n",
              "      <td>0.584829</td>\n",
              "      <td>-0.314787</td>\n",
              "      <td>0.062043</td>\n",
              "      <td>-0.043941</td>\n",
              "    </tr>\n",
              "    <tr>\n",
              "      <th>4</th>\n",
              "      <td>0.280372</td>\n",
              "      <td>-0.276786</td>\n",
              "      <td>0.277612</td>\n",
              "      <td>-0.011700</td>\n",
              "    </tr>\n",
              "    <tr>\n",
              "      <th>...</th>\n",
              "      <td>...</td>\n",
              "      <td>...</td>\n",
              "      <td>...</td>\n",
              "      <td>...</td>\n",
              "    </tr>\n",
              "    <tr>\n",
              "      <th>2382</th>\n",
              "      <td>-0.153003</td>\n",
              "      <td>0.358122</td>\n",
              "      <td>-0.029642</td>\n",
              "      <td>-0.086934</td>\n",
              "    </tr>\n",
              "    <tr>\n",
              "      <th>2383</th>\n",
              "      <td>-0.870278</td>\n",
              "      <td>0.532507</td>\n",
              "      <td>-0.114031</td>\n",
              "      <td>-0.128545</td>\n",
              "    </tr>\n",
              "    <tr>\n",
              "      <th>2384</th>\n",
              "      <td>-0.261904</td>\n",
              "      <td>0.282331</td>\n",
              "      <td>0.031103</td>\n",
              "      <td>-0.029091</td>\n",
              "    </tr>\n",
              "    <tr>\n",
              "      <th>2385</th>\n",
              "      <td>-0.416306</td>\n",
              "      <td>0.540767</td>\n",
              "      <td>0.066494</td>\n",
              "      <td>-0.064497</td>\n",
              "    </tr>\n",
              "    <tr>\n",
              "      <th>2386</th>\n",
              "      <td>-0.238218</td>\n",
              "      <td>0.377964</td>\n",
              "      <td>0.195494</td>\n",
              "      <td>-0.148099</td>\n",
              "    </tr>\n",
              "  </tbody>\n",
              "</table>\n",
              "<p>2387 rows × 4 columns</p>\n",
              "</div>\n",
              "    <div class=\"colab-df-buttons\">\n",
              "\n",
              "  <div class=\"colab-df-container\">\n",
              "    <button class=\"colab-df-convert\" onclick=\"convertToInteractive('df-bc156145-b438-46dd-a32e-c1fba680bff5')\"\n",
              "            title=\"Convert this dataframe to an interactive table.\"\n",
              "            style=\"display:none;\">\n",
              "\n",
              "  <svg xmlns=\"http://www.w3.org/2000/svg\" height=\"24px\" viewBox=\"0 -960 960 960\">\n",
              "    <path d=\"M120-120v-720h720v720H120Zm60-500h600v-160H180v160Zm220 220h160v-160H400v160Zm0 220h160v-160H400v160ZM180-400h160v-160H180v160Zm440 0h160v-160H620v160ZM180-180h160v-160H180v160Zm440 0h160v-160H620v160Z\"/>\n",
              "  </svg>\n",
              "    </button>\n",
              "\n",
              "  <style>\n",
              "    .colab-df-container {\n",
              "      display:flex;\n",
              "      gap: 12px;\n",
              "    }\n",
              "\n",
              "    .colab-df-convert {\n",
              "      background-color: #E8F0FE;\n",
              "      border: none;\n",
              "      border-radius: 50%;\n",
              "      cursor: pointer;\n",
              "      display: none;\n",
              "      fill: #1967D2;\n",
              "      height: 32px;\n",
              "      padding: 0 0 0 0;\n",
              "      width: 32px;\n",
              "    }\n",
              "\n",
              "    .colab-df-convert:hover {\n",
              "      background-color: #E2EBFA;\n",
              "      box-shadow: 0px 1px 2px rgba(60, 64, 67, 0.3), 0px 1px 3px 1px rgba(60, 64, 67, 0.15);\n",
              "      fill: #174EA6;\n",
              "    }\n",
              "\n",
              "    .colab-df-buttons div {\n",
              "      margin-bottom: 4px;\n",
              "    }\n",
              "\n",
              "    [theme=dark] .colab-df-convert {\n",
              "      background-color: #3B4455;\n",
              "      fill: #D2E3FC;\n",
              "    }\n",
              "\n",
              "    [theme=dark] .colab-df-convert:hover {\n",
              "      background-color: #434B5C;\n",
              "      box-shadow: 0px 1px 3px 1px rgba(0, 0, 0, 0.15);\n",
              "      filter: drop-shadow(0px 1px 2px rgba(0, 0, 0, 0.3));\n",
              "      fill: #FFFFFF;\n",
              "    }\n",
              "  </style>\n",
              "\n",
              "    <script>\n",
              "      const buttonEl =\n",
              "        document.querySelector('#df-bc156145-b438-46dd-a32e-c1fba680bff5 button.colab-df-convert');\n",
              "      buttonEl.style.display =\n",
              "        google.colab.kernel.accessAllowed ? 'block' : 'none';\n",
              "\n",
              "      async function convertToInteractive(key) {\n",
              "        const element = document.querySelector('#df-bc156145-b438-46dd-a32e-c1fba680bff5');\n",
              "        const dataTable =\n",
              "          await google.colab.kernel.invokeFunction('convertToInteractive',\n",
              "                                                    [key], {});\n",
              "        if (!dataTable) return;\n",
              "\n",
              "        const docLinkHtml = 'Like what you see? Visit the ' +\n",
              "          '<a target=\"_blank\" href=https://colab.research.google.com/notebooks/data_table.ipynb>data table notebook</a>'\n",
              "          + ' to learn more about interactive tables.';\n",
              "        element.innerHTML = '';\n",
              "        dataTable['output_type'] = 'display_data';\n",
              "        await google.colab.output.renderOutput(dataTable, element);\n",
              "        const docLink = document.createElement('div');\n",
              "        docLink.innerHTML = docLinkHtml;\n",
              "        element.appendChild(docLink);\n",
              "      }\n",
              "    </script>\n",
              "  </div>\n",
              "\n",
              "\n",
              "<div id=\"df-331f09ef-0ab4-4a01-b0be-fe4f762ac011\">\n",
              "  <button class=\"colab-df-quickchart\" onclick=\"quickchart('df-331f09ef-0ab4-4a01-b0be-fe4f762ac011')\"\n",
              "            title=\"Suggest charts\"\n",
              "            style=\"display:none;\">\n",
              "\n",
              "<svg xmlns=\"http://www.w3.org/2000/svg\" height=\"24px\"viewBox=\"0 0 24 24\"\n",
              "     width=\"24px\">\n",
              "    <g>\n",
              "        <path d=\"M19 3H5c-1.1 0-2 .9-2 2v14c0 1.1.9 2 2 2h14c1.1 0 2-.9 2-2V5c0-1.1-.9-2-2-2zM9 17H7v-7h2v7zm4 0h-2V7h2v10zm4 0h-2v-4h2v4z\"/>\n",
              "    </g>\n",
              "</svg>\n",
              "  </button>\n",
              "\n",
              "<style>\n",
              "  .colab-df-quickchart {\n",
              "      --bg-color: #E8F0FE;\n",
              "      --fill-color: #1967D2;\n",
              "      --hover-bg-color: #E2EBFA;\n",
              "      --hover-fill-color: #174EA6;\n",
              "      --disabled-fill-color: #AAA;\n",
              "      --disabled-bg-color: #DDD;\n",
              "  }\n",
              "\n",
              "  [theme=dark] .colab-df-quickchart {\n",
              "      --bg-color: #3B4455;\n",
              "      --fill-color: #D2E3FC;\n",
              "      --hover-bg-color: #434B5C;\n",
              "      --hover-fill-color: #FFFFFF;\n",
              "      --disabled-bg-color: #3B4455;\n",
              "      --disabled-fill-color: #666;\n",
              "  }\n",
              "\n",
              "  .colab-df-quickchart {\n",
              "    background-color: var(--bg-color);\n",
              "    border: none;\n",
              "    border-radius: 50%;\n",
              "    cursor: pointer;\n",
              "    display: none;\n",
              "    fill: var(--fill-color);\n",
              "    height: 32px;\n",
              "    padding: 0;\n",
              "    width: 32px;\n",
              "  }\n",
              "\n",
              "  .colab-df-quickchart:hover {\n",
              "    background-color: var(--hover-bg-color);\n",
              "    box-shadow: 0 1px 2px rgba(60, 64, 67, 0.3), 0 1px 3px 1px rgba(60, 64, 67, 0.15);\n",
              "    fill: var(--button-hover-fill-color);\n",
              "  }\n",
              "\n",
              "  .colab-df-quickchart-complete:disabled,\n",
              "  .colab-df-quickchart-complete:disabled:hover {\n",
              "    background-color: var(--disabled-bg-color);\n",
              "    fill: var(--disabled-fill-color);\n",
              "    box-shadow: none;\n",
              "  }\n",
              "\n",
              "  .colab-df-spinner {\n",
              "    border: 2px solid var(--fill-color);\n",
              "    border-color: transparent;\n",
              "    border-bottom-color: var(--fill-color);\n",
              "    animation:\n",
              "      spin 1s steps(1) infinite;\n",
              "  }\n",
              "\n",
              "  @keyframes spin {\n",
              "    0% {\n",
              "      border-color: transparent;\n",
              "      border-bottom-color: var(--fill-color);\n",
              "      border-left-color: var(--fill-color);\n",
              "    }\n",
              "    20% {\n",
              "      border-color: transparent;\n",
              "      border-left-color: var(--fill-color);\n",
              "      border-top-color: var(--fill-color);\n",
              "    }\n",
              "    30% {\n",
              "      border-color: transparent;\n",
              "      border-left-color: var(--fill-color);\n",
              "      border-top-color: var(--fill-color);\n",
              "      border-right-color: var(--fill-color);\n",
              "    }\n",
              "    40% {\n",
              "      border-color: transparent;\n",
              "      border-right-color: var(--fill-color);\n",
              "      border-top-color: var(--fill-color);\n",
              "    }\n",
              "    60% {\n",
              "      border-color: transparent;\n",
              "      border-right-color: var(--fill-color);\n",
              "    }\n",
              "    80% {\n",
              "      border-color: transparent;\n",
              "      border-right-color: var(--fill-color);\n",
              "      border-bottom-color: var(--fill-color);\n",
              "    }\n",
              "    90% {\n",
              "      border-color: transparent;\n",
              "      border-bottom-color: var(--fill-color);\n",
              "    }\n",
              "  }\n",
              "</style>\n",
              "\n",
              "  <script>\n",
              "    async function quickchart(key) {\n",
              "      const quickchartButtonEl =\n",
              "        document.querySelector('#' + key + ' button');\n",
              "      quickchartButtonEl.disabled = true;  // To prevent multiple clicks.\n",
              "      quickchartButtonEl.classList.add('colab-df-spinner');\n",
              "      try {\n",
              "        const charts = await google.colab.kernel.invokeFunction(\n",
              "            'suggestCharts', [key], {});\n",
              "      } catch (error) {\n",
              "        console.error('Error during call to suggestCharts:', error);\n",
              "      }\n",
              "      quickchartButtonEl.classList.remove('colab-df-spinner');\n",
              "      quickchartButtonEl.classList.add('colab-df-quickchart-complete');\n",
              "    }\n",
              "    (() => {\n",
              "      let quickchartButtonEl =\n",
              "        document.querySelector('#df-331f09ef-0ab4-4a01-b0be-fe4f762ac011 button');\n",
              "      quickchartButtonEl.style.display =\n",
              "        google.colab.kernel.accessAllowed ? 'block' : 'none';\n",
              "    })();\n",
              "  </script>\n",
              "</div>\n",
              "    </div>\n",
              "  </div>\n"
            ]
          },
          "metadata": {},
          "execution_count": 58
        }
      ]
    },
    {
      "cell_type": "markdown",
      "source": [
        "And let's add these to our data:"
      ],
      "metadata": {
        "id": "HMNcbv4Urjmq"
      }
    },
    {
      "cell_type": "code",
      "source": [
        "health = health.reset_index()"
      ],
      "metadata": {
        "id": "ENc1pDxtuMOk"
      },
      "execution_count": 59,
      "outputs": []
    },
    {
      "cell_type": "code",
      "source": [
        "health = pd.concat([health,pc_scores], axis=1)"
      ],
      "metadata": {
        "id": "fHIDVo_CsroD"
      },
      "execution_count": 60,
      "outputs": []
    },
    {
      "cell_type": "markdown",
      "source": [
        "### PCA and Clusters"
      ],
      "metadata": {
        "id": "oze59bk4wTF6"
      }
    },
    {
      "cell_type": "markdown",
      "source": [
        "To intepret the connection of our clusters and the PC-s, let's check how the clusters relate to our first principal component."
      ],
      "metadata": {
        "id": "FwYUkjxRwMqD"
      }
    },
    {
      "cell_type": "code",
      "source": [
        "sns.boxplot(x = \"k_means_cl\", y = \"PC1\", data = health)\n",
        "plt.show()"
      ],
      "metadata": {
        "id": "a8tLaLnur77u",
        "outputId": "b5e300ed-f8fa-481c-828d-8aa8eff999f4",
        "colab": {
          "base_uri": "https://localhost:8080/",
          "height": 450
        }
      },
      "execution_count": 61,
      "outputs": [
        {
          "output_type": "display_data",
          "data": {
            "text/plain": [
              "<Figure size 640x480 with 1 Axes>"
            ],
            "image/png": "[encoded data removed]"
          },
          "metadata": {}
        }
      ]
    },
    {
      "cell_type": "markdown",
      "source": [
        "This implies overall that cluster 0, 2, and 3 score low on PC1. Arguably these are out \"low health\" counties, which may have to do with infrastructure and how wealthy these counties are. Indeed, let's check the proportion of children in poverty:"
      ],
      "metadata": {
        "id": "81t3kOgawqk5"
      }
    },
    {
      "cell_type": "code",
      "source": [
        "sns.boxplot(x = \"k_means_cl\", y = \"Perc.Children.in.Poverty\", data = health)\n",
        "plt.show()"
      ],
      "metadata": {
        "id": "SOyytt3wvRc4",
        "outputId": "86ebfdc0-2bd6-403e-d80e-3f1701330467",
        "colab": {
          "base_uri": "https://localhost:8080/",
          "height": 450
        }
      },
      "execution_count": 62,
      "outputs": [
        {
          "output_type": "display_data",
          "data": {
            "text/plain": [
              "<Figure size 640x480 with 1 Axes>"
            ],
            "image/png": "[encoded data removed]"
          },
          "metadata": {}
        }
      ]
    },
    {
      "cell_type": "markdown",
      "source": [
        "This seems to track pretty well with the first principal component.\n",
        "\n",
        "Let's look at the second principal component:"
      ],
      "metadata": {
        "id": "Jj2i7XW0xY29"
      }
    },
    {
      "cell_type": "code",
      "source": [
        "sns.boxplot(x = \"k_means_cl\", y = \"PC2\", data = health)\n",
        "plt.show()"
      ],
      "metadata": {
        "id": "3r4ha30Rv8ke",
        "outputId": "9060dcfc-67bc-4c6b-e863-ef98e38129f7",
        "colab": {
          "base_uri": "https://localhost:8080/",
          "height": 450
        }
      },
      "execution_count": 63,
      "outputs": [
        {
          "output_type": "display_data",
          "data": {
            "text/plain": [
              "<Figure size 640x480 with 1 Axes>"
            ],
            "image/png": "[encoded data removed]"
          },
          "metadata": {}
        }
      ]
    },
    {
      "cell_type": "markdown",
      "source": [
        "So we see here the picture looks quite different -- clusters 1 and 4 score low on PCA2. This appears to some extent to connect to pollution, let's check particulates:"
      ],
      "metadata": {
        "id": "PFp9jU8byHS3"
      }
    },
    {
      "cell_type": "code",
      "source": [
        "sns.boxplot(x = \"k_means_cl\", y = \"Avg.Daily.Particulates\", data = health)\n",
        "plt.show()"
      ],
      "metadata": {
        "id": "deXCjOP2vk3W",
        "outputId": "2f995d6e-b51d-45ea-8a03-b953fba4837d",
        "colab": {
          "base_uri": "https://localhost:8080/",
          "height": 450
        }
      },
      "execution_count": 64,
      "outputs": [
        {
          "output_type": "display_data",
          "data": {
            "text/plain": [
              "<Figure size 640x480 with 1 Axes>"
            ],
            "image/png": "[encoded data removed]"
          },
          "metadata": {}
        }
      ]
    },
    {
      "cell_type": "markdown",
      "source": [
        "So the counties in cluster 1 and 4 seem to have more polution."
      ],
      "metadata": {
        "id": "wtlCpPE2ygO9"
      }
    },
    {
      "cell_type": "markdown",
      "source": [
        "To have a more formal comparison of clusters and principal components, let's prepare a scatterplot between PCs 1 and 2, and let's color them according to the clusters:"
      ],
      "metadata": {
        "id": "HO25PWQ-F-ad"
      }
    },
    {
      "cell_type": "code",
      "source": [
        "groups = health.groupby(\"k_means_cl\")\n",
        "for name, group in groups:\n",
        "    plt.plot(group.PC1, group.PC2, marker='o', linestyle='', markersize=4, label=name)\n",
        "plt.title(\"Scatter plot between PC1 and PC2\")\n",
        "plt.xlabel(\"PC1\")\n",
        "plt.ylabel(\"PC2\")\n",
        "plt.legend()"
      ],
      "metadata": {
        "id": "4JL11PoTE9F9",
        "outputId": "39099ea9-682d-4e1a-d334-4fda5f251c70",
        "colab": {
          "base_uri": "https://localhost:8080/",
          "height": 490
        }
      },
      "execution_count": 65,
      "outputs": [
        {
          "output_type": "execute_result",
          "data": {
            "text/plain": [
              "<matplotlib.legend.Legend at 0x7bbaa0a8be50>"
            ]
          },
          "metadata": {},
          "execution_count": 65
        },
        {
          "output_type": "display_data",
          "data": {
            "text/plain": [
              "<Figure size 640x480 with 1 Axes>"
            ],
            "image/png": "[encoded data removed]"
          },
          "metadata": {}
        }
      ]
    },
    {
      "cell_type": "markdown",
      "source": [
        "So it's pretty clear that PC1 and PC2 do a good job at \"explaining\" the cluster labels."
      ],
      "metadata": {
        "id": "yXsYTDV3GtJ-"
      }
    }
  ]
}