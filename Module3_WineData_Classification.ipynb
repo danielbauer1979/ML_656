{
  "nbformat": 4,
  "nbformat_minor": 0,
  "metadata": {
    "kernelspec": {
      "display_name": "Python 3",
      "language": "python",
      "name": "python3"
    },
    "language_info": {
      "codemirror_mode": {
        "name": "ipython",
        "version": 3
      },
      "file_extension": ".py",
      "mimetype": "text/x-python",
      "name": "python",
      "nbconvert_exporter": "python",
      "pygments_lexer": "ipython3",
      "version": "3.8.3"
    },
    "colab": {
      "provenance": [],
      "include_colab_link": true
    }
  },
  "cells": [
    {
      "cell_type": "markdown",
      "metadata": {
        "id": "view-in-github",
        "colab_type": "text"
      },
      "source": [
        "<a href=\"https://colab.research.google.com/github/danielbauer1979/ML_656/blob/main/Module3_WineData_Classification.ipynb\" target=\"_parent\"><img src=\"https://colab.research.google.com/assets/colab-badge.svg\" alt=\"Open In Colab\"/></a>"
      ]
    },
    {
      "cell_type": "markdown",
      "source": [
        "### Wine data classification example"
      ],
      "metadata": {
        "id": "auIX04mIvsLc"
      }
    },
    {
      "cell_type": "markdown",
      "source": [
        "Let's import relevant libaries:"
      ],
      "metadata": {
        "id": "mq1TJy5tvxqv"
      }
    },
    {
      "cell_type": "code",
      "metadata": {
        "id": "7vCC-SQb7VRR"
      },
      "source": [
        "import numpy as np\n",
        "import matplotlib.pyplot as plt\n",
        "import pandas as pd\n",
        "import seaborn as sns\n",
        "\n",
        "from sklearn.model_selection import train_test_split\n",
        "from sklearn.linear_model import LogisticRegression\n",
        "from sklearn.discriminant_analysis import LinearDiscriminantAnalysis\n",
        "from sklearn.discriminant_analysis import QuadraticDiscriminantAnalysis\n",
        "from sklearn.metrics import confusion_matrix, classification_report, precision_score, roc_curve, auc"
      ],
      "execution_count": 82,
      "outputs": []
    },
    {
      "cell_type": "markdown",
      "source": [
        "Let's import the dataset from our github repo"
      ],
      "metadata": {
        "id": "Z3uqUDw_wSI9"
      }
    },
    {
      "cell_type": "code",
      "metadata": {
        "id": "joqrQm2gSDdZ"
      },
      "source": [
        "!git clone https://github.com/danielbauer1979/ML_656.git"
      ],
      "execution_count": null,
      "outputs": []
    },
    {
      "cell_type": "code",
      "metadata": {
        "id": "jILOaSki7VRX"
      },
      "source": [
        "wine = pd.read_csv('ML_656/winequality-red.csv', sep = ';')\n",
        "wine.head()"
      ],
      "execution_count": null,
      "outputs": []
    },
    {
      "cell_type": "markdown",
      "source": [
        "Let's explore the data a little bit -- let's start by looking at correlations"
      ],
      "metadata": {
        "id": "Qj4286e1xkoy"
      }
    },
    {
      "cell_type": "code",
      "source": [
        "\n",
        "mask = np.triu(np.ones_like(wine.corr(), dtype=bool))\n",
        "cmap = sns.diverging_palette(230, 20, as_cmap=True)\n",
        "sns.heatmap(wine.corr(), mask=mask, cmap=cmap, vmax=.3, center=0,\n",
        "            square=True, linewidths=.5, cbar_kws={\"shrink\": .5})"
      ],
      "metadata": {
        "id": "S4PltaJ3xVGQ"
      },
      "execution_count": null,
      "outputs": []
    },
    {
      "cell_type": "markdown",
      "source": [
        "And let's look at how many wines there are in each quality level:"
      ],
      "metadata": {
        "id": "PDy8r7sUxraA"
      }
    },
    {
      "cell_type": "code",
      "source": [
        "qualitycounts = wine['quality'].value_counts()\n",
        "qualitycounts.plot(kind=\"bar\")"
      ],
      "metadata": {
        "id": "u1QlRCWUxrDs"
      },
      "execution_count": null,
      "outputs": []
    },
    {
      "cell_type": "markdown",
      "source": [
        "We (somewhat arbitrarily) will classify wines as \"high quality\" if they have a quality score above 6 and as \"low quality\" otherwise"
      ],
      "metadata": {
        "id": "hZ-y3WwTwgl4"
      }
    },
    {
      "cell_type": "code",
      "metadata": {
        "id": "lU5fNw8oLLiD"
      },
      "source": [
        "wine['quality'] = wine['quality'] > 6\n",
        "wine['quality'].describe()"
      ],
      "execution_count": null,
      "outputs": []
    },
    {
      "cell_type": "markdown",
      "source": [
        "Let's randomly split into training and test sets (we will discuss the ins and outs of that more next week):"
      ],
      "metadata": {
        "id": "qXGOfTbrwzN4"
      }
    },
    {
      "cell_type": "code",
      "metadata": {
        "id": "55xSsRHJLUuu"
      },
      "source": [
        "np.random.seed(43)\n",
        "train, test = train_test_split(wine, test_size = 0.3)\n",
        "Train = train.drop(columns = ['quality']).values\n",
        "Train_y = train['quality'].values\n",
        "Test = test.drop(columns = ['quality']).values\n",
        "Test_y = test['quality'].values"
      ],
      "execution_count": 90,
      "outputs": []
    },
    {
      "cell_type": "markdown",
      "source": [
        "### Logistic Regression"
      ],
      "metadata": {
        "id": "hmJO2HNs7Uno"
      }
    },
    {
      "cell_type": "code",
      "source": [
        "logistic_model = LogisticRegression(fit_intercept=True, max_iter=1000).fit(Train,Train_y)\n",
        "print(logistic_model.intercept_)\n",
        "print(logistic_model.coef_)"
      ],
      "metadata": {
        "id": "ElG6GlF63rIo"
      },
      "execution_count": null,
      "outputs": []
    },
    {
      "cell_type": "code",
      "source": [
        "np.exp(logistic_model.coef_[0,-1])"
      ],
      "metadata": {
        "id": "tHrfiomy3rU3"
      },
      "execution_count": null,
      "outputs": []
    },
    {
      "cell_type": "markdown",
      "source": [
        "(that means p/(1-p) will increase by 150% when we increase alcohol by 1%)"
      ],
      "metadata": {
        "id": "tyh-ACwL67Fe"
      }
    },
    {
      "cell_type": "markdown",
      "source": [
        "### Predictions in Training Set"
      ],
      "metadata": {
        "id": "Qx5fufFP7P88"
      }
    },
    {
      "cell_type": "code",
      "source": [
        "logistic_pred_train = logistic_model.predict_proba(Train)\n",
        "np.sum(logistic_pred_train[:,1] > 0.5)"
      ],
      "metadata": {
        "id": "Izw-reqp7FXm"
      },
      "execution_count": null,
      "outputs": []
    },
    {
      "cell_type": "code",
      "source": [
        "logistic_pred_train_lab = logistic_pred_train[:,1] > 0.5\n",
        "confusion_matrix(Train_y, logistic_pred_train_lab)"
      ],
      "metadata": {
        "id": "ooMET8UZ7li9"
      },
      "execution_count": null,
      "outputs": []
    },
    {
      "cell_type": "code",
      "source": [
        "28/(28+111) #TPR"
      ],
      "metadata": {
        "id": "56yO-heh8qzs"
      },
      "execution_count": null,
      "outputs": []
    },
    {
      "cell_type": "code",
      "source": [
        "19/(961+19) #FPR"
      ],
      "metadata": {
        "id": "6sJdp6lh9JAc"
      },
      "execution_count": null,
      "outputs": []
    },
    {
      "cell_type": "markdown",
      "source": [
        "### Predictions in the Test Set"
      ],
      "metadata": {
        "id": "Vyyft1KX7kn1"
      }
    },
    {
      "cell_type": "code",
      "source": [
        "logistic_pred_test = logistic_model.predict_proba(Test)\n",
        "np.sum(logistic_pred_test[:,1] > 0.5)"
      ],
      "metadata": {
        "id": "k06i4ck976SJ"
      },
      "execution_count": null,
      "outputs": []
    },
    {
      "cell_type": "code",
      "source": [
        "logistic_pred_test_lab = logistic_pred_test[:,1] > 0.5\n",
        "confusion_matrix(Test_y, logistic_pred_test_lab)"
      ],
      "metadata": {
        "id": "AFdZP6Tx8CRx"
      },
      "execution_count": null,
      "outputs": []
    },
    {
      "cell_type": "code",
      "source": [
        "21/(21+57) #TPR"
      ],
      "metadata": {
        "id": "Uu3PCTpT9jmQ"
      },
      "execution_count": null,
      "outputs": []
    },
    {
      "cell_type": "code",
      "source": [
        "10/(392+10) #FPR"
      ],
      "metadata": {
        "id": "a1iHkOTJ9jXC"
      },
      "execution_count": null,
      "outputs": []
    },
    {
      "cell_type": "markdown",
      "source": [
        "### ROC Curves"
      ],
      "metadata": {
        "id": "MxQVP5SI8Vwd"
      }
    },
    {
      "cell_type": "code",
      "source": [
        "fpr, tpr, threshold = roc_curve(Train_y, logistic_pred_train[:,1])\n",
        "roc_auc = auc(fpr, tpr)\n",
        "plt.title('Receiver Operating Characteristic')\n",
        "plt.plot(fpr, tpr, 'b', label = 'AUC = %0.2f' % roc_auc)\n",
        "plt.legend(loc = 'lower right')\n",
        "plt.plot([0, 1], [0, 1],'r--')\n",
        "plt.xlim([0, 1])\n",
        "plt.ylim([0, 1])\n",
        "plt.ylabel('True Positive Rate')\n",
        "plt.xlabel('False Positive Rate')\n",
        "plt.show()"
      ],
      "metadata": {
        "id": "4D3UDYU58SQP"
      },
      "execution_count": null,
      "outputs": []
    },
    {
      "cell_type": "code",
      "source": [
        "fpr, tpr, threshold = roc_curve(Test_y, logistic_pred_test[:,1])\n",
        "roc_auc = auc(fpr, tpr)\n",
        "plt.title('Receiver Operating Characteristic')\n",
        "plt.plot(fpr, tpr, 'b', label = 'AUC = %0.2f' % roc_auc)\n",
        "plt.legend(loc = 'lower right')\n",
        "plt.plot([0, 1], [0, 1],'r--')\n",
        "plt.xlim([0, 1])\n",
        "plt.ylim([0, 1])\n",
        "plt.ylabel('True Positive Rate')\n",
        "plt.xlabel('False Positive Rate')\n",
        "plt.show()"
      ],
      "metadata": {
        "id": "VdHCn-Q38h78"
      },
      "execution_count": null,
      "outputs": []
    }
  ]
}